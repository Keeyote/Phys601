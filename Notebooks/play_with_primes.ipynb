{
 "cells": [
  {
   "cell_type": "code",
   "execution_count": 14,
   "metadata": {
    "inputHidden": false,
    "outputHidden": false
   },
   "outputs": [],
   "source": [
    "import math\n",
    "import random\n",
    "import numpy as np\n",
    "\n",
    "def isqrt(n):\n",
    "    '''Newtons method for finding the largest integer x for which x*x does\n",
    "    not exceed n. This works for very large integer.'''\n",
    "    x = n\n",
    "    y = (x + 1) // 2\n",
    "    while y < x:\n",
    "        x = y\n",
    "        y = (x + n // x) // 2\n",
    "    return x\n",
    "\n",
    "\n",
    "def is_prime2(n):\n",
    "    '''Slow but accurate method for determining if a number is a prime.\n",
    "    For very large primes, this gets really slow.'''\n",
    "    if n < 2:\n",
    "        return(False)\n",
    "    if n==2:\n",
    "        return(True)\n",
    "    if n%2 == 0:\n",
    "        return(False)\n",
    "    else:\n",
    "        for x in range(3,isqrt(n)+1,2):  # No need to test more than sqrt of n, turned integer, rounded up. Only odds\n",
    "            if n%x == 0:\n",
    "                return(False)\n",
    "    return(True)\n",
    "\n",
    "def is_prime(n):\n",
    "    '''Slow but accurate method for determining if a number is a prime.\n",
    "    For very large primes, this gets really slow.'''\n",
    "    if n < 2:\n",
    "        return(False)\n",
    "    if n==2:\n",
    "        return(True)\n",
    "    if n%2 == 0:\n",
    "        return(False)\n",
    "    else: # No need to test more than sqrt of n, turned integer, rounded up. Only odds\n",
    "        # for x in range(3,isqrt(n)+1,2):  # This is slower than the while loop.  \n",
    "        x=3\n",
    "        while x*x< n+1:\n",
    "            if n%x == 0:\n",
    "                return(False)\n",
    "            x+=2\n",
    "    return(True)\n",
    "\n",
    "\n",
    "def primeSieve_slow(sieveSize):\n",
    "    ''' Returns a list of prime numbers calculated using\n",
    "    the Sieve of Eratosthenes algorithm.'''\n",
    "    sieve = [True] * sieveSize\n",
    "    sieve[0] = False # zero and one are not prime numbers\n",
    "    sieve[1] = False\n",
    "    # create the sieve\n",
    "    for i in range(2, int(math.sqrt(sieveSize)) + 1): # You only need to sieve to sqrt(N)\n",
    "        if sieve[i] == True:                          # Only need to check numbers that still may be primes.\n",
    "            pointer = i * 2                           # This would be prime times 2, so not prime.\n",
    "            while pointer < sieveSize:\n",
    "                sieve[pointer] = False                # We thus mark it False\n",
    "                pointer += i                          # And move to then next multiple of prime.\n",
    "# compile the list of primes\n",
    "#    primes = []\n",
    "#    for i in range(sieveSize):\n",
    "#        if sieve[i] == True:\n",
    "#            primes.append(i)\n",
    "    primes = [ i for i in range(sieveSize) if sieve[i]==True]  # This list comprehension version is faster.\n",
    "    return primes\n",
    "\n",
    "def primeSieve(sieveSize):\n",
    "    ''' Returns a list of prime numbers calculated using\n",
    "    the Sieve of Eratosthenes algorithm. Not practical for very\n",
    "    large sieveSize. This version is more than twice the speed of the previous''' \n",
    "    # The following line does the same as the 5 lines above. Note how it treats sieveSize odd and even.\n",
    "    sieve = [False,False,True,True]+[False,True]*(sieveSize//2 -2) + [False]*(sieveSize%2!=0)\n",
    "    # create the sieve\n",
    "    for i in range(3, int(math.sqrt(sieveSize)) + 1,2): # You only need to sieve every other up to sqrt(N)\n",
    "        if sieve[i] == True:                          # Only need to check numbers that still may be primes.\n",
    "#            for i in range(i*i,sieveSize,i):    # Mark every i-th value false, starting at i*i \n",
    "#                sieve[i]=False\n",
    "#  This trick uses \"slicing\" of the list to quickly set particular values to False\n",
    "            sieve[i*i::i]=[False]*((len(sieve)-i*i+i-1)//i) # len(sieve[i*i::i])\n",
    "# compile the list of primes and return\n",
    "    return [ i for i in range(sieveSize) if sieve[i]==True]  # This list comprehension version is faster.\n",
    "\n",
    "Low_Primes = primeSieve(1000000)\n",
    "\n",
    "def is_prime3(n):\n",
    "    '''If you have a set of primes, then it is very quick to check.'''\n",
    "    if n< Low_Primes[-1]:\n",
    "        return( n in Low_Primes)\n",
    "    else:\n",
    "        is_prime(n)\n",
    "        \n",
    "def  break_into_primes(n):\n",
    "    global Low_Primes\n",
    "    if not 'Low_Primes' in globals():\n",
    "        Low_Primes = primeSieve(1000000)\n",
    "\n",
    "    if Low_Primes[-1] < n and n<1000000:\n",
    "        Low_Primes = primeSieve(1000000)\n",
    "    \n",
    "    if is_prime(n):\n",
    "        return( [(n,1)])\n",
    "\n",
    "    out=[]\n",
    "    \n",
    "    t = n\n",
    "    for p in Low_Primes:\n",
    "        c = 0\n",
    "        \n",
    "        while t%p == 0:\n",
    "            c+=1\n",
    "            t=t/p\n",
    "        if c>0:\n",
    "            out.append( (p,c))\n",
    "    \n",
    "    if t == 1:\n",
    "        return(out)\n",
    "    else:\n",
    "        out.append((t,1))\n",
    "        if not is_prime(t):\n",
    "            print(\"Result is incomplete\",t)\n",
    "        \n",
    "    return(out)\n",
    "        \n",
    "# Primality Testing with the Rabin-Miller Algorithm\n",
    "# http://inventwithpython.com/hacking (BSD Licensed)\n",
    "\n",
    "def rabinMiller(num):\n",
    "    '''Returns True if num is a probably a prime number. Since it uses trial\n",
    "    functions, there is no guarantee. It is quite good though, and usually \n",
    "    the number is indeed prime if this returns true.'''\n",
    "    s = num - 1\n",
    "    t = 0\n",
    "    while s % 2 == 0:\n",
    "        # keep halving s while it is even (and use t\n",
    "        # to count how many times we halve s)\n",
    "        s = s // 2\n",
    "        t += 1\n",
    "\n",
    "    for trials in range(15): # try to falsify num's primality 15 times\n",
    "        a = random.randrange(2, num - 1)\n",
    "        v = pow(a, s, num)\n",
    "        if v != 1: # this test does not apply if v is 1.\n",
    "            i = 0\n",
    "            while v != (num - 1):\n",
    "                if i == t - 1:\n",
    "                    return False\n",
    "                else:\n",
    "                    i = i + 1\n",
    "                    v = (v ** 2) % num\n",
    "    return True\n",
    "\n",
    "def isProbablyPrime(num):\n",
    "    global Low_Primes\n",
    "    # Return True if num is a prime number. This function does a quicker\n",
    "    # prime number check before calling rabinMiller().\n",
    "\n",
    "    if (num < 2):\n",
    "        return False # 0, 1, and negative numbers are not prime\n",
    "\n",
    "    # About 1/3 of the time we can quickly determine if num is not prime\n",
    "    # by dividing by the first few dozen prime numbers. This is quicker\n",
    "    # than rabinMiller(), but unlike rabinMiller() is not guaranteed to\n",
    "    # prove that a number is prime.\n",
    "    if not 'Low_Primes' in globals():\n",
    "        Low_Primes = primeSieve(1000000)\n",
    "\n",
    "    if num in Low_Primes:\n",
    "        return True\n",
    "\n",
    "    # See if any of the low prime numbers can divide num\n",
    "    for prime in Low_Primes:\n",
    "        if (num % prime == 0):\n",
    "            return False\n",
    "\n",
    "    # If all else fails, call rabinMiller() to determine if num is a prime.\n",
    "    return rabinMiller(num)\n",
    "\n",
    "def is_prime4(n):\n",
    "    '''If you have a set of primes, then it is very quick to check.'''\n",
    "    if n< Low_Primes[-1]:\n",
    "        return( n in Low_Primes)\n",
    "    elif n<10000000:\n",
    "        return(is_prime(n))\n",
    "    else:\n",
    "        return(isProbablyPrime(n))\n",
    "\n",
    "\n",
    "\n",
    "def generateLargePrime(keysize=1024):\n",
    "    # Return a random prime number of keysize bits in size.\n",
    "    while True:\n",
    "        num = random.randrange(2**(keysize-1), 2**(keysize))\n",
    "        if isProbablyPrime(num):\n",
    "            return num\n",
    "        \n"
   ]
  },
  {
   "cell_type": "code",
   "execution_count": 15,
   "metadata": {
    "inputHidden": false,
    "outputHidden": false
   },
   "outputs": [],
   "source": [
    "def try_big_prime(n):\n",
    "    t = 1\n",
    "    for i in range(n):\n",
    "        t *= primes[i]\n",
    "    tt = t+1\n",
    "    print(\"Try if \",tt,\" is a prime,\",end=\"\")\n",
    "    if is_prime(tt):\n",
    "        print(\"True\")\n",
    "    else:\n",
    "        print(\"False\",end=\"\")\n",
    "        print(break_into_primes(tt))\n",
    "    tt = t-1\n",
    "    print(\"Try if \",tt,\" is a prime,\",end=\"\")\n",
    "    if is_prime(tt):\n",
    "        print(\"True\")\n",
    "    else:\n",
    "        print(\"False\",end=\"\")\n",
    "        print(break_into_primes(tt))\n",
    "       "
   ]
  },
  {
   "cell_type": "code",
   "execution_count": 3,
   "metadata": {
    "inputHidden": false,
    "outputHidden": false
   },
   "outputs": [
    {
     "data": {
      "text/plain": [
       "True"
      ]
     },
     "execution_count": 3,
     "metadata": {},
     "output_type": "execute_result"
    }
   ],
   "source": [
    "is_prime(123456791)"
   ]
  },
  {
   "cell_type": "code",
   "execution_count": 4,
   "metadata": {
    "inputHidden": false,
    "outputHidden": false
   },
   "outputs": [],
   "source": [
    "pp=break_into_primes(152342346785)"
   ]
  },
  {
   "cell_type": "code",
   "execution_count": 16,
   "metadata": {
    "inputHidden": false,
    "outputHidden": false
   },
   "outputs": [
    {
     "data": {
      "text/plain": [
       "True"
      ]
     },
     "execution_count": 16,
     "metadata": {},
     "output_type": "execute_result"
    }
   ],
   "source": [
    "is_prime4(pp[1][0])"
   ]
  },
  {
   "cell_type": "code",
   "execution_count": 6,
   "metadata": {
    "inputHidden": false,
    "outputHidden": false
   },
   "outputs": [
    {
     "name": "stdout",
     "output_type": "stream",
     "text": [
      "Biggest known prime is: 2**57885161 - 1 \n",
      "Not so big: 2147483647\n"
     ]
    }
   ],
   "source": [
    "print(\"Biggest known prime is: 2**57885161 - 1 \")\n",
    "print(\"Not so big:\",2**31-1)"
   ]
  },
  {
   "cell_type": "code",
   "execution_count": 26,
   "metadata": {
    "inputHidden": false,
    "outputHidden": false
   },
   "outputs": [
    {
     "name": "stdout",
     "output_type": "stream",
     "text": [
      "31 True\n",
      "61 True\n",
      "89 True\n",
      "107 True\n",
      "127 True\n"
     ]
    }
   ],
   "source": [
    "for i in range(31,201):\n",
    "    N=2**i-1\n",
    "    if( isProbablyPrime(N)):\n",
    "        print(i,rabinMiller(N))"
   ]
  },
  {
   "cell_type": "code",
   "execution_count": 37,
   "metadata": {
    "inputHidden": false,
    "outputHidden": false
   },
   "outputs": [
    {
     "name": "stdout",
     "output_type": "stream",
     "text": [
      "CPU times: user 11.9 s, sys: 1.69 s, total: 13.6 s\n",
      "Wall time: 13.6 s\n"
     ]
    }
   ],
   "source": [
    "%time p=primeSieve(100000000)"
   ]
  },
  {
   "cell_type": "code",
   "execution_count": 38,
   "metadata": {
    "inputHidden": false,
    "outputHidden": false
   },
   "outputs": [
    {
     "name": "stdout",
     "output_type": "stream",
     "text": [
      "[99999787, 99999821, 99999827, 99999839, 99999847, 99999931, 99999941, 99999959, 99999971, 99999989]\n"
     ]
    }
   ],
   "source": [
    "print(p[-10:])\n"
   ]
  },
  {
   "cell_type": "code",
   "execution_count": 35,
   "metadata": {
    "inputHidden": false,
    "outputHidden": false
   },
   "outputs": [
    {
     "data": {
      "text/plain": [
       "95370954047648968455972952284734382972879933549414318469400997045800069915885277652337486717277884894274105914740221714449392879832866579773740416161050616164268215240880177613662669876827674536680962242282168721034313136233966481067103633497392823506436116530024393960511393041666364194697042907991829012931"
      ]
     },
     "execution_count": 35,
     "metadata": {},
     "output_type": "execute_result"
    }
   ],
   "source": [
    "generateLargePrime(keysize=1024)"
   ]
  },
  {
   "cell_type": "code",
   "execution_count": 11,
   "metadata": {
    "inputHidden": false,
    "outputHidden": false
   },
   "outputs": [],
   "source": [
    "t=random.randrange(12345, 12355)"
   ]
  },
  {
   "cell_type": "code",
   "execution_count": 13,
   "metadata": {
    "inputHidden": false,
    "outputHidden": false
   },
   "outputs": [
    {
     "ename": "SyntaxError",
     "evalue": "invalid syntax (<ipython-input-13-c322b41e5870>, line 9)",
     "output_type": "error",
     "traceback": [
      "\u001b[0;36m  File \u001b[0;32m\"<ipython-input-13-c322b41e5870>\"\u001b[0;36m, line \u001b[0;32m9\u001b[0m\n\u001b[0;31m    t=2**i - 3\u001b[0m\n\u001b[0m    ^\u001b[0m\n\u001b[0;31mSyntaxError\u001b[0m\u001b[0;31m:\u001b[0m invalid syntax\n"
     ]
    }
   ],
   "source": [
    "print(\"Find some big primes....\")\n",
    "for i in range(1024,2048):\n",
    "    t=2**i - 5\n",
    "    if isProbablyPrime(t):\n",
    "        print(t,'-5')\n",
    "    t=2**i + 5\n",
    "    if isProbablyPrime(t):\n",
    "        print(t,'+5)'\n",
    "    t=2**i - 3\n",
    "    if isProbablyPrime(t):\n",
    "        print(t,'-3')\n",
    "    t=2**i + 3\n",
    "    if isProbablyPrime(t):\n",
    "        print(t,'+3')\n"
   ]
  },
  {
   "cell_type": "code",
   "execution_count": 96,
   "metadata": {},
   "outputs": [
    {
     "name": "stdout",
     "output_type": "stream",
     "text": [
      "211\n",
      "19 19\n"
     ]
    }
   ],
   "source": [
    "sieve =[False,False]+[True]*209\n",
    "sieve[2*2::2]=[False]*len(sieve[2*2::2])\n",
    "sieve[3*3::3]=[False]*len(sieve[3*3::3])\n",
    "sieve[5*5::5]=[False]*len(sieve[5*5::5])\n",
    "#print(sieve)\n",
    "i=8\n",
    "print(len(sieve))\n",
    "print(len(sieve[i*i::i]),(len(sieve)-i*i+i-1)//i)"
   ]
  },
  {
   "cell_type": "markdown",
   "metadata": {},
   "source": [
    "# Finding Perfect Numbers\n",
    "A perfect is a positive integer that is equal to the sum of its proper divisors. The smallest perfect number is 6, which is the sum of 1, 2, and 3. Other perfect numbers are 28, which is the sum of 1+2+4+7+14. Next are 496, and 8,128.\n",
    "\n",
    "## Euclids method\n",
    "(From Enceclopedia Brittanica)\n",
    "\n",
    "A much faster method comes from Euclid, who stated:\n",
    "\n",
    "    If as many numbers as we please beginning from a unit [1] be set out continuously in double proportion,\n",
    "    until the sum of all becomes a prime, and if the sum multiplied into the last make some number, \n",
    "    the product will be perfect.\n",
    "\n",
    "Here “double proportion” means that each number is twice the preceding number, as in 1, 2, 4, 8, …. For example, 1 + 2 + 4 = 7 is prime; therefore, 7 × 4 = 28 (“the sum multiplied into the last”) is a perfect number. Euclid’s formula forces any perfect number obtained from it to be even, and in the 18th century the Swiss mathematician Leonhard Euler showed that any even perfect number must be obtainable from Euclid’s formula. It is not known whether there are any odd perfect numbers.\n",
    "\n",
    "Now note that the doubling numbers are all powers of two, so 2\\*\\*0 + 2\\*\\*1 + 2\\*\\*2 etc. "
   ]
  },
  {
   "cell_type": "code",
   "execution_count": 4,
   "metadata": {
    "collapsed": true
   },
   "outputs": [],
   "source": [
    "import math\n",
    "\n",
    "def divisorList(N):\n",
    "    '''Quick divisor list creator.'''\n",
    "    divs=[i for i in range(1,int(math.sqrt(N)+1)) if N%i==0 ]\n",
    "    divs+=reversed([ int(N/i) for i in divs] )\n",
    "    return(divs)\n",
    "\n",
    "def divisorGenerator(n):\n",
    "    '''This is needed to test directly from a perfect number, the brute force way.\n",
    "    This function returns a list of perfect divisors for a number n.\n",
    "    It is pretty fast, since it only brute force checks up to sqrt(n), and then lists the \n",
    "    complements. \n",
    "    Since this is a generator, it needs to be in a loop or a list()'''\n",
    "    large_divisors = []\n",
    "    for i in range(1, int(math.sqrt(n) + 1)):\n",
    "        if n % i == 0:\n",
    "            yield i\n",
    "            if i*i != n:\n",
    "                large_divisors.append(int(n / i))\n",
    "    for divisor in reversed(large_divisors):\n",
    "        yield divisor\n",
    "\n",
    "def find_perfect_number(Max=1000000,Min=1):\n",
    "    '''This is the slow brute force method to find perfect numbers. It is OK up to about 10**5\n",
    "    but gets too slow for larger numbers.'''\n",
    "    for ntry in range(Min,Max):\n",
    "        pp=list(divisorGenerator(ntry))\n",
    "        s= np.sum(pp[0:-1])\n",
    "        if s == ntry:\n",
    "            print(\"Perfect number {} from \".format(ntry),pp[0:-1])\n",
    "\n",
    "def find_perfect_number_euclid(Max=60,Min=1):\n",
    "    ''' Use Euclids method to find perfect numbers up to 2**Max, it is OK up to about Max=1000'''\n",
    "    for ntry in range(Min,Max):\n",
    "        # Using is_prime3, we switch to a very large prime number tester that is not 100% accurate!\n",
    "        if is_prime3(sum([2**n for n in range(ntry)])):\n",
    "            print(\"Perfect number {} from {} doublings\".format(sum([2**n for n in range(ntry)])*2**(ntry-1),ntry))\n",
    "        "
   ]
  },
  {
   "cell_type": "code",
   "execution_count": null,
   "metadata": {
    "collapsed": true
   },
   "outputs": [],
   "source": [
    "find_perfect_number(Max=100000,Min=1)"
   ]
  },
  {
   "cell_type": "code",
   "execution_count": null,
   "metadata": {
    "collapsed": true
   },
   "outputs": [],
   "source": [
    "%time find_perfect_number_euclid(Max=100,Min=1)"
   ]
  },
  {
   "cell_type": "code",
   "execution_count": null,
   "metadata": {
    "collapsed": true
   },
   "outputs": [],
   "source": [
    "2**62"
   ]
  },
  {
   "cell_type": "code",
   "execution_count": 6,
   "metadata": {},
   "outputs": [
    {
     "data": {
      "text/plain": [
       "82025"
      ]
     },
     "execution_count": 6,
     "metadata": {},
     "output_type": "execute_result"
    }
   ],
   "source": [
    "Low_Primes = primeSieve(2**20)\n",
    "len(Low_Primes)"
   ]
  },
  {
   "cell_type": "code",
   "execution_count": null,
   "metadata": {
    "collapsed": true
   },
   "outputs": [],
   "source": [
    "is_prime(sum([2**n for n in range(17)]))"
   ]
  },
  {
   "cell_type": "code",
   "execution_count": null,
   "metadata": {
    "collapsed": true
   },
   "outputs": [],
   "source": [
    "4 // 3"
   ]
  },
  {
   "cell_type": "code",
   "execution_count": null,
   "metadata": {
    "collapsed": true
   },
   "outputs": [],
   "source": []
  }
 ],
 "metadata": {
  "kernel_info": {
   "name": "python2"
  },
  "kernelspec": {
   "display_name": "Python 3",
   "language": "python",
   "name": "python3"
  },
  "language_info": {
   "codemirror_mode": {
    "name": "ipython",
    "version": 3
   },
   "file_extension": ".py",
   "mimetype": "text/x-python",
   "name": "python",
   "nbconvert_exporter": "python",
   "pygments_lexer": "ipython3",
   "version": "3.6.5"
  },
  "nteract": {
   "version": "0.5.5"
  }
 },
 "nbformat": 4,
 "nbformat_minor": 4
}
