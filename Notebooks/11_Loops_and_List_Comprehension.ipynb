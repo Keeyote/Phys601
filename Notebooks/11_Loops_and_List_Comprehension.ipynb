{
 "cells": [
  {
   "cell_type": "markdown",
   "metadata": {},
   "source": [
    "# Python Loops and List Comprehension\n",
    "\n",
    "There are two direct ways to write a loop in Python, \"for\" loops and \"while\" loops, and you should be familiar already with both of them. There is also an indirect way to write a loop, which is what *list comprehension* is.\n",
    "\n",
    "A quick refresher of the \"for\" loop. The basic syntax is:\n",
    "```\n",
    "for item in iterable:\n",
    "    loop-body\n",
    "```\n",
    "\n",
    "Here `item` is typically a variable, and `iterable` is either a Python `list`(i.e. `[0,1,2]`), a `tuple` (i.e. `(1,2,4)`), `dict` (dicionary, i.e. `{1:\"one\",2:\"two\",3:\"three\"}`) or a function that is a *generator* (i.e. `range(10)`). The `for` loop will set the variable equal to each item in the list in sequence, and then execute the loop body, until the list is exhausted.\n",
    "\n",
    "The other type of loop is the `while` loop, which is even simpler:\n",
    "\n",
    "```\n",
    "while truth-value:\n",
    "    loop-body\n",
    "```\n",
    "where `truth-value` is a boolean (either `True` or `False`) and the loop keeps executing as long as the truth-value is `True`.\n",
    "\n",
    "You can *nest* loops in order to run over multiple lists. The inner most loop will be executed for each iteration of the loop surrounding it, so a double loop with $N$ and $M$ items in the for loops will execute the loop body $N\\times M$ times. \n",
    "\n",
    "#### Exercise:\n",
    "\n",
    "* Write a double loop that prints out the multiplication tables for 1 through 10."
   ]
  },
  {
   "cell_type": "markdown",
   "metadata": {},
   "source": [
    "## List Comprehension\n",
    "\n",
    "List comprehension is a laguage feature of Python that lets you write a for loop inside the list brackets. \n",
    "When you look at the notebook [12_Faster_Programs](), we find that *list comprehension* only speeds the code up slightly. The real reason for list comprehension is that it can often lead to more elegant and readable code. \n",
    "\n",
    "Here is the main syntax for a list comprehension statement (see: (Python for Beginners)[https://www.pythonforbeginners.com/basics/list-comprehensions-in-python] for more):\n",
    "\n",
    "```\n",
    "[ expression for item in list if conditional ]\n",
    "```\n",
    "\n",
    "which is equivalent to the multi line code:\n",
    "\n",
    "```\n",
    "for item in list:\n",
    "   if conditional:\n",
    "      expression\n",
    "```\n",
    "\n",
    "The whole idea of the list comprehension is that is is *handy* to use. Part of that ease of use is that the result can be immediately the argument to some function, without needing to store the intermediate result.\n",
    "\n",
    "Here is a simple example. We split a sentence up into a list of words, and then we want to print those words that are longer than 4 characters. Here is the code if you wrote a direct loop:"
   ]
  },
  {
   "cell_type": "code",
   "execution_count": 19,
   "metadata": {},
   "outputs": [
    {
     "name": "stdout",
     "output_type": "stream",
     "text": [
      "['notebook', 'comprehension', 'speeds', 'slightly', 'reason', 'comprehension', 'often', 'elegant', 'readable']\n"
     ]
    }
   ],
   "source": [
    "word_list=\"When you look at the notebook we find that list comprehension only speeds the code up slightly The real reason for list comprehension is that it can often lead to more elegant and readable code\".split()\n",
    "#\n",
    "long_words=[]\n",
    "for w in word_list:\n",
    "    if len(w)>4:\n",
    "        long_words.append(w)\n",
    "print(long_words)"
   ]
  },
  {
   "cell_type": "markdown",
   "metadata": {},
   "source": [
    "Here is the same code, but now written as a list comprehension:"
   ]
  },
  {
   "cell_type": "code",
   "execution_count": 2,
   "metadata": {},
   "outputs": [
    {
     "name": "stdout",
     "output_type": "stream",
     "text": [
      "['comprehension', 'speeds', 'slightly', 'reason', 'comprehension', 'often', 'elegant', 'readable']\n"
     ]
    }
   ],
   "source": [
    "print([ w for w in word_list if len(w)>4 ])"
   ]
  },
  {
   "cell_type": "markdown",
   "metadata": {},
   "source": [
    "You can see that the code takes less space, and once you understand how list comprehension works, it is easy to understand. \n",
    "\n",
    "This was an example of a *filter*, a bit of code that selects specific items from a list. \n",
    "\n",
    "### Multi loop list comprehension\n",
    "\n",
    "You can also make multiple loops into a single list comprehension. Here is an example, a simple bit of code that creates a matrix with numbers of 0 to 9 with the 1's on the diagonal. The standard loop would looks like this:"
   ]
  },
  {
   "cell_type": "code",
   "execution_count": 17,
   "metadata": {},
   "outputs": [
    {
     "name": "stdout",
     "output_type": "stream",
     "text": [
      "[[1 2 3 4 5 6 7 8 9]\n",
      " [9 1 2 3 4 5 6 7 8]\n",
      " [8 9 1 2 3 4 5 6 7]\n",
      " [7 8 9 1 2 3 4 5 6]\n",
      " [6 7 8 9 1 2 3 4 5]\n",
      " [5 6 7 8 9 1 2 3 4]\n",
      " [4 5 6 7 8 9 1 2 3]\n",
      " [3 4 5 6 7 8 9 1 2]\n",
      " [2 3 4 5 6 7 8 9 1]]\n"
     ]
    }
   ],
   "source": [
    "import numpy as np\n",
    "result=[]\n",
    "for i in range(9,0,-1):\n",
    "    row=[]\n",
    "    for j in range(i,9+i):\n",
    "        row.append(j%9+1)\n",
    "    result.append(row)\n",
    "print(np.matrix(result))"
   ]
  },
  {
   "cell_type": "markdown",
   "metadata": {},
   "source": [
    "The loop comprehension version fits everything on a single line:"
   ]
  },
  {
   "cell_type": "code",
   "execution_count": 18,
   "metadata": {},
   "outputs": [
    {
     "name": "stdout",
     "output_type": "stream",
     "text": [
      "[[1 2 3 4 5 6 7 8 9]\n",
      " [9 1 2 3 4 5 6 7 8]\n",
      " [8 9 1 2 3 4 5 6 7]\n",
      " [7 8 9 1 2 3 4 5 6]\n",
      " [6 7 8 9 1 2 3 4 5]\n",
      " [5 6 7 8 9 1 2 3 4]\n",
      " [4 5 6 7 8 9 1 2 3]\n",
      " [3 4 5 6 7 8 9 1 2]\n",
      " [2 3 4 5 6 7 8 9 1]]\n"
     ]
    }
   ],
   "source": [
    "print(np.matrix([ [j%9+1 for j in range(i,9+i)] for i in range(9,0,-1) ]))"
   ]
  },
  {
   "cell_type": "markdown",
   "metadata": {},
   "source": [
    "#### Exercises\n",
    "* Write a list comprehension filter that filters out all the numbers of a list that are divisible by both 3 and 7. Test the filter on `range(100)`.\n",
    "* Write a list comprehension that transposes the 3x3 matrix: [[1,2,3],[4,5,6],[7,8,9]]. (Note: yes, this can be done with Numpy, but here that would be cheating.)"
   ]
  },
  {
   "cell_type": "markdown",
   "metadata": {},
   "source": [
    "## Generators\n",
    "\n",
    "Generators are special functions in Python that return a new value each time they are invoked *inside a for loop*, or by using the special keyword `next()`. Although the `range()` function is not quite a generator (it is an *immutable iterator*) it has properties similar to a generator in that it gives a new value each time the `for` loop asks for one.\n",
    "\n",
    "Generators make use of a special keyword in Python, `yield()`. When Python encounters the `yield()` statement in a function, it will stop right there and return the value of the `yield()`. This is similar to the `return()` statement, however, with the `yield()` statement, the *next* time you call the same function, it *continues at the next statement after the `yield()`*. All the variables in your function will still contain the value they had when the `yield()` was invoked. This is different from a normal function with a `return()` statement, since the next time you call that function it will start again from the beginning and all the variables are reset. \n",
    "\n",
    "An example hopefully makes this more clear. The following function works like `range(N)`, returning successive values starting at 0, and going upto N."
   ]
  },
  {
   "cell_type": "code",
   "execution_count": 29,
   "metadata": {},
   "outputs": [],
   "source": [
    "def my_range(N):\n",
    "    count = 0\n",
    "    while count<N:\n",
    "        yield(count)\n",
    "        count += 1\n"
   ]
  },
  {
   "cell_type": "code",
   "execution_count": 30,
   "metadata": {},
   "outputs": [
    {
     "data": {
      "text/plain": [
       "[0, 1, 2, 3, 4, 5, 6, 7, 8, 9]"
      ]
     },
     "execution_count": 30,
     "metadata": {},
     "output_type": "execute_result"
    }
   ],
   "source": [
    "list(my_range(10))"
   ]
  },
  {
   "cell_type": "code",
   "execution_count": 31,
   "metadata": {},
   "outputs": [
    {
     "name": "stdout",
     "output_type": "stream",
     "text": [
      "0\n",
      "1\n"
     ]
    }
   ],
   "source": [
    "xr=my_range(5)\n",
    "print(next(xr))\n",
    "print(next(xr))"
   ]
  },
  {
   "cell_type": "markdown",
   "metadata": {},
   "source": [
    "In many cases there is no real need for a generator. You can simply make a list and then iterate over that list in your `for` loop. However, when you get very long lists, that can consume a lot of memory and therefore be inefficient. In those cases it would be better to write a generator. Another situation in which a generator can be useful is when you do not know ahead of time when the loop should stop. A list would then have to be very long, just in case, while the generator can just keep going until something else causes the end of the loop. An example of such an endless generator would be the random number generator.\n",
    "\n",
    "A more detailed explanation, including on how to communicate with the generator after it has started, can be found in this article [Improve your python yield, and generators explained.](https://jeffknupp.com/blog/2013/04/07/improve-your-python-yield-and-generators-explained/)\n",
    "\n",
    "A bit silly example of a generator that continuously returns the sequence: 1,5,3,2,4 could be written as:"
   ]
  },
  {
   "cell_type": "code",
   "execution_count": 32,
   "metadata": {},
   "outputs": [],
   "source": [
    "def silly1():\n",
    "    while True:\n",
    "        yield(1)\n",
    "        yield(5)\n",
    "        yield(3)\n",
    "        yield(2)\n",
    "        yield(4)"
   ]
  },
  {
   "cell_type": "markdown",
   "metadata": {},
   "source": [
    "Be careful using this! The statement `list(silly1())` will never return.\n",
    "\n",
    "#### Exersizes:\n",
    "\n",
    "* Improve the `silly1()` generator so that it stops after it has produces N sequences.\n",
    "* Furthen improve the `silly1()` generator so that it will do an arbitrary sequence N times, where the sequence is supplied as an argument.\n",
    "\n",
    "#### More Exersizes:\n",
    "* Write a generator that returns the successive numnbers of the [Fibonnaci Sequence](https://en.wikipedia.org/wiki/Fibonacci_number), for up to N numbers.\n",
    "* Write a list comprehension that successively calls the Fibonnaci_generator for the first 100 numbers of the sequence, and then filters out those that are perfect squares. Hint: You can test for a perfect square with `math.sqrt(x).is_integer()` for values of x up to 4503599627370496 \n",
    "\n",
    "*Note:* You can use the `mpmath.fibonacci()` function to test your sequence. Note that this is not a generator, and using it would be cheating. If you want to test for a perfect square for larger numbers, you would need to use mpmath with a large `mpmath.mp.dps` setting, and call `mpmath.isint(mpmath.sqrt(x))`."
   ]
  }
 ],
 "metadata": {
  "kernelspec": {
   "display_name": "Python 3",
   "language": "python",
   "name": "python3"
  },
  "language_info": {
   "codemirror_mode": {
    "name": "ipython",
    "version": 3
   },
   "file_extension": ".py",
   "mimetype": "text/x-python",
   "name": "python",
   "nbconvert_exporter": "python",
   "pygments_lexer": "ipython3",
   "version": "3.6.5"
  }
 },
 "nbformat": 4,
 "nbformat_minor": 2
}
