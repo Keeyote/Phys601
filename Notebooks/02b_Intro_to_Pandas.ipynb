{
 "cells": [
  {
   "cell_type": "markdown",
   "metadata": {},
   "source": [
    "# A Brief Introduction to Pandas\n",
    "\n",
    "This is based on my own limited notes on how to use Pandas. There is excellent documentation available at the [Pandas website.](https://pandas.pydata.org/pandas-docs/stable/index.html). This includes a very good [Getting Started guide.](https://pandas.pydata.org/pandas-docs/stable/getting_started/index.html)\n",
    "I hope this notebook will be helpful to get you started with this package, and then allow you to delve deeper into Pandas as needed using the online documentation. \n",
    "\n",
    "Pandas is a \"high-performance, easy-to-use data structures and data analysis tools for the Python programming language\". In layperson's terms, it is a package to make various data sources (Excel spreadsheet, database, web site source, etc) easily accessible in Python, and it then allows you to use that data in your code in a convenient and fast way.\n",
    "\n",
    "We start importing the package, and we also import Numpy, since these two work well together."
   ]
  },
  {
   "cell_type": "code",
   "execution_count": 1,
   "metadata": {},
   "outputs": [
    {
     "name": "stdout",
     "output_type": "stream",
     "text": [
      "Pandas version:  0.25.1\n"
     ]
    }
   ],
   "source": [
    "import numpy as np\n",
    "import pandas as pd\n",
    "print(\"Pandas version: \",pd.__version__)"
   ]
  },
  {
   "cell_type": "markdown",
   "metadata": {},
   "source": [
    "## DataFrame and Series\n",
    "\n",
    "The data in pandas is stored in a `pd.Series` (for an index and a single value) or a `pd.DataFrame`, for an index and multiple columns of data. Most of the time you will create a DataFrame. The Series will come up when you are doing something with that DataFrame that returns a single column of the data.\n",
    "\n",
    "Just so we have something to work with, we create some fake data. To make it more interesting, we use an index that is dates. After creating the data, it is useful to see what it looks like. Printing the `head()`, will give the names of the columns, and a few rows of the data."
   ]
  },
  {
   "cell_type": "code",
   "execution_count": 2,
   "metadata": {},
   "outputs": [
    {
     "data": {
      "text/html": [
       "<div>\n",
       "<style scoped>\n",
       "    .dataframe tbody tr th:only-of-type {\n",
       "        vertical-align: middle;\n",
       "    }\n",
       "\n",
       "    .dataframe tbody tr th {\n",
       "        vertical-align: top;\n",
       "    }\n",
       "\n",
       "    .dataframe thead th {\n",
       "        text-align: right;\n",
       "    }\n",
       "</style>\n",
       "<table border=\"1\" class=\"dataframe\">\n",
       "  <thead>\n",
       "    <tr style=\"text-align: right;\">\n",
       "      <th></th>\n",
       "      <th>A</th>\n",
       "      <th>B</th>\n",
       "      <th>C</th>\n",
       "      <th>D</th>\n",
       "    </tr>\n",
       "  </thead>\n",
       "  <tbody>\n",
       "    <tr>\n",
       "      <td>2013-01-01</td>\n",
       "      <td>-0.008067</td>\n",
       "      <td>-1.154796</td>\n",
       "      <td>0.097711</td>\n",
       "      <td>-0.552067</td>\n",
       "    </tr>\n",
       "    <tr>\n",
       "      <td>2013-01-02</td>\n",
       "      <td>-1.501984</td>\n",
       "      <td>0.582437</td>\n",
       "      <td>-0.841192</td>\n",
       "      <td>-0.534488</td>\n",
       "    </tr>\n",
       "    <tr>\n",
       "      <td>2013-01-03</td>\n",
       "      <td>1.544993</td>\n",
       "      <td>0.791356</td>\n",
       "      <td>0.176323</td>\n",
       "      <td>-0.241245</td>\n",
       "    </tr>\n",
       "    <tr>\n",
       "      <td>2013-01-04</td>\n",
       "      <td>-0.071809</td>\n",
       "      <td>-0.355648</td>\n",
       "      <td>0.340825</td>\n",
       "      <td>-0.836713</td>\n",
       "    </tr>\n",
       "    <tr>\n",
       "      <td>2013-01-05</td>\n",
       "      <td>0.775796</td>\n",
       "      <td>0.231948</td>\n",
       "      <td>-0.491391</td>\n",
       "      <td>0.454042</td>\n",
       "    </tr>\n",
       "  </tbody>\n",
       "</table>\n",
       "</div>"
      ],
      "text/plain": [
       "                   A         B         C         D\n",
       "2013-01-01 -0.008067 -1.154796  0.097711 -0.552067\n",
       "2013-01-02 -1.501984  0.582437 -0.841192 -0.534488\n",
       "2013-01-03  1.544993  0.791356  0.176323 -0.241245\n",
       "2013-01-04 -0.071809 -0.355648  0.340825 -0.836713\n",
       "2013-01-05  0.775796  0.231948 -0.491391  0.454042"
      ]
     },
     "execution_count": 2,
     "metadata": {},
     "output_type": "execute_result"
    }
   ],
   "source": [
    "dates = pd.date_range('20130101', periods=6)\n",
    "df = pd.DataFrame(np.random.randn(6, 4), index=dates, columns=list('ABCD'))\n",
    "df.head()"
   ]
  },
  {
   "cell_type": "markdown",
   "metadata": {},
   "source": [
    "To print a table, you can just use just `print(df)`. If you want it formatted nicely, you can use the HTML formatter. The quick way to get that result is to simply end a cell with the object you are trying to print."
   ]
  },
  {
   "cell_type": "code",
   "execution_count": 3,
   "metadata": {},
   "outputs": [
    {
     "name": "stdout",
     "output_type": "stream",
     "text": [
      "                   A         B         C         D\n",
      "2013-01-01 -0.008067 -1.154796  0.097711 -0.552067\n",
      "2013-01-02 -1.501984  0.582437 -0.841192 -0.534488\n",
      "2013-01-03  1.544993  0.791356  0.176323 -0.241245\n",
      "2013-01-04 -0.071809 -0.355648  0.340825 -0.836713\n",
      "2013-01-05  0.775796  0.231948 -0.491391  0.454042\n",
      "2013-01-06  0.545269 -0.750194 -0.664234 -1.050872\n",
      "This was a table printed directly, as it will look in a terminal.\n"
     ]
    }
   ],
   "source": [
    "print(df)\n",
    "print(\"This was a table printed directly, as it will look in a terminal.\")"
   ]
  },
  {
   "cell_type": "code",
   "execution_count": 4,
   "metadata": {},
   "outputs": [
    {
     "data": {
      "text/html": [
       "<table border=\"1\" class=\"dataframe\">\n",
       "  <thead>\n",
       "    <tr style=\"text-align: right;\">\n",
       "      <th></th>\n",
       "      <th>A</th>\n",
       "      <th>B</th>\n",
       "      <th>C</th>\n",
       "      <th>D</th>\n",
       "    </tr>\n",
       "  </thead>\n",
       "  <tbody>\n",
       "    <tr>\n",
       "      <th>2013-01-01</th>\n",
       "      <td>-0.008067</td>\n",
       "      <td>-1.154796</td>\n",
       "      <td>0.097711</td>\n",
       "      <td>-0.552067</td>\n",
       "    </tr>\n",
       "    <tr>\n",
       "      <th>2013-01-02</th>\n",
       "      <td>-1.501984</td>\n",
       "      <td>0.582437</td>\n",
       "      <td>-0.841192</td>\n",
       "      <td>-0.534488</td>\n",
       "    </tr>\n",
       "    <tr>\n",
       "      <th>2013-01-03</th>\n",
       "      <td>1.544993</td>\n",
       "      <td>0.791356</td>\n",
       "      <td>0.176323</td>\n",
       "      <td>-0.241245</td>\n",
       "    </tr>\n",
       "    <tr>\n",
       "      <th>2013-01-04</th>\n",
       "      <td>-0.071809</td>\n",
       "      <td>-0.355648</td>\n",
       "      <td>0.340825</td>\n",
       "      <td>-0.836713</td>\n",
       "    </tr>\n",
       "    <tr>\n",
       "      <th>2013-01-05</th>\n",
       "      <td>0.775796</td>\n",
       "      <td>0.231948</td>\n",
       "      <td>-0.491391</td>\n",
       "      <td>0.454042</td>\n",
       "    </tr>\n",
       "    <tr>\n",
       "      <th>2013-01-06</th>\n",
       "      <td>0.545269</td>\n",
       "      <td>-0.750194</td>\n",
       "      <td>-0.664234</td>\n",
       "      <td>-1.050872</td>\n",
       "    </tr>\n",
       "  </tbody>\n",
       "</table>"
      ],
      "text/plain": [
       "<IPython.core.display.HTML object>"
      ]
     },
     "metadata": {},
     "output_type": "display_data"
    },
    {
     "name": "stdout",
     "output_type": "stream",
     "text": [
      "This is the pretty table again, displayed in a different way.\n"
     ]
    }
   ],
   "source": [
    "# Print fancy. Printing this way allows statements to appear after the table.\n",
    "from IPython.display import display, HTML\n",
    "display(HTML(df.to_html()))\n",
    "print(\"This is the pretty table again, displayed in a different way.\")"
   ]
  },
  {
   "cell_type": "code",
   "execution_count": 5,
   "metadata": {},
   "outputs": [
    {
     "data": {
      "text/html": [
       "<div>\n",
       "<style scoped>\n",
       "    .dataframe tbody tr th:only-of-type {\n",
       "        vertical-align: middle;\n",
       "    }\n",
       "\n",
       "    .dataframe tbody tr th {\n",
       "        vertical-align: top;\n",
       "    }\n",
       "\n",
       "    .dataframe thead th {\n",
       "        text-align: right;\n",
       "    }\n",
       "</style>\n",
       "<table border=\"1\" class=\"dataframe\">\n",
       "  <thead>\n",
       "    <tr style=\"text-align: right;\">\n",
       "      <th></th>\n",
       "      <th>A</th>\n",
       "      <th>B</th>\n",
       "      <th>C</th>\n",
       "      <th>D</th>\n",
       "    </tr>\n",
       "  </thead>\n",
       "  <tbody>\n",
       "    <tr>\n",
       "      <td>2013-01-01</td>\n",
       "      <td>-0.008067</td>\n",
       "      <td>-1.154796</td>\n",
       "      <td>0.097711</td>\n",
       "      <td>-0.552067</td>\n",
       "    </tr>\n",
       "    <tr>\n",
       "      <td>2013-01-02</td>\n",
       "      <td>-1.501984</td>\n",
       "      <td>0.582437</td>\n",
       "      <td>-0.841192</td>\n",
       "      <td>-0.534488</td>\n",
       "    </tr>\n",
       "    <tr>\n",
       "      <td>2013-01-03</td>\n",
       "      <td>1.544993</td>\n",
       "      <td>0.791356</td>\n",
       "      <td>0.176323</td>\n",
       "      <td>-0.241245</td>\n",
       "    </tr>\n",
       "    <tr>\n",
       "      <td>2013-01-04</td>\n",
       "      <td>-0.071809</td>\n",
       "      <td>-0.355648</td>\n",
       "      <td>0.340825</td>\n",
       "      <td>-0.836713</td>\n",
       "    </tr>\n",
       "    <tr>\n",
       "      <td>2013-01-05</td>\n",
       "      <td>0.775796</td>\n",
       "      <td>0.231948</td>\n",
       "      <td>-0.491391</td>\n",
       "      <td>0.454042</td>\n",
       "    </tr>\n",
       "    <tr>\n",
       "      <td>2013-01-06</td>\n",
       "      <td>0.545269</td>\n",
       "      <td>-0.750194</td>\n",
       "      <td>-0.664234</td>\n",
       "      <td>-1.050872</td>\n",
       "    </tr>\n",
       "  </tbody>\n",
       "</table>\n",
       "</div>"
      ],
      "text/plain": [
       "                   A         B         C         D\n",
       "2013-01-01 -0.008067 -1.154796  0.097711 -0.552067\n",
       "2013-01-02 -1.501984  0.582437 -0.841192 -0.534488\n",
       "2013-01-03  1.544993  0.791356  0.176323 -0.241245\n",
       "2013-01-04 -0.071809 -0.355648  0.340825 -0.836713\n",
       "2013-01-05  0.775796  0.231948 -0.491391  0.454042\n",
       "2013-01-06  0.545269 -0.750194 -0.664234 -1.050872"
      ]
     },
     "execution_count": 5,
     "metadata": {},
     "output_type": "execute_result"
    }
   ],
   "source": [
    "# Or just have the table be the last item on the cell, which will also give a \n",
    "#formatted view if used in a notebook.\n",
    "df"
   ]
  },
  {
   "cell_type": "markdown",
   "metadata": {},
   "source": [
    "If you want to see just the row names, or the columns names, you can find them in `df.index`, or `df.columns`."
   ]
  },
  {
   "cell_type": "code",
   "execution_count": 6,
   "metadata": {},
   "outputs": [
    {
     "name": "stdout",
     "output_type": "stream",
     "text": [
      "DatetimeIndex(['2013-01-01', '2013-01-02', '2013-01-03', '2013-01-04',\n",
      "               '2013-01-05', '2013-01-06'],\n",
      "              dtype='datetime64[ns]', freq='D')\n",
      "Index(['A', 'B', 'C', 'D'], dtype='object')\n"
     ]
    }
   ],
   "source": [
    "print(df.index)\n",
    "print(df.columns)"
   ]
  },
  {
   "cell_type": "markdown",
   "metadata": {},
   "source": [
    "## Accessing the data\n",
    "\n",
    "The whole point of a data management package is to make the content of the data easily accessible. In Pandas there are 3 different ways to do this, depending on what you are trying get.\n",
    "\n",
    "### Getting a column of data\n",
    "\n",
    "Getting an entire column is something you often want to do, for instance to make a plot, so this is made very straight forward. You get a column using the column name as argument to the `[]` operator. If you want multiple columns, you use give a list of the columns you want."
   ]
  },
  {
   "cell_type": "code",
   "execution_count": 7,
   "metadata": {},
   "outputs": [
    {
     "data": {
      "text/plain": [
       "2013-01-01   -0.008067\n",
       "2013-01-02   -1.501984\n",
       "2013-01-03    1.544993\n",
       "2013-01-04   -0.071809\n",
       "2013-01-05    0.775796\n",
       "2013-01-06    0.545269\n",
       "Freq: D, Name: A, dtype: float64"
      ]
     },
     "execution_count": 7,
     "metadata": {},
     "output_type": "execute_result"
    }
   ],
   "source": [
    "df['A']"
   ]
  },
  {
   "cell_type": "code",
   "execution_count": 8,
   "metadata": {},
   "outputs": [
    {
     "data": {
      "text/html": [
       "<div>\n",
       "<style scoped>\n",
       "    .dataframe tbody tr th:only-of-type {\n",
       "        vertical-align: middle;\n",
       "    }\n",
       "\n",
       "    .dataframe tbody tr th {\n",
       "        vertical-align: top;\n",
       "    }\n",
       "\n",
       "    .dataframe thead th {\n",
       "        text-align: right;\n",
       "    }\n",
       "</style>\n",
       "<table border=\"1\" class=\"dataframe\">\n",
       "  <thead>\n",
       "    <tr style=\"text-align: right;\">\n",
       "      <th></th>\n",
       "      <th>A</th>\n",
       "      <th>C</th>\n",
       "    </tr>\n",
       "  </thead>\n",
       "  <tbody>\n",
       "    <tr>\n",
       "      <td>2013-01-01</td>\n",
       "      <td>-0.008067</td>\n",
       "      <td>0.097711</td>\n",
       "    </tr>\n",
       "    <tr>\n",
       "      <td>2013-01-02</td>\n",
       "      <td>-1.501984</td>\n",
       "      <td>-0.841192</td>\n",
       "    </tr>\n",
       "    <tr>\n",
       "      <td>2013-01-03</td>\n",
       "      <td>1.544993</td>\n",
       "      <td>0.176323</td>\n",
       "    </tr>\n",
       "    <tr>\n",
       "      <td>2013-01-04</td>\n",
       "      <td>-0.071809</td>\n",
       "      <td>0.340825</td>\n",
       "    </tr>\n",
       "    <tr>\n",
       "      <td>2013-01-05</td>\n",
       "      <td>0.775796</td>\n",
       "      <td>-0.491391</td>\n",
       "    </tr>\n",
       "    <tr>\n",
       "      <td>2013-01-06</td>\n",
       "      <td>0.545269</td>\n",
       "      <td>-0.664234</td>\n",
       "    </tr>\n",
       "  </tbody>\n",
       "</table>\n",
       "</div>"
      ],
      "text/plain": [
       "                   A         C\n",
       "2013-01-01 -0.008067  0.097711\n",
       "2013-01-02 -1.501984 -0.841192\n",
       "2013-01-03  1.544993  0.176323\n",
       "2013-01-04 -0.071809  0.340825\n",
       "2013-01-05  0.775796 -0.491391\n",
       "2013-01-06  0.545269 -0.664234"
      ]
     },
     "execution_count": 8,
     "metadata": {},
     "output_type": "execute_result"
    }
   ],
   "source": [
    "df[['A','C']]"
   ]
  },
  {
   "cell_type": "markdown",
   "metadata": {},
   "source": [
    "Note that what is returned in the first case is a `pandas.Series`, while in the second case you get a `pandas.DataFrame`, which then gets printed in the pretty format automatically. Hint: if you want the first one to print pretty, turn it into a dataframe, either `pd.DataFrame(df['A'])`, which explicitly turns it into a data frame, or `df[['A']]` will also do the same."
   ]
  },
  {
   "cell_type": "markdown",
   "metadata": {},
   "source": [
    "## Reading data\n",
    "\n",
    "One of the strengths of Pandas is the number of data storage types it supports. This includes text, comma separated, Excel spreadsheet, databases, HDF5, JSON and webpages. Here I will just show you the simplest and most used ones, and leave the other formats for you to explore on your own.\n",
    "\n",
    "Often you will want to read a CSV file which was written out by a data source (Analog Discovery or other data acquisition system). These files will often have comments in them which you will need to skip. You can specify the comment character (often '#') or you can explicitly skip a set number of rows, i.e. `skiprows=4` will skip the first 4 rows. \n",
    "\n",
    "After you read in the file, check that the data makes sense by printing the first few lines. This will also indicate the names of the columns."
   ]
  },
  {
   "cell_type": "code",
   "execution_count": 9,
   "metadata": {},
   "outputs": [
    {
     "data": {
      "text/html": [
       "<div>\n",
       "<style scoped>\n",
       "    .dataframe tbody tr th:only-of-type {\n",
       "        vertical-align: middle;\n",
       "    }\n",
       "\n",
       "    .dataframe tbody tr th {\n",
       "        vertical-align: top;\n",
       "    }\n",
       "\n",
       "    .dataframe thead th {\n",
       "        text-align: right;\n",
       "    }\n",
       "</style>\n",
       "<table border=\"1\" class=\"dataframe\">\n",
       "  <thead>\n",
       "    <tr style=\"text-align: right;\">\n",
       "      <th></th>\n",
       "      <th>Time (s)</th>\n",
       "      <th>Channel 1 (V)</th>\n",
       "      <th>Channel 2 (V)</th>\n",
       "    </tr>\n",
       "  </thead>\n",
       "  <tbody>\n",
       "    <tr>\n",
       "      <td>0</td>\n",
       "      <td>-0.517044</td>\n",
       "      <td>0.818018</td>\n",
       "      <td>2.917983</td>\n",
       "    </tr>\n",
       "    <tr>\n",
       "      <td>1</td>\n",
       "      <td>-0.516918</td>\n",
       "      <td>0.818018</td>\n",
       "      <td>2.917983</td>\n",
       "    </tr>\n",
       "    <tr>\n",
       "      <td>2</td>\n",
       "      <td>-0.516792</td>\n",
       "      <td>0.818018</td>\n",
       "      <td>2.917983</td>\n",
       "    </tr>\n",
       "    <tr>\n",
       "      <td>3</td>\n",
       "      <td>-0.516665</td>\n",
       "      <td>0.818354</td>\n",
       "      <td>2.917983</td>\n",
       "    </tr>\n",
       "    <tr>\n",
       "      <td>4</td>\n",
       "      <td>-0.516539</td>\n",
       "      <td>0.818354</td>\n",
       "      <td>2.917983</td>\n",
       "    </tr>\n",
       "  </tbody>\n",
       "</table>\n",
       "</div>"
      ],
      "text/plain": [
       "   Time (s)  Channel 1 (V)  Channel 2 (V)\n",
       "0 -0.517044       0.818018       2.917983\n",
       "1 -0.516918       0.818018       2.917983\n",
       "2 -0.516792       0.818018       2.917983\n",
       "3 -0.516665       0.818354       2.917983\n",
       "4 -0.516539       0.818354       2.917983"
      ]
     },
     "execution_count": 9,
     "metadata": {},
     "output_type": "execute_result"
    }
   ],
   "source": [
    "my_data = pd.read_csv(\"IV_curve_1N5226BF_3.csv\",comment='#')\n",
    "my_data.head()"
   ]
  },
  {
   "cell_type": "markdown",
   "metadata": {},
   "source": [
    "If you don't like the names of the columns, you can rename them by setting the `DataFrame.column` array:\n"
   ]
  },
  {
   "cell_type": "code",
   "execution_count": 10,
   "metadata": {},
   "outputs": [
    {
     "data": {
      "text/html": [
       "<div>\n",
       "<style scoped>\n",
       "    .dataframe tbody tr th:only-of-type {\n",
       "        vertical-align: middle;\n",
       "    }\n",
       "\n",
       "    .dataframe tbody tr th {\n",
       "        vertical-align: top;\n",
       "    }\n",
       "\n",
       "    .dataframe thead th {\n",
       "        text-align: right;\n",
       "    }\n",
       "</style>\n",
       "<table border=\"1\" class=\"dataframe\">\n",
       "  <thead>\n",
       "    <tr style=\"text-align: right;\">\n",
       "      <th></th>\n",
       "      <th>time</th>\n",
       "      <th>ch1</th>\n",
       "      <th>ch2</th>\n",
       "    </tr>\n",
       "  </thead>\n",
       "  <tbody>\n",
       "    <tr>\n",
       "      <td>0</td>\n",
       "      <td>-0.517044</td>\n",
       "      <td>0.818018</td>\n",
       "      <td>2.917983</td>\n",
       "    </tr>\n",
       "    <tr>\n",
       "      <td>1</td>\n",
       "      <td>-0.516918</td>\n",
       "      <td>0.818018</td>\n",
       "      <td>2.917983</td>\n",
       "    </tr>\n",
       "    <tr>\n",
       "      <td>2</td>\n",
       "      <td>-0.516792</td>\n",
       "      <td>0.818018</td>\n",
       "      <td>2.917983</td>\n",
       "    </tr>\n",
       "    <tr>\n",
       "      <td>3</td>\n",
       "      <td>-0.516665</td>\n",
       "      <td>0.818354</td>\n",
       "      <td>2.917983</td>\n",
       "    </tr>\n",
       "    <tr>\n",
       "      <td>4</td>\n",
       "      <td>-0.516539</td>\n",
       "      <td>0.818354</td>\n",
       "      <td>2.917983</td>\n",
       "    </tr>\n",
       "  </tbody>\n",
       "</table>\n",
       "</div>"
      ],
      "text/plain": [
       "       time       ch1       ch2\n",
       "0 -0.517044  0.818018  2.917983\n",
       "1 -0.516918  0.818018  2.917983\n",
       "2 -0.516792  0.818018  2.917983\n",
       "3 -0.516665  0.818354  2.917983\n",
       "4 -0.516539  0.818354  2.917983"
      ]
     },
     "execution_count": 10,
     "metadata": {},
     "output_type": "execute_result"
    }
   ],
   "source": [
    "my_data.columns=['time','ch1','ch2']\n",
    "my_data.head()"
   ]
  },
  {
   "cell_type": "markdown",
   "metadata": {},
   "source": [
    "It is now easy to plot the columns. Here is a plot of channel 2, converted to current, versus channel 1."
   ]
  },
  {
   "cell_type": "code",
   "execution_count": 11,
   "metadata": {},
   "outputs": [
    {
     "data": {
      "text/plain": [
       "[<matplotlib.lines.Line2D at 0x11b7ef470>]"
      ]
     },
     "execution_count": 11,
     "metadata": {},
     "output_type": "execute_result"
    }
   ],
   "source": [
    "import matplotlib.pyplot as plt\n",
    "plt.plot(my_data['ch1'],my_data['ch2']/220)"
   ]
  },
  {
   "cell_type": "markdown",
   "metadata": {},
   "source": [
    "The plot does not look correct! The straight diagonal line should not be there, this is matplotlib connecting the last point of one sweep through the data to the first point of the next sweep. We need to clean up our data to get a better plot, without the spurious line.\n",
    "\n",
    "Knowing what is in the data is important here. In this case, the data in channel 1 went from a minimum to a maximum value due to a function generator that produced a 'sawtooth' ramp signal. One sweep means going from the minimum to the maximum. We only want to select a single sweep, and can do so by finding the location of the first minimum with `.idxmin()` (note that `.min()` gives the *value* of the minimum, whereas `.idx` gives the index where that value occurs), and likewise the location of the maximum with `.idxmax()`. We should also properly label the plot (see the Intro_Plotting notebook.)"
   ]
  },
  {
   "cell_type": "code",
   "execution_count": 12,
   "metadata": {},
   "outputs": [
    {
     "data": {
      "text/plain": [
       "Text(0.5, 1.0, 'I-V curve of 3.3 V zener forward biased')"
      ]
     },
     "execution_count": 12,
     "metadata": {},
     "output_type": "execute_result"
    },
    {
     "data": {
      "image/png": "[encoded data removed]",
      "text/plain": [
       "<Figure size 504x360 with 1 Axes>"
      ]
     },
     "metadata": {
      "needs_background": "light"
     },
     "output_type": "display_data"
    }
   ],
   "source": [
    "good_data = my_data.loc[my_data['ch1'].idxmin():my_data['ch1'].idxmax()] # Select one sweep of data.'\n",
    "fig = plt.figure(figsize=(7,5))\n",
    "plt.plot(good_data['ch1'],1000.*good_data['ch2']/220) # now plot the data\n",
    "plt.xlabel('V [Volts]')\n",
    "plt.ylabel('I [mA]')\n",
    "plt.title('I-V curve of 3.3 V zener forward biased')"
   ]
  },
  {
   "cell_type": "markdown",
   "metadata": {},
   "source": [
    "## Writing data\n",
    "\n",
    "It is reasonable to now want to write a file with this filtered data, so you can use it later or you can use it in a different application. In this case, I will write the data to an Excel spreadsheet. Doing this if simple:"
   ]
  },
  {
   "cell_type": "code",
   "execution_count": 13,
   "metadata": {},
   "outputs": [],
   "source": [
    "good_data.to_excel('Zener_curve_data.xlsx')"
   ]
  },
  {
   "cell_type": "markdown",
   "metadata": {},
   "source": [
    "This following command is not Python! It is a notebook magic command that allows me to list the directory, and so see that the file was indeed written."
   ]
  },
  {
   "cell_type": "code",
   "execution_count": 14,
   "metadata": {},
   "outputs": [
    {
     "name": "stdout",
     "output_type": "stream",
     "text": [
      "Zener_curve_data.xlsx  gauss.xlsx\r\n"
     ]
    }
   ],
   "source": [
    "%ls *.xlsx"
   ]
  },
  {
   "cell_type": "markdown",
   "metadata": {},
   "source": [
    "## Going further\n",
    "\n",
    "This was just a very minimal way to look at some things you can do with Pandas. If you are interested in learning more, please go to the tutorial and learn all the useful things you can do with your data once it is in Pandas."
   ]
  },
  {
   "cell_type": "code",
   "execution_count": null,
   "metadata": {},
   "outputs": [],
   "source": []
  }
 ],
 "metadata": {
  "kernelspec": {
   "display_name": "Python 3",
   "language": "python",
   "name": "python3"
  },
  "language_info": {
   "codemirror_mode": {
    "name": "ipython",
    "version": 3
   },
   "file_extension": ".py",
   "mimetype": "text/x-python",
   "name": "python",
   "nbconvert_exporter": "python",
   "pygments_lexer": "ipython3",
   "version": "3.7.7"
  }
 },
 "nbformat": 4,
 "nbformat_minor": 4
}
