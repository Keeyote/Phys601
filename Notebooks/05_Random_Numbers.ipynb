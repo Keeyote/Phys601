{
 "cells": [
  {
   "cell_type": "markdown",
   "metadata": {},
   "source": [
    "# Random Numbers\n",
    "\n",
    "Random numbers are useful in computer programs for a variety of purposes, not only games, but for also tasks such as generating data encryption keys, or adding pixel noise to images. In computational physics we use random numbers extensively in simulations. \n",
    "\n",
    "Creating completely random sequences on a computer turns out to be actually really quite complicated. The problem is that computer code is 100% predictable, so making anything truly random is impossible. All commonly used _random number generators_ are therefore actually _Pseudo Random Number Generators_ (PRNGs). They start with a _seed_ and from that seed they will create a perfectly predictable, but seemingly random, sequence. One would usually choose something slightly random, like the current time, to select a seed that is not the same each time you run the PRNG.\n",
    "\n",
    "The PRNG that is available for Python is in the [ _random_ package](https://docs.python.org/3/library/random.html). You can also import [_numpy.random_]() which uses the same algorithms but with a more Numpy aware interface. The RPNG in Python uses a modern version of the [Mersenne Twister algorithm](https://en.wikipedia.org/wiki/Mersenne_Twister), which was created in 1997 to improve random number generation. There exist a [whole long list of other (older and newer) algorithms](https://en.wikipedia.org/wiki/List_of_random_number_generators), but the Mersenne Twister is one of the most widely used ones. \n",
    "\n",
    "The underlying mechanism of a PRNG will create a random sequence of bits, which are then converted to a floating point number between 0 and 1 for each call to `random.random()`, in such a way that this distribution is \"flat\". That means, each interval $[x,x+dx]$ is equally likely to occur, for any choice of $x$ and $dx$. More on distributions below.\n",
    "\n",
    "Here is an example of generating some random numbers **from a given seed**. Note that the output will be same each time you call this sequence. \n"
   ]
  },
  {
   "cell_type": "code",
   "execution_count": 2,
   "metadata": {},
   "outputs": [
    {
     "data": {
      "text/plain": [
       "0.6414006161858726"
      ]
     },
     "execution_count": 2,
     "metadata": {},
     "output_type": "execute_result"
    }
   ],
   "source": [
    "import random\n",
    "random.seed(123456789)\n",
    "random.random()"
   ]
  },
  {
   "cell_type": "markdown",
   "metadata": {},
   "source": [
    "That can be very useful when debugging your code, but it is not good if you want to make sure that you get a difference random sequence each time you call \"random()\". You can set a different seed automatically by using something like the current time in seconds:"
   ]
  },
  {
   "cell_type": "code",
   "execution_count": 3,
   "metadata": {},
   "outputs": [
    {
     "name": "stdout",
     "output_type": "stream",
     "text": [
      "I am using for seed: 1540595360\n"
     ]
    },
    {
     "data": {
      "text/plain": [
       "0.8492997780937802"
      ]
     },
     "execution_count": 3,
     "metadata": {},
     "output_type": "execute_result"
    }
   ],
   "source": [
    "import time\n",
    "my_seed = int(time.time())\n",
    "print(\"I am using for seed: {}\".format(my_seed))\n",
    "random.seed(my_seed)\n",
    "random.random()"
   ]
  },
  {
   "cell_type": "markdown",
   "metadata": {},
   "source": [
    "It can be convenient to generate a whole list of random numbers with one call. The Numpy package contains an interface to _random numbers_ that allows for this. Note that this is a _separate_ implementation of \"random\", and thus _independent_ of \"random\" with its own seed, and will generate a different sequence given the same seed as \"random\". It is probably better to use only one or the other in your Python code. We will switch to the Numpy version now."
   ]
  },
  {
   "cell_type": "code",
   "execution_count": 4,
   "metadata": {},
   "outputs": [
    {
     "data": {
      "text/plain": [
       "array([0.01236465, 0.4396603 , 0.89677204, 0.470235  , 0.91613419,\n",
       "       0.69771661, 0.71544875, 0.41658071, 0.43685589, 0.86336487])"
      ]
     },
     "execution_count": 4,
     "metadata": {},
     "output_type": "execute_result"
    }
   ],
   "source": [
    "import numpy as np\n",
    "import numpy.random as R\n",
    "R.seed(my_seed)\n",
    "R.random(10)"
   ]
  },
  {
   "cell_type": "markdown",
   "metadata": {},
   "source": [
    "## Mean and Standard Deviation.\n",
    "\n",
    "When working with statistical data you will often want to know the _mean_ and [_standard deviation_](https://en.wikipedia.org/wiki/Standard_deviation) of that data. \n",
    "\n",
    "The _mean_ is the same as the _average_, so for an array (list) of data $x_i$ with $N$ numbers, we can compute this as:\n",
    "\n",
    "$$ \\left< x \\right> = \\frac{1}{N}\\sum_{i=0}^N x_i $$\n",
    "\n",
    "The _standard deviation_ is the same as the _square root of the variance_, and we can compute this as:\n",
    "\n",
    "$$ \\sigma_{x}^2 = \\frac{1}{N}\\sum_{i=0}^N \\left(x_i - \\left<x\\right>\\right)^2 = \\left<x^2\\right> - \\left<x\\right>^2 $$\n",
    "\n",
    "There are Numpy methods to compute this in one step on a data set. Below is some code that verifies the formulas above using Numpy calculations."
   ]
  },
  {
   "cell_type": "code",
   "execution_count": 5,
   "metadata": {},
   "outputs": [
    {
     "name": "stdout",
     "output_type": "stream",
     "text": [
      "Mean: 0.5039216934881222  0.5039216934881211  0.5039216934881211\n",
      "stdev: 0.28713524216677866 0.28713524216677866 0.2871352421667787 0.28713524216677866\n"
     ]
    }
   ],
   "source": [
    "data = R.random(1000) # 1000 random numbers.\n",
    "#\n",
    "# Mean by direct computation:\n",
    "#\n",
    "mean0 = 0\n",
    "for n in data: mean0 += n     # For each element add it to mean0\n",
    "mean0 = mean0/len(data)       # Normalize by the number of entries in data.\n",
    "mean1 = np.sum(data)/len(data)\n",
    "# Preferred: Using Numpy:\n",
    "mean2 = np.mean(data)\n",
    "print(\"Mean: {}  {}  {}\".format(mean0,mean1,mean2))  # Note that mean0 suffers from a roundoff error.\n",
    "#\n",
    "# Standard deviation by direct computation\n",
    "#\n",
    "stdev0 = 0\n",
    "for n in data: stdev0 += (n - mean0)**2\n",
    "stdev0 = np.sqrt( stdev0/len(data))\n",
    "stdev1 = np.sqrt( np.mean( (data - np.mean(data))**2) )\n",
    "stdev2 = np.sqrt( np.mean(data**2) - np.mean(data)**2 )\n",
    "# Preferred: Using Numpy directly:\n",
    "stdev3 = np.std(data)\n",
    "print(\"stdev: {} {} {} {}\".format(stdev0,stdev1,stdev2,stdev3))"
   ]
  },
  {
   "cell_type": "markdown",
   "metadata": {},
   "source": [
    "What we see is that the results are very close, but not _quite_ identical. The reason is the various ways in which minor numerical errors are introduced at each step in a calculation. For the different calculations the errors will add up slightly differently.\n",
    "\n",
    "Other useful statistical quantities can be the _median_, the number where half the values are larger (smaller) than that value. To compute this, you will first need to sort the data in order and then look at the middle value.\n",
    "\n",
    "Here is an example:"
   ]
  },
  {
   "cell_type": "code",
   "execution_count": 6,
   "metadata": {},
   "outputs": [
    {
     "name": "stdout",
     "output_type": "stream",
     "text": [
      "median: 0.5062680711458367  0.5062680711458367\n"
     ]
    }
   ],
   "source": [
    "data_sorted = np.sort(data)\n",
    "if len(data_sorted)%2 == 0:\n",
    "    median0 = (data_sorted[ len(data_sorted)//2-1] +data_sorted[ len(data_sorted)//2] )/2.\n",
    "else:\n",
    "    median0 = data_sorted[ len(data_sorted)//2 ]\n",
    "# Use numpy:\n",
    "median1 = np.median(data)\n",
    "print(\"median: {}  {}\".format(median0,median1))"
   ]
  },
  {
   "cell_type": "markdown",
   "metadata": {},
   "source": [
    "## Histograms\n",
    "\n",
    "To check if the distribution of the random number generator is really \"flat\", we need to make a _histogram_ of a large sequence of random numbers. (See [histogram](https://en.wikipedia.org/wiki/Histogram) for a detailed explanation of histograms.) We can make histograms using Matplotlib, using the `hist()` method.\n",
    "\n",
    "Here is an example of a check on the distribution of the `numpy.random.random()` function:"
   ]
  },
  {
   "cell_type": "code",
   "execution_count": 7,
   "metadata": {},
   "outputs": [
    {
     "data": {
      "text/plain": [
       "<Figure size 700x500 with 1 Axes>"
      ]
     },
     "metadata": {},
     "output_type": "display_data"
    }
   ],
   "source": [
    "import matplotlib.pyplot as plt\n",
    "N = 1000\n",
    "dist = R.random(N)\n",
    "fig, ax = plt.subplots(1,1,figsize=(7,5))\n",
    "hist_data, bin_edges, patches = ax.hist(dist,bins=31,histtype='step',align='mid')  # Bins is the number of bins you get. \n",
    "# histtype='step', align='mid' draws a step graph instead of bars, where the data point is at the center of the step.\n",
    "ax.set_title(\"Histogram of {:7.1E} calls to random()\".format(N))\n",
    "ax.set_xlabel('x')\n",
    "ax.set_ylabel('count')\n",
    "plt.show()  # Tell matplotlib we actually want to see this figure."
   ]
  },
  {
   "cell_type": "markdown",
   "metadata": {},
   "source": [
    "This looks OK if you know what to expect, but you could also say that this does not look \"flat\". The plot is rather bumpy. Is this what you could expect given the number of random samples we drew?\n",
    "\n",
    "The way to know that would be to calculate an error for each point in your histogram. For nearly all random samples, the uncertainty on the counts for each bin in the histogram would be the square root of those counts. We can thus calculate the uncertainty for each bin as $\\Delta N = \\sqrt{N}$.\n",
    "\n",
    "The data that is returned from the `ax.hist()` call can be used to accomplish this: `hist_data` is an list of length `bins` containing the values of the bins of the histogram, `bin_edges` is a list of length `bins+1`, containing the edges of these bins. To get the centers, we can pair-wise average the bin_edges.\n",
    "\n",
    "Here is the code:"
   ]
  },
  {
   "cell_type": "code",
   "execution_count": 8,
   "metadata": {
    "scrolled": true
   },
   "outputs": [
    {
     "data": {
      "text/plain": [
       "Text(0,0.5,'count')"
      ]
     },
     "execution_count": 8,
     "metadata": {},
     "output_type": "execute_result"
    },
    {
     "data": {
      "image/png": "[encoded data removed]",
      "text/plain": [
       "<Figure size 504x360 with 1 Axes>"
      ]
     },
     "metadata": {
      "needs_background": "light"
     },
     "output_type": "display_data"
    }
   ],
   "source": [
    "bin_centers = (bin_edges[:-1] + bin_edges[1:])/2.  # = list with [ (bin_edges[0]+bin_edges[1])/2. , ...]\n",
    "hist_errors = np.sqrt(hist_data)\n",
    "fig, ax = plt.subplots(1,1,figsize=(7,5))\n",
    "ax.errorbar(bin_centers,hist_data,yerr=hist_errors,drawstyle=\"steps-mid\",linestyle='-',linewidth=0.5,elinewidth=1.,capsize=3,marker=\"\")  \n",
    "# histtype='step', align='mid' draws a step graph instead of bars, where the data point is at the center of the step.\n",
    "ax.set_ylim(0) # Otherwise the y-axis will not start at zero.\n",
    "ax.set_title(\"Histogram of {:7.1E} calls to random()\".format(N))\n",
    "ax.set_xlabel('x')\n",
    "ax.set_ylabel('count')"
   ]
  },
  {
   "cell_type": "markdown",
   "metadata": {},
   "source": [
    "You can now see that a horizontal line can be drawn through the data, and that this line will be within 2 $\\sigma$ (twice the error bars) of every point. This means the distribution is indeed \"flat\".\n",
    "\n",
    "If you increase the number of randoms, your error bars get _larger_, but the counts get _larger faster_, so the relative size of the error bars decreases. Try it."
   ]
  },
  {
   "cell_type": "markdown",
   "metadata": {},
   "source": [
    "## Fitting the distribution\n",
    "\n",
    "We can fit a line through the distribution to show that indeed the shape is what we expect. The general procedure of fitting a function $f(x)$, which has a set of parameters $\\{p_i\\}$, to a data set is quite complicated. The details are well beyond the scope of this document, so here I will just show you how to use the standard _least squares fitting_ procedures that are available in Scipy.\n",
    "\n",
    "Note that fitting data can be very tricky for complex data sets, requiring some tricks and many tries. Fitting a straight line, or a quadradit, to some data is much simpler, should be quite robust.\n",
    "\n",
    "### Simple fit for straight line to data\n",
    "\n",
    "The parameters for a straight line, $y = b + m x$, can be found by simply taking some clever averages over the dataset. The slope of the line can be found as:\n",
    "\n",
    "$$ m = \\frac{\\sum_{i=0}^N (x_i - <x>)(y_i - <y>)}{\\sum_{i=0}^N (x_i - <x>)^2} $$\n",
    "\n",
    "and the intercept can be found as:\n",
    "\n",
    "$$ b = <y> - m <x> $$\n"
   ]
  },
  {
   "cell_type": "code",
   "execution_count": 9,
   "metadata": {},
   "outputs": [
    {
     "name": "stdout",
     "output_type": "stream",
     "text": [
      "slope = -0.852  intercept = 32.684\n"
     ]
    }
   ],
   "source": [
    "ave_x = np.mean(bin_centers)\n",
    "ave_y = np.mean(hist_data)\n",
    "gi=np.where(bin_centers!=ave_x)\n",
    "m = np.sum((bin_centers[gi] - ave_x)*(hist_data[gi] - ave_y))/np.sum((bin_centers[gi] - ave_x)**2)\n",
    "b = ave_y - m*ave_x\n",
    "print(\"slope = {:6.3f}  intercept = {:6.3f}\".format(m,b))"
   ]
  },
  {
   "cell_type": "markdown",
   "metadata": {},
   "source": [
    "### General fit of a function to data: least squares fit.\n",
    "\n",
    "The easiest package to fit a general curve to data is [`scipy.optimize.curve_fit()`](https://docs.scipy.org/doc/scipy/reference/generated/scipy.optimize.curve_fit.html). This function will by default use the least squares optimization to find the best parameters of your function to fit the data set you provide.\n",
    "\n",
    "So first you need to define a function which you expect will describe the data if the parameters are chosen correctly. You then call the minimization procedure, which adjusts these parameters until the function best describes the data. The function returns the values for these parameters and an estimation of the errors on those parameters.\n",
    "\n",
    "How do you know how good the fit was? You can compute the \"chi-squared test for goodness of fit\" ($\\chi^2$). This is sometimes formulated a bit differently than here (i.e. in statistics classes), but the ideas are equivalent. The $\\chi^2$ can be found from the following formula:\n",
    "\n",
    "$$ \\chi^2 = \\sum_{i=0}^N \\frac{\\left(y_i - f(x_i)\\right)^2}{\\sigma_i^2} $$\n",
    "\n",
    "where the $y_i$ is the data for the $x_i$ bin, and $f(x_i)$ is your fit function evaluated for $x_i$, and $\\sigma_i$ is the error on the data point $y_i$. \n",
    "\n",
    "Since you often want to compare how good a fit is for different functions $f(x_i)$, you need to normalize the $\\chi^2$ to the _number of degrees of freedom_, NDF. The NDF is the number of data points in your histogram (not the data that the histogram was made from!) minus the number of parameters in your function. This means that the NDF gets smaller if you use more parameters. To get the normalized $\\chi^2$, you divide by the NDF. The result is called the _reduced chi-squared_ or the _chi-squared per degrees of freedom_. \n",
    "\n",
    "\n",
    "\n",
    "Here is an example:"
   ]
  },
  {
   "cell_type": "code",
   "execution_count": 10,
   "metadata": {},
   "outputs": [
    {
     "name": "stdout",
     "output_type": "stream",
     "text": [
      "Fit to $f(x)= p_0+ p_1 x$\n",
      "$p_0$ =  32.68 ±   1.7\n",
      "$p_1$ =  -0.85 ±   3.0\n",
      "\n",
      "Reduced Chi-squared: 0.8459121312972483\n"
     ]
    },
    {
     "data": {
      "text/plain": [
       "[<matplotlib.lines.Line2D at 0x1202523c8>]"
      ]
     },
     "execution_count": 10,
     "metadata": {},
     "output_type": "execute_result"
    },
    {
     "data": {
      "image/png": "[encoded data removed]",
      "text/plain": [
       "<Figure size 504x360 with 1 Axes>"
      ]
     },
     "metadata": {
      "needs_background": "light"
     },
     "output_type": "display_data"
    }
   ],
   "source": [
    "import scipy.optimize as opt\n",
    "import scipy.stats   as stat\n",
    "# Define a function for a straight line:\n",
    "def straight_line(x,a,b):   \n",
    "    return( a + b*x)\n",
    "\n",
    "# Define a function for a quadratic line:\n",
    "def quadratic(x,a,b,c):\n",
    "    return( a + b*x + c*x*x)\n",
    "\n",
    "pars, covar = opt.curve_fit(straight_line,bin_centers,hist_data)\n",
    "#\n",
    "# pars is the list of values for the parameters of the function.\n",
    "# covar is the covariant matrix of errors sigma_square[i,j]. The diagonal terms are the square errors on the parameters. \n",
    "plot_text=r\"Fit to $f(x)= p_0+ p_1 x$\"+ '\\n'\n",
    "for i in range(len(pars)):\n",
    "    plot_text += r\"$p_{:1d}$ = {:6.2f} ±{:6.2}\".format(i,pars[i],np.sqrt(covar[i,i])) + '\\n'\n",
    "\n",
    "print(plot_text)\n",
    "\n",
    "#\n",
    "# A convenient way to call your funtion with the parameters that were returned by the curve_fit is to pass them\n",
    "# as *pars. This tells Python to unpack the contents of pars and pass them to the function.\n",
    "# This gives the same result as  straigt_line(x, pars[0], pars[1]), but is more compact.\n",
    "#   \n",
    "r_chisq  = np.sum((hist_data - straight_line(bin_centers,*pars))**2/(hist_errors**2))/(len(hist_data)-len(pars))\n",
    "print(\"Reduced Chi-squared: {}\".format(r_chisq))\n",
    "plot_text += r\"$\\chi^2/ndf$ = {:6.2f}\".format(r_chisq)\n",
    "fig, ax = plt.subplots(1,1,figsize=(7,5))\n",
    "ax.errorbar(bin_centers,hist_data,yerr=hist_errors,drawstyle=\"steps-mid\",linestyle='-',linewidth=0.5,elinewidth=1.,capsize=3,marker=\"\")  \n",
    "# histtype='step', align='mid' draws a step graph instead of bars, where the data point is at the center of the step.\n",
    "ax.set_ylim(0) # Otherwise the y-axis will not start at zero.\n",
    "ax.set_title(\"Histogram of {:7.1E} calls to random()\".format(N))\n",
    "ax.set_xlabel('x')\n",
    "ax.set_ylabel('count')\n",
    "ax.text(0.05,2.,plot_text,fontsize=12)\n",
    "ax.plot(bin_centers,straight_line(bin_centers, *pars))  # Add the curve to our histogram, so we can see how good it was."
   ]
  },
  {
   "cell_type": "markdown",
   "metadata": {},
   "source": [
    "We see that the fitting routine found the same values for the slope and intercept as before, but now we also get the error estimate on those parametrs. You can see that the slope is indeed consistent with zero!\n",
    "\n",
    "If you re-do this fit with a quadratic function instead of a line, does it fit \"better\"?  Try it!"
   ]
  },
  {
   "cell_type": "markdown",
   "metadata": {},
   "source": [
    "## Different Distributions\n",
    "\n",
    "Very often you do not want to use a \"flat\" or _uniform_ distribution but some other shape. Common non-uniform distributions are the _normal distribution_ which is shaped like a Gaussian curve, the _binomial_ distribution, the _poisson_ distribution, the exponential distribution, ...  There are many! (See: [Common Distribution Functions](http://blog.cloudera.com/blog/2015/12/common-probability-distributions-the-data-scientists-crib-sheet/)\n",
    "\n",
    "Each distribution is described by a Probability Density Function (PDF), which for the normal distribution is shaped like a Gaussian. Some of these distributions are readily available from Numpy.random. For instance, the normal distribution with mean mu and standard deviation sigma is obtained by calling `random.normalvariate(mu,sigma)`, or the uniform distribution between two points $[a,b]$ is `random.uniform(a,b)`\n",
    "\n",
    "Sometimes you need to throw the random numbers in a distribution that is not readily available. This is often the case when you do a Monte Carlo simulation (extensively used in particle physics), and, for instance, you need to throw particles according to a certain cross section. You know the formula for the cross section, but how do you get a random generator that produces that? Stated another way: How can you get a distribution that has a PDF that is some _arbitrary_ function that you define?\n",
    "\n",
    "There is an article how to do this here: [Randomly Generating Numbers\n",
    "with an Arbitrary Distribution](http://www.av8n.com/physics/arbitrary-probability.htm)  We will solve this problem entirely numerically, though it is often possible to do parts of it exactly mathematical functions. \n",
    "\n",
    "First, you need to make sure the PDF is normalized so that the integral over the region of interest is equal to 1. If it is not, you need to normalize the function so that it _is_ one.  Note that there is the (hopefully obvious) limitations that the function must be larger than zero everywhere. So:\n",
    "\n",
    "$$ f(x) \\le 0 \\ \\mathrm{and} \\ \\int_{x_0}^{x_1} f(x) dx = 1 $$\n",
    "\n",
    "What we now want is the integral of the function from $x_0$ to $x < x_1$:\n",
    "\n",
    "$$ F(x) = \\int_{x_0}^{x} f(x') dx'$$\n",
    "\n",
    "Since $f(x)\\le 0$, we _must_ get $F(x)$ going from 0 to 1 in an ever increasing (never decreasing) fashon. The random number generator is then created from the inverse of $F(x)$, so $F^{-1}(y)$, whith $y$ thrown flat between 0 and 1.\n",
    "\n",
    "Here are the steps worked out for the PDF distribution for $\\frac{2}{\\pi}\\sin^2(x)$, which is already normalized for the domain $0\\le x \\le \\pi$\n",
    "\n",
    "Check the normalization:"
   ]
  },
  {
   "cell_type": "code",
   "execution_count": 11,
   "metadata": {},
   "outputs": [
    {
     "name": "stdout",
     "output_type": "stream",
     "text": [
      "1.0\n"
     ]
    }
   ],
   "source": [
    "import scipy.integrate as integrate\n",
    "\n",
    "def input_function(x):\n",
    "    return( (2/np.pi)*np.sin(x)**2)\n",
    "\n",
    "x = np.linspace(0,np.pi,1000) # Create a variable x between 0 and pi.\n",
    "integral = integrate.trapz(input_function(x),x) \n",
    "print(integral)"
   ]
  },
  {
   "cell_type": "markdown",
   "metadata": {},
   "source": [
    "If that was _not_ zero, we would just devide our function by the result of that integration.\n",
    "\n",
    "Now we want the F(x), which (remember the [Basic Calculus](https://github.com/mholtrop/Phys601/blob/master/Notebooks/04_Basic_Calculus.ipynb) notebook!) can be found with `integrate.cumtrapz()`. We plot the result to check."
   ]
  },
  {
   "cell_type": "code",
   "execution_count": 20,
   "metadata": {},
   "outputs": [
    {
     "data": {
      "text/plain": [
       "[<matplotlib.lines.Line2D at 0x1214eff28>]"
      ]
     },
     "execution_count": 20,
     "metadata": {},
     "output_type": "execute_result"
    },
    {
     "data": {
      "image/png": "[encoded data removed]",
      "text/plain": [
       "<Figure size 576x432 with 2 Axes>"
      ]
     },
     "metadata": {
      "needs_background": "light"
     },
     "output_type": "display_data"
    }
   ],
   "source": [
    "F = integrate.cumtrapz(input_function(x),x,initial=0)   # Add a zero at the front of F. That way it has the same size \n",
    "fig,(ax1,ax2) = plt.subplots(2,1,figsize=(8,6),sharex=True)\n",
    "ax1.plot(x,input_function(x))\n",
    "ax2.plot(x,F)"
   ]
  },
  {
   "cell_type": "markdown",
   "metadata": {},
   "source": [
    "We now want the inverse of $F$. The easiest way to get that is to _interpolate_ the data points _in reverse_, which we also learned to do in the [Basic Calculus](https://github.com/mholtrop/Phys601/blob/master/Notebooks/04_Basic_Calculus.ipynb) Notebook. We need a new $x$ array that goes only from 0 to 1, i.e. the possible $y$ values of $F$. We do this calculation and then plot the result to check."
   ]
  },
  {
   "cell_type": "code",
   "execution_count": 22,
   "metadata": {},
   "outputs": [
    {
     "data": {
      "text/plain": [
       "[<matplotlib.lines.Line2D at 0x121673080>]"
      ]
     },
     "execution_count": 22,
     "metadata": {},
     "output_type": "execute_result"
    },
    {
     "data": {
      "image/png": "[encoded data removed]",
      "text/plain": [
       "<Figure size 576x432 with 1 Axes>"
      ]
     },
     "metadata": {
      "needs_background": "light"
     },
     "output_type": "display_data"
    }
   ],
   "source": [
    "from scipy import interpolate\n",
    "x_new = np.linspace(0.,1,1000)\n",
    "Finv = interpolate.interp1d(F,x,kind=\"cubic\")\n",
    "fig,ax = plt.subplots(1,1,figsize=(8,6),sharex=True)\n",
    "ax.plot(x_new,Finv(x_new))"
   ]
  },
  {
   "cell_type": "markdown",
   "metadata": {},
   "source": [
    "Now we can throw the random numbers on the 0 to 1 interval and pass that number to Finv(x), which will then give us the correct distribution. This is done for a large number of points below."
   ]
  },
  {
   "cell_type": "code",
   "execution_count": 23,
   "metadata": {},
   "outputs": [
    {
     "name": "stdout",
     "output_type": "stream",
     "text": [
      "602.9533678537143\n"
     ]
    },
    {
     "data": {
      "text/plain": [
       "<matplotlib.legend.Legend at 0x121872940>"
      ]
     },
     "execution_count": 23,
     "metadata": {},
     "output_type": "execute_result"
    },
    {
     "data": {
      "text/plain": [
       "<Figure size 432x288 with 0 Axes>"
      ]
     },
     "metadata": {},
     "output_type": "display_data"
    },
    {
     "data": {
      "image/png": "[encoded data removed]",
      "text/plain": [
       "<Figure size 648x504 with 1 Axes>"
      ]
     },
     "metadata": {
      "needs_background": "light"
     },
     "output_type": "display_data"
    }
   ],
   "source": [
    "N= 10000\n",
    "# r_data = np.arccos(np.sqrt(R.uniform(0.,1.,N)))\n",
    "r_flat = R.uniform(0.,1.,N)\n",
    "r_data = Finv(r_flat)\n",
    "hist_data, bin_edges, patches = plt.hist(r_data,bins=51,histtype='step',align='mid')\n",
    "plt.clf()  # Clear that plot, so it won't show up.\n",
    "fig, ax = plt.subplots(1,1,figsize=(9,7))\n",
    "bin_centers = (bin_edges[:-1]+bin_edges[1:])/2.\n",
    "hist_errors = np.sqrt(hist_data)\n",
    "normalizer = integrate.trapz(hist_data,bin_centers)  # Get the integral over the domain.\n",
    "print(normalizer)\n",
    "hist_data =   hist_data/normalizer                   # Here we normalize by the integral to get a density plot.\n",
    "hist_errors = hist_errors/normalizer\n",
    "ax.errorbar(bin_centers,hist_data,yerr=hist_errors,label=\"Norm. random distribution\",\n",
    "            drawstyle=\"steps-mid\",linestyle='-',linewidth=0.5,elinewidth=1.,capsize=3,marker=\"\")  \n",
    "# histtype='step', align='mid' draws a step graph instead of bars, where the data point is at the center of the step.\n",
    "ax.set_ylim(0) # Otherwise the y-axis will not start at zero.\n",
    "ax.set_title(\"Normalized Histogram of {:7.1E} calls to random()\".format(N))\n",
    "ax.set_xlabel('x')\n",
    "ax.set_ylabel('count')\n",
    "ax.plot(bin_centers,(2/np.pi)*np.sin(bin_centers)**2,label=r'$\\frac{2}{\\pi}\\sin^2(x)$')  \n",
    "# Add the curve to our histogram, so we can see how good it was.\n",
    "ax.legend(fontsize=14)"
   ]
  },
  {
   "cell_type": "markdown",
   "metadata": {},
   "source": [
    "We see that the resulting distibution, when normalized, very closely matches the original function that we started with. That is exactly what we wanted. "
   ]
  },
  {
   "cell_type": "markdown",
   "metadata": {},
   "source": [
    "## Your Turn\n",
    "\n",
    "Try this out on your own. You can pick one of the standard distributions, like the _normal distribution_, or create one that follows a functional form that you are interested in. \n",
    "\n",
    "1. Generate a data sample that follows your distribution, with only a moderate number of random throws.\n",
    "1. Fit the result. \n",
    "    1. How well does the data describe the distribution? \n",
    "    2. What is the $\\chi^2$ for your fit?\n",
    "1. Now repeat this with the same distribution, but a larger number of random numbers.\n",
    "    1. What do you observe?\n",
    "    2. Does this make sense?"
   ]
  }
 ],
 "metadata": {
  "kernelspec": {
   "display_name": "Python 3",
   "language": "python",
   "name": "python3"
  },
  "language_info": {
   "codemirror_mode": {
    "name": "ipython",
    "version": 3
   },
   "file_extension": ".py",
   "mimetype": "text/x-python",
   "name": "python",
   "nbconvert_exporter": "python",
   "pygments_lexer": "ipython3",
   "version": "3.6.5"
  }
 },
 "nbformat": 4,
 "nbformat_minor": 2
}
