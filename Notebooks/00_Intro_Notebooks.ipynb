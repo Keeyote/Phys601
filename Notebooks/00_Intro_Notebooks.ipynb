{
 "cells": [
  {
   "cell_type": "markdown",
   "metadata": {},
   "source": [
    "# Intro for Jupyter Notebooks\n",
    "\n",
    "The Jupyter Notebook, sometimes also called a Python Notebook, is a great way to create reports or documents where you mix bits of code with documenting text explainging the code. A Jupyter Notebook is easy to start up from the Anaconda Navigator (just click on Jupyter Notebook), or from the command line with \"jupyter-notebook\" or \"jupyter notebook\".\n",
    "\n",
    "[Here is a good intro to Notebooks.](https://nbviewer.jupyter.org/github/jupyter/notebook/blob/master/docs/source/examples/Notebook/Notebook%20Basics.ipynb)\n",
    "\n",
    "You can find detailed online documentation on the Jupyter Notebook on line: [Jupyter Notebook Documentation](https://jupyter-notebook.readthedocs.io/en/stable/notebook.html).\n",
    "\n",
    "If you don't have a computer that is capable of running notebooks, or you choose not to install the required software, you can run notebooks at Microsoft Azure for free. Go to [notebooks.azure.com](https://notebooks.azure.com) and click in sign-in, then use your UNH email address and on the next page sign in with your UNH credentials.\n",
    "You can upload the notebooks from GitHub (also owned by Microsoft) directly into the Azure notebooks ([see this blog post](https://medium.com/@dadbrains/integrating-azure-notebooks-jupyter-notebooks-with-github-fd847e941e4))"
   ]
  },
  {
   "cell_type": "markdown",
   "metadata": {},
   "source": [
    "The notebook interface shows up in your browser. You start with a \"home\" tab, where you can see all the files in the directory where the notebook was started: either your Documents directory, or the directory where you typed the command to start the notebook. From there you can navigate to other directories and upon up a notebook by clicking on it.\n",
    "\n",
    "## About cells.\n",
    "The notebook consists of cells. Each cell is either \"Markdown\", which is a way of writing formatted text, or it is \"code\", which is for Python code. You render the text, or execute the code, by typeping shift-enter. When you do that, the Markdown will get typeset, and the Python code will be executed. Below each code cell you will get the output produced by that bit of code. Each code cell will acumulate, as if they were part of a single Python program.\n",
    "\n",
    "An simple example of a bit of Python code is shown here:"
   ]
  },
  {
   "cell_type": "code",
   "execution_count": 1,
   "metadata": {},
   "outputs": [
    {
     "name": "stdout",
     "output_type": "stream",
     "text": [
      "Hello Phys601 students.\n",
      "The sum 1234*9876+100 = 12187084\n"
     ]
    }
   ],
   "source": [
    "print(\"Hello Phys601 students.\")\n",
    "print(\"The sum 1234*9876+100 =\",1234*9876+100) "
   ]
  },
  {
   "cell_type": "markdown",
   "metadata": {},
   "source": [
    "Each time you do shift-enter, the notebook will evaluate the cell, show the output, and move one cell down. If it was already at the end of the document, it will create a new cell. \n",
    "\n",
    "At the top of the page is a menu bar where you can choose what type of cell you want. There are also buttons to cut the cell (and delete it), copy it, or create a new cell below the current one. There are a number of useful commands in the drop down menus as well. You can explore these on your own, or go to the full [Jupyter Notebook Documentation](https://jupyter-notebook.readthedocs.io/en/stable/notebook.html)"
   ]
  },
  {
   "cell_type": "markdown",
   "metadata": {},
   "source": [
    "## Text entry\n",
    "To learn more about the documenting text cells, read the [Markdown cheat sheet](https://github.com/adam-p/markdown-here/wiki/Markdown-Cheatsheet), or [Mastering Markdown](https://guides.github.com/features/mastering-markdown/) or the [Jupyter notebook specific section](https://jupyter-notebook.readthedocs.io/en/stable/examples/Notebook/Working%20With%20Markdown%20Cells.html?highlight=Latex)\n",
    "\n",
    "What is very nice for scientists, is that the text cells also allow formulas to be entered using LaTex. You enclose an inline latex formula with \\$ symbols, and a display formula (on a line of its own) with \\$\\$ symbols.\n",
    "\n",
    "Here are some famous formulas from physics:\n",
    "\n",
    "1. Newtons Equation:\n",
    "$$\\large F = ma $$\n",
    "1. Einstein's General Relativity Field equation:\n",
    "$$\\large G_{\\mu\\nu}\\equiv R_{\\mu\\nu} - {\\textstyle 1 \\over 2}R\\,g_{\\mu\\nu} = {8 \\pi G \\over c^4} T_{\\mu\\nu} $$\n",
    "1. Schr&ouml;dinger's Equation:\n",
    "$$\\large -\\frac{\\hbar^2}{2m}\\frac{d^2}{d x^2} \\psi(x) + V(x)\\psi(x) = E\\psi(x)$$\n",
    "\n",
    "Hopefully this gives you an idea. Full LaTex is very powerful, and quite difficult to learn. If you plan to write a thesis, or a physics paper, then it would be well worth your time to learn it, but that is outside of the scope of this course."
   ]
  },
  {
   "cell_type": "markdown",
   "metadata": {},
   "source": [
    "## Inline graphics\n",
    "A number of plotting packages and 3D rendering packages will produce picures \"inline\". We will use this especially when plotting graphs, but that will be covered in a separate notebook.\n",
    "\n",
    "## Printing and convering notebooks\n",
    "If everything is installed correctly, you can convert your notebook to different file formats by simlply choosing \"Download as\" from the \"File\" menu of the **notebook menu bar**. So not the \"File\" menu from the browser!! If you plan to submit the results, it is probably best to select \"PDF via Latex\". You should get a nicely formatted document in your downloads folder, which can then be printed, if need be."
   ]
  },
  {
   "cell_type": "markdown",
   "metadata": {},
   "source": [
    "## Interrupting a calculation, stopping and restarting the kernel\n",
    "The \"kernel\" is the part of the notebook that is doing the actual calculations. If you give it a Python command that never ends, say:\n",
    "\n",
    "   ```while True:\n",
    "       print(\".\",end=\"\")```\n",
    "\n",
    "You will no longer be able to communicate with the kernel, which will be really busy printing dots to the screen, and never stop. To interrupt this process, you can click on the square box in the menu bar, or choose \"Interrupt\" from the kernel dropdown menu. The kernel dropdown menu also allows you to restart the kernel. When you do that, all previous calculations are forgotten and you get a clean slate. This can be useful if you made a mistake that got Python in a confusing state. Just reset, and then re-evaluate your cells."
   ]
  },
  {
   "cell_type": "code",
   "execution_count": null,
   "metadata": {
    "scrolled": false
   },
   "outputs": [],
   "source": [
    "while True:\n",
    "       print(\".\",end=\"\")"
   ]
  }
 ],
 "metadata": {
  "kernelspec": {
   "display_name": "Python 3",
   "language": "python",
   "name": "python3"
  },
  "language_info": {
   "codemirror_mode": {
    "name": "ipython",
    "version": 3
   },
   "file_extension": ".py",
   "mimetype": "text/x-python",
   "name": "python",
   "nbconvert_exporter": "python",
   "pygments_lexer": "ipython3",
   "version": "3.7.2"
  }
 },
 "nbformat": 4,
 "nbformat_minor": 2
}
