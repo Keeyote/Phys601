{
 "cells": [
  {
   "cell_type": "markdown",
   "metadata": {},
   "source": [
    "# Data Fitting\n",
    "\n",
    "There are many cases in physics where you have some data and you want to describe that data by some mathematical function, or more generally, some model of that data. While you can immediately jump into a linear regression or polynomial regresssion, this is often not the best approach. Many times a simple line fit, or function fit, will give you more satifying results.\n",
    "\n",
    "First, we make some quasi data so we have something to play with. I will start with some data that has a simple linear trend with some random scatter around the trend. We will use (and repeat) some of the information that is in the [05_Random_Numbers](https://github.com/mholtrop/Phys601/blob/master/Notebooks/05_Random_Numbers.ipynb) notebook."
   ]
  },
  {
   "cell_type": "code",
   "execution_count": 1,
   "metadata": {},
   "outputs": [],
   "source": [
    "# import the usual packages.\n",
    "%matplotlib inline\n",
    "import math\n",
    "import numpy as np\n",
    "import matplotlib.pyplot as plt"
   ]
  },
  {
   "cell_type": "markdown",
   "metadata": {},
   "source": [
    "Define a simple line function, and throw some random points, evaluate the function at those points, and add some randomness to these points.\n",
    "\n",
    "There is something to be carefull about though everytime you do a fit. You need to know the *uncertainty* (or the error) in each of your input data points in order to get the correct uncertainty about how good the fit was, and in order to get a proper estimate of the error on the fitted parameters. I will say more about that later. For now, we choose a certain $\\sigma$ for each datapoint which is equal to the $\\sigma$ of the normal distribution by which we spread our data out.\n",
    "\n",
    "Below we create the data function, call it N time with "
   ]
  },
  {
   "cell_type": "code",
   "execution_count": 2,
   "metadata": {},
   "outputs": [],
   "source": [
    "def data_function(x):\n",
    "    return( 5.7 + 3.2*x)"
   ]
  },
  {
   "cell_type": "code",
   "execution_count": 30,
   "metadata": {},
   "outputs": [
    {
     "data": {
      "text/plain": [
       "<ErrorbarContainer object of 3 artists>"
      ]
     },
     "execution_count": 30,
     "metadata": {},
     "output_type": "execute_result"
    },
    {
     "data": {
      "image/png": "[encoded data removed]",
      "text/plain": [
       "<Figure size 432x288 with 1 Axes>"
      ]
     },
     "metadata": {
      "needs_background": "light"
     },
     "output_type": "display_data"
    }
   ],
   "source": [
    "data_sigma = 3.\n",
    "N = 10\n",
    "x_data = np.sort(np.random.random(N)*10)  # Ten points at random places between 0 and 10, sorted in order.\n",
    "y_data = data_function(x_data) + np.random.normal(0,5.,len(x_data)) # Data with some random on each point.\n",
    "y_data_err = np.array([5.]*len(x_data))\n",
    "plt.errorbar(x_data,y_data,yerr=y_data_err,fmt='o') # Plot the result, to check it makes sense."
   ]
  },
  {
   "cell_type": "markdown",
   "metadata": {},
   "source": [
    "## Simple line fit\n",
    "\n",
    "The easiest model to fit your data with is a line. To compute the slope and $x=0$ intercept, you actually don't need to do a \"fit\", you can simply take averages, see the [05_Random_Numbers](https://github.com/mholtrop/Phys601/blob/master/Notebooks/05_Random_Numbers.ipynb) notebook. Here I will repeat the method for fitting a line using the *least squares fitting method*.\n",
    "\n",
    "First we need to difine the functional form of the fit. For a line this is just $y = a + b x$, defining the function:"
   ]
  },
  {
   "cell_type": "code",
   "execution_count": 31,
   "metadata": {},
   "outputs": [],
   "source": [
    "def fit_func(x,a,b):\n",
    "    return(a + b*x )"
   ]
  },
  {
   "cell_type": "markdown",
   "metadata": {},
   "source": [
    "Next we do a simple fit of the line to our data. This is done with `scipy.optimize.curve_fit(function,x,y)`. The result will be a list of the function paramters (in our case [a,b]) and the *covariant matrix*, which I will discuss below."
   ]
  },
  {
   "cell_type": "code",
   "execution_count": 32,
   "metadata": {},
   "outputs": [
    {
     "name": "stdout",
     "output_type": "stream",
     "text": [
      "Found a =  5.5840 ±  2.4301  b=  2.7359 ±  0.0695\n"
     ]
    },
    {
     "data": {
      "text/plain": [
       "[<matplotlib.lines.Line2D at 0x120510290>]"
      ]
     },
     "execution_count": 32,
     "metadata": {},
     "output_type": "execute_result"
    },
    {
     "data": {
      "image/png": "[encoded data removed]",
      "text/plain": [
       "<Figure size 432x288 with 1 Axes>"
      ]
     },
     "metadata": {
      "needs_background": "light"
     },
     "output_type": "display_data"
    }
   ],
   "source": [
    "import scipy.optimize as opt\n",
    "pars, covar = opt.curve_fit(fit_func,x_data,y_data,sigma=y_data_err)\n",
    "print(\"Found a = {:7.4f} ± {:7.4f}  b= {:7.4f} ± {:7.4f}\".format(pars[0],covar[0,0],pars[1],covar[1,1]))\n",
    "plt.errorbar(x_data,y_data,yerr=y_data_err,fmt='o') # Plot the result, to check it makes sense.\n",
    "x = np.linspace(0,10,1000)\n",
    "plt.plot(x,fit_func(x,*pars)) # Plot the resulting function."
   ]
  },
  {
   "cell_type": "markdown",
   "metadata": {},
   "source": [
    "### The covariant matrix\n",
    "The second parameter returned by the curve_fit routine is the [\"covariance matrix\"](https://en.wikipedia.org/wiki/Covariance_matrix). The diagonal terms of this matrix are the uncertainties of the parameters from the fit. So you get `par[i]` ± `covar[i,i]`. The off-diagonal elements represent the \"covariances\" between the found parameters. Covariance means, specifically, the degree to which the uncertainty in one derived parameter affects the uncertainty in another derived parameter. For a good fit, where one parameter is independent of the other parameters, these off diagonal terms should be relatively small."
   ]
  },
  {
   "cell_type": "code",
   "execution_count": 33,
   "metadata": {},
   "outputs": [
    {
     "data": {
      "text/plain": [
       "array([[ 2.43006549, -0.35797084],\n",
       "       [-0.35797084,  0.06946269]])"
      ]
     },
     "execution_count": 33,
     "metadata": {},
     "output_type": "execute_result"
    }
   ],
   "source": [
    "covar"
   ]
  },
  {
   "cell_type": "markdown",
   "metadata": {},
   "source": [
    "## Chi-Squared and Reduced Chi-Squared\n",
    "\n",
    "So, we found a line that looks reasonable compared to the points, and we even got errors on the estimated parameters. But, how \"good\" was the fit? Did we fit the data with the appropriate model, and used the correct number of unknowns to fit for?\n",
    "\n",
    "This clearly gets more tricky, and here we get a bit more into the fine points of data fitting. There are two useful papers that I found with a quick web search:\n",
    "* Chi-square testing for goodness of fit. (Peter Scott, UCSC)[Chapter 4](http://physics.ucsc.edu/~drip/133/ch4.pdf) also usefull is [Chapter 2](http://physics.ucsc.edu/~drip/133/ch2.pdf) and [Chapter 3](http://physics.ucsc.edu/~drip/133/ch3.pdf)\n",
    "* Do's and don'ts ofreduced chi-square fitting. [arXiv:1012.3754v1](https://arxiv.org/pdf/1012.3754.pdf)\n",
    "\n",
    "First, we need to introduce the idea of the $\\chi^2$ (chi-squared) as a measure of the \"goodness of fit\". Here unfortunately you will find two different definitions. The statisticians (and other non-physics folks) seem to use:\n",
    "\n",
    "$$ \\chi^2 = \\sum_{i=0}^N \\frac{ \\left(y_i - m_i \\right)^2}{m_i^2} $$\n",
    "\n",
    "Where $y_i$ is the observed value in your data sample, and $m_i$ is the predicted value. ([See Wikipedia](https://en.wikipedia.org/wiki/Chi-squared_test). This does work for minimization, but it does not take into account the uncertainty in each measurement point. \n",
    "\n",
    "In Physics, we use a different definition of $\\chi^2$:\n",
    "\n",
    "$$ \\chi^2 = \\sum_{i=0}^N \\frac{ \\left(y_i - m_i \\right)^2}{\\sigma_i^2} $$\n",
    "\n",
    "where $\\sigma_i$ is the measurement uncertainty for the $i$ value of the measurements, $y_i$. This weighs each difference between measurement and prediction by the uncertainty in the measurement, so very uncertain points don't incorrectly skew the fit.\n",
    "\n",
    "An important thing to note is that this type of chi-squared minimization is strictly speaking only correct for errors that have a Gaussian (or normal) distribution. I.e. the uncertainty in each point has a Gaussian shaped distribution. This is so common in physics data that we tend to take it for granted, but we should not. (I.e. for many experiments, the measurement is in \"counts\", and the error will be the square root of the counts.)\n",
    "\n",
    "The other item that comes into play is the *number of degrees of freedom* in the problem. This is typically the number of data points in your fit, minus the number of parameters in your fit, so:\n",
    "\n",
    "$$ N_{df} = N_s - N_p $$\n",
    "\n",
    "The *reduced chi-squared* is then found as $\\chi^2_R = \\chi^2 / N_{df}$.\n",
    "\n",
    "The rule of thumb is that you have a perfect fit when the reduced chi-squared $\\chi^2_R \\approx 1$. A big $\\chi^2_R$ means that you don't describe your data well, or your errors were under-estimated, a small $\\chi^2_R$ means that you are possibly over fitting the data, or your errors are larger than the variation in your data.\n",
    "\n",
    "Note however, that the $\\chi^2$ (and thus $\\chi^2_R$) forms a distribution. If you were to repeat your experiment many, many times, and fit with the same model, you would end up with a distribution of $\\chi^2$ with a mean of $N_{df}$, or alternatively a distribution of $\\chi^2_R$ with a mean of 1. The chi-squared *probabiloty distribution* is given by the function:\n",
    "\n",
    "$$\\mathrm{prob}(\\chi^2,\\nu) = \\frac{1}{2^{\\nu/2} \\Gamma\\left(\\nu/2\\right)}\\left(\\chi^2\\right)^{(\\nu/2-1)} e^{-\\chi^2/2}$$ \n",
    "\n",
    "Let's try this."
   ]
  },
  {
   "cell_type": "code",
   "execution_count": 34,
   "metadata": {},
   "outputs": [],
   "source": [
    "def compute_chi_squared(x_data,y_data,y_data_err,model,pars):\n",
    "    \"\"\"Compute the chi-squared and the reduced chi-squared.\n",
    "    x_data: points are which y_data samples occur.\n",
    "    y_data: the data points of the experiment. \n",
    "    y_data_err: the errors on the y_data points.\n",
    "    model: the function used for fitting. \n",
    "    pars: a list of parameters for the model function.\n",
    "    Returns a tuple: (chi-squared, reduced-chi-squared)\"\"\"\n",
    "    # As a loop, you would do the following:\n",
    "    #chisq = 0\n",
    "    #for xx,yy,ye in zip(x_data,y_data,y_data_err):\n",
    "    #    chisq += (model(xx,*pars)-yy)**2/ye**2\n",
    "    # Using Numpy style computing is much faster:\n",
    "    chisq = np.sum((fit_func(x_data,*pars) - y_data)**2 / y_data_err**2)\n",
    "    reduced_chisq = chisq/(len(x_data) - len(pars))\n",
    "    return (chisq,reduced_chisq)"
   ]
  },
  {
   "cell_type": "code",
   "execution_count": 35,
   "metadata": {},
   "outputs": [
    {
     "name": "stdout",
     "output_type": "stream",
     "text": [
      "The chi-squared divided by the number of degrees of freedom is  0.23411570806417395\n"
     ]
    }
   ],
   "source": [
    "my_chisq,my_chisq_R = compute_chi_squared(x_data,y_data,y_data_err,fit_func,pars)\n",
    "print(\"The chi-squared divided by the number of degrees of freedom is \",my_chisq_R)"
   ]
  },
  {
   "cell_type": "markdown",
   "metadata": {},
   "source": [
    "Now to get a chi-squared distrinbution, we need to do the whole thing, from data generation to fitting to chi-squared computation, over and over for a large number of times, and then make a normalized histogram of the resulting chi-squares. \n",
    "\n",
    "Let's do it and look at the result:"
   ]
  },
  {
   "cell_type": "code",
   "execution_count": 36,
   "metadata": {},
   "outputs": [],
   "source": [
    "# Define the chi-squared pobability function:\n",
    "def prob_chi(chi2,Ndf):\n",
    "    return 1/(2**(Ndf/2)*math.gamma(Ndf/2)) * ((chi2)**(Ndf/2 -1))*np.exp(-chi2/2)"
   ]
  },
  {
   "cell_type": "code",
   "execution_count": 37,
   "metadata": {},
   "outputs": [],
   "source": [
    "M = 10000  # Number of \"experiments\" we run.\n",
    "chi_store = []  # This will become the list of chi-squared values.\n",
    "for m_num in range(M):\n",
    "    # Run an \"experiment\", to get the data.\n",
    "    x_data = np.sort(np.random.random(N)*10)  # Ten points at random places between 0 and 10, sorted in order.\n",
    "    y_data = data_function(x_data) + np.random.normal(0,5.,len(x_data)) # Data with some random on each point.\n",
    "    y_data_err = np.array([5.]*len(x_data))\n",
    "    # Now fit that data\n",
    "    pars, covar = opt.curve_fit(fit_func,x_data,y_data,sigma=y_data_err)\n",
    "    # Next compute the chi-squared, and store the result.\n",
    "    chisq, chisq_r = compute_chi_squared(x_data,y_data,y_data_err,fit_func,pars)\n",
    "    chi_store.append(chisq)"
   ]
  },
  {
   "cell_type": "code",
   "execution_count": 38,
   "metadata": {},
   "outputs": [
    {
     "name": "stdout",
     "output_type": "stream",
     "text": [
      "Distribution mean:  8.012869621721542\n"
     ]
    },
    {
     "data": {
      "text/plain": [
       "[<matplotlib.lines.Line2D at 0x1207d6110>]"
      ]
     },
     "execution_count": 38,
     "metadata": {},
     "output_type": "execute_result"
    },
    {
     "data": {
      "image/png": "[encoded data removed]",
      "text/plain": [
       "<Figure size 432x288 with 1 Axes>"
      ]
     },
     "metadata": {
      "needs_background": "light"
     },
     "output_type": "display_data"
    }
   ],
   "source": [
    "print(\"Distribution mean: \",np.mean(chi_store))\n",
    "Ndf = len(x_data) - len(pars)\n",
    "\n",
    "counts, bins, patches = plt.hist(chi_store,np.arange(0,24,0.5),histtype=\"step\",density=True)\n",
    "plt.plot(bins,prob_chi(bins,Ndf))"
   ]
  },
  {
   "cell_type": "markdown",
   "metadata": {},
   "source": [
    "Note that the mean is indeed the $N_{df}$ of the problem, and indeed the chi-square probabilty function accurately describes our result.\n"
   ]
  },
  {
   "cell_type": "markdown",
   "metadata": {},
   "source": [
    "## Your turn.\n",
    "* Change the parameters of the data: Try many points, try a larger range in $x$, try a large or a small $\\sigma$ on the data. How do these influence your fit?\n",
    "* Following the steps above, try fitting a quadratic function (or higher order) instead of a straight line, to the data created with a straigt line. Does this describe the data \"better\"? How do you know you have too many parameters?\n",
    "* If you change the data to a quadratic dependence, but still fit it with a line, how well does *this* do?\n",
    "* Then combine the two. Get a feeling for more complex fits by going to higher orders."
   ]
  },
  {
   "cell_type": "markdown",
   "metadata": {},
   "source": [
    "# Linear Regressions and Beyond.\n",
    "\n",
    "You will find lots and lots of online articles about linear regression and Python, and frankly, I found most of them not very good. Many articles go through the mechanics of using Python to do a linear regression without addressing at all what a regression is, or what the obtained results mean. \n",
    "Some resources I *did* find usefull:\n",
    "* A quite decent article on regression, and specifically linear regression using Python, can be found in the RealPython series: [Linear Regression in Python](https://realpython.com/linear-regression-in-python/). \n",
    "\n",
    "## What is a regression?\n",
    "In very simple terms, a regression tries to explain one set of obeservables, the output (or dependent) variables, in terms of a set of input (or independent, or predictor) variables. According to this definition, our simple line fit we did previously was a regression. We found how y depended on x with the model of a line. Usually when you go to a regression, you try to gain more information about the problem you are studying. You want to know *if*, and *to what extend*, one variable depends on another, and *to what extend the chosen model describes the data*.\n",
    "\n",
    "## Linear regression.\n",
    "We will start with the simplest case, where we do a linear regression, which is similar to our line fit."
   ]
  },
  {
   "cell_type": "code",
   "execution_count": null,
   "metadata": {},
   "outputs": [],
   "source": []
  }
 ],
 "metadata": {
  "kernelspec": {
   "display_name": "Python 3",
   "language": "python",
   "name": "python3"
  },
  "language_info": {
   "codemirror_mode": {
    "name": "ipython",
    "version": 3
   },
   "file_extension": ".py",
   "mimetype": "text/x-python",
   "name": "python",
   "nbconvert_exporter": "python",
   "pygments_lexer": "ipython3",
   "version": "3.7.6"
  }
 },
 "nbformat": 4,
 "nbformat_minor": 4
}
