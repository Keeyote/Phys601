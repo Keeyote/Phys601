








<!DOCTYPE html>
<html lang="en">

<head>
  <meta charset="utf-8">
  <title>Jupyter Notebook Viewer</title>
  <meta name="viewport" content="width=device-width, initial-scale=1.0">
  <meta name="description" content="">
  <meta name="author" content="">
  
  <meta name="robots" content="noindex,nofollow">
  

  <!--NEW RELIC Start Perf Measurement-->
  
  <!--NREND-->

  <!-- Le styles -->
  <link href="/static/build/styles.css?v=f2b0b1b8f36a035146061040aa080202" rel="stylesheet">

  <!-- Le HTML5 shim, for IE6-8 support of HTML5 elements -->
  <!--[if lt IE 9]>
    <script src="http://html5shim.googlecode.com/svn/trunk/html5.js"></script>
  <![endif]-->

  <!-- Le fav and touch icons -->
  <link rel="shortcut icon" href="/static/ico/ipynb_icon_16x16.png">
  <link rel="apple-touch-icon-precomposed" sizes="144x144"
        href="/static/ico/apple-touch-icon-144-precomposed.png?v=5a3c9ede93e2a8b8ea9e3f8f3da1a905">
  <link rel="apple-touch-icon-precomposed" sizes="114x114"
        href="/static/ico/apple-touch-icon-114-precomposed.png?v=45d86fc8f24dc00638035e1dd7a6d898">
  <link rel="apple-touch-icon-precomposed" sizes="72x72"
        href="/static/ico/apple-touch-icon-72-precomposed.png?v=540b5eb0f3cfd25f1439d1c9bd30e15f">
  <link rel="apple-touch-icon-precomposed"
        href="/static/ico/apple-touch-icon-57-precomposed.png?v=225f0590e187e1458625654f10a28f56">
  
  

  

  
  <meta name="twitter:card" content="summary">
  <meta name="twitter:title" content="Notebook on nbviewer">
  <meta name="twitter:description" content="Check out this Jupyter notebook!">

  
  <meta name="twitter:domain" content="nbviewer.jupyter.org">
  <meta name="twitter:image:src" content="http://ipython.org/ipython-doc/dev/_images/ipynb_icon_128x128.png">

  
    <link href="/static/build/notebook.css?v=81e0139371f853f9af20339dc0bcfaa6" rel="stylesheet">
  

  

  
    <script src="https://cdnjs.cloudflare.com/ajax/libs/mathjax/2.7.1/MathJax.js?config=TeX-AMS_HTML" type="text/javascript">
    </script>
    <script type="text/javascript">
      init_mathjax = function() {
        if (window.MathJax) {
          // MathJax loaded
          MathJax.Hub.Config({
            TeX: {
              equationNumbers: {
                autoNumber: "AMS",
                useLabelIds: true
              }
            },
            tex2jax: {
              inlineMath: [ ['$','$'], ["\\(","\\)"] ],
              displayMath: [ ['$$','$$'], ["\\[","\\]"] ],
              processEscapes: true,
              processEnvironments: true
            },
            displayAlign: 'center',
            "HTML-CSS": {
              styles: {'.MathJax_Display': {"margin": 0}},
              linebreaks: { automatic: true }
            }
          });
          MathJax.Hub.Queue(["Typeset", MathJax.Hub]);
        }
      }
      init_mathjax();
    </script>
  

  
    <script>
      (function() {
        function addWidgetsRenderer() {
          var mimeElement = document.querySelector('script[type="application/vnd.jupyter.widget-view+json"]');
          var scriptElement = document.createElement('script');
          var widgetRendererSrc = 'https://unpkg.com/@jupyter-widgets/html-manager@*/dist/embed-amd.js';
          var widgetState;

          try {
            widgetState = mimeElement && JSON.parse(mimeElement.innerHTML);

            if (widgetState && (widgetState.version_major < 2 || !widgetState.version_major)) {
              widgetRendererSrc = 'https://unpkg.com/jupyter-js-widgets@*/dist/embed.js';
            }
          } catch(e) {}

          scriptElement.src = widgetRendererSrc;
          document.body.appendChild(scriptElement);
        }

        document.addEventListener('DOMContentLoaded', addWidgetsRenderer);
      }());
    </script>
  

</head>

<body class="nbviewer">

  <!-- These are loaded at the top of the body so they are available to
       notebook cells when they are loaded below. -->
  <script src="/static/components/jquery/dist/jquery.min.js?v=a09e13ee94d51c524b7e2a728c7d4039"></script>
  <script src="/static/components/requirejs/require.js?v=6da8be361b9ee26c5e721e76c6d4afce"></script>
  <script src="/static/components/moment/min/moment.min.js?v=89f87298ad94aa1e6b92f42eb66da043"></script>
<!-- Navbar
================================================== -->
  <nav id="menubar" class="navbar navbar-default navbar-fixed-top" data-spy="affix">
    <div class="container">
      <div class="navbar-header">
        <button type="button" class="navbar-toggle collapsed" data-toggle="collapse" data-target=".navbar-collapse">
          <span class="sr-only">Toggle navigation</span>
          <i class="fa fa-bars"></i>
        </button>
        <a class="navbar-brand" href="/">
          <img src="/static/img/nav_logo.svg?v=479cefe8d932fb14a67b93911b97d70f" width="159"/>
        </a>
      </div>

      <div class="collapse navbar-collapse">
        <ul class="nav navbar-nav navbar-right">
          <li>
            <a class="active" href="http://jupyter.org">JUPYTER</a>
          </li>
          <li>
    <a href="/faq" title="FAQ" >
      
        <span>FAQ</span>
      
    </a>
  </li>

          
  
    
  
    
      
        <li>
    <a href="/format/script/url/www.inp.nsk.su/%7Egrozin/python/sympy.ipynb" title="View as Code" >
      <span class="fa fa-code fa-2x menu-icon"></span>
      <span class="menu-text">View as Code</span>
    </a>
  </li>
      
    
  

  
    <li>
    <a href="#" title="Python 3 Kernel" >
      <span class="fa fa-server fa-2x menu-icon"></span>
      <span class="menu-text">Python 3 Kernel</span>
    </a>
  </li>
  

  

  

  <li>
    <a href="http://www.inp.nsk.su/%7Egrozin/python/sympy.ipynb" title="Download Notebook" download>
      <span class="fa fa-download fa-2x menu-icon"></span>
      <span class="menu-text">Download Notebook</span>
    </a>
  </li>

        </ul>
      </div><!-- /.navbar-collapse -->
      
      
    </div>
  </nav>

  <div class="container container-main">
    
  
  <div id="notebook">
    <div id="notebook-container">
      
<div class="cell border-box-sizing text_cell rendered"><div class="prompt input_prompt">
</div>
<div class="inner_cell">
<div class="text_cell_render border-box-sizing rendered_html">
<p><img src="python_integral.png" alt="python"></p>
<h1 id="SymPy">SymPy<a class="anchor-link" href="#SymPy">&#182;</a></h1><p><code>SymPy</code> is a package for symbolic calculations in python, similar to <em>Mathematica</em>. It works with expressions containing symbols.</p>

</div>
</div>
</div>
<div class="cell border-box-sizing code_cell rendered">
<div class="input">
<div class="prompt input_prompt">In&nbsp;[1]:</div>
<div class="inner_cell">
    <div class="input_area">
<div class=" highlight hl-ipython3"><pre><span></span><span class="kn">from</span> <span class="nn">sympy</span> <span class="k">import</span> <span class="o">*</span>
<span class="n">init_printing</span><span class="p">()</span>
</pre></div>

</div>
</div>
</div>

</div>
<div class="cell border-box-sizing text_cell rendered"><div class="prompt input_prompt">
</div>
<div class="inner_cell">
<div class="text_cell_render border-box-sizing rendered_html">
<p>Symbols are basic bricks used to construct expressions.
Each symbol has a name used for printing expressions. Objects of the class <code>Symbol</code> should be created and assigned to python variables in order to be used in expressions. The symbol name and the name of the variable to which this symbol is assigned are two independent things, and one may write <code>abc=Symbol('xyz')</code>. But then one has to write <code>abc</code> in input expressions, while <code>SymPy</code> will write <code>xyz</code> in output ones, producing unnecessary confusion. The python variable name should better be the same as the symbol name.</p>
<p>In languages specifically designed for symbolic calculations, such as <em>Mathematica</em>, if a variable to which nothing has been assigned is used, it automatically means a symbol with the same name. Python has not been designed for symbolic calculations. If you use a variable to which nothing has been assigned, you will get an error message. Symbol objects have to be created explicitly.</p>

</div>
</div>
</div>
<div class="cell border-box-sizing code_cell rendered">
<div class="input">
<div class="prompt input_prompt">In&nbsp;[2]:</div>
<div class="inner_cell">
    <div class="input_area">
<div class=" highlight hl-ipython3"><pre><span></span><span class="n">x</span><span class="o">=</span><span class="n">Symbol</span><span class="p">(</span><span class="s1">&#39;x&#39;</span><span class="p">)</span>
</pre></div>

</div>
</div>
</div>

</div>
<div class="cell border-box-sizing code_cell rendered">
<div class="input">
<div class="prompt input_prompt">In&nbsp;[3]:</div>
<div class="inner_cell">
    <div class="input_area">
<div class=" highlight hl-ipython3"><pre><span></span><span class="n">a</span><span class="o">=</span><span class="n">x</span><span class="o">**</span><span class="mi">2</span><span class="o">-</span><span class="mi">1</span>
<span class="n">a</span>
</pre></div>

</div>
</div>
</div>

<div class="output_wrapper">
<div class="output">


<div class="output_area">

<div class="prompt output_prompt">Out[3]:</div>




<div class="output_latex output_subarea output_execute_result">
$$x^{2} - 1$$
</div>

</div>

</div>
</div>

</div>
<div class="cell border-box-sizing text_cell rendered"><div class="prompt input_prompt">
</div>
<div class="inner_cell">
<div class="text_cell_render border-box-sizing rendered_html">
<p>Several symbols can be defined at once. The string is split at spaces.</p>

</div>
</div>
</div>
<div class="cell border-box-sizing code_cell rendered">
<div class="input">
<div class="prompt input_prompt">In&nbsp;[4]:</div>
<div class="inner_cell">
    <div class="input_area">
<div class=" highlight hl-ipython3"><pre><span></span><span class="n">y</span><span class="p">,</span><span class="n">z</span><span class="o">=</span><span class="n">symbols</span><span class="p">(</span><span class="s1">&#39;y z&#39;</span><span class="p">)</span>
</pre></div>

</div>
</div>
</div>

</div>
<div class="cell border-box-sizing text_cell rendered"><div class="prompt input_prompt">
</div>
<div class="inner_cell">
<div class="text_cell_render border-box-sizing rendered_html">
<p>Let's substitute $y+1$ for $x$.</p>

</div>
</div>
</div>
<div class="cell border-box-sizing code_cell rendered">
<div class="input">
<div class="prompt input_prompt">In&nbsp;[5]:</div>
<div class="inner_cell">
    <div class="input_area">
<div class=" highlight hl-ipython3"><pre><span></span><span class="n">a</span><span class="o">.</span><span class="n">subs</span><span class="p">(</span><span class="n">x</span><span class="p">,</span><span class="n">y</span><span class="o">+</span><span class="mi">1</span><span class="p">)</span>
</pre></div>

</div>
</div>
</div>

<div class="output_wrapper">
<div class="output">


<div class="output_area">

<div class="prompt output_prompt">Out[5]:</div>




<div class="output_latex output_subarea output_execute_result">
$$\left(y + 1\right)^{2} - 1$$
</div>

</div>

</div>
</div>

</div>
<div class="cell border-box-sizing text_cell rendered"><div class="prompt input_prompt">
</div>
<div class="inner_cell">
<div class="text_cell_render border-box-sizing rendered_html">
<h2 id="Polynomials-and-rational-functions">Polynomials and rational functions<a class="anchor-link" href="#Polynomials-and-rational-functions">&#182;</a></h2><p><code>SymPy</code> does not expand brackets automatically. The function <code>expand</code> is used for this.</p>

</div>
</div>
</div>
<div class="cell border-box-sizing code_cell rendered">
<div class="input">
<div class="prompt input_prompt">In&nbsp;[6]:</div>
<div class="inner_cell">
    <div class="input_area">
<div class=" highlight hl-ipython3"><pre><span></span><span class="n">a</span><span class="o">=</span><span class="p">(</span><span class="n">x</span><span class="o">+</span><span class="n">y</span><span class="o">-</span><span class="n">z</span><span class="p">)</span><span class="o">**</span><span class="mi">6</span>
<span class="n">a</span>
</pre></div>

</div>
</div>
</div>

<div class="output_wrapper">
<div class="output">


<div class="output_area">

<div class="prompt output_prompt">Out[6]:</div>




<div class="output_latex output_subarea output_execute_result">
$$\left(x + y - z\right)^{6}$$
</div>

</div>

</div>
</div>

</div>
<div class="cell border-box-sizing code_cell rendered">
<div class="input">
<div class="prompt input_prompt">In&nbsp;[7]:</div>
<div class="inner_cell">
    <div class="input_area">
<div class=" highlight hl-ipython3"><pre><span></span><span class="n">a</span><span class="o">=</span><span class="n">expand</span><span class="p">(</span><span class="n">a</span><span class="p">)</span>
<span class="n">a</span>
</pre></div>

</div>
</div>
</div>

<div class="output_wrapper">
<div class="output">


<div class="output_area">

<div class="prompt output_prompt">Out[7]:</div>




<div class="output_latex output_subarea output_execute_result">
$$x^{6} + 6 x^{5} y - 6 x^{5} z + 15 x^{4} y^{2} - 30 x^{4} y z + 15 x^{4} z^{2} + 20 x^{3} y^{3} - 60 x^{3} y^{2} z + 60 x^{3} y z^{2} - 20 x^{3} z^{3} + 15 x^{2} y^{4} - 60 x^{2} y^{3} z + 90 x^{2} y^{2} z^{2} - 60 x^{2} y z^{3} + 15 x^{2} z^{4} + 6 x y^{5} - 30 x y^{4} z + 60 x y^{3} z^{2} - 60 x y^{2} z^{3} + 30 x y z^{4} - 6 x z^{5} + y^{6} - 6 y^{5} z + 15 y^{4} z^{2} - 20 y^{3} z^{3} + 15 y^{2} z^{4} - 6 y z^{5} + z^{6}$$
</div>

</div>

</div>
</div>

</div>
<div class="cell border-box-sizing text_cell rendered"><div class="prompt input_prompt">
</div>
<div class="inner_cell">
<div class="text_cell_render border-box-sizing rendered_html">
<p>Degree of the polynomial $a$ in $x$.</p>

</div>
</div>
</div>
<div class="cell border-box-sizing code_cell rendered">
<div class="input">
<div class="prompt input_prompt">In&nbsp;[8]:</div>
<div class="inner_cell">
    <div class="input_area">
<div class=" highlight hl-ipython3"><pre><span></span><span class="n">degree</span><span class="p">(</span><span class="n">a</span><span class="p">,</span><span class="n">x</span><span class="p">)</span>
</pre></div>

</div>
</div>
</div>

<div class="output_wrapper">
<div class="output">


<div class="output_area">

<div class="prompt output_prompt">Out[8]:</div>




<div class="output_latex output_subarea output_execute_result">
$$6$$
</div>

</div>

</div>
</div>

</div>
<div class="cell border-box-sizing text_cell rendered"><div class="prompt input_prompt">
</div>
<div class="inner_cell">
<div class="text_cell_render border-box-sizing rendered_html">
<p>Let's collect terms with same power of $x$ together.</p>

</div>
</div>
</div>
<div class="cell border-box-sizing code_cell rendered">
<div class="input">
<div class="prompt input_prompt">In&nbsp;[9]:</div>
<div class="inner_cell">
    <div class="input_area">
<div class=" highlight hl-ipython3"><pre><span></span><span class="n">collect</span><span class="p">(</span><span class="n">a</span><span class="p">,</span><span class="n">x</span><span class="p">)</span>
</pre></div>

</div>
</div>
</div>

<div class="output_wrapper">
<div class="output">


<div class="output_area">

<div class="prompt output_prompt">Out[9]:</div>




<div class="output_latex output_subarea output_execute_result">
$$x^{6} + x^{5} \left(6 y - 6 z\right) + x^{4} \left(15 y^{2} - 30 y z + 15 z^{2}\right) + x^{3} \left(20 y^{3} - 60 y^{2} z + 60 y z^{2} - 20 z^{3}\right) + x^{2} \left(15 y^{4} - 60 y^{3} z + 90 y^{2} z^{2} - 60 y z^{3} + 15 z^{4}\right) + x \left(6 y^{5} - 30 y^{4} z + 60 y^{3} z^{2} - 60 y^{2} z^{3} + 30 y z^{4} - 6 z^{5}\right) + y^{6} - 6 y^{5} z + 15 y^{4} z^{2} - 20 y^{3} z^{3} + 15 y^{2} z^{4} - 6 y z^{5} + z^{6}$$
</div>

</div>

</div>
</div>

</div>
<div class="cell border-box-sizing text_cell rendered"><div class="prompt input_prompt">
</div>
<div class="inner_cell">
<div class="text_cell_render border-box-sizing rendered_html">
<p>Any polynomial with integer coefficients can be factorized into polynomials with integer coefficients (which cannot be factorized further). There exist efficient algorithms to do this.</p>

</div>
</div>
</div>
<div class="cell border-box-sizing code_cell rendered">
<div class="input">
<div class="prompt input_prompt">In&nbsp;[10]:</div>
<div class="inner_cell">
    <div class="input_area">
<div class=" highlight hl-ipython3"><pre><span></span><span class="n">a</span><span class="o">=</span><span class="n">factor</span><span class="p">(</span><span class="n">a</span><span class="p">)</span>
<span class="n">a</span>
</pre></div>

</div>
</div>
</div>

<div class="output_wrapper">
<div class="output">


<div class="output_area">

<div class="prompt output_prompt">Out[10]:</div>




<div class="output_latex output_subarea output_execute_result">
$$\left(x + y - z\right)^{6}$$
</div>

</div>

</div>
</div>

</div>
<div class="cell border-box-sizing text_cell rendered"><div class="prompt input_prompt">
</div>
<div class="inner_cell">
<div class="text_cell_render border-box-sizing rendered_html">
<p><code>SymPy</code> does not automatically cancel ratios of polynomials by their greatest common divisor. The function <code>cancel</code> is used for this.</p>

</div>
</div>
</div>
<div class="cell border-box-sizing code_cell rendered">
<div class="input">
<div class="prompt input_prompt">In&nbsp;[11]:</div>
<div class="inner_cell">
    <div class="input_area">
<div class=" highlight hl-ipython3"><pre><span></span><span class="n">a</span><span class="o">=</span><span class="p">(</span><span class="n">x</span><span class="o">**</span><span class="mi">3</span><span class="o">-</span><span class="n">y</span><span class="o">**</span><span class="mi">3</span><span class="p">)</span><span class="o">/</span><span class="p">(</span><span class="n">x</span><span class="o">**</span><span class="mi">2</span><span class="o">-</span><span class="n">y</span><span class="o">**</span><span class="mi">2</span><span class="p">)</span>
<span class="n">a</span>
</pre></div>

</div>
</div>
</div>

<div class="output_wrapper">
<div class="output">


<div class="output_area">

<div class="prompt output_prompt">Out[11]:</div>




<div class="output_latex output_subarea output_execute_result">
$$\frac{x^{3} - y^{3}}{x^{2} - y^{2}}$$
</div>

</div>

</div>
</div>

</div>
<div class="cell border-box-sizing code_cell rendered">
<div class="input">
<div class="prompt input_prompt">In&nbsp;[12]:</div>
<div class="inner_cell">
    <div class="input_area">
<div class=" highlight hl-ipython3"><pre><span></span><span class="n">cancel</span><span class="p">(</span><span class="n">a</span><span class="p">)</span>
</pre></div>

</div>
</div>
</div>

<div class="output_wrapper">
<div class="output">


<div class="output_area">

<div class="prompt output_prompt">Out[12]:</div>




<div class="output_latex output_subarea output_execute_result">
$$\frac{x^{2} + x y + y^{2}}{x + y}$$
</div>

</div>

</div>
</div>

</div>
<div class="cell border-box-sizing text_cell rendered"><div class="prompt input_prompt">
</div>
<div class="inner_cell">
<div class="text_cell_render border-box-sizing rendered_html">
<p><code>SymPy</code> does not automatically bring sums of rational expressions to common denominator. The function <code>together</code> is used for this.</p>

</div>
</div>
</div>
<div class="cell border-box-sizing code_cell rendered">
<div class="input">
<div class="prompt input_prompt">In&nbsp;[13]:</div>
<div class="inner_cell">
    <div class="input_area">
<div class=" highlight hl-ipython3"><pre><span></span><span class="n">a</span><span class="o">=</span><span class="n">y</span><span class="o">/</span><span class="p">(</span><span class="n">x</span><span class="o">-</span><span class="n">y</span><span class="p">)</span><span class="o">+</span><span class="n">x</span><span class="o">/</span><span class="p">(</span><span class="n">x</span><span class="o">+</span><span class="n">y</span><span class="p">)</span>
<span class="n">a</span>
</pre></div>

</div>
</div>
</div>

<div class="output_wrapper">
<div class="output">


<div class="output_area">

<div class="prompt output_prompt">Out[13]:</div>




<div class="output_latex output_subarea output_execute_result">
$$\frac{x}{x + y} + \frac{y}{x - y}$$
</div>

</div>

</div>
</div>

</div>
<div class="cell border-box-sizing code_cell rendered">
<div class="input">
<div class="prompt input_prompt">In&nbsp;[14]:</div>
<div class="inner_cell">
    <div class="input_area">
<div class=" highlight hl-ipython3"><pre><span></span><span class="n">together</span><span class="p">(</span><span class="n">a</span><span class="p">)</span>
</pre></div>

</div>
</div>
</div>

<div class="output_wrapper">
<div class="output">


<div class="output_area">

<div class="prompt output_prompt">Out[14]:</div>




<div class="output_latex output_subarea output_execute_result">
$$\frac{x \left(x - y\right) + y \left(x + y\right)}{\left(x - y\right) \left(x + y\right)}$$
</div>

</div>

</div>
</div>

</div>
<div class="cell border-box-sizing text_cell rendered"><div class="prompt input_prompt">
</div>
<div class="inner_cell">
<div class="text_cell_render border-box-sizing rendered_html">
<p>The function <code>simplify</code> tries to rewrite an expression <em>in a simplest form</em>. This concept is not well defined (different forms may be considered simplest in different contexts), and there exists no algorithm for such simplification. The function <code>simplify</code> works heuristically, and it is not possible to guess in advance what simplifications it will try. It is very convenient in interactive sessions in order to check if it will succeed in rewriting an expression in some reasonably good form. But it is not desirable to use it in programs. There one should better use more specialized functions which perform well defined expression transformations.</p>

</div>
</div>
</div>
<div class="cell border-box-sizing code_cell rendered">
<div class="input">
<div class="prompt input_prompt">In&nbsp;[15]:</div>
<div class="inner_cell">
    <div class="input_area">
<div class=" highlight hl-ipython3"><pre><span></span><span class="n">simplify</span><span class="p">(</span><span class="n">a</span><span class="p">)</span>
</pre></div>

</div>
</div>
</div>

<div class="output_wrapper">
<div class="output">


<div class="output_area">

<div class="prompt output_prompt">Out[15]:</div>




<div class="output_latex output_subarea output_execute_result">
$$\frac{x^{2} + y^{2}}{x^{2} - y^{2}}$$
</div>

</div>

</div>
</div>

</div>
<div class="cell border-box-sizing text_cell rendered"><div class="prompt input_prompt">
</div>
<div class="inner_cell">
<div class="text_cell_render border-box-sizing rendered_html">
<p>Partial fraction decomposition with respect to $x$.</p>

</div>
</div>
</div>
<div class="cell border-box-sizing code_cell rendered">
<div class="input">
<div class="prompt input_prompt">In&nbsp;[16]:</div>
<div class="inner_cell">
    <div class="input_area">
<div class=" highlight hl-ipython3"><pre><span></span><span class="n">apart</span><span class="p">(</span><span class="n">a</span><span class="p">,</span><span class="n">x</span><span class="p">)</span>
</pre></div>

</div>
</div>
</div>

<div class="output_wrapper">
<div class="output">


<div class="output_area">

<div class="prompt output_prompt">Out[16]:</div>




<div class="output_latex output_subarea output_execute_result">
$$- \frac{y}{x + y} + \frac{y}{x - y} + 1$$
</div>

</div>

</div>
</div>

</div>
<div class="cell border-box-sizing text_cell rendered"><div class="prompt input_prompt">
</div>
<div class="inner_cell">
<div class="text_cell_render border-box-sizing rendered_html">
<p>Let's substitute some values for the symbils $x$ and $y$.</p>

</div>
</div>
</div>
<div class="cell border-box-sizing code_cell rendered">
<div class="input">
<div class="prompt input_prompt">In&nbsp;[17]:</div>
<div class="inner_cell">
    <div class="input_area">
<div class=" highlight hl-ipython3"><pre><span></span><span class="n">a</span><span class="o">=</span><span class="n">a</span><span class="o">.</span><span class="n">subs</span><span class="p">({</span><span class="n">x</span><span class="p">:</span><span class="mi">1</span><span class="p">,</span><span class="n">y</span><span class="p">:</span><span class="mi">2</span><span class="p">})</span>
<span class="n">a</span>
</pre></div>

</div>
</div>
</div>

<div class="output_wrapper">
<div class="output">


<div class="output_area">

<div class="prompt output_prompt">Out[17]:</div>




<div class="output_latex output_subarea output_execute_result">
$$- \frac{5}{3}$$
</div>

</div>

</div>
</div>

</div>
<div class="cell border-box-sizing text_cell rendered"><div class="prompt input_prompt">
</div>
<div class="inner_cell">
<div class="text_cell_render border-box-sizing rendered_html">
<p>And how much is it numerically?</p>

</div>
</div>
</div>
<div class="cell border-box-sizing code_cell rendered">
<div class="input">
<div class="prompt input_prompt">In&nbsp;[18]:</div>
<div class="inner_cell">
    <div class="input_area">
<div class=" highlight hl-ipython3"><pre><span></span><span class="n">a</span><span class="o">.</span><span class="n">n</span><span class="p">()</span>
</pre></div>

</div>
</div>
</div>

<div class="output_wrapper">
<div class="output">


<div class="output_area">

<div class="prompt output_prompt">Out[18]:</div>




<div class="output_latex output_subarea output_execute_result">
$$-1.66666666666667$$
</div>

</div>

</div>
</div>

</div>
<div class="cell border-box-sizing text_cell rendered"><div class="prompt input_prompt">
</div>
<div class="inner_cell">
<div class="text_cell_render border-box-sizing rendered_html">
<h2 id="Elementary-functions">Elementary functions<a class="anchor-link" href="#Elementary-functions">&#182;</a></h2><p><code>SymPy</code> automatically applies simplifications of elementary functions which are correct everywhere.</p>

</div>
</div>
</div>
<div class="cell border-box-sizing code_cell rendered">
<div class="input">
<div class="prompt input_prompt">In&nbsp;[19]:</div>
<div class="inner_cell">
    <div class="input_area">
<div class=" highlight hl-ipython3"><pre><span></span><span class="n">sin</span><span class="p">(</span><span class="o">-</span><span class="n">x</span><span class="p">)</span>
</pre></div>

</div>
</div>
</div>

<div class="output_wrapper">
<div class="output">


<div class="output_area">

<div class="prompt output_prompt">Out[19]:</div>




<div class="output_latex output_subarea output_execute_result">
$$- \sin{\left (x \right )}$$
</div>

</div>

</div>
</div>

</div>
<div class="cell border-box-sizing code_cell rendered">
<div class="input">
<div class="prompt input_prompt">In&nbsp;[20]:</div>
<div class="inner_cell">
    <div class="input_area">
<div class=" highlight hl-ipython3"><pre><span></span><span class="n">cos</span><span class="p">(</span><span class="n">pi</span><span class="o">/</span><span class="mi">4</span><span class="p">),</span><span class="n">tan</span><span class="p">(</span><span class="mi">5</span><span class="o">*</span><span class="n">pi</span><span class="o">/</span><span class="mi">6</span><span class="p">)</span>
</pre></div>

</div>
</div>
</div>

<div class="output_wrapper">
<div class="output">


<div class="output_area">

<div class="prompt output_prompt">Out[20]:</div>




<div class="output_latex output_subarea output_execute_result">
$$\left ( \frac{\sqrt{2}}{2}, \quad - \frac{\sqrt{3}}{3}\right )$$
</div>

</div>

</div>
</div>

</div>
<div class="cell border-box-sizing text_cell rendered"><div class="prompt input_prompt">
</div>
<div class="inner_cell">
<div class="text_cell_render border-box-sizing rendered_html">
<p><code>SymPy</code> can work with floating point numbers having arbitrarily high precision. Here is $\pi$ with 100 significant digits.</p>

</div>
</div>
</div>
<div class="cell border-box-sizing code_cell rendered">
<div class="input">
<div class="prompt input_prompt">In&nbsp;[21]:</div>
<div class="inner_cell">
    <div class="input_area">
<div class=" highlight hl-ipython3"><pre><span></span><span class="n">pi</span><span class="o">.</span><span class="n">n</span><span class="p">(</span><span class="mi">100</span><span class="p">)</span>
</pre></div>

</div>
</div>
</div>

<div class="output_wrapper">
<div class="output">


<div class="output_area">

<div class="prompt output_prompt">Out[21]:</div>




<div class="output_latex output_subarea output_execute_result">
$$3.141592653589793238462643383279502884197169399375105820974944592307816406286208998628034825342117068$$
</div>

</div>

</div>
</div>

</div>
<div class="cell border-box-sizing text_cell rendered"><div class="prompt input_prompt">
</div>
<div class="inner_cell">
<div class="text_cell_render border-box-sizing rendered_html">
<p><code>E</code> is the base of natural logarithms.</p>

</div>
</div>
</div>
<div class="cell border-box-sizing code_cell rendered">
<div class="input">
<div class="prompt input_prompt">In&nbsp;[22]:</div>
<div class="inner_cell">
    <div class="input_area">
<div class=" highlight hl-ipython3"><pre><span></span><span class="n">log</span><span class="p">(</span><span class="mi">1</span><span class="p">),</span><span class="n">log</span><span class="p">(</span><span class="n">E</span><span class="p">)</span>
</pre></div>

</div>
</div>
</div>

<div class="output_wrapper">
<div class="output">


<div class="output_area">

<div class="prompt output_prompt">Out[22]:</div>




<div class="output_latex output_subarea output_execute_result">
$$\left ( 0, \quad 1\right )$$
</div>

</div>

</div>
</div>

</div>
<div class="cell border-box-sizing code_cell rendered">
<div class="input">
<div class="prompt input_prompt">In&nbsp;[23]:</div>
<div class="inner_cell">
    <div class="input_area">
<div class=" highlight hl-ipython3"><pre><span></span><span class="n">exp</span><span class="p">(</span><span class="n">log</span><span class="p">(</span><span class="n">x</span><span class="p">)),</span><span class="n">log</span><span class="p">(</span><span class="n">exp</span><span class="p">(</span><span class="n">x</span><span class="p">))</span>
</pre></div>

</div>
</div>
</div>

<div class="output_wrapper">
<div class="output">


<div class="output_area">

<div class="prompt output_prompt">Out[23]:</div>




<div class="output_latex output_subarea output_execute_result">
$$\left ( x, \quad \log{\left (e^{x} \right )}\right )$$
</div>

</div>

</div>
</div>

</div>
<div class="cell border-box-sizing text_cell rendered"><div class="prompt input_prompt">
</div>
<div class="inner_cell">
<div class="text_cell_render border-box-sizing rendered_html">
<p>Why not $x$? Try $x=2\pi i$.</p>

</div>
</div>
</div>
<div class="cell border-box-sizing code_cell rendered">
<div class="input">
<div class="prompt input_prompt">In&nbsp;[24]:</div>
<div class="inner_cell">
    <div class="input_area">
<div class=" highlight hl-ipython3"><pre><span></span><span class="n">sqrt</span><span class="p">(</span><span class="mi">0</span><span class="p">)</span>
</pre></div>

</div>
</div>
</div>

<div class="output_wrapper">
<div class="output">


<div class="output_area">

<div class="prompt output_prompt">Out[24]:</div>




<div class="output_latex output_subarea output_execute_result">
$$0$$
</div>

</div>

</div>
</div>

</div>
<div class="cell border-box-sizing code_cell rendered">
<div class="input">
<div class="prompt input_prompt">In&nbsp;[25]:</div>
<div class="inner_cell">
    <div class="input_area">
<div class=" highlight hl-ipython3"><pre><span></span><span class="n">sqrt</span><span class="p">(</span><span class="n">x</span><span class="p">)</span><span class="o">**</span><span class="mi">4</span><span class="p">,</span><span class="n">sqrt</span><span class="p">(</span><span class="n">x</span><span class="o">**</span><span class="mi">4</span><span class="p">)</span>
</pre></div>

</div>
</div>
</div>

<div class="output_wrapper">
<div class="output">


<div class="output_area">

<div class="prompt output_prompt">Out[25]:</div>




<div class="output_latex output_subarea output_execute_result">
$$\left ( x^{2}, \quad \sqrt{x^{4}}\right )$$
</div>

</div>

</div>
</div>

</div>
<div class="cell border-box-sizing text_cell rendered"><div class="prompt input_prompt">
</div>
<div class="inner_cell">
<div class="text_cell_render border-box-sizing rendered_html">
<p>Why not $x^2$? Try $x=i$.</p>
<p>Symbols can have certain properties. E.g., they can be positive. Then <code>SymPy</code> can simplify square roots better.</p>

</div>
</div>
</div>
<div class="cell border-box-sizing code_cell rendered">
<div class="input">
<div class="prompt input_prompt">In&nbsp;[26]:</div>
<div class="inner_cell">
    <div class="input_area">
<div class=" highlight hl-ipython3"><pre><span></span><span class="n">p</span><span class="p">,</span><span class="n">q</span><span class="o">=</span><span class="n">symbols</span><span class="p">(</span><span class="s1">&#39;p q&#39;</span><span class="p">,</span><span class="n">positive</span><span class="o">=</span><span class="kc">True</span><span class="p">)</span>
<span class="n">sqrt</span><span class="p">(</span><span class="n">p</span><span class="o">**</span><span class="mi">2</span><span class="p">)</span>
</pre></div>

</div>
</div>
</div>

<div class="output_wrapper">
<div class="output">


<div class="output_area">

<div class="prompt output_prompt">Out[26]:</div>




<div class="output_latex output_subarea output_execute_result">
$$p$$
</div>

</div>

</div>
</div>

</div>
<div class="cell border-box-sizing code_cell rendered">
<div class="input">
<div class="prompt input_prompt">In&nbsp;[27]:</div>
<div class="inner_cell">
    <div class="input_area">
<div class=" highlight hl-ipython3"><pre><span></span><span class="n">sqrt</span><span class="p">(</span><span class="mi">12</span><span class="o">*</span><span class="n">x</span><span class="o">**</span><span class="mi">2</span><span class="o">*</span><span class="n">y</span><span class="p">),</span><span class="n">sqrt</span><span class="p">(</span><span class="mi">12</span><span class="o">*</span><span class="n">p</span><span class="o">**</span><span class="mi">2</span><span class="o">*</span><span class="n">y</span><span class="p">)</span>
</pre></div>

</div>
</div>
</div>

<div class="output_wrapper">
<div class="output">


<div class="output_area">

<div class="prompt output_prompt">Out[27]:</div>




<div class="output_latex output_subarea output_execute_result">
$$\left ( 2 \sqrt{3} \sqrt{x^{2} y}, \quad 2 \sqrt{3} p \sqrt{y}\right )$$
</div>

</div>

</div>
</div>

</div>
<div class="cell border-box-sizing text_cell rendered"><div class="prompt input_prompt">
</div>
<div class="inner_cell">
<div class="text_cell_render border-box-sizing rendered_html">
<p>Let the symbol $n$ be integer (<code>I</code> is the imaginary unit).</p>

</div>
</div>
</div>
<div class="cell border-box-sizing code_cell rendered">
<div class="input">
<div class="prompt input_prompt">In&nbsp;[28]:</div>
<div class="inner_cell">
    <div class="input_area">
<div class=" highlight hl-ipython3"><pre><span></span><span class="n">n</span><span class="o">=</span><span class="n">Symbol</span><span class="p">(</span><span class="s1">&#39;n&#39;</span><span class="p">,</span><span class="n">integer</span><span class="o">=</span><span class="kc">True</span><span class="p">)</span>
<span class="n">exp</span><span class="p">(</span><span class="mi">2</span><span class="o">*</span><span class="n">pi</span><span class="o">*</span><span class="n">I</span><span class="o">*</span><span class="n">n</span><span class="p">)</span>
</pre></div>

</div>
</div>
</div>

<div class="output_wrapper">
<div class="output">


<div class="output_area">

<div class="prompt output_prompt">Out[28]:</div>




<div class="output_latex output_subarea output_execute_result">
$$1$$
</div>

</div>

</div>
</div>

</div>
<div class="cell border-box-sizing text_cell rendered"><div class="prompt input_prompt">
</div>
<div class="inner_cell">
<div class="text_cell_render border-box-sizing rendered_html">
<p>The method <code>rewrite</code> tries to rewrite an expression in terms of a given function.</p>

</div>
</div>
</div>
<div class="cell border-box-sizing code_cell rendered">
<div class="input">
<div class="prompt input_prompt">In&nbsp;[29]:</div>
<div class="inner_cell">
    <div class="input_area">
<div class=" highlight hl-ipython3"><pre><span></span><span class="n">cos</span><span class="p">(</span><span class="n">x</span><span class="p">)</span><span class="o">.</span><span class="n">rewrite</span><span class="p">(</span><span class="n">exp</span><span class="p">),</span><span class="n">exp</span><span class="p">(</span><span class="n">I</span><span class="o">*</span><span class="n">x</span><span class="p">)</span><span class="o">.</span><span class="n">rewrite</span><span class="p">(</span><span class="n">cos</span><span class="p">)</span>
</pre></div>

</div>
</div>
</div>

<div class="output_wrapper">
<div class="output">


<div class="output_area">

<div class="prompt output_prompt">Out[29]:</div>




<div class="output_latex output_subarea output_execute_result">
$$\left ( \frac{e^{i x}}{2} + \frac{1}{2} e^{- i x}, \quad i \sin{\left (x \right )} + \cos{\left (x \right )}\right )$$
</div>

</div>

</div>
</div>

</div>
<div class="cell border-box-sizing code_cell rendered">
<div class="input">
<div class="prompt input_prompt">In&nbsp;[30]:</div>
<div class="inner_cell">
    <div class="input_area">
<div class=" highlight hl-ipython3"><pre><span></span><span class="n">asin</span><span class="p">(</span><span class="n">x</span><span class="p">)</span><span class="o">.</span><span class="n">rewrite</span><span class="p">(</span><span class="n">log</span><span class="p">)</span>
</pre></div>

</div>
</div>
</div>

<div class="output_wrapper">
<div class="output">


<div class="output_area">

<div class="prompt output_prompt">Out[30]:</div>




<div class="output_latex output_subarea output_execute_result">
$$- i \log{\left (i x + \sqrt{- x^{2} + 1} \right )}$$
</div>

</div>

</div>
</div>

</div>
<div class="cell border-box-sizing text_cell rendered"><div class="prompt input_prompt">
</div>
<div class="inner_cell">
<div class="text_cell_render border-box-sizing rendered_html">
<p>The function <code>trigsimp</code> tries to rewrite a trigonometric expression <em>in a simplest form</em>. In programs it is better to use more specialized functions.</p>

</div>
</div>
</div>
<div class="cell border-box-sizing code_cell rendered">
<div class="input">
<div class="prompt input_prompt">In&nbsp;[31]:</div>
<div class="inner_cell">
    <div class="input_area">
<div class=" highlight hl-ipython3"><pre><span></span><span class="n">trigsimp</span><span class="p">(</span><span class="mi">2</span><span class="o">*</span><span class="n">sin</span><span class="p">(</span><span class="n">x</span><span class="p">)</span><span class="o">**</span><span class="mi">2</span><span class="o">+</span><span class="mi">3</span><span class="o">*</span><span class="n">cos</span><span class="p">(</span><span class="n">x</span><span class="p">)</span><span class="o">**</span><span class="mi">2</span><span class="p">)</span>
</pre></div>

</div>
</div>
</div>

<div class="output_wrapper">
<div class="output">


<div class="output_area">

<div class="prompt output_prompt">Out[31]:</div>




<div class="output_latex output_subarea output_execute_result">
$$\cos^{2}{\left (x \right )} + 2$$
</div>

</div>

</div>
</div>

</div>
<div class="cell border-box-sizing text_cell rendered"><div class="prompt input_prompt">
</div>
<div class="inner_cell">
<div class="text_cell_render border-box-sizing rendered_html">
<p>The function <code>expand_trig</code> expands sines and cosines of sums and multiple angles.</p>

</div>
</div>
</div>
<div class="cell border-box-sizing code_cell rendered">
<div class="input">
<div class="prompt input_prompt">In&nbsp;[32]:</div>
<div class="inner_cell">
    <div class="input_area">
<div class=" highlight hl-ipython3"><pre><span></span><span class="n">expand_trig</span><span class="p">(</span><span class="n">sin</span><span class="p">(</span><span class="n">x</span><span class="o">-</span><span class="n">y</span><span class="p">)),</span><span class="n">expand_trig</span><span class="p">(</span><span class="n">sin</span><span class="p">(</span><span class="mi">2</span><span class="o">*</span><span class="n">x</span><span class="p">))</span>
</pre></div>

</div>
</div>
</div>

<div class="output_wrapper">
<div class="output">


<div class="output_area">

<div class="prompt output_prompt">Out[32]:</div>




<div class="output_latex output_subarea output_execute_result">
$$\left ( \sin{\left (x \right )} \cos{\left (y \right )} - \sin{\left (y \right )} \cos{\left (x \right )}, \quad 2 \sin{\left (x \right )} \cos{\left (x \right )}\right )$$
</div>

</div>

</div>
</div>

</div>
<div class="cell border-box-sizing text_cell rendered"><div class="prompt input_prompt">
</div>
<div class="inner_cell">
<div class="text_cell_render border-box-sizing rendered_html">
<p>The inverse transformation, rewriting products and powers of sines and cosines into expressions linear in these functions, is needed more often. Suppose we work with a truncated Fourier series.</p>

</div>
</div>
</div>
<div class="cell border-box-sizing code_cell rendered">
<div class="input">
<div class="prompt input_prompt">In&nbsp;[33]:</div>
<div class="inner_cell">
    <div class="input_area">
<div class=" highlight hl-ipython3"><pre><span></span><span class="n">a1</span><span class="p">,</span><span class="n">a2</span><span class="p">,</span><span class="n">b1</span><span class="p">,</span><span class="n">b2</span><span class="o">=</span><span class="n">symbols</span><span class="p">(</span><span class="s1">&#39;a1 a2 b1 b2&#39;</span><span class="p">)</span>
<span class="n">a</span><span class="o">=</span><span class="n">a1</span><span class="o">*</span><span class="n">cos</span><span class="p">(</span><span class="n">x</span><span class="p">)</span><span class="o">+</span><span class="n">a2</span><span class="o">*</span><span class="n">cos</span><span class="p">(</span><span class="mi">2</span><span class="o">*</span><span class="n">x</span><span class="p">)</span><span class="o">+</span><span class="n">b1</span><span class="o">*</span><span class="n">sin</span><span class="p">(</span><span class="n">x</span><span class="p">)</span><span class="o">+</span><span class="n">b2</span><span class="o">*</span><span class="n">sin</span><span class="p">(</span><span class="mi">2</span><span class="o">*</span><span class="n">x</span><span class="p">)</span>
<span class="n">a</span>
</pre></div>

</div>
</div>
</div>

<div class="output_wrapper">
<div class="output">


<div class="output_area">

<div class="prompt output_prompt">Out[33]:</div>




<div class="output_latex output_subarea output_execute_result">
$$a_{1} \cos{\left (x \right )} + a_{2} \cos{\left (2 x \right )} + b_{1} \sin{\left (x \right )} + b_{2} \sin{\left (2 x \right )}$$
</div>

</div>

</div>
</div>

</div>
<div class="cell border-box-sizing text_cell rendered"><div class="prompt input_prompt">
</div>
<div class="inner_cell">
<div class="text_cell_render border-box-sizing rendered_html">
<p>We want to square it and get a truncated Fourier series again.</p>

</div>
</div>
</div>
<div class="cell border-box-sizing code_cell rendered">
<div class="input">
<div class="prompt input_prompt">In&nbsp;[34]:</div>
<div class="inner_cell">
    <div class="input_area">
<div class=" highlight hl-ipython3"><pre><span></span><span class="n">a</span><span class="o">=</span><span class="p">(</span><span class="n">a</span><span class="o">**</span><span class="mi">2</span><span class="p">)</span><span class="o">.</span><span class="n">rewrite</span><span class="p">(</span><span class="n">exp</span><span class="p">)</span><span class="o">.</span><span class="n">expand</span><span class="p">()</span><span class="o">.</span><span class="n">rewrite</span><span class="p">(</span><span class="n">cos</span><span class="p">)</span><span class="o">.</span><span class="n">expand</span><span class="p">()</span>
<span class="n">a</span>
</pre></div>

</div>
</div>
</div>

<div class="output_wrapper">
<div class="output">


<div class="output_area">

<div class="prompt output_prompt">Out[34]:</div>




<div class="output_latex output_subarea output_execute_result">
$$\frac{a_{1}^{2}}{2} \cos{\left (2 x \right )} + \frac{a_{1}^{2}}{2} + a_{1} a_{2} \cos{\left (x \right )} + a_{1} a_{2} \cos{\left (3 x \right )} + a_{1} b_{1} \sin{\left (2 x \right )} + a_{1} b_{2} \sin{\left (x \right )} + a_{1} b_{2} \sin{\left (3 x \right )} + \frac{a_{2}^{2}}{2} \cos{\left (4 x \right )} + \frac{a_{2}^{2}}{2} - a_{2} b_{1} \sin{\left (x \right )} + a_{2} b_{1} \sin{\left (3 x \right )} + a_{2} b_{2} \sin{\left (4 x \right )} - \frac{b_{1}^{2}}{2} \cos{\left (2 x \right )} + \frac{b_{1}^{2}}{2} + b_{1} b_{2} \cos{\left (x \right )} - b_{1} b_{2} \cos{\left (3 x \right )} - \frac{b_{2}^{2}}{2} \cos{\left (4 x \right )} + \frac{b_{2}^{2}}{2}$$
</div>

</div>

</div>
</div>

</div>
<div class="cell border-box-sizing code_cell rendered">
<div class="input">
<div class="prompt input_prompt">In&nbsp;[35]:</div>
<div class="inner_cell">
    <div class="input_area">
<div class=" highlight hl-ipython3"><pre><span></span><span class="n">a</span><span class="o">.</span><span class="n">collect</span><span class="p">([</span><span class="n">cos</span><span class="p">(</span><span class="n">x</span><span class="p">),</span><span class="n">cos</span><span class="p">(</span><span class="mi">2</span><span class="o">*</span><span class="n">x</span><span class="p">),</span><span class="n">cos</span><span class="p">(</span><span class="mi">3</span><span class="o">*</span><span class="n">x</span><span class="p">),</span><span class="n">sin</span><span class="p">(</span><span class="n">x</span><span class="p">),</span><span class="n">sin</span><span class="p">(</span><span class="mi">2</span><span class="o">*</span><span class="n">x</span><span class="p">),</span><span class="n">sin</span><span class="p">(</span><span class="mi">3</span><span class="o">*</span><span class="n">x</span><span class="p">)])</span>
</pre></div>

</div>
</div>
</div>

<div class="output_wrapper">
<div class="output">


<div class="output_area">

<div class="prompt output_prompt">Out[35]:</div>




<div class="output_latex output_subarea output_execute_result">
$$\frac{a_{1}^{2}}{2} + a_{1} b_{1} \sin{\left (2 x \right )} + \frac{a_{2}^{2}}{2} \cos{\left (4 x \right )} + \frac{a_{2}^{2}}{2} + a_{2} b_{2} \sin{\left (4 x \right )} + \frac{b_{1}^{2}}{2} - \frac{b_{2}^{2}}{2} \cos{\left (4 x \right )} + \frac{b_{2}^{2}}{2} + \left(\frac{a_{1}^{2}}{2} - \frac{b_{1}^{2}}{2}\right) \cos{\left (2 x \right )} + \left(a_{1} a_{2} - b_{1} b_{2}\right) \cos{\left (3 x \right )} + \left(a_{1} a_{2} + b_{1} b_{2}\right) \cos{\left (x \right )} + \left(a_{1} b_{2} - a_{2} b_{1}\right) \sin{\left (x \right )} + \left(a_{1} b_{2} + a_{2} b_{1}\right) \sin{\left (3 x \right )}$$
</div>

</div>

</div>
</div>

</div>
<div class="cell border-box-sizing text_cell rendered"><div class="prompt input_prompt">
</div>
<div class="inner_cell">
<div class="text_cell_render border-box-sizing rendered_html">
<p>The function <code>expand_log</code> transforms logarithms of products and powers (of positive quantities) into sums of logarithms; <code>logcombine</code> performs the inverse transformation.</p>

</div>
</div>
</div>
<div class="cell border-box-sizing code_cell rendered">
<div class="input">
<div class="prompt input_prompt">In&nbsp;[36]:</div>
<div class="inner_cell">
    <div class="input_area">
<div class=" highlight hl-ipython3"><pre><span></span><span class="n">a</span><span class="o">=</span><span class="n">expand_log</span><span class="p">(</span><span class="n">log</span><span class="p">(</span><span class="n">p</span><span class="o">*</span><span class="n">q</span><span class="o">**</span><span class="mi">2</span><span class="p">))</span>
<span class="n">a</span>
</pre></div>

</div>
</div>
</div>

<div class="output_wrapper">
<div class="output">


<div class="output_area">

<div class="prompt output_prompt">Out[36]:</div>




<div class="output_latex output_subarea output_execute_result">
$$\log{\left (p \right )} + 2 \log{\left (q \right )}$$
</div>

</div>

</div>
</div>

</div>
<div class="cell border-box-sizing code_cell rendered">
<div class="input">
<div class="prompt input_prompt">In&nbsp;[37]:</div>
<div class="inner_cell">
    <div class="input_area">
<div class=" highlight hl-ipython3"><pre><span></span><span class="n">logcombine</span><span class="p">(</span><span class="n">a</span><span class="p">)</span>
</pre></div>

</div>
</div>
</div>

<div class="output_wrapper">
<div class="output">


<div class="output_area">

<div class="prompt output_prompt">Out[37]:</div>




<div class="output_latex output_subarea output_execute_result">
$$\log{\left (p q^{2} \right )}$$
</div>

</div>

</div>
</div>

</div>
<div class="cell border-box-sizing text_cell rendered"><div class="prompt input_prompt">
</div>
<div class="inner_cell">
<div class="text_cell_render border-box-sizing rendered_html">
<p>The function <code>expand_power_exp</code> rewrites powers whose exponents are sums via products of powers.</p>

</div>
</div>
</div>
<div class="cell border-box-sizing code_cell rendered">
<div class="input">
<div class="prompt input_prompt">In&nbsp;[38]:</div>
<div class="inner_cell">
    <div class="input_area">
<div class=" highlight hl-ipython3"><pre><span></span><span class="n">expand_power_exp</span><span class="p">(</span><span class="n">x</span><span class="o">**</span><span class="p">(</span><span class="n">p</span><span class="o">+</span><span class="n">q</span><span class="p">))</span>
</pre></div>

</div>
</div>
</div>

<div class="output_wrapper">
<div class="output">


<div class="output_area">

<div class="prompt output_prompt">Out[38]:</div>




<div class="output_latex output_subarea output_execute_result">
$$x^{p} x^{q}$$
</div>

</div>

</div>
</div>

</div>
<div class="cell border-box-sizing text_cell rendered"><div class="prompt input_prompt">
</div>
<div class="inner_cell">
<div class="text_cell_render border-box-sizing rendered_html">
<p>The function <code>expand_power_base</code> rewrites powers whose bases are products via products of powers.</p>

</div>
</div>
</div>
<div class="cell border-box-sizing code_cell rendered">
<div class="input">
<div class="prompt input_prompt">In&nbsp;[39]:</div>
<div class="inner_cell">
    <div class="input_area">
<div class=" highlight hl-ipython3"><pre><span></span><span class="n">expand_power_base</span><span class="p">((</span><span class="n">x</span><span class="o">*</span><span class="n">y</span><span class="p">)</span><span class="o">**</span><span class="n">n</span><span class="p">)</span>
</pre></div>

</div>
</div>
</div>

<div class="output_wrapper">
<div class="output">


<div class="output_area">

<div class="prompt output_prompt">Out[39]:</div>




<div class="output_latex output_subarea output_execute_result">
$$x^{n} y^{n}$$
</div>

</div>

</div>
</div>

</div>
<div class="cell border-box-sizing text_cell rendered"><div class="prompt input_prompt">
</div>
<div class="inner_cell">
<div class="text_cell_render border-box-sizing rendered_html">
<p>The function <code>powsimp</code> performs the inverse transformations.</p>

</div>
</div>
</div>
<div class="cell border-box-sizing code_cell rendered">
<div class="input">
<div class="prompt input_prompt">In&nbsp;[40]:</div>
<div class="inner_cell">
    <div class="input_area">
<div class=" highlight hl-ipython3"><pre><span></span><span class="n">powsimp</span><span class="p">(</span><span class="n">exp</span><span class="p">(</span><span class="n">x</span><span class="p">)</span><span class="o">*</span><span class="n">exp</span><span class="p">(</span><span class="mi">2</span><span class="o">*</span><span class="n">y</span><span class="p">)),</span><span class="n">powsimp</span><span class="p">(</span><span class="n">x</span><span class="o">**</span><span class="n">n</span><span class="o">*</span><span class="n">y</span><span class="o">**</span><span class="n">n</span><span class="p">)</span>
</pre></div>

</div>
</div>
</div>

<div class="output_wrapper">
<div class="output">


<div class="output_area">

<div class="prompt output_prompt">Out[40]:</div>




<div class="output_latex output_subarea output_execute_result">
$$\left ( e^{x + 2 y}, \quad \left(x y\right)^{n}\right )$$
</div>

</div>

</div>
</div>

</div>
<div class="cell border-box-sizing text_cell rendered"><div class="prompt input_prompt">
</div>
<div class="inner_cell">
<div class="text_cell_render border-box-sizing rendered_html">
<p>New symbolic functions can be introduced. They may have an arbitrary numbers of arguments.</p>

</div>
</div>
</div>
<div class="cell border-box-sizing code_cell rendered">
<div class="input">
<div class="prompt input_prompt">In&nbsp;[41]:</div>
<div class="inner_cell">
    <div class="input_area">
<div class=" highlight hl-ipython3"><pre><span></span><span class="n">f</span><span class="o">=</span><span class="n">Function</span><span class="p">(</span><span class="s1">&#39;f&#39;</span><span class="p">)</span>
<span class="n">f</span><span class="p">(</span><span class="n">x</span><span class="p">)</span><span class="o">+</span><span class="n">f</span><span class="p">(</span><span class="n">x</span><span class="p">,</span><span class="n">y</span><span class="p">)</span>
</pre></div>

</div>
</div>
</div>

<div class="output_wrapper">
<div class="output">


<div class="output_area">

<div class="prompt output_prompt">Out[41]:</div>




<div class="output_latex output_subarea output_execute_result">
$$f{\left (x \right )} + f{\left (x,y \right )}$$
</div>

</div>

</div>
</div>

</div>
<div class="cell border-box-sizing text_cell rendered"><div class="prompt input_prompt">
</div>
<div class="inner_cell">
<div class="text_cell_render border-box-sizing rendered_html">
<h2 id="Expression-structure">Expression structure<a class="anchor-link" href="#Expression-structure">&#182;</a></h2><p>Internally expressions are are trees. The function <code>srepr</code> returns a string representing this tree.</p>

</div>
</div>
</div>
<div class="cell border-box-sizing code_cell rendered">
<div class="input">
<div class="prompt input_prompt">In&nbsp;[42]:</div>
<div class="inner_cell">
    <div class="input_area">
<div class=" highlight hl-ipython3"><pre><span></span><span class="n">srepr</span><span class="p">(</span><span class="n">x</span><span class="o">+</span><span class="mi">1</span><span class="p">)</span>
</pre></div>

</div>
</div>
</div>

<div class="output_wrapper">
<div class="output">


<div class="output_area">

<div class="prompt output_prompt">Out[42]:</div>




<div class="output_text output_subarea output_execute_result">
<pre>&#34;Add(Symbol(&#39;x&#39;), Integer(1))&#34;</pre>
</div>

</div>

</div>
</div>

</div>
<div class="cell border-box-sizing code_cell rendered">
<div class="input">
<div class="prompt input_prompt">In&nbsp;[43]:</div>
<div class="inner_cell">
    <div class="input_area">
<div class=" highlight hl-ipython3"><pre><span></span><span class="n">srepr</span><span class="p">(</span><span class="n">x</span><span class="o">-</span><span class="mi">1</span><span class="p">)</span>
</pre></div>

</div>
</div>
</div>

<div class="output_wrapper">
<div class="output">


<div class="output_area">

<div class="prompt output_prompt">Out[43]:</div>




<div class="output_text output_subarea output_execute_result">
<pre>&#34;Add(Symbol(&#39;x&#39;), Integer(-1))&#34;</pre>
</div>

</div>

</div>
</div>

</div>
<div class="cell border-box-sizing code_cell rendered">
<div class="input">
<div class="prompt input_prompt">In&nbsp;[44]:</div>
<div class="inner_cell">
    <div class="input_area">
<div class=" highlight hl-ipython3"><pre><span></span><span class="n">srepr</span><span class="p">(</span><span class="n">x</span><span class="o">-</span><span class="n">y</span><span class="p">)</span>
</pre></div>

</div>
</div>
</div>

<div class="output_wrapper">
<div class="output">


<div class="output_area">

<div class="prompt output_prompt">Out[44]:</div>




<div class="output_text output_subarea output_execute_result">
<pre>&#34;Add(Symbol(&#39;x&#39;), Mul(Integer(-1), Symbol(&#39;y&#39;)))&#34;</pre>
</div>

</div>

</div>
</div>

</div>
<div class="cell border-box-sizing code_cell rendered">
<div class="input">
<div class="prompt input_prompt">In&nbsp;[45]:</div>
<div class="inner_cell">
    <div class="input_area">
<div class=" highlight hl-ipython3"><pre><span></span><span class="n">srepr</span><span class="p">(</span><span class="mi">2</span><span class="o">*</span><span class="n">x</span><span class="o">*</span><span class="n">y</span><span class="o">/</span><span class="mi">3</span><span class="p">)</span>
</pre></div>

</div>
</div>
</div>

<div class="output_wrapper">
<div class="output">


<div class="output_area">

<div class="prompt output_prompt">Out[45]:</div>




<div class="output_text output_subarea output_execute_result">
<pre>&#34;Mul(Rational(2, 3), Symbol(&#39;x&#39;), Symbol(&#39;y&#39;))&#34;</pre>
</div>

</div>

</div>
</div>

</div>
<div class="cell border-box-sizing code_cell rendered">
<div class="input">
<div class="prompt input_prompt">In&nbsp;[46]:</div>
<div class="inner_cell">
    <div class="input_area">
<div class=" highlight hl-ipython3"><pre><span></span><span class="n">srepr</span><span class="p">(</span><span class="n">x</span><span class="o">/</span><span class="n">y</span><span class="p">)</span>
</pre></div>

</div>
</div>
</div>

<div class="output_wrapper">
<div class="output">


<div class="output_area">

<div class="prompt output_prompt">Out[46]:</div>




<div class="output_text output_subarea output_execute_result">
<pre>&#34;Mul(Symbol(&#39;x&#39;), Pow(Symbol(&#39;y&#39;), Integer(-1)))&#34;</pre>
</div>

</div>

</div>
</div>

</div>
<div class="cell border-box-sizing text_cell rendered"><div class="prompt input_prompt">
</div>
<div class="inner_cell">
<div class="text_cell_render border-box-sizing rendered_html">
<p>One may use the functions <code>Add</code>, <code>Mul</code>, <code>Pow</code>, etc. instead of the binary operations <code>+</code>, <code>*</code>, <code>**</code>, etc.</p>

</div>
</div>
</div>
<div class="cell border-box-sizing code_cell rendered">
<div class="input">
<div class="prompt input_prompt">In&nbsp;[47]:</div>
<div class="inner_cell">
    <div class="input_area">
<div class=" highlight hl-ipython3"><pre><span></span><span class="n">Mul</span><span class="p">(</span><span class="n">x</span><span class="p">,</span><span class="n">Pow</span><span class="p">(</span><span class="n">y</span><span class="p">,</span><span class="o">-</span><span class="mi">1</span><span class="p">))</span>
</pre></div>

</div>
</div>
</div>

<div class="output_wrapper">
<div class="output">


<div class="output_area">

<div class="prompt output_prompt">Out[47]:</div>




<div class="output_latex output_subarea output_execute_result">
$$\frac{x}{y}$$
</div>

</div>

</div>
</div>

</div>
<div class="cell border-box-sizing code_cell rendered">
<div class="input">
<div class="prompt input_prompt">In&nbsp;[48]:</div>
<div class="inner_cell">
    <div class="input_area">
<div class=" highlight hl-ipython3"><pre><span></span><span class="n">srepr</span><span class="p">(</span><span class="n">f</span><span class="p">(</span><span class="n">x</span><span class="p">,</span><span class="n">y</span><span class="p">))</span>
</pre></div>

</div>
</div>
</div>

<div class="output_wrapper">
<div class="output">


<div class="output_area">

<div class="prompt output_prompt">Out[48]:</div>




<div class="output_text output_subarea output_execute_result">
<pre>&#34;Function(&#39;f&#39;)(Symbol(&#39;x&#39;), Symbol(&#39;y&#39;))&#34;</pre>
</div>

</div>

</div>
</div>

</div>
<div class="cell border-box-sizing text_cell rendered"><div class="prompt input_prompt">
</div>
<div class="inner_cell">
<div class="text_cell_render border-box-sizing rendered_html">
<p>The attribute <code>func</code> is the top-level function of an expression, and <code>args</code> is the list of its agruments.</p>

</div>
</div>
</div>
<div class="cell border-box-sizing code_cell rendered">
<div class="input">
<div class="prompt input_prompt">In&nbsp;[49]:</div>
<div class="inner_cell">
    <div class="input_area">
<div class=" highlight hl-ipython3"><pre><span></span><span class="n">a</span><span class="o">=</span><span class="mi">2</span><span class="o">*</span><span class="n">x</span><span class="o">*</span><span class="n">y</span><span class="o">**</span><span class="mi">2</span>
<span class="n">a</span><span class="o">.</span><span class="n">func</span>
</pre></div>

</div>
</div>
</div>

<div class="output_wrapper">
<div class="output">


<div class="output_area">

<div class="prompt output_prompt">Out[49]:</div>




<div class="output_text output_subarea output_execute_result">
<pre>sympy.core.mul.Mul</pre>
</div>

</div>

</div>
</div>

</div>
<div class="cell border-box-sizing code_cell rendered">
<div class="input">
<div class="prompt input_prompt">In&nbsp;[50]:</div>
<div class="inner_cell">
    <div class="input_area">
<div class=" highlight hl-ipython3"><pre><span></span><span class="n">a</span><span class="o">.</span><span class="n">args</span>
</pre></div>

</div>
</div>
</div>

<div class="output_wrapper">
<div class="output">


<div class="output_area">

<div class="prompt output_prompt">Out[50]:</div>




<div class="output_latex output_subarea output_execute_result">
$$\left ( 2, \quad x, \quad y^{2}\right )$$
</div>

</div>

</div>
</div>

</div>
<div class="cell border-box-sizing code_cell rendered">
<div class="input">
<div class="prompt input_prompt">In&nbsp;[51]:</div>
<div class="inner_cell">
    <div class="input_area">
<div class=" highlight hl-ipython3"><pre><span></span><span class="k">for</span> <span class="n">i</span> <span class="ow">in</span> <span class="n">a</span><span class="o">.</span><span class="n">args</span><span class="p">:</span>
    <span class="nb">print</span><span class="p">(</span><span class="n">i</span><span class="p">)</span>
</pre></div>

</div>
</div>
</div>

<div class="output_wrapper">
<div class="output">


<div class="output_area">

<div class="prompt"></div>


<div class="output_subarea output_stream output_stdout output_text">
<pre>2
x
y**2
</pre>
</div>
</div>

</div>
</div>

</div>
<div class="cell border-box-sizing text_cell rendered"><div class="prompt input_prompt">
</div>
<div class="inner_cell">
<div class="text_cell_render border-box-sizing rendered_html">
<p>The function <code>subs</code> substitutes an expression for a symbol.</p>

</div>
</div>
</div>
<div class="cell border-box-sizing code_cell rendered">
<div class="input">
<div class="prompt input_prompt">In&nbsp;[52]:</div>
<div class="inner_cell">
    <div class="input_area">
<div class=" highlight hl-ipython3"><pre><span></span><span class="n">a</span><span class="o">.</span><span class="n">subs</span><span class="p">(</span><span class="n">y</span><span class="p">,</span><span class="mi">2</span><span class="p">)</span>
</pre></div>

</div>
</div>
</div>

<div class="output_wrapper">
<div class="output">


<div class="output_area">

<div class="prompt output_prompt">Out[52]:</div>




<div class="output_latex output_subarea output_execute_result">
$$8 x$$
</div>

</div>

</div>
</div>

</div>
<div class="cell border-box-sizing text_cell rendered"><div class="prompt input_prompt">
</div>
<div class="inner_cell">
<div class="text_cell_render border-box-sizing rendered_html">
<p>It can perform substitutions for several symbols. To this end, one calls it with a list of tuples or a dictionary.</p>

</div>
</div>
</div>
<div class="cell border-box-sizing code_cell rendered">
<div class="input">
<div class="prompt input_prompt">In&nbsp;[53]:</div>
<div class="inner_cell">
    <div class="input_area">
<div class=" highlight hl-ipython3"><pre><span></span><span class="n">a</span><span class="o">.</span><span class="n">subs</span><span class="p">([(</span><span class="n">x</span><span class="p">,</span><span class="n">pi</span><span class="p">),(</span><span class="n">y</span><span class="p">,</span><span class="mi">2</span><span class="p">)])</span>
</pre></div>

</div>
</div>
</div>

<div class="output_wrapper">
<div class="output">


<div class="output_area">

<div class="prompt output_prompt">Out[53]:</div>




<div class="output_latex output_subarea output_execute_result">
$$8 \pi$$
</div>

</div>

</div>
</div>

</div>
<div class="cell border-box-sizing code_cell rendered">
<div class="input">
<div class="prompt input_prompt">In&nbsp;[54]:</div>
<div class="inner_cell">
    <div class="input_area">
<div class=" highlight hl-ipython3"><pre><span></span><span class="n">a</span><span class="o">.</span><span class="n">subs</span><span class="p">({</span><span class="n">x</span><span class="p">:</span><span class="n">pi</span><span class="p">,</span><span class="n">y</span><span class="p">:</span><span class="mi">2</span><span class="p">})</span>
</pre></div>

</div>
</div>
</div>

<div class="output_wrapper">
<div class="output">


<div class="output_area">

<div class="prompt output_prompt">Out[54]:</div>




<div class="output_latex output_subarea output_execute_result">
$$8 \pi$$
</div>

</div>

</div>
</div>

</div>
<div class="cell border-box-sizing text_cell rendered"><div class="prompt input_prompt">
</div>
<div class="inner_cell">
<div class="text_cell_render border-box-sizing rendered_html">
<p>It can substitute not only for a symbol but also for a subexpression - a function with arguments.</p>

</div>
</div>
</div>
<div class="cell border-box-sizing code_cell rendered">
<div class="input">
<div class="prompt input_prompt">In&nbsp;[55]:</div>
<div class="inner_cell">
    <div class="input_area">
<div class=" highlight hl-ipython3"><pre><span></span><span class="n">a</span><span class="o">=</span><span class="n">f</span><span class="p">(</span><span class="n">x</span><span class="p">)</span><span class="o">+</span><span class="n">f</span><span class="p">(</span><span class="n">y</span><span class="p">)</span>
<span class="n">a</span><span class="o">.</span><span class="n">subs</span><span class="p">(</span><span class="n">f</span><span class="p">(</span><span class="n">y</span><span class="p">),</span><span class="mi">1</span><span class="p">)</span>
</pre></div>

</div>
</div>
</div>

<div class="output_wrapper">
<div class="output">


<div class="output_area">

<div class="prompt output_prompt">Out[55]:</div>




<div class="output_latex output_subarea output_execute_result">
$$f{\left (x \right )} + 1$$
</div>

</div>

</div>
</div>

</div>
<div class="cell border-box-sizing code_cell rendered">
<div class="input">
<div class="prompt input_prompt">In&nbsp;[56]:</div>
<div class="inner_cell">
    <div class="input_area">
<div class=" highlight hl-ipython3"><pre><span></span><span class="p">(</span><span class="mi">2</span><span class="o">*</span><span class="n">x</span><span class="o">*</span><span class="n">y</span><span class="o">*</span><span class="n">z</span><span class="p">)</span><span class="o">.</span><span class="n">subs</span><span class="p">(</span><span class="n">x</span><span class="o">*</span><span class="n">y</span><span class="p">,</span><span class="n">z</span><span class="p">)</span>
</pre></div>

</div>
</div>
</div>

<div class="output_wrapper">
<div class="output">


<div class="output_area">

<div class="prompt output_prompt">Out[56]:</div>




<div class="output_latex output_subarea output_execute_result">
$$2 z^{2}$$
</div>

</div>

</div>
</div>

</div>
<div class="cell border-box-sizing code_cell rendered">
<div class="input">
<div class="prompt input_prompt">In&nbsp;[57]:</div>
<div class="inner_cell">
    <div class="input_area">
<div class=" highlight hl-ipython3"><pre><span></span><span class="p">(</span><span class="n">x</span><span class="o">+</span><span class="n">x</span><span class="o">**</span><span class="mi">2</span><span class="o">+</span><span class="n">x</span><span class="o">**</span><span class="mi">3</span><span class="o">+</span><span class="n">x</span><span class="o">**</span><span class="mi">4</span><span class="p">)</span><span class="o">.</span><span class="n">subs</span><span class="p">(</span><span class="n">x</span><span class="o">**</span><span class="mi">2</span><span class="p">,</span><span class="n">y</span><span class="p">)</span>
</pre></div>

</div>
</div>
</div>

<div class="output_wrapper">
<div class="output">


<div class="output_area">

<div class="prompt output_prompt">Out[57]:</div>




<div class="output_latex output_subarea output_execute_result">
$$x^{3} + x + y^{2} + y$$
</div>

</div>

</div>
</div>

</div>
<div class="cell border-box-sizing text_cell rendered"><div class="prompt input_prompt">
</div>
<div class="inner_cell">
<div class="text_cell_render border-box-sizing rendered_html">
<p>Substitutions are performed sequentially. In this case, first $x$ is replaced by $y$ producing $y^3+y^2$; then $y$ is replaced by $x$ in this result.</p>

</div>
</div>
</div>
<div class="cell border-box-sizing code_cell rendered">
<div class="input">
<div class="prompt input_prompt">In&nbsp;[58]:</div>
<div class="inner_cell">
    <div class="input_area">
<div class=" highlight hl-ipython3"><pre><span></span><span class="n">a</span><span class="o">=</span><span class="n">x</span><span class="o">**</span><span class="mi">2</span><span class="o">+</span><span class="n">y</span><span class="o">**</span><span class="mi">3</span>
<span class="n">a</span><span class="o">.</span><span class="n">subs</span><span class="p">([(</span><span class="n">x</span><span class="p">,</span><span class="n">y</span><span class="p">),(</span><span class="n">y</span><span class="p">,</span><span class="n">x</span><span class="p">)])</span>
</pre></div>

</div>
</div>
</div>

<div class="output_wrapper">
<div class="output">


<div class="output_area">

<div class="prompt output_prompt">Out[58]:</div>




<div class="output_latex output_subarea output_execute_result">
$$x^{3} + x^{2}$$
</div>

</div>

</div>
</div>

</div>
<div class="cell border-box-sizing text_cell rendered"><div class="prompt input_prompt">
</div>
<div class="inner_cell">
<div class="text_cell_render border-box-sizing rendered_html">
<p>Interchanging these substitutions leads to a different result.</p>

</div>
</div>
</div>
<div class="cell border-box-sizing code_cell rendered">
<div class="input">
<div class="prompt input_prompt">In&nbsp;[59]:</div>
<div class="inner_cell">
    <div class="input_area">
<div class=" highlight hl-ipython3"><pre><span></span><span class="n">a</span><span class="o">.</span><span class="n">subs</span><span class="p">([(</span><span class="n">y</span><span class="p">,</span><span class="n">x</span><span class="p">),(</span><span class="n">x</span><span class="p">,</span><span class="n">y</span><span class="p">)])</span>
</pre></div>

</div>
</div>
</div>

<div class="output_wrapper">
<div class="output">


<div class="output_area">

<div class="prompt output_prompt">Out[59]:</div>




<div class="output_latex output_subarea output_execute_result">
$$y^{3} + y^{2}$$
</div>

</div>

</div>
</div>

</div>
<div class="cell border-box-sizing text_cell rendered"><div class="prompt input_prompt">
</div>
<div class="inner_cell">
<div class="text_cell_render border-box-sizing rendered_html">
<p>But if one calls <code>subs</code> with the keyword parameter <code>simultaneous=True</code>, all substitutions are preformed simultaneously. In this way one can, e.g., interchange $x$ and $y$.</p>

</div>
</div>
</div>
<div class="cell border-box-sizing code_cell rendered">
<div class="input">
<div class="prompt input_prompt">In&nbsp;[60]:</div>
<div class="inner_cell">
    <div class="input_area">
<div class=" highlight hl-ipython3"><pre><span></span><span class="n">a</span><span class="o">.</span><span class="n">subs</span><span class="p">([(</span><span class="n">x</span><span class="p">,</span><span class="n">y</span><span class="p">),(</span><span class="n">y</span><span class="p">,</span><span class="n">x</span><span class="p">)],</span><span class="n">simultaneous</span><span class="o">=</span><span class="kc">True</span><span class="p">)</span>
</pre></div>

</div>
</div>
</div>

<div class="output_wrapper">
<div class="output">


<div class="output_area">

<div class="prompt output_prompt">Out[60]:</div>




<div class="output_latex output_subarea output_execute_result">
$$x^{3} + y^{2}$$
</div>

</div>

</div>
</div>

</div>
<div class="cell border-box-sizing text_cell rendered"><div class="prompt input_prompt">
</div>
<div class="inner_cell">
<div class="text_cell_render border-box-sizing rendered_html">
<p>A function can be replaced by another function.</p>

</div>
</div>
</div>
<div class="cell border-box-sizing code_cell rendered">
<div class="input">
<div class="prompt input_prompt">In&nbsp;[61]:</div>
<div class="inner_cell">
    <div class="input_area">
<div class=" highlight hl-ipython3"><pre><span></span><span class="n">g</span><span class="o">=</span><span class="n">Function</span><span class="p">(</span><span class="s1">&#39;g&#39;</span><span class="p">)</span>
<span class="n">a</span><span class="o">=</span><span class="n">f</span><span class="p">(</span><span class="n">x</span><span class="p">)</span><span class="o">+</span><span class="n">f</span><span class="p">(</span><span class="n">y</span><span class="p">)</span>
<span class="n">a</span><span class="o">.</span><span class="n">subs</span><span class="p">(</span><span class="n">f</span><span class="p">,</span><span class="n">g</span><span class="p">)</span>
</pre></div>

</div>
</div>
</div>

<div class="output_wrapper">
<div class="output">


<div class="output_area">

<div class="prompt output_prompt">Out[61]:</div>




<div class="output_latex output_subarea output_execute_result">
$$g{\left (x \right )} + g{\left (y \right )}$$
</div>

</div>

</div>
</div>

</div>
<div class="cell border-box-sizing text_cell rendered"><div class="prompt input_prompt">
</div>
<div class="inner_cell">
<div class="text_cell_render border-box-sizing rendered_html">
<p>The method <code>replace</code> searches for subexpressions matching a pattern (with wildcards) and replaces them by a given expression.</p>

</div>
</div>
</div>
<div class="cell border-box-sizing code_cell rendered">
<div class="input">
<div class="prompt input_prompt">In&nbsp;[62]:</div>
<div class="inner_cell">
    <div class="input_area">
<div class=" highlight hl-ipython3"><pre><span></span><span class="n">a</span><span class="o">=</span><span class="n">Wild</span><span class="p">(</span><span class="s1">&#39;a&#39;</span><span class="p">)</span>
<span class="p">(</span><span class="n">f</span><span class="p">(</span><span class="n">x</span><span class="p">)</span><span class="o">+</span><span class="n">f</span><span class="p">(</span><span class="n">x</span><span class="o">+</span><span class="n">y</span><span class="p">))</span><span class="o">.</span><span class="n">replace</span><span class="p">(</span><span class="n">f</span><span class="p">(</span><span class="n">a</span><span class="p">),</span><span class="n">a</span><span class="o">**</span><span class="mi">2</span><span class="p">)</span>
</pre></div>

</div>
</div>
</div>

<div class="output_wrapper">
<div class="output">


<div class="output_area">

<div class="prompt output_prompt">Out[62]:</div>




<div class="output_latex output_subarea output_execute_result">
$$x^{2} + \left(x + y\right)^{2}$$
</div>

</div>

</div>
</div>

</div>
<div class="cell border-box-sizing code_cell rendered">
<div class="input">
<div class="prompt input_prompt">In&nbsp;[63]:</div>
<div class="inner_cell">
    <div class="input_area">
<div class=" highlight hl-ipython3"><pre><span></span><span class="p">(</span><span class="n">f</span><span class="p">(</span><span class="n">x</span><span class="p">,</span><span class="n">x</span><span class="p">)</span><span class="o">+</span><span class="n">f</span><span class="p">(</span><span class="n">x</span><span class="p">,</span><span class="n">y</span><span class="p">))</span><span class="o">.</span><span class="n">replace</span><span class="p">(</span><span class="n">f</span><span class="p">(</span><span class="n">a</span><span class="p">,</span><span class="n">a</span><span class="p">),</span><span class="n">a</span><span class="o">**</span><span class="mi">2</span><span class="p">)</span>
</pre></div>

</div>
</div>
</div>

<div class="output_wrapper">
<div class="output">


<div class="output_area">

<div class="prompt output_prompt">Out[63]:</div>




<div class="output_latex output_subarea output_execute_result">
$$x^{2} + f{\left (x,y \right )}$$
</div>

</div>

</div>
</div>

</div>
<div class="cell border-box-sizing code_cell rendered">
<div class="input">
<div class="prompt input_prompt">In&nbsp;[64]:</div>
<div class="inner_cell">
    <div class="input_area">
<div class=" highlight hl-ipython3"><pre><span></span><span class="n">a</span><span class="o">=</span><span class="n">x</span><span class="o">**</span><span class="mi">2</span><span class="o">+</span><span class="n">y</span><span class="o">**</span><span class="mi">2</span>
<span class="n">a</span><span class="o">.</span><span class="n">replace</span><span class="p">(</span><span class="n">x</span><span class="p">,</span><span class="n">x</span><span class="o">+</span><span class="mi">1</span><span class="p">)</span>
</pre></div>

</div>
</div>
</div>

<div class="output_wrapper">
<div class="output">


<div class="output_area">

<div class="prompt output_prompt">Out[64]:</div>




<div class="output_latex output_subarea output_execute_result">
$$y^{2} + \left(x + 1\right)^{2}$$
</div>

</div>

</div>
</div>

</div>
<div class="cell border-box-sizing text_cell rendered"><div class="prompt input_prompt">
</div>
<div class="inner_cell">
<div class="text_cell_render border-box-sizing rendered_html">
<p>Only a complete subtree can match a pattern, not a subset of factors in a product or a smaller power in a larger one.</p>

</div>
</div>
</div>
<div class="cell border-box-sizing code_cell rendered">
<div class="input">
<div class="prompt input_prompt">In&nbsp;[65]:</div>
<div class="inner_cell">
    <div class="input_area">
<div class=" highlight hl-ipython3"><pre><span></span><span class="n">a</span><span class="o">=</span><span class="mi">2</span><span class="o">*</span><span class="n">x</span><span class="o">*</span><span class="n">y</span><span class="o">*</span><span class="n">z</span>
<span class="n">a</span><span class="o">.</span><span class="n">replace</span><span class="p">(</span><span class="n">x</span><span class="o">*</span><span class="n">y</span><span class="p">,</span><span class="n">z</span><span class="p">)</span>
</pre></div>

</div>
</div>
</div>

<div class="output_wrapper">
<div class="output">


<div class="output_area">

<div class="prompt output_prompt">Out[65]:</div>




<div class="output_latex output_subarea output_execute_result">
$$2 x y z$$
</div>

</div>

</div>
</div>

</div>
<div class="cell border-box-sizing code_cell rendered">
<div class="input">
<div class="prompt input_prompt">In&nbsp;[66]:</div>
<div class="inner_cell">
    <div class="input_area">
<div class=" highlight hl-ipython3"><pre><span></span><span class="p">(</span><span class="n">x</span><span class="o">+</span><span class="n">x</span><span class="o">**</span><span class="mi">2</span><span class="o">+</span><span class="n">x</span><span class="o">**</span><span class="mi">3</span><span class="o">+</span><span class="n">x</span><span class="o">**</span><span class="mi">4</span><span class="p">)</span><span class="o">.</span><span class="n">replace</span><span class="p">(</span><span class="n">x</span><span class="o">**</span><span class="mi">2</span><span class="p">,</span><span class="n">y</span><span class="p">)</span>
</pre></div>

</div>
</div>
</div>

<div class="output_wrapper">
<div class="output">


<div class="output_area">

<div class="prompt output_prompt">Out[66]:</div>




<div class="output_latex output_subarea output_execute_result">
$$x^{4} + x^{3} + x + y$$
</div>

</div>

</div>
</div>

</div>
<div class="cell border-box-sizing text_cell rendered"><div class="prompt input_prompt">
</div>
<div class="inner_cell">
<div class="text_cell_render border-box-sizing rendered_html">
<h2 id="Solving-equations">Solving equations<a class="anchor-link" href="#Solving-equations">&#182;</a></h2>
</div>
</div>
</div>
<div class="cell border-box-sizing code_cell rendered">
<div class="input">
<div class="prompt input_prompt">In&nbsp;[67]:</div>
<div class="inner_cell">
    <div class="input_area">
<div class=" highlight hl-ipython3"><pre><span></span><span class="n">a</span><span class="p">,</span><span class="n">b</span><span class="p">,</span><span class="n">c</span><span class="p">,</span><span class="n">d</span><span class="p">,</span><span class="n">e</span><span class="p">,</span><span class="n">f</span><span class="o">=</span><span class="n">symbols</span><span class="p">(</span><span class="s1">&#39;a b c d e f&#39;</span><span class="p">)</span>
</pre></div>

</div>
</div>
</div>

</div>
<div class="cell border-box-sizing text_cell rendered"><div class="prompt input_prompt">
</div>
<div class="inner_cell">
<div class="text_cell_render border-box-sizing rendered_html">
<p>An equation is represented by the function <code>Eq</code> with two arguments. The function <code>solve</code> returns a list of solutions.</p>

</div>
</div>
</div>
<div class="cell border-box-sizing code_cell rendered">
<div class="input">
<div class="prompt input_prompt">In&nbsp;[68]:</div>
<div class="inner_cell">
    <div class="input_area">
<div class=" highlight hl-ipython3"><pre><span></span><span class="n">solve</span><span class="p">(</span><span class="n">Eq</span><span class="p">(</span><span class="n">a</span><span class="o">*</span><span class="n">x</span><span class="p">,</span><span class="n">b</span><span class="p">),</span><span class="n">x</span><span class="p">)</span>
</pre></div>

</div>
</div>
</div>

<div class="output_wrapper">
<div class="output">


<div class="output_area">

<div class="prompt output_prompt">Out[68]:</div>




<div class="output_latex output_subarea output_execute_result">
$$\left [ \frac{b}{a}\right ]$$
</div>

</div>

</div>
</div>

</div>
<div class="cell border-box-sizing text_cell rendered"><div class="prompt input_prompt">
</div>
<div class="inner_cell">
<div class="text_cell_render border-box-sizing rendered_html">
<p>Instead of equations, one may pass just expressions to <code>solve</code>;
they mean equations <code>&lt;expression&gt;=0</code>.</p>

</div>
</div>
</div>
<div class="cell border-box-sizing code_cell rendered">
<div class="input">
<div class="prompt input_prompt">In&nbsp;[69]:</div>
<div class="inner_cell">
    <div class="input_area">
<div class=" highlight hl-ipython3"><pre><span></span><span class="n">solve</span><span class="p">(</span><span class="n">a</span><span class="o">*</span><span class="n">x</span><span class="o">+</span><span class="n">b</span><span class="p">,</span><span class="n">x</span><span class="p">)</span>
</pre></div>

</div>
</div>
</div>

<div class="output_wrapper">
<div class="output">


<div class="output_area">

<div class="prompt output_prompt">Out[69]:</div>




<div class="output_latex output_subarea output_execute_result">
$$\left [ - \frac{b}{a}\right ]$$
</div>

</div>

</div>
</div>

</div>
<div class="cell border-box-sizing text_cell rendered"><div class="prompt input_prompt">
</div>
<div class="inner_cell">
<div class="text_cell_render border-box-sizing rendered_html">
<p>A square equation has 2 solutions.</p>

</div>
</div>
</div>
<div class="cell border-box-sizing code_cell rendered">
<div class="input">
<div class="prompt input_prompt">In&nbsp;[70]:</div>
<div class="inner_cell">
    <div class="input_area">
<div class=" highlight hl-ipython3"><pre><span></span><span class="n">solve</span><span class="p">(</span><span class="n">a</span><span class="o">*</span><span class="n">x</span><span class="o">**</span><span class="mi">2</span><span class="o">+</span><span class="n">b</span><span class="o">*</span><span class="n">x</span><span class="o">+</span><span class="n">c</span><span class="p">,</span><span class="n">x</span><span class="p">)</span>
</pre></div>

</div>
</div>
</div>

<div class="output_wrapper">
<div class="output">


<div class="output_area">

<div class="prompt output_prompt">Out[70]:</div>




<div class="output_latex output_subarea output_execute_result">
$$\left [ \frac{1}{2 a} \left(- b + \sqrt{- 4 a c + b^{2}}\right), \quad - \frac{1}{2 a} \left(b + \sqrt{- 4 a c + b^{2}}\right)\right ]$$
</div>

</div>

</div>
</div>

</div>
<div class="cell border-box-sizing text_cell rendered"><div class="prompt input_prompt">
</div>
<div class="inner_cell">
<div class="text_cell_render border-box-sizing rendered_html">
<p>A system of linear equations.</p>

</div>
</div>
</div>
<div class="cell border-box-sizing code_cell rendered">
<div class="input">
<div class="prompt input_prompt">In&nbsp;[71]:</div>
<div class="inner_cell">
    <div class="input_area">
<div class=" highlight hl-ipython3"><pre><span></span><span class="n">solve</span><span class="p">([</span><span class="n">a</span><span class="o">*</span><span class="n">x</span><span class="o">+</span><span class="n">b</span><span class="o">*</span><span class="n">y</span><span class="o">-</span><span class="n">e</span><span class="p">,</span><span class="n">c</span><span class="o">*</span><span class="n">x</span><span class="o">+</span><span class="n">d</span><span class="o">*</span><span class="n">y</span><span class="o">-</span><span class="n">f</span><span class="p">],[</span><span class="n">x</span><span class="p">,</span><span class="n">y</span><span class="p">])</span>
</pre></div>

</div>
</div>
</div>

<div class="output_wrapper">
<div class="output">


<div class="output_area">

<div class="prompt output_prompt">Out[71]:</div>




<div class="output_latex output_subarea output_execute_result">
$$\left \{ x : \frac{- b f + d e}{a d - b c}, \quad y : \frac{a f - c e}{a d - b c}\right \}$$
</div>

</div>

</div>
</div>

</div>
<div class="cell border-box-sizing text_cell rendered"><div class="prompt input_prompt">
</div>
<div class="inner_cell">
<div class="text_cell_render border-box-sizing rendered_html">
<p>The function <code>roots</code> returns roots of a polynomial together with their multiplicities.</p>

</div>
</div>
</div>
<div class="cell border-box-sizing code_cell rendered">
<div class="input">
<div class="prompt input_prompt">In&nbsp;[72]:</div>
<div class="inner_cell">
    <div class="input_area">
<div class=" highlight hl-ipython3"><pre><span></span><span class="n">roots</span><span class="p">(</span><span class="n">x</span><span class="o">**</span><span class="mi">3</span><span class="o">-</span><span class="mi">3</span><span class="o">*</span><span class="n">x</span><span class="o">+</span><span class="mi">2</span><span class="p">,</span><span class="n">x</span><span class="p">)</span>
</pre></div>

</div>
</div>
</div>

<div class="output_wrapper">
<div class="output">


<div class="output_area">

<div class="prompt output_prompt">Out[72]:</div>




<div class="output_latex output_subarea output_execute_result">
$$\left \{ -2 : 1, \quad 1 : 2\right \}$$
</div>

</div>

</div>
</div>

</div>
<div class="cell border-box-sizing text_cell rendered"><div class="prompt input_prompt">
</div>
<div class="inner_cell">
<div class="text_cell_render border-box-sizing rendered_html">
<p>The function <code>solve_poly_system</code> solves systems of polynomial equations by constructing their Gröbner bases.</p>

</div>
</div>
</div>
<div class="cell border-box-sizing code_cell rendered">
<div class="input">
<div class="prompt input_prompt">In&nbsp;[73]:</div>
<div class="inner_cell">
    <div class="input_area">
<div class=" highlight hl-ipython3"><pre><span></span><span class="n">p1</span><span class="o">=</span><span class="n">x</span><span class="o">**</span><span class="mi">2</span><span class="o">+</span><span class="n">y</span><span class="o">**</span><span class="mi">2</span><span class="o">-</span><span class="mi">1</span>
<span class="n">p2</span><span class="o">=</span><span class="mi">4</span><span class="o">*</span><span class="n">x</span><span class="o">*</span><span class="n">y</span><span class="o">-</span><span class="mi">1</span>
<span class="n">solve_poly_system</span><span class="p">([</span><span class="n">p1</span><span class="p">,</span><span class="n">p2</span><span class="p">],</span><span class="n">x</span><span class="p">,</span><span class="n">y</span><span class="p">)</span>
</pre></div>

</div>
</div>
</div>

<div class="output_wrapper">
<div class="output">


<div class="output_area">

<div class="prompt output_prompt">Out[73]:</div>




<div class="output_latex output_subarea output_execute_result">
$$\left [ \left ( 4 \left(-1 - \sqrt{- \frac{\sqrt{3}}{4} + \frac{1}{2}}\right) \sqrt{- \frac{\sqrt{3}}{4} + \frac{1}{2}} \left(- \sqrt{- \frac{\sqrt{3}}{4} + \frac{1}{2}} + 1\right), \quad - \sqrt{- \frac{\sqrt{3}}{4} + \frac{1}{2}}\right ), \quad \left ( - 4 \left(-1 + \sqrt{- \frac{\sqrt{3}}{4} + \frac{1}{2}}\right) \sqrt{- \frac{\sqrt{3}}{4} + \frac{1}{2}} \left(\sqrt{- \frac{\sqrt{3}}{4} + \frac{1}{2}} + 1\right), \quad \sqrt{- \frac{\sqrt{3}}{4} + \frac{1}{2}}\right ), \quad \left ( 4 \left(-1 - \sqrt{\frac{\sqrt{3}}{4} + \frac{1}{2}}\right) \sqrt{\frac{\sqrt{3}}{4} + \frac{1}{2}} \left(- \sqrt{\frac{\sqrt{3}}{4} + \frac{1}{2}} + 1\right), \quad - \sqrt{\frac{\sqrt{3}}{4} + \frac{1}{2}}\right ), \quad \left ( - 4 \left(-1 + \sqrt{\frac{\sqrt{3}}{4} + \frac{1}{2}}\right) \sqrt{\frac{\sqrt{3}}{4} + \frac{1}{2}} \left(\sqrt{\frac{\sqrt{3}}{4} + \frac{1}{2}} + 1\right), \quad \sqrt{\frac{\sqrt{3}}{4} + \frac{1}{2}}\right )\right ]$$
</div>

</div>

</div>
</div>

</div>
<div class="cell border-box-sizing text_cell rendered"><div class="prompt input_prompt">
</div>
<div class="inner_cell">
<div class="text_cell_render border-box-sizing rendered_html">
<h2 id="Series">Series<a class="anchor-link" href="#Series">&#182;</a></h2>
</div>
</div>
</div>
<div class="cell border-box-sizing code_cell rendered">
<div class="input">
<div class="prompt input_prompt">In&nbsp;[74]:</div>
<div class="inner_cell">
    <div class="input_area">
<div class=" highlight hl-ipython3"><pre><span></span><span class="n">exp</span><span class="p">(</span><span class="n">x</span><span class="p">)</span><span class="o">.</span><span class="n">series</span><span class="p">(</span><span class="n">x</span><span class="p">,</span><span class="mi">0</span><span class="p">,</span><span class="mi">5</span><span class="p">)</span>
</pre></div>

</div>
</div>
</div>

<div class="output_wrapper">
<div class="output">


<div class="output_area">

<div class="prompt output_prompt">Out[74]:</div>




<div class="output_latex output_subarea output_execute_result">
$$1 + x + \frac{x^{2}}{2} + \frac{x^{3}}{6} + \frac{x^{4}}{24} + \mathcal{O}\left(x^{5}\right)$$
</div>

</div>

</div>
</div>

</div>
<div class="cell border-box-sizing text_cell rendered"><div class="prompt input_prompt">
</div>
<div class="inner_cell">
<div class="text_cell_render border-box-sizing rendered_html">
<p>A series can start from a negative power.</p>

</div>
</div>
</div>
<div class="cell border-box-sizing code_cell rendered">
<div class="input">
<div class="prompt input_prompt">In&nbsp;[75]:</div>
<div class="inner_cell">
    <div class="input_area">
<div class=" highlight hl-ipython3"><pre><span></span><span class="n">cot</span><span class="p">(</span><span class="n">x</span><span class="p">)</span><span class="o">.</span><span class="n">series</span><span class="p">(</span><span class="n">x</span><span class="p">,</span><span class="n">n</span><span class="o">=</span><span class="mi">5</span><span class="p">)</span>
</pre></div>

</div>
</div>
</div>

<div class="output_wrapper">
<div class="output">


<div class="output_area">

<div class="prompt output_prompt">Out[75]:</div>




<div class="output_latex output_subarea output_execute_result">
$$\frac{1}{x} - \frac{x}{3} - \frac{x^{3}}{45} + \mathcal{O}\left(x^{5}\right)$$
</div>

</div>

</div>
</div>

</div>
<div class="cell border-box-sizing text_cell rendered"><div class="prompt input_prompt">
</div>
<div class="inner_cell">
<div class="text_cell_render border-box-sizing rendered_html">
<p>And even run over half-integer powers.</p>

</div>
</div>
</div>
<div class="cell border-box-sizing code_cell rendered">
<div class="input">
<div class="prompt input_prompt">In&nbsp;[76]:</div>
<div class="inner_cell">
    <div class="input_area">
<div class=" highlight hl-ipython3"><pre><span></span><span class="n">sqrt</span><span class="p">(</span><span class="n">x</span><span class="o">*</span><span class="p">(</span><span class="mi">1</span><span class="o">-</span><span class="n">x</span><span class="p">))</span><span class="o">.</span><span class="n">series</span><span class="p">(</span><span class="n">x</span><span class="p">,</span><span class="n">n</span><span class="o">=</span><span class="mi">5</span><span class="p">)</span>
</pre></div>

</div>
</div>
</div>

<div class="output_wrapper">
<div class="output">


<div class="output_area">

<div class="prompt output_prompt">Out[76]:</div>




<div class="output_latex output_subarea output_execute_result">
$$\sqrt{x} - \frac{x^{\frac{3}{2}}}{2} - \frac{x^{\frac{5}{2}}}{8} - \frac{x^{\frac{7}{2}}}{16} - \frac{5 x^{\frac{9}{2}}}{128} + \mathcal{O}\left(x^{5}\right)$$
</div>

</div>

</div>
</div>

</div>
<div class="cell border-box-sizing code_cell rendered">
<div class="input">
<div class="prompt input_prompt">In&nbsp;[77]:</div>
<div class="inner_cell">
    <div class="input_area">
<div class=" highlight hl-ipython3"><pre><span></span><span class="n">log</span><span class="p">(</span><span class="n">gamma</span><span class="p">(</span><span class="mi">1</span><span class="o">+</span><span class="n">x</span><span class="p">))</span><span class="o">.</span><span class="n">series</span><span class="p">(</span><span class="n">x</span><span class="p">,</span><span class="n">n</span><span class="o">=</span><span class="mi">6</span><span class="p">)</span><span class="o">.</span><span class="n">rewrite</span><span class="p">(</span><span class="n">zeta</span><span class="p">)</span>
</pre></div>

</div>
</div>
</div>

<div class="output_wrapper">
<div class="output">


<div class="output_area">

<div class="prompt output_prompt">Out[77]:</div>




<div class="output_latex output_subarea output_execute_result">
$$- \gamma x + \frac{\pi^{2} x^{2}}{12} - \frac{x^{3} \zeta\left(3\right)}{3} + \frac{\pi^{4} x^{4}}{360} - \frac{x^{5} \zeta\left(5\right)}{5} + \mathcal{O}\left(x^{6}\right)$$
</div>

</div>

</div>
</div>

</div>
<div class="cell border-box-sizing text_cell rendered"><div class="prompt input_prompt">
</div>
<div class="inner_cell">
<div class="text_cell_render border-box-sizing rendered_html">
<p>Let's prepare 3 series.</p>

</div>
</div>
</div>
<div class="cell border-box-sizing code_cell rendered">
<div class="input">
<div class="prompt input_prompt">In&nbsp;[78]:</div>
<div class="inner_cell">
    <div class="input_area">
<div class=" highlight hl-ipython3"><pre><span></span><span class="n">sinx</span><span class="o">=</span><span class="n">series</span><span class="p">(</span><span class="n">sin</span><span class="p">(</span><span class="n">x</span><span class="p">),</span><span class="n">x</span><span class="p">,</span><span class="mi">0</span><span class="p">,</span><span class="mi">8</span><span class="p">)</span>
<span class="n">sinx</span>
</pre></div>

</div>
</div>
</div>

<div class="output_wrapper">
<div class="output">


<div class="output_area">

<div class="prompt output_prompt">Out[78]:</div>




<div class="output_latex output_subarea output_execute_result">
$$x - \frac{x^{3}}{6} + \frac{x^{5}}{120} - \frac{x^{7}}{5040} + \mathcal{O}\left(x^{8}\right)$$
</div>

</div>

</div>
</div>

</div>
<div class="cell border-box-sizing code_cell rendered">
<div class="input">
<div class="prompt input_prompt">In&nbsp;[79]:</div>
<div class="inner_cell">
    <div class="input_area">
<div class=" highlight hl-ipython3"><pre><span></span><span class="n">cosx</span><span class="o">=</span><span class="n">series</span><span class="p">(</span><span class="n">cos</span><span class="p">(</span><span class="n">x</span><span class="p">),</span><span class="n">x</span><span class="p">,</span><span class="n">n</span><span class="o">=</span><span class="mi">8</span><span class="p">)</span>
<span class="n">cosx</span>
</pre></div>

</div>
</div>
</div>

<div class="output_wrapper">
<div class="output">


<div class="output_area">

<div class="prompt output_prompt">Out[79]:</div>




<div class="output_latex output_subarea output_execute_result">
$$1 - \frac{x^{2}}{2} + \frac{x^{4}}{24} - \frac{x^{6}}{720} + \mathcal{O}\left(x^{8}\right)$$
</div>

</div>

</div>
</div>

</div>
<div class="cell border-box-sizing code_cell rendered">
<div class="input">
<div class="prompt input_prompt">In&nbsp;[80]:</div>
<div class="inner_cell">
    <div class="input_area">
<div class=" highlight hl-ipython3"><pre><span></span><span class="n">tanx</span><span class="o">=</span><span class="n">series</span><span class="p">(</span><span class="n">tan</span><span class="p">(</span><span class="n">x</span><span class="p">),</span><span class="n">x</span><span class="p">,</span><span class="n">n</span><span class="o">=</span><span class="mi">8</span><span class="p">)</span>
<span class="n">tanx</span>
</pre></div>

</div>
</div>
</div>

<div class="output_wrapper">
<div class="output">


<div class="output_area">

<div class="prompt output_prompt">Out[80]:</div>




<div class="output_latex output_subarea output_execute_result">
$$x + \frac{x^{3}}{3} + \frac{2 x^{5}}{15} + \frac{17 x^{7}}{315} + \mathcal{O}\left(x^{8}\right)$$
</div>

</div>

</div>
</div>

</div>
<div class="cell border-box-sizing text_cell rendered"><div class="prompt input_prompt">
</div>
<div class="inner_cell">
<div class="text_cell_render border-box-sizing rendered_html">
<p>Products and ratios of series are not calculated automatically, the function <code>series</code> should be applied to them.</p>

</div>
</div>
</div>
<div class="cell border-box-sizing code_cell rendered">
<div class="input">
<div class="prompt input_prompt">In&nbsp;[81]:</div>
<div class="inner_cell">
    <div class="input_area">
<div class=" highlight hl-ipython3"><pre><span></span><span class="n">series</span><span class="p">(</span><span class="n">tanx</span><span class="o">*</span><span class="n">cosx</span><span class="p">,</span><span class="n">n</span><span class="o">=</span><span class="mi">8</span><span class="p">)</span>
</pre></div>

</div>
</div>
</div>

<div class="output_wrapper">
<div class="output">


<div class="output_area">

<div class="prompt output_prompt">Out[81]:</div>




<div class="output_latex output_subarea output_execute_result">
$$x - \frac{x^{3}}{6} + \frac{x^{5}}{120} - \frac{x^{7}}{5040} + \mathcal{O}\left(x^{8}\right)$$
</div>

</div>

</div>
</div>

</div>
<div class="cell border-box-sizing code_cell rendered">
<div class="input">
<div class="prompt input_prompt">In&nbsp;[82]:</div>
<div class="inner_cell">
    <div class="input_area">
<div class=" highlight hl-ipython3"><pre><span></span><span class="n">series</span><span class="p">(</span><span class="n">sinx</span><span class="o">/</span><span class="n">cosx</span><span class="p">,</span><span class="n">n</span><span class="o">=</span><span class="mi">8</span><span class="p">)</span>
</pre></div>

</div>
</div>
</div>

<div class="output_wrapper">
<div class="output">


<div class="output_area">

<div class="prompt output_prompt">Out[82]:</div>




<div class="output_latex output_subarea output_execute_result">
$$x + \frac{x^{3}}{3} + \frac{2 x^{5}}{15} + \frac{17 x^{7}}{315} + \mathcal{O}\left(x^{8}\right)$$
</div>

</div>

</div>
</div>

</div>
<div class="cell border-box-sizing text_cell rendered"><div class="prompt input_prompt">
</div>
<div class="inner_cell">
<div class="text_cell_render border-box-sizing rendered_html">
<p>And this series should be equal to 1. But since <code>sinx</code> and <code>cosx</code> are known only with a limited accuracy, we obtain 1 with the same accuracy.</p>

</div>
</div>
</div>
<div class="cell border-box-sizing code_cell rendered">
<div class="input">
<div class="prompt input_prompt">In&nbsp;[83]:</div>
<div class="inner_cell">
    <div class="input_area">
<div class=" highlight hl-ipython3"><pre><span></span><span class="n">series</span><span class="p">(</span><span class="n">sinx</span><span class="o">**</span><span class="mi">2</span><span class="o">+</span><span class="n">cosx</span><span class="o">**</span><span class="mi">2</span><span class="p">,</span><span class="n">n</span><span class="o">=</span><span class="mi">8</span><span class="p">)</span>
</pre></div>

</div>
</div>
</div>

<div class="output_wrapper">
<div class="output">


<div class="output_area">

<div class="prompt output_prompt">Out[83]:</div>




<div class="output_latex output_subarea output_execute_result">
$$1 + \mathcal{O}\left(x^{8}\right)$$
</div>

</div>

</div>
</div>

</div>
<div class="cell border-box-sizing text_cell rendered"><div class="prompt input_prompt">
</div>
<div class="inner_cell">
<div class="text_cell_render border-box-sizing rendered_html">
<p>Here the leading terms have canceled, and the result can be obtained only with a lower accuracy.</p>

</div>
</div>
</div>
<div class="cell border-box-sizing code_cell rendered">
<div class="input">
<div class="prompt input_prompt">In&nbsp;[84]:</div>
<div class="inner_cell">
    <div class="input_area">
<div class=" highlight hl-ipython3"><pre><span></span><span class="n">series</span><span class="p">((</span><span class="mi">1</span><span class="o">-</span><span class="n">cosx</span><span class="p">)</span><span class="o">/</span><span class="n">x</span><span class="o">**</span><span class="mi">2</span><span class="p">,</span><span class="n">n</span><span class="o">=</span><span class="mi">6</span><span class="p">)</span>
</pre></div>

</div>
</div>
</div>

<div class="output_wrapper">
<div class="output">


<div class="output_area">

<div class="prompt output_prompt">Out[84]:</div>




<div class="output_latex output_subarea output_execute_result">
$$\frac{1}{2} - \frac{x^{2}}{24} + \frac{x^{4}}{720} + \mathcal{O}\left(x^{6}\right)$$
</div>

</div>

</div>
</div>

</div>
<div class="cell border-box-sizing text_cell rendered"><div class="prompt input_prompt">
</div>
<div class="inner_cell">
<div class="text_cell_render border-box-sizing rendered_html">
<p>Series can be differentiated and integrated.</p>

</div>
</div>
</div>
<div class="cell border-box-sizing code_cell rendered">
<div class="input">
<div class="prompt input_prompt">In&nbsp;[85]:</div>
<div class="inner_cell">
    <div class="input_area">
<div class=" highlight hl-ipython3"><pre><span></span><span class="n">diff</span><span class="p">(</span><span class="n">sinx</span><span class="p">,</span><span class="n">x</span><span class="p">)</span>
</pre></div>

</div>
</div>
</div>

<div class="output_wrapper">
<div class="output">


<div class="output_area">

<div class="prompt output_prompt">Out[85]:</div>




<div class="output_latex output_subarea output_execute_result">
$$1 - \frac{x^{2}}{2} + \frac{x^{4}}{24} - \frac{x^{6}}{720} + \mathcal{O}\left(x^{7}\right)$$
</div>

</div>

</div>
</div>

</div>
<div class="cell border-box-sizing code_cell rendered">
<div class="input">
<div class="prompt input_prompt">In&nbsp;[86]:</div>
<div class="inner_cell">
    <div class="input_area">
<div class=" highlight hl-ipython3"><pre><span></span><span class="n">integrate</span><span class="p">(</span><span class="n">cosx</span><span class="p">,</span><span class="n">x</span><span class="p">)</span>
</pre></div>

</div>
</div>
</div>

<div class="output_wrapper">
<div class="output">


<div class="output_area">

<div class="prompt output_prompt">Out[86]:</div>




<div class="output_latex output_subarea output_execute_result">
$$x - \frac{x^{3}}{6} + \frac{x^{5}}{120} - \frac{x^{7}}{5040} + \mathcal{O}\left(x^{9}\right)$$
</div>

</div>

</div>
</div>

</div>
<div class="cell border-box-sizing text_cell rendered"><div class="prompt input_prompt">
</div>
<div class="inner_cell">
<div class="text_cell_render border-box-sizing rendered_html">
<p>A series (starting from a small term) can be substituted for an expansion variable in another series. Here are $\sin(\tan(x))$ and $\tan(\sin(x))$.</p>

</div>
</div>
</div>
<div class="cell border-box-sizing code_cell rendered">
<div class="input">
<div class="prompt input_prompt">In&nbsp;[87]:</div>
<div class="inner_cell">
    <div class="input_area">
<div class=" highlight hl-ipython3"><pre><span></span><span class="n">st</span><span class="o">=</span><span class="n">series</span><span class="p">(</span><span class="n">sinx</span><span class="o">.</span><span class="n">subs</span><span class="p">(</span><span class="n">x</span><span class="p">,</span><span class="n">tanx</span><span class="p">),</span><span class="n">n</span><span class="o">=</span><span class="mi">8</span><span class="p">)</span>
<span class="n">st</span>
</pre></div>

</div>
</div>
</div>

<div class="output_wrapper">
<div class="output">


<div class="output_area">

<div class="prompt output_prompt">Out[87]:</div>




<div class="output_latex output_subarea output_execute_result">
$$x + \frac{x^{3}}{6} - \frac{x^{5}}{40} - \frac{55 x^{7}}{1008} + \mathcal{O}\left(x^{8}\right)$$
</div>

</div>

</div>
</div>

</div>
<div class="cell border-box-sizing code_cell rendered">
<div class="input">
<div class="prompt input_prompt">In&nbsp;[88]:</div>
<div class="inner_cell">
    <div class="input_area">
<div class=" highlight hl-ipython3"><pre><span></span><span class="n">ts</span><span class="o">=</span><span class="n">series</span><span class="p">(</span><span class="n">tanx</span><span class="o">.</span><span class="n">subs</span><span class="p">(</span><span class="n">x</span><span class="p">,</span><span class="n">sinx</span><span class="p">),</span><span class="n">n</span><span class="o">=</span><span class="mi">8</span><span class="p">)</span>
<span class="n">ts</span>
</pre></div>

</div>
</div>
</div>

<div class="output_wrapper">
<div class="output">


<div class="output_area">

<div class="prompt output_prompt">Out[88]:</div>




<div class="output_latex output_subarea output_execute_result">
$$x + \frac{x^{3}}{6} - \frac{x^{5}}{40} - \frac{107 x^{7}}{5040} + \mathcal{O}\left(x^{8}\right)$$
</div>

</div>

</div>
</div>

</div>
<div class="cell border-box-sizing code_cell rendered">
<div class="input">
<div class="prompt input_prompt">In&nbsp;[89]:</div>
<div class="inner_cell">
    <div class="input_area">
<div class=" highlight hl-ipython3"><pre><span></span><span class="n">series</span><span class="p">(</span><span class="n">ts</span><span class="o">-</span><span class="n">st</span><span class="p">,</span><span class="n">n</span><span class="o">=</span><span class="mi">8</span><span class="p">)</span>
</pre></div>

</div>
</div>
</div>

<div class="output_wrapper">
<div class="output">


<div class="output_area">

<div class="prompt output_prompt">Out[89]:</div>




<div class="output_latex output_subarea output_execute_result">
$$\frac{x^{7}}{30} + \mathcal{O}\left(x^{8}\right)$$
</div>

</div>

</div>
</div>

</div>
<div class="cell border-box-sizing text_cell rendered"><div class="prompt input_prompt">
</div>
<div class="inner_cell">
<div class="text_cell_render border-box-sizing rendered_html">
<p>It is not possible to substitute a numerical value for the expansion variable in a series (and hence to plot it). To this end one has to remove the $\mathcal{O}$ term first, transforming a series into a polynomial.</p>

</div>
</div>
</div>
<div class="cell border-box-sizing code_cell rendered">
<div class="input">
<div class="prompt input_prompt">In&nbsp;[90]:</div>
<div class="inner_cell">
    <div class="input_area">
<div class=" highlight hl-ipython3"><pre><span></span><span class="n">sinx</span><span class="o">.</span><span class="n">removeO</span><span class="p">()</span>
</pre></div>

</div>
</div>
</div>

<div class="output_wrapper">
<div class="output">


<div class="output_area">

<div class="prompt output_prompt">Out[90]:</div>




<div class="output_latex output_subarea output_execute_result">
$$- \frac{x^{7}}{5040} + \frac{x^{5}}{120} - \frac{x^{3}}{6} + x$$
</div>

</div>

</div>
</div>

</div>
<div class="cell border-box-sizing text_cell rendered"><div class="prompt input_prompt">
</div>
<div class="inner_cell">
<div class="text_cell_render border-box-sizing rendered_html">
<h2 id="Derivatives">Derivatives<a class="anchor-link" href="#Derivatives">&#182;</a></h2>
</div>
</div>
</div>
<div class="cell border-box-sizing code_cell rendered">
<div class="input">
<div class="prompt input_prompt">In&nbsp;[91]:</div>
<div class="inner_cell">
    <div class="input_area">
<div class=" highlight hl-ipython3"><pre><span></span><span class="n">a</span><span class="o">=</span><span class="n">x</span><span class="o">*</span><span class="n">sin</span><span class="p">(</span><span class="n">x</span><span class="o">+</span><span class="n">y</span><span class="p">)</span>
<span class="n">diff</span><span class="p">(</span><span class="n">a</span><span class="p">,</span><span class="n">x</span><span class="p">)</span>
</pre></div>

</div>
</div>
</div>

<div class="output_wrapper">
<div class="output">


<div class="output_area">

<div class="prompt output_prompt">Out[91]:</div>




<div class="output_latex output_subarea output_execute_result">
$$x \cos{\left (x + y \right )} + \sin{\left (x + y \right )}$$
</div>

</div>

</div>
</div>

</div>
<div class="cell border-box-sizing code_cell rendered">
<div class="input">
<div class="prompt input_prompt">In&nbsp;[92]:</div>
<div class="inner_cell">
    <div class="input_area">
<div class=" highlight hl-ipython3"><pre><span></span><span class="n">diff</span><span class="p">(</span><span class="n">a</span><span class="p">,</span><span class="n">y</span><span class="p">)</span>
</pre></div>

</div>
</div>
</div>

<div class="output_wrapper">
<div class="output">


<div class="output_area">

<div class="prompt output_prompt">Out[92]:</div>




<div class="output_latex output_subarea output_execute_result">
$$x \cos{\left (x + y \right )}$$
</div>

</div>

</div>
</div>

</div>
<div class="cell border-box-sizing text_cell rendered"><div class="prompt input_prompt">
</div>
<div class="inner_cell">
<div class="text_cell_render border-box-sizing rendered_html">
<p>The second derivative in $x$ and the first one in $y$.</p>

</div>
</div>
</div>
<div class="cell border-box-sizing code_cell rendered">
<div class="input">
<div class="prompt input_prompt">In&nbsp;[93]:</div>
<div class="inner_cell">
    <div class="input_area">
<div class=" highlight hl-ipython3"><pre><span></span><span class="n">diff</span><span class="p">(</span><span class="n">a</span><span class="p">,</span><span class="n">x</span><span class="p">,</span><span class="mi">2</span><span class="p">,</span><span class="n">y</span><span class="p">)</span>
</pre></div>

</div>
</div>
</div>

<div class="output_wrapper">
<div class="output">


<div class="output_area">

<div class="prompt output_prompt">Out[93]:</div>




<div class="output_latex output_subarea output_execute_result">
$$- x \cos{\left (x + y \right )} + 2 \sin{\left (x + y \right )}$$
</div>

</div>

</div>
</div>

</div>
<div class="cell border-box-sizing text_cell rendered"><div class="prompt input_prompt">
</div>
<div class="inner_cell">
<div class="text_cell_render border-box-sizing rendered_html">
<p>Expressions with undefined functions can be differentiated.</p>

</div>
</div>
</div>
<div class="cell border-box-sizing code_cell rendered">
<div class="input">
<div class="prompt input_prompt">In&nbsp;[94]:</div>
<div class="inner_cell">
    <div class="input_area">
<div class=" highlight hl-ipython3"><pre><span></span><span class="n">a</span><span class="o">=</span><span class="n">x</span><span class="o">*</span><span class="n">f</span><span class="p">(</span><span class="n">x</span><span class="o">**</span><span class="mi">2</span><span class="p">)</span>
<span class="n">b</span><span class="o">=</span><span class="n">diff</span><span class="p">(</span><span class="n">a</span><span class="p">,</span><span class="n">x</span><span class="p">)</span>
<span class="n">b</span>
</pre></div>

</div>
</div>
</div>

<div class="output_wrapper">
<div class="output">


<div class="output_area">

<div class="prompt output_prompt">Out[94]:</div>




<div class="output_latex output_subarea output_execute_result">
$$2 x^{2} \left. \frac{d}{d \xi_{1}} f{\left (\xi_{1} \right )} \right|_{\substack{ \xi_{1}=x^{2} }} + f{\left (x^{2} \right )}$$
</div>

</div>

</div>
</div>

</div>
<div class="cell border-box-sizing text_cell rendered"><div class="prompt input_prompt">
</div>
<div class="inner_cell">
<div class="text_cell_render border-box-sizing rendered_html">
<p>What's this?</p>

</div>
</div>
</div>
<div class="cell border-box-sizing code_cell rendered">
<div class="input">
<div class="prompt input_prompt">In&nbsp;[95]:</div>
<div class="inner_cell">
    <div class="input_area">
<div class=" highlight hl-ipython3"><pre><span></span><span class="nb">print</span><span class="p">(</span><span class="n">b</span><span class="p">)</span>
</pre></div>

</div>
</div>
</div>

<div class="output_wrapper">
<div class="output">


<div class="output_area">

<div class="prompt"></div>


<div class="output_subarea output_stream output_stdout output_text">
<pre>2*x**2*Subs(Derivative(f(_xi_1), _xi_1), (_xi_1,), (x**2,)) + f(x**2)
</pre>
</div>
</div>

</div>
</div>

</div>
<div class="cell border-box-sizing text_cell rendered"><div class="prompt input_prompt">
</div>
<div class="inner_cell">
<div class="text_cell_render border-box-sizing rendered_html">
<p>The function <code>Derivative</code> represents an unevaluated derivative. It can be evaluated by the method <code>doit</code>.</p>

</div>
</div>
</div>
<div class="cell border-box-sizing code_cell rendered">
<div class="input">
<div class="prompt input_prompt">In&nbsp;[96]:</div>
<div class="inner_cell">
    <div class="input_area">
<div class=" highlight hl-ipython3"><pre><span></span><span class="n">a</span><span class="o">=</span><span class="n">Derivative</span><span class="p">(</span><span class="n">sin</span><span class="p">(</span><span class="n">x</span><span class="p">),</span><span class="n">x</span><span class="p">)</span>
<span class="n">Eq</span><span class="p">(</span><span class="n">a</span><span class="p">,</span><span class="n">a</span><span class="o">.</span><span class="n">doit</span><span class="p">())</span>
</pre></div>

</div>
</div>
</div>

<div class="output_wrapper">
<div class="output">


<div class="output_area">

<div class="prompt output_prompt">Out[96]:</div>




<div class="output_latex output_subarea output_execute_result">
$$\frac{d}{d x} \sin{\left (x \right )} = \cos{\left (x \right )}$$
</div>

</div>

</div>
</div>

</div>
<div class="cell border-box-sizing text_cell rendered"><div class="prompt input_prompt">
</div>
<div class="inner_cell">
<div class="text_cell_render border-box-sizing rendered_html">
<h2 id="Integrals">Integrals<a class="anchor-link" href="#Integrals">&#182;</a></h2>
</div>
</div>
</div>
<div class="cell border-box-sizing code_cell rendered">
<div class="input">
<div class="prompt input_prompt">In&nbsp;[97]:</div>
<div class="inner_cell">
    <div class="input_area">
<div class=" highlight hl-ipython3"><pre><span></span><span class="n">integrate</span><span class="p">(</span><span class="mi">1</span><span class="o">/</span><span class="p">(</span><span class="n">x</span><span class="o">*</span><span class="p">(</span><span class="n">x</span><span class="o">**</span><span class="mi">2</span><span class="o">-</span><span class="mi">2</span><span class="p">)</span><span class="o">**</span><span class="mi">2</span><span class="p">),</span><span class="n">x</span><span class="p">)</span>
</pre></div>

</div>
</div>
</div>

<div class="output_wrapper">
<div class="output">


<div class="output_area">

<div class="prompt output_prompt">Out[97]:</div>




<div class="output_latex output_subarea output_execute_result">
$$\frac{1}{4} \log{\left (x \right )} - \frac{1}{8} \log{\left (x^{2} - 2 \right )} - \frac{1}{4 x^{2} - 8}$$
</div>

</div>

</div>
</div>

</div>
<div class="cell border-box-sizing code_cell rendered">
<div class="input">
<div class="prompt input_prompt">In&nbsp;[98]:</div>
<div class="inner_cell">
    <div class="input_area">
<div class=" highlight hl-ipython3"><pre><span></span><span class="n">integrate</span><span class="p">(</span><span class="mi">1</span><span class="o">/</span><span class="p">(</span><span class="n">exp</span><span class="p">(</span><span class="n">x</span><span class="p">)</span><span class="o">+</span><span class="mi">1</span><span class="p">),</span><span class="n">x</span><span class="p">)</span>
</pre></div>

</div>
</div>
</div>

<div class="output_wrapper">
<div class="output">


<div class="output_area">

<div class="prompt output_prompt">Out[98]:</div>




<div class="output_latex output_subarea output_execute_result">
$$x - \log{\left (e^{x} + 1 \right )}$$
</div>

</div>

</div>
</div>

</div>
<div class="cell border-box-sizing code_cell rendered">
<div class="input">
<div class="prompt input_prompt">In&nbsp;[99]:</div>
<div class="inner_cell">
    <div class="input_area">
<div class=" highlight hl-ipython3"><pre><span></span><span class="n">integrate</span><span class="p">(</span><span class="n">log</span><span class="p">(</span><span class="n">x</span><span class="p">),</span><span class="n">x</span><span class="p">)</span>
</pre></div>

</div>
</div>
</div>

<div class="output_wrapper">
<div class="output">


<div class="output_area">

<div class="prompt output_prompt">Out[99]:</div>




<div class="output_latex output_subarea output_execute_result">
$$x \log{\left (x \right )} - x$$
</div>

</div>

</div>
</div>

</div>
<div class="cell border-box-sizing code_cell rendered">
<div class="input">
<div class="prompt input_prompt">In&nbsp;[100]:</div>
<div class="inner_cell">
    <div class="input_area">
<div class=" highlight hl-ipython3"><pre><span></span><span class="n">integrate</span><span class="p">(</span><span class="n">x</span><span class="o">*</span><span class="n">sin</span><span class="p">(</span><span class="n">x</span><span class="p">),</span><span class="n">x</span><span class="p">)</span>
</pre></div>

</div>
</div>
</div>

<div class="output_wrapper">
<div class="output">


<div class="output_area">

<div class="prompt output_prompt">Out[100]:</div>




<div class="output_latex output_subarea output_execute_result">
$$- x \cos{\left (x \right )} + \sin{\left (x \right )}$$
</div>

</div>

</div>
</div>

</div>
<div class="cell border-box-sizing code_cell rendered">
<div class="input">
<div class="prompt input_prompt">In&nbsp;[101]:</div>
<div class="inner_cell">
    <div class="input_area">
<div class=" highlight hl-ipython3"><pre><span></span><span class="n">integrate</span><span class="p">(</span><span class="n">x</span><span class="o">*</span><span class="n">exp</span><span class="p">(</span><span class="o">-</span><span class="n">x</span><span class="o">**</span><span class="mi">2</span><span class="p">),</span><span class="n">x</span><span class="p">)</span>
</pre></div>

</div>
</div>
</div>

<div class="output_wrapper">
<div class="output">


<div class="output_area">

<div class="prompt output_prompt">Out[101]:</div>




<div class="output_latex output_subarea output_execute_result">
$$- \frac{e^{- x^{2}}}{2}$$
</div>

</div>

</div>
</div>

</div>
<div class="cell border-box-sizing code_cell rendered">
<div class="input">
<div class="prompt input_prompt">In&nbsp;[102]:</div>
<div class="inner_cell">
    <div class="input_area">
<div class=" highlight hl-ipython3"><pre><span></span><span class="n">a</span><span class="o">=</span><span class="n">integrate</span><span class="p">(</span><span class="n">x</span><span class="o">**</span><span class="n">x</span><span class="p">,</span><span class="n">x</span><span class="p">)</span>
<span class="n">a</span>
</pre></div>

</div>
</div>
</div>

<div class="output_wrapper">
<div class="output">


<div class="output_area">

<div class="prompt output_prompt">Out[102]:</div>




<div class="output_latex output_subarea output_execute_result">
$$\int x^{x}\, dx$$
</div>

</div>

</div>
</div>

</div>
<div class="cell border-box-sizing text_cell rendered"><div class="prompt input_prompt">
</div>
<div class="inner_cell">
<div class="text_cell_render border-box-sizing rendered_html">
<p>This is an unevaluated integral.</p>

</div>
</div>
</div>
<div class="cell border-box-sizing code_cell rendered">
<div class="input">
<div class="prompt input_prompt">In&nbsp;[103]:</div>
<div class="inner_cell">
    <div class="input_area">
<div class=" highlight hl-ipython3"><pre><span></span><span class="nb">print</span><span class="p">(</span><span class="n">a</span><span class="p">)</span>
</pre></div>

</div>
</div>
</div>

<div class="output_wrapper">
<div class="output">


<div class="output_area">

<div class="prompt"></div>


<div class="output_subarea output_stream output_stdout output_text">
<pre>Integral(x**x, x)
</pre>
</div>
</div>

</div>
</div>

</div>
<div class="cell border-box-sizing code_cell rendered">
<div class="input">
<div class="prompt input_prompt">In&nbsp;[104]:</div>
<div class="inner_cell">
    <div class="input_area">
<div class=" highlight hl-ipython3"><pre><span></span><span class="n">a</span><span class="o">=</span><span class="n">Integral</span><span class="p">(</span><span class="n">sin</span><span class="p">(</span><span class="n">x</span><span class="p">),</span><span class="n">x</span><span class="p">)</span>
<span class="n">Eq</span><span class="p">(</span><span class="n">a</span><span class="p">,</span><span class="n">a</span><span class="o">.</span><span class="n">doit</span><span class="p">())</span>
</pre></div>

</div>
</div>
</div>

<div class="output_wrapper">
<div class="output">


<div class="output_area">

<div class="prompt output_prompt">Out[104]:</div>




<div class="output_latex output_subarea output_execute_result">
$$\int \sin{\left (x \right )}\, dx = - \cos{\left (x \right )}$$
</div>

</div>

</div>
</div>

</div>
<div class="cell border-box-sizing text_cell rendered"><div class="prompt input_prompt">
</div>
<div class="inner_cell">
<div class="text_cell_render border-box-sizing rendered_html">
<p>Definite integrals.</p>

</div>
</div>
</div>
<div class="cell border-box-sizing code_cell rendered">
<div class="input">
<div class="prompt input_prompt">In&nbsp;[105]:</div>
<div class="inner_cell">
    <div class="input_area">
<div class=" highlight hl-ipython3"><pre><span></span><span class="n">integrate</span><span class="p">(</span><span class="n">sin</span><span class="p">(</span><span class="n">x</span><span class="p">),(</span><span class="n">x</span><span class="p">,</span><span class="mi">0</span><span class="p">,</span><span class="n">pi</span><span class="p">))</span>
</pre></div>

</div>
</div>
</div>

<div class="output_wrapper">
<div class="output">


<div class="output_area">

<div class="prompt output_prompt">Out[105]:</div>




<div class="output_latex output_subarea output_execute_result">
$$2$$
</div>

</div>

</div>
</div>

</div>
<div class="cell border-box-sizing text_cell rendered"><div class="prompt input_prompt">
</div>
<div class="inner_cell">
<div class="text_cell_render border-box-sizing rendered_html">
<p><code>oo</code> means $\infty$.</p>

</div>
</div>
</div>
<div class="cell border-box-sizing code_cell rendered">
<div class="input">
<div class="prompt input_prompt">In&nbsp;[106]:</div>
<div class="inner_cell">
    <div class="input_area">
<div class=" highlight hl-ipython3"><pre><span></span><span class="n">integrate</span><span class="p">(</span><span class="n">exp</span><span class="p">(</span><span class="o">-</span><span class="n">x</span><span class="o">**</span><span class="mi">2</span><span class="p">),(</span><span class="n">x</span><span class="p">,</span><span class="mi">0</span><span class="p">,</span><span class="n">oo</span><span class="p">))</span>
</pre></div>

</div>
</div>
</div>

<div class="output_wrapper">
<div class="output">


<div class="output_area">

<div class="prompt output_prompt">Out[106]:</div>




<div class="output_latex output_subarea output_execute_result">
$$\frac{\sqrt{\pi}}{2}$$
</div>

</div>

</div>
</div>

</div>
<div class="cell border-box-sizing code_cell rendered">
<div class="input">
<div class="prompt input_prompt">In&nbsp;[107]:</div>
<div class="inner_cell">
    <div class="input_area">
<div class=" highlight hl-ipython3"><pre><span></span><span class="n">integrate</span><span class="p">(</span><span class="n">log</span><span class="p">(</span><span class="n">x</span><span class="p">)</span><span class="o">/</span><span class="p">(</span><span class="mi">1</span><span class="o">-</span><span class="n">x</span><span class="p">),(</span><span class="n">x</span><span class="p">,</span><span class="mi">0</span><span class="p">,</span><span class="mi">1</span><span class="p">))</span>
</pre></div>

</div>
</div>
</div>

<div class="output_wrapper">
<div class="output">


<div class="output_area">

<div class="prompt output_prompt">Out[107]:</div>




<div class="output_latex output_subarea output_execute_result">
$$- \frac{\pi^{2}}{6}$$
</div>

</div>

</div>
</div>

</div>
<div class="cell border-box-sizing text_cell rendered"><div class="prompt input_prompt">
</div>
<div class="inner_cell">
<div class="text_cell_render border-box-sizing rendered_html">
<h2 id="Summing-series">Summing series<a class="anchor-link" href="#Summing-series">&#182;</a></h2>
</div>
</div>
</div>
<div class="cell border-box-sizing code_cell rendered">
<div class="input">
<div class="prompt input_prompt">In&nbsp;[108]:</div>
<div class="inner_cell">
    <div class="input_area">
<div class=" highlight hl-ipython3"><pre><span></span><span class="n">summation</span><span class="p">(</span><span class="mi">1</span><span class="o">/</span><span class="n">n</span><span class="o">**</span><span class="mi">2</span><span class="p">,(</span><span class="n">n</span><span class="p">,</span><span class="mi">1</span><span class="p">,</span><span class="n">oo</span><span class="p">))</span>
</pre></div>

</div>
</div>
</div>

<div class="output_wrapper">
<div class="output">


<div class="output_area">

<div class="prompt output_prompt">Out[108]:</div>




<div class="output_latex output_subarea output_execute_result">
$$\frac{\pi^{2}}{6}$$
</div>

</div>

</div>
</div>

</div>
<div class="cell border-box-sizing code_cell rendered">
<div class="input">
<div class="prompt input_prompt">In&nbsp;[109]:</div>
<div class="inner_cell">
    <div class="input_area">
<div class=" highlight hl-ipython3"><pre><span></span><span class="n">summation</span><span class="p">((</span><span class="o">-</span><span class="mi">1</span><span class="p">)</span><span class="o">**</span><span class="n">n</span><span class="o">/</span><span class="n">n</span><span class="o">**</span><span class="mi">2</span><span class="p">,(</span><span class="n">n</span><span class="p">,</span><span class="mi">1</span><span class="p">,</span><span class="n">oo</span><span class="p">))</span>
</pre></div>

</div>
</div>
</div>

<div class="output_wrapper">
<div class="output">


<div class="output_area">

<div class="prompt output_prompt">Out[109]:</div>




<div class="output_latex output_subarea output_execute_result">
$$- \frac{\pi^{2}}{12}$$
</div>

</div>

</div>
</div>

</div>
<div class="cell border-box-sizing code_cell rendered">
<div class="input">
<div class="prompt input_prompt">In&nbsp;[110]:</div>
<div class="inner_cell">
    <div class="input_area">
<div class=" highlight hl-ipython3"><pre><span></span><span class="n">summation</span><span class="p">(</span><span class="mi">1</span><span class="o">/</span><span class="n">n</span><span class="o">**</span><span class="mi">4</span><span class="p">,(</span><span class="n">n</span><span class="p">,</span><span class="mi">1</span><span class="p">,</span><span class="n">oo</span><span class="p">))</span>
</pre></div>

</div>
</div>
</div>

<div class="output_wrapper">
<div class="output">


<div class="output_area">

<div class="prompt output_prompt">Out[110]:</div>




<div class="output_latex output_subarea output_execute_result">
$$\frac{\pi^{4}}{90}$$
</div>

</div>

</div>
</div>

</div>
<div class="cell border-box-sizing text_cell rendered"><div class="prompt input_prompt">
</div>
<div class="inner_cell">
<div class="text_cell_render border-box-sizing rendered_html">
<p>An unevaluated sum is denoted <code>Sum</code>.</p>

</div>
</div>
</div>
<div class="cell border-box-sizing code_cell rendered">
<div class="input">
<div class="prompt input_prompt">In&nbsp;[111]:</div>
<div class="inner_cell">
    <div class="input_area">
<div class=" highlight hl-ipython3"><pre><span></span><span class="n">a</span><span class="o">=</span><span class="n">Sum</span><span class="p">(</span><span class="n">x</span><span class="o">**</span><span class="n">n</span><span class="o">/</span><span class="n">factorial</span><span class="p">(</span><span class="n">n</span><span class="p">),(</span><span class="n">n</span><span class="p">,</span><span class="mi">0</span><span class="p">,</span><span class="n">oo</span><span class="p">))</span>
<span class="n">Eq</span><span class="p">(</span><span class="n">a</span><span class="p">,</span><span class="n">a</span><span class="o">.</span><span class="n">doit</span><span class="p">())</span>
</pre></div>

</div>
</div>
</div>

<div class="output_wrapper">
<div class="output">


<div class="output_area">

<div class="prompt output_prompt">Out[111]:</div>




<div class="output_latex output_subarea output_execute_result">
$$\sum_{n=0}^{\infty} \frac{x^{n}}{n!} = e^{x}$$
</div>

</div>

</div>
</div>

</div>
<div class="cell border-box-sizing text_cell rendered"><div class="prompt input_prompt">
</div>
<div class="inner_cell">
<div class="text_cell_render border-box-sizing rendered_html">
<h2 id="Limits">Limits<a class="anchor-link" href="#Limits">&#182;</a></h2>
</div>
</div>
</div>
<div class="cell border-box-sizing code_cell rendered">
<div class="input">
<div class="prompt input_prompt">In&nbsp;[112]:</div>
<div class="inner_cell">
    <div class="input_area">
<div class=" highlight hl-ipython3"><pre><span></span><span class="n">limit</span><span class="p">((</span><span class="n">tan</span><span class="p">(</span><span class="n">sin</span><span class="p">(</span><span class="n">x</span><span class="p">))</span><span class="o">-</span><span class="n">sin</span><span class="p">(</span><span class="n">tan</span><span class="p">(</span><span class="n">x</span><span class="p">)))</span><span class="o">/</span><span class="n">x</span><span class="o">**</span><span class="mi">7</span><span class="p">,</span><span class="n">x</span><span class="p">,</span><span class="mi">0</span><span class="p">)</span>
</pre></div>

</div>
</div>
</div>

<div class="output_wrapper">
<div class="output">


<div class="output_area">

<div class="prompt output_prompt">Out[112]:</div>




<div class="output_latex output_subarea output_execute_result">
$$\frac{1}{30}$$
</div>

</div>

</div>
</div>

</div>
<div class="cell border-box-sizing text_cell rendered"><div class="prompt input_prompt">
</div>
<div class="inner_cell">
<div class="text_cell_render border-box-sizing rendered_html">
<p>This limit is easy: just expand the numerator and the denominator into series. Things become more difficult if $x=0$ is an essential singularity. Let's calculate one-sided limits.</p>

</div>
</div>
</div>
<div class="cell border-box-sizing code_cell rendered">
<div class="input">
<div class="prompt input_prompt">In&nbsp;[113]:</div>
<div class="inner_cell">
    <div class="input_area">
<div class=" highlight hl-ipython3"><pre><span></span><span class="n">limit</span><span class="p">((</span><span class="n">tan</span><span class="p">(</span><span class="n">sin</span><span class="p">(</span><span class="n">x</span><span class="p">))</span><span class="o">-</span><span class="n">sin</span><span class="p">(</span><span class="n">tan</span><span class="p">(</span><span class="n">x</span><span class="p">)))</span><span class="o">/</span><span class="p">(</span><span class="n">x</span><span class="o">**</span><span class="mi">7</span><span class="o">+</span><span class="n">exp</span><span class="p">(</span><span class="o">-</span><span class="mi">1</span><span class="o">/</span><span class="n">x</span><span class="p">)),</span><span class="n">x</span><span class="p">,</span><span class="mi">0</span><span class="p">,</span><span class="s1">&#39;+&#39;</span><span class="p">)</span>
</pre></div>

</div>
</div>
</div>

<div class="output_wrapper">
<div class="output">


<div class="output_area">

<div class="prompt output_prompt">Out[113]:</div>




<div class="output_latex output_subarea output_execute_result">
$$\frac{1}{30}$$
</div>

</div>

</div>
</div>

</div>
<div class="cell border-box-sizing code_cell rendered">
<div class="input">
<div class="prompt input_prompt">In&nbsp;[114]:</div>
<div class="inner_cell">
    <div class="input_area">
<div class=" highlight hl-ipython3"><pre><span></span><span class="n">limit</span><span class="p">((</span><span class="n">tan</span><span class="p">(</span><span class="n">sin</span><span class="p">(</span><span class="n">x</span><span class="p">))</span><span class="o">-</span><span class="n">sin</span><span class="p">(</span><span class="n">tan</span><span class="p">(</span><span class="n">x</span><span class="p">)))</span><span class="o">/</span><span class="p">(</span><span class="n">x</span><span class="o">**</span><span class="mi">7</span><span class="o">+</span><span class="n">exp</span><span class="p">(</span><span class="o">-</span><span class="mi">1</span><span class="o">/</span><span class="n">x</span><span class="p">)),</span><span class="n">x</span><span class="p">,</span><span class="mi">0</span><span class="p">,</span><span class="s1">&#39;-&#39;</span><span class="p">)</span>
</pre></div>

</div>
</div>
</div>

<div class="output_wrapper">
<div class="output">


<div class="output_area">

<div class="prompt output_prompt">Out[114]:</div>




<div class="output_latex output_subarea output_execute_result">
$$0$$
</div>

</div>

</div>
</div>

</div>
<div class="cell border-box-sizing text_cell rendered"><div class="prompt input_prompt">
</div>
<div class="inner_cell">
<div class="text_cell_render border-box-sizing rendered_html">
<h2 id="Differential-equations">Differential equations<a class="anchor-link" href="#Differential-equations">&#182;</a></h2>
</div>
</div>
</div>
<div class="cell border-box-sizing code_cell rendered">
<div class="input">
<div class="prompt input_prompt">In&nbsp;[115]:</div>
<div class="inner_cell">
    <div class="input_area">
<div class=" highlight hl-ipython3"><pre><span></span><span class="n">t</span><span class="o">=</span><span class="n">Symbol</span><span class="p">(</span><span class="s1">&#39;t&#39;</span><span class="p">)</span>
<span class="n">x</span><span class="o">=</span><span class="n">Function</span><span class="p">(</span><span class="s1">&#39;x&#39;</span><span class="p">)</span>
<span class="n">p</span><span class="o">=</span><span class="n">Function</span><span class="p">(</span><span class="s1">&#39;p&#39;</span><span class="p">)</span>
</pre></div>

</div>
</div>
</div>

</div>
<div class="cell border-box-sizing text_cell rendered"><div class="prompt input_prompt">
</div>
<div class="inner_cell">
<div class="text_cell_render border-box-sizing rendered_html">
<p>First order.</p>

</div>
</div>
</div>
<div class="cell border-box-sizing code_cell rendered">
<div class="input">
<div class="prompt input_prompt">In&nbsp;[116]:</div>
<div class="inner_cell">
    <div class="input_area">
<div class=" highlight hl-ipython3"><pre><span></span><span class="n">dsolve</span><span class="p">(</span><span class="n">diff</span><span class="p">(</span><span class="n">x</span><span class="p">(</span><span class="n">t</span><span class="p">),</span><span class="n">t</span><span class="p">)</span><span class="o">+</span><span class="n">x</span><span class="p">(</span><span class="n">t</span><span class="p">),</span><span class="n">x</span><span class="p">(</span><span class="n">t</span><span class="p">))</span>
</pre></div>

</div>
</div>
</div>

<div class="output_wrapper">
<div class="output">


<div class="output_area">

<div class="prompt output_prompt">Out[116]:</div>




<div class="output_latex output_subarea output_execute_result">
$$x{\left (t \right )} = C_{1} e^{- t}$$
</div>

</div>

</div>
</div>

</div>
<div class="cell border-box-sizing text_cell rendered"><div class="prompt input_prompt">
</div>
<div class="inner_cell">
<div class="text_cell_render border-box-sizing rendered_html">
<p>Second order.</p>

</div>
</div>
</div>
<div class="cell border-box-sizing code_cell rendered">
<div class="input">
<div class="prompt input_prompt">In&nbsp;[117]:</div>
<div class="inner_cell">
    <div class="input_area">
<div class=" highlight hl-ipython3"><pre><span></span><span class="n">dsolve</span><span class="p">(</span><span class="n">diff</span><span class="p">(</span><span class="n">x</span><span class="p">(</span><span class="n">t</span><span class="p">),</span><span class="n">t</span><span class="p">,</span><span class="mi">2</span><span class="p">)</span><span class="o">+</span><span class="n">x</span><span class="p">(</span><span class="n">t</span><span class="p">),</span><span class="n">x</span><span class="p">(</span><span class="n">t</span><span class="p">))</span>
</pre></div>

</div>
</div>
</div>

<div class="output_wrapper">
<div class="output">


<div class="output_area">

<div class="prompt output_prompt">Out[117]:</div>




<div class="output_latex output_subarea output_execute_result">
$$x{\left (t \right )} = C_{1} \sin{\left (t \right )} + C_{2} \cos{\left (t \right )}$$
</div>

</div>

</div>
</div>

</div>
<div class="cell border-box-sizing text_cell rendered"><div class="prompt input_prompt">
</div>
<div class="inner_cell">
<div class="text_cell_render border-box-sizing rendered_html">
<p>A system of first-order equations.</p>

</div>
</div>
</div>
<div class="cell border-box-sizing code_cell rendered">
<div class="input">
<div class="prompt input_prompt">In&nbsp;[118]:</div>
<div class="inner_cell">
    <div class="input_area">
<div class=" highlight hl-ipython3"><pre><span></span><span class="n">dsolve</span><span class="p">((</span><span class="n">diff</span><span class="p">(</span><span class="n">x</span><span class="p">(</span><span class="n">t</span><span class="p">),</span><span class="n">t</span><span class="p">)</span><span class="o">-</span><span class="n">p</span><span class="p">(</span><span class="n">t</span><span class="p">),</span><span class="n">diff</span><span class="p">(</span><span class="n">p</span><span class="p">(</span><span class="n">t</span><span class="p">),</span><span class="n">t</span><span class="p">)</span><span class="o">+</span><span class="n">x</span><span class="p">(</span><span class="n">t</span><span class="p">)))</span>
</pre></div>

</div>
</div>
</div>

<div class="output_wrapper">
<div class="output">


<div class="output_area">

<div class="prompt output_prompt">Out[118]:</div>




<div class="output_latex output_subarea output_execute_result">
$$\left [ x{\left (t \right )} = C_{1} \sin{\left (t \right )} + C_{2} \cos{\left (t \right )}, \quad p{\left (t \right )} = C_{1} \cos{\left (t \right )} - C_{2} \sin{\left (t \right )}\right ]$$
</div>

</div>

</div>
</div>

</div>
<div class="cell border-box-sizing text_cell rendered"><div class="prompt input_prompt">
</div>
<div class="inner_cell">
<div class="text_cell_render border-box-sizing rendered_html">
<h2 id="Linear-algebra">Linear algebra<a class="anchor-link" href="#Linear-algebra">&#182;</a></h2>
</div>
</div>
</div>
<div class="cell border-box-sizing code_cell rendered">
<div class="input">
<div class="prompt input_prompt">In&nbsp;[119]:</div>
<div class="inner_cell">
    <div class="input_area">
<div class=" highlight hl-ipython3"><pre><span></span><span class="n">a</span><span class="p">,</span><span class="n">b</span><span class="p">,</span><span class="n">c</span><span class="p">,</span><span class="n">d</span><span class="p">,</span><span class="n">e</span><span class="p">,</span><span class="n">f</span><span class="o">=</span><span class="n">symbols</span><span class="p">(</span><span class="s1">&#39;a b c d e f&#39;</span><span class="p">)</span>
</pre></div>

</div>
</div>
</div>

</div>
<div class="cell border-box-sizing text_cell rendered"><div class="prompt input_prompt">
</div>
<div class="inner_cell">
<div class="text_cell_render border-box-sizing rendered_html">
<p>A matrix can be constructed from a list of lists.</p>

</div>
</div>
</div>
<div class="cell border-box-sizing code_cell rendered">
<div class="input">
<div class="prompt input_prompt">In&nbsp;[120]:</div>
<div class="inner_cell">
    <div class="input_area">
<div class=" highlight hl-ipython3"><pre><span></span><span class="n">M</span><span class="o">=</span><span class="n">Matrix</span><span class="p">([[</span><span class="n">a</span><span class="p">,</span><span class="n">b</span><span class="p">,</span><span class="n">c</span><span class="p">],[</span><span class="n">d</span><span class="p">,</span><span class="n">e</span><span class="p">,</span><span class="n">f</span><span class="p">]])</span>
<span class="n">M</span>
</pre></div>

</div>
</div>
</div>

<div class="output_wrapper">
<div class="output">


<div class="output_area">

<div class="prompt output_prompt">Out[120]:</div>




<div class="output_latex output_subarea output_execute_result">
$$\left[\begin{matrix}a & b & c\\d & e & f\end{matrix}\right]$$
</div>

</div>

</div>
</div>

</div>
<div class="cell border-box-sizing code_cell rendered">
<div class="input">
<div class="prompt input_prompt">In&nbsp;[121]:</div>
<div class="inner_cell">
    <div class="input_area">
<div class=" highlight hl-ipython3"><pre><span></span><span class="n">M</span><span class="o">.</span><span class="n">shape</span>
</pre></div>

</div>
</div>
</div>

<div class="output_wrapper">
<div class="output">


<div class="output_area">

<div class="prompt output_prompt">Out[121]:</div>




<div class="output_latex output_subarea output_execute_result">
$$\left ( 2, \quad 3\right )$$
</div>

</div>

</div>
</div>

</div>
<div class="cell border-box-sizing text_cell rendered"><div class="prompt input_prompt">
</div>
<div class="inner_cell">
<div class="text_cell_render border-box-sizing rendered_html">
<p>A row matrix.</p>

</div>
</div>
</div>
<div class="cell border-box-sizing code_cell rendered">
<div class="input">
<div class="prompt input_prompt">In&nbsp;[122]:</div>
<div class="inner_cell">
    <div class="input_area">
<div class=" highlight hl-ipython3"><pre><span></span><span class="n">Matrix</span><span class="p">([[</span><span class="mi">1</span><span class="p">,</span><span class="mi">2</span><span class="p">,</span><span class="mi">3</span><span class="p">]])</span>
</pre></div>

</div>
</div>
</div>

<div class="output_wrapper">
<div class="output">


<div class="output_area">

<div class="prompt output_prompt">Out[122]:</div>




<div class="output_latex output_subarea output_execute_result">
$$\left[\begin{matrix}1 & 2 & 3\end{matrix}\right]$$
</div>

</div>

</div>
</div>

</div>
<div class="cell border-box-sizing text_cell rendered"><div class="prompt input_prompt">
</div>
<div class="inner_cell">
<div class="text_cell_render border-box-sizing rendered_html">
<p>A column matrix.</p>

</div>
</div>
</div>
<div class="cell border-box-sizing code_cell rendered">
<div class="input">
<div class="prompt input_prompt">In&nbsp;[123]:</div>
<div class="inner_cell">
    <div class="input_area">
<div class=" highlight hl-ipython3"><pre><span></span><span class="n">Matrix</span><span class="p">([</span><span class="mi">1</span><span class="p">,</span><span class="mi">2</span><span class="p">,</span><span class="mi">3</span><span class="p">])</span>
</pre></div>

</div>
</div>
</div>

<div class="output_wrapper">
<div class="output">


<div class="output_area">

<div class="prompt output_prompt">Out[123]:</div>




<div class="output_latex output_subarea output_execute_result">
$$\left[\begin{matrix}1\\2\\3\end{matrix}\right]$$
</div>

</div>

</div>
</div>

</div>
<div class="cell border-box-sizing text_cell rendered"><div class="prompt input_prompt">
</div>
<div class="inner_cell">
<div class="text_cell_render border-box-sizing rendered_html">
<p>A matrix can be constructed from a function.</p>

</div>
</div>
</div>
<div class="cell border-box-sizing code_cell rendered">
<div class="input">
<div class="prompt input_prompt">In&nbsp;[124]:</div>
<div class="inner_cell">
    <div class="input_area">
<div class=" highlight hl-ipython3"><pre><span></span><span class="k">def</span> <span class="nf">g</span><span class="p">(</span><span class="n">i</span><span class="p">,</span><span class="n">j</span><span class="p">):</span>
    <span class="k">return</span> <span class="n">Rational</span><span class="p">(</span><span class="mi">1</span><span class="p">,</span><span class="n">i</span><span class="o">+</span><span class="n">j</span><span class="o">+</span><span class="mi">1</span><span class="p">)</span>
<span class="n">Matrix</span><span class="p">(</span><span class="mi">3</span><span class="p">,</span><span class="mi">3</span><span class="p">,</span><span class="n">g</span><span class="p">)</span>
</pre></div>

</div>
</div>
</div>

<div class="output_wrapper">
<div class="output">


<div class="output_area">

<div class="prompt output_prompt">Out[124]:</div>




<div class="output_latex output_subarea output_execute_result">
$$\left[\begin{matrix}1 & \frac{1}{2} & \frac{1}{3}\\\frac{1}{2} & \frac{1}{3} & \frac{1}{4}\\\frac{1}{3} & \frac{1}{4} & \frac{1}{5}\end{matrix}\right]$$
</div>

</div>

</div>
</div>

</div>
<div class="cell border-box-sizing text_cell rendered"><div class="prompt input_prompt">
</div>
<div class="inner_cell">
<div class="text_cell_render border-box-sizing rendered_html">
<p>Or from an undefined function.</p>

</div>
</div>
</div>
<div class="cell border-box-sizing code_cell rendered">
<div class="input">
<div class="prompt input_prompt">In&nbsp;[125]:</div>
<div class="inner_cell">
    <div class="input_area">
<div class=" highlight hl-ipython3"><pre><span></span><span class="n">g</span><span class="o">=</span><span class="n">Function</span><span class="p">(</span><span class="s1">&#39;g&#39;</span><span class="p">)</span>
<span class="n">M</span><span class="o">=</span><span class="n">Matrix</span><span class="p">(</span><span class="mi">3</span><span class="p">,</span><span class="mi">3</span><span class="p">,</span><span class="n">g</span><span class="p">)</span>
<span class="n">M</span>
</pre></div>

</div>
</div>
</div>

<div class="output_wrapper">
<div class="output">


<div class="output_area">

<div class="prompt output_prompt">Out[125]:</div>




<div class="output_latex output_subarea output_execute_result">
$$\left[\begin{matrix}g{\left (0,0 \right )} & g{\left (0,1 \right )} & g{\left (0,2 \right )}\\g{\left (1,0 \right )} & g{\left (1,1 \right )} & g{\left (1,2 \right )}\\g{\left (2,0 \right )} & g{\left (2,1 \right )} & g{\left (2,2 \right )}\end{matrix}\right]$$
</div>

</div>

</div>
</div>

</div>
<div class="cell border-box-sizing code_cell rendered">
<div class="input">
<div class="prompt input_prompt">In&nbsp;[126]:</div>
<div class="inner_cell">
    <div class="input_area">
<div class=" highlight hl-ipython3"><pre><span></span><span class="n">M</span><span class="p">[</span><span class="mi">1</span><span class="p">,</span><span class="mi">2</span><span class="p">]</span>
</pre></div>

</div>
</div>
</div>

<div class="output_wrapper">
<div class="output">


<div class="output_area">

<div class="prompt output_prompt">Out[126]:</div>




<div class="output_latex output_subarea output_execute_result">
$$g{\left (1,2 \right )}$$
</div>

</div>

</div>
</div>

</div>
<div class="cell border-box-sizing code_cell rendered">
<div class="input">
<div class="prompt input_prompt">In&nbsp;[127]:</div>
<div class="inner_cell">
    <div class="input_area">
<div class=" highlight hl-ipython3"><pre><span></span><span class="n">M</span><span class="p">[</span><span class="mi">1</span><span class="p">,</span><span class="mi">2</span><span class="p">]</span><span class="o">=</span><span class="mi">0</span>
<span class="n">M</span>
</pre></div>

</div>
</div>
</div>

<div class="output_wrapper">
<div class="output">


<div class="output_area">

<div class="prompt output_prompt">Out[127]:</div>




<div class="output_latex output_subarea output_execute_result">
$$\left[\begin{matrix}g{\left (0,0 \right )} & g{\left (0,1 \right )} & g{\left (0,2 \right )}\\g{\left (1,0 \right )} & g{\left (1,1 \right )} & 0\\g{\left (2,0 \right )} & g{\left (2,1 \right )} & g{\left (2,2 \right )}\end{matrix}\right]$$
</div>

</div>

</div>
</div>

</div>
<div class="cell border-box-sizing code_cell rendered">
<div class="input">
<div class="prompt input_prompt">In&nbsp;[128]:</div>
<div class="inner_cell">
    <div class="input_area">
<div class=" highlight hl-ipython3"><pre><span></span><span class="n">M</span><span class="p">[</span><span class="mi">2</span><span class="p">,:]</span>
</pre></div>

</div>
</div>
</div>

<div class="output_wrapper">
<div class="output">


<div class="output_area">

<div class="prompt output_prompt">Out[128]:</div>




<div class="output_latex output_subarea output_execute_result">
$$\left[\begin{matrix}g{\left (2,0 \right )} & g{\left (2,1 \right )} & g{\left (2,2 \right )}\end{matrix}\right]$$
</div>

</div>

</div>
</div>

</div>
<div class="cell border-box-sizing code_cell rendered">
<div class="input">
<div class="prompt input_prompt">In&nbsp;[129]:</div>
<div class="inner_cell">
    <div class="input_area">
<div class=" highlight hl-ipython3"><pre><span></span><span class="n">M</span><span class="p">[:,</span><span class="mi">1</span><span class="p">]</span>
</pre></div>

</div>
</div>
</div>

<div class="output_wrapper">
<div class="output">


<div class="output_area">

<div class="prompt output_prompt">Out[129]:</div>




<div class="output_latex output_subarea output_execute_result">
$$\left[\begin{matrix}g{\left (0,1 \right )}\\g{\left (1,1 \right )}\\g{\left (2,1 \right )}\end{matrix}\right]$$
</div>

</div>

</div>
</div>

</div>
<div class="cell border-box-sizing code_cell rendered">
<div class="input">
<div class="prompt input_prompt">In&nbsp;[130]:</div>
<div class="inner_cell">
    <div class="input_area">
<div class=" highlight hl-ipython3"><pre><span></span><span class="n">M</span><span class="p">[</span><span class="mi">0</span><span class="p">:</span><span class="mi">2</span><span class="p">,</span><span class="mi">1</span><span class="p">:</span><span class="mi">3</span><span class="p">]</span>
</pre></div>

</div>
</div>
</div>

<div class="output_wrapper">
<div class="output">


<div class="output_area">

<div class="prompt output_prompt">Out[130]:</div>




<div class="output_latex output_subarea output_execute_result">
$$\left[\begin{matrix}g{\left (0,1 \right )} & g{\left (0,2 \right )}\\g{\left (1,1 \right )} & 0\end{matrix}\right]$$
</div>

</div>

</div>
</div>

</div>
<div class="cell border-box-sizing text_cell rendered"><div class="prompt input_prompt">
</div>
<div class="inner_cell">
<div class="text_cell_render border-box-sizing rendered_html">
<p>A unit matrix.</p>

</div>
</div>
</div>
<div class="cell border-box-sizing code_cell rendered">
<div class="input">
<div class="prompt input_prompt">In&nbsp;[131]:</div>
<div class="inner_cell">
    <div class="input_area">
<div class=" highlight hl-ipython3"><pre><span></span><span class="n">eye</span><span class="p">(</span><span class="mi">3</span><span class="p">)</span>
</pre></div>

</div>
</div>
</div>

<div class="output_wrapper">
<div class="output">


<div class="output_area">

<div class="prompt output_prompt">Out[131]:</div>




<div class="output_latex output_subarea output_execute_result">
$$\left[\begin{matrix}1 & 0 & 0\\0 & 1 & 0\\0 & 0 & 1\end{matrix}\right]$$
</div>

</div>

</div>
</div>

</div>
<div class="cell border-box-sizing text_cell rendered"><div class="prompt input_prompt">
</div>
<div class="inner_cell">
<div class="text_cell_render border-box-sizing rendered_html">
<p>A zero matrix.</p>

</div>
</div>
</div>
<div class="cell border-box-sizing code_cell rendered">
<div class="input">
<div class="prompt input_prompt">In&nbsp;[132]:</div>
<div class="inner_cell">
    <div class="input_area">
<div class=" highlight hl-ipython3"><pre><span></span><span class="n">zeros</span><span class="p">(</span><span class="mi">3</span><span class="p">)</span>
</pre></div>

</div>
</div>
</div>

<div class="output_wrapper">
<div class="output">


<div class="output_area">

<div class="prompt output_prompt">Out[132]:</div>




<div class="output_latex output_subarea output_execute_result">
$$\left[\begin{matrix}0 & 0 & 0\\0 & 0 & 0\\0 & 0 & 0\end{matrix}\right]$$
</div>

</div>

</div>
</div>

</div>
<div class="cell border-box-sizing code_cell rendered">
<div class="input">
<div class="prompt input_prompt">In&nbsp;[133]:</div>
<div class="inner_cell">
    <div class="input_area">
<div class=" highlight hl-ipython3"><pre><span></span><span class="n">zeros</span><span class="p">(</span><span class="mi">2</span><span class="p">,</span><span class="mi">3</span><span class="p">)</span>
</pre></div>

</div>
</div>
</div>

<div class="output_wrapper">
<div class="output">


<div class="output_area">

<div class="prompt output_prompt">Out[133]:</div>




<div class="output_latex output_subarea output_execute_result">
$$\left[\begin{matrix}0 & 0 & 0\\0 & 0 & 0\end{matrix}\right]$$
</div>

</div>

</div>
</div>

</div>
<div class="cell border-box-sizing text_cell rendered"><div class="prompt input_prompt">
</div>
<div class="inner_cell">
<div class="text_cell_render border-box-sizing rendered_html">
<p>A diagonal matrix.</p>

</div>
</div>
</div>
<div class="cell border-box-sizing code_cell rendered">
<div class="input">
<div class="prompt input_prompt">In&nbsp;[134]:</div>
<div class="inner_cell">
    <div class="input_area">
<div class=" highlight hl-ipython3"><pre><span></span><span class="n">diag</span><span class="p">(</span><span class="mi">1</span><span class="p">,</span><span class="mi">2</span><span class="p">,</span><span class="mi">3</span><span class="p">)</span>
</pre></div>

</div>
</div>
</div>

<div class="output_wrapper">
<div class="output">


<div class="output_area">

<div class="prompt output_prompt">Out[134]:</div>




<div class="output_latex output_subarea output_execute_result">
$$\left[\begin{matrix}1 & 0 & 0\\0 & 2 & 0\\0 & 0 & 3\end{matrix}\right]$$
</div>

</div>

</div>
</div>

</div>
<div class="cell border-box-sizing code_cell rendered">
<div class="input">
<div class="prompt input_prompt">In&nbsp;[135]:</div>
<div class="inner_cell">
    <div class="input_area">
<div class=" highlight hl-ipython3"><pre><span></span><span class="n">M</span><span class="o">=</span><span class="n">Matrix</span><span class="p">([[</span><span class="n">a</span><span class="p">,</span><span class="mi">1</span><span class="p">],[</span><span class="mi">0</span><span class="p">,</span><span class="n">a</span><span class="p">]])</span>
<span class="n">diag</span><span class="p">(</span><span class="mi">1</span><span class="p">,</span><span class="n">M</span><span class="p">,</span><span class="mi">2</span><span class="p">)</span>
</pre></div>

</div>
</div>
</div>

<div class="output_wrapper">
<div class="output">


<div class="output_area">

<div class="prompt output_prompt">Out[135]:</div>




<div class="output_latex output_subarea output_execute_result">
$$\left[\begin{matrix}1 & 0 & 0 & 0\\0 & a & 1 & 0\\0 & 0 & a & 0\\0 & 0 & 0 & 2\end{matrix}\right]$$
</div>

</div>

</div>
</div>

</div>
<div class="cell border-box-sizing text_cell rendered"><div class="prompt input_prompt">
</div>
<div class="inner_cell">
<div class="text_cell_render border-box-sizing rendered_html">
<p>Operations with matrices.</p>

</div>
</div>
</div>
<div class="cell border-box-sizing code_cell rendered">
<div class="input">
<div class="prompt input_prompt">In&nbsp;[136]:</div>
<div class="inner_cell">
    <div class="input_area">
<div class=" highlight hl-ipython3"><pre><span></span><span class="n">A</span><span class="o">=</span><span class="n">Matrix</span><span class="p">([[</span><span class="n">a</span><span class="p">,</span><span class="n">b</span><span class="p">],[</span><span class="n">c</span><span class="p">,</span><span class="n">d</span><span class="p">]])</span>
<span class="n">B</span><span class="o">=</span><span class="n">Matrix</span><span class="p">([[</span><span class="mi">1</span><span class="p">,</span><span class="mi">2</span><span class="p">],[</span><span class="mi">3</span><span class="p">,</span><span class="mi">4</span><span class="p">]])</span>
<span class="n">A</span><span class="o">+</span><span class="n">B</span>
</pre></div>

</div>
</div>
</div>

<div class="output_wrapper">
<div class="output">


<div class="output_area">

<div class="prompt output_prompt">Out[136]:</div>




<div class="output_latex output_subarea output_execute_result">
$$\left[\begin{matrix}a + 1 & b + 2\\c + 3 & d + 4\end{matrix}\right]$$
</div>

</div>

</div>
</div>

</div>
<div class="cell border-box-sizing code_cell rendered">
<div class="input">
<div class="prompt input_prompt">In&nbsp;[137]:</div>
<div class="inner_cell">
    <div class="input_area">
<div class=" highlight hl-ipython3"><pre><span></span><span class="n">A</span><span class="o">*</span><span class="n">B</span><span class="p">,</span><span class="n">B</span><span class="o">*</span><span class="n">A</span>
</pre></div>

</div>
</div>
</div>

<div class="output_wrapper">
<div class="output">


<div class="output_area">

<div class="prompt output_prompt">Out[137]:</div>




<div class="output_latex output_subarea output_execute_result">
$$\left ( \left[\begin{matrix}a + 3 b & 2 a + 4 b\\c + 3 d & 2 c + 4 d\end{matrix}\right], \quad \left[\begin{matrix}a + 2 c & b + 2 d\\3 a + 4 c & 3 b + 4 d\end{matrix}\right]\right )$$
</div>

</div>

</div>
</div>

</div>
<div class="cell border-box-sizing code_cell rendered">
<div class="input">
<div class="prompt input_prompt">In&nbsp;[138]:</div>
<div class="inner_cell">
    <div class="input_area">
<div class=" highlight hl-ipython3"><pre><span></span><span class="n">A</span><span class="o">*</span><span class="n">B</span><span class="o">-</span><span class="n">B</span><span class="o">*</span><span class="n">A</span>
</pre></div>

</div>
</div>
</div>

<div class="output_wrapper">
<div class="output">


<div class="output_area">

<div class="prompt output_prompt">Out[138]:</div>




<div class="output_latex output_subarea output_execute_result">
$$\left[\begin{matrix}3 b - 2 c & 2 a + 3 b - 2 d\\- 3 a - 3 c + 3 d & - 3 b + 2 c\end{matrix}\right]$$
</div>

</div>

</div>
</div>

</div>
<div class="cell border-box-sizing code_cell rendered">
<div class="input">
<div class="prompt input_prompt">In&nbsp;[139]:</div>
<div class="inner_cell">
    <div class="input_area">
<div class=" highlight hl-ipython3"><pre><span></span><span class="n">simplify</span><span class="p">(</span><span class="n">A</span><span class="o">**</span><span class="p">(</span><span class="o">-</span><span class="mi">1</span><span class="p">))</span>
</pre></div>

</div>
</div>
</div>

<div class="output_wrapper">
<div class="output">


<div class="output_area">

<div class="prompt output_prompt">Out[139]:</div>




<div class="output_latex output_subarea output_execute_result">
$$\left[\begin{matrix}\frac{d}{a d - b c} & - \frac{b}{a d - b c}\\- \frac{c}{a d - b c} & \frac{a}{a d - b c}\end{matrix}\right]$$
</div>

</div>

</div>
</div>

</div>
<div class="cell border-box-sizing code_cell rendered">
<div class="input">
<div class="prompt input_prompt">In&nbsp;[140]:</div>
<div class="inner_cell">
    <div class="input_area">
<div class=" highlight hl-ipython3"><pre><span></span><span class="n">det</span><span class="p">(</span><span class="n">A</span><span class="p">)</span>
</pre></div>

</div>
</div>
</div>

<div class="output_wrapper">
<div class="output">


<div class="output_area">

<div class="prompt output_prompt">Out[140]:</div>




<div class="output_latex output_subarea output_execute_result">
$$a d - b c$$
</div>

</div>

</div>
</div>

</div>
<div class="cell border-box-sizing text_cell rendered"><div class="prompt input_prompt">
</div>
<div class="inner_cell">
<div class="text_cell_render border-box-sizing rendered_html">
<h3 id="Eigenvalues-and-eigenvectors">Eigenvalues and eigenvectors<a class="anchor-link" href="#Eigenvalues-and-eigenvectors">&#182;</a></h3>
</div>
</div>
</div>
<div class="cell border-box-sizing code_cell rendered">
<div class="input">
<div class="prompt input_prompt">In&nbsp;[141]:</div>
<div class="inner_cell">
    <div class="input_area">
<div class=" highlight hl-ipython3"><pre><span></span><span class="n">x</span><span class="o">=</span><span class="n">Symbol</span><span class="p">(</span><span class="s1">&#39;x&#39;</span><span class="p">,</span><span class="n">real</span><span class="o">=</span><span class="kc">True</span><span class="p">)</span>
</pre></div>

</div>
</div>
</div>

</div>
<div class="cell border-box-sizing code_cell rendered">
<div class="input">
<div class="prompt input_prompt">In&nbsp;[142]:</div>
<div class="inner_cell">
    <div class="input_area">
<div class=" highlight hl-ipython3"><pre><span></span><span class="n">M</span><span class="o">=</span><span class="n">Matrix</span><span class="p">([[(</span><span class="mi">1</span><span class="o">-</span><span class="n">x</span><span class="p">)</span><span class="o">**</span><span class="mi">3</span><span class="o">*</span><span class="p">(</span><span class="mi">3</span><span class="o">+</span><span class="n">x</span><span class="p">),</span><span class="mi">4</span><span class="o">*</span><span class="n">x</span><span class="o">*</span><span class="p">(</span><span class="mi">1</span><span class="o">-</span><span class="n">x</span><span class="o">**</span><span class="mi">2</span><span class="p">),</span><span class="o">-</span><span class="mi">2</span><span class="o">*</span><span class="p">(</span><span class="mi">1</span><span class="o">-</span><span class="n">x</span><span class="o">**</span><span class="mi">2</span><span class="p">)</span><span class="o">*</span><span class="p">(</span><span class="mi">3</span><span class="o">-</span><span class="n">x</span><span class="p">)],</span>
          <span class="p">[</span><span class="mi">4</span><span class="o">*</span><span class="n">x</span><span class="o">*</span><span class="p">(</span><span class="mi">1</span><span class="o">-</span><span class="n">x</span><span class="o">**</span><span class="mi">2</span><span class="p">),</span><span class="o">-</span><span class="p">(</span><span class="mi">1</span><span class="o">+</span><span class="n">x</span><span class="p">)</span><span class="o">**</span><span class="mi">3</span><span class="o">*</span><span class="p">(</span><span class="mi">3</span><span class="o">-</span><span class="n">x</span><span class="p">),</span><span class="mi">2</span><span class="o">*</span><span class="p">(</span><span class="mi">1</span><span class="o">-</span><span class="n">x</span><span class="o">**</span><span class="mi">2</span><span class="p">)</span><span class="o">*</span><span class="p">(</span><span class="mi">3</span><span class="o">+</span><span class="n">x</span><span class="p">)],</span>
          <span class="p">[</span><span class="o">-</span><span class="mi">2</span><span class="o">*</span><span class="p">(</span><span class="mi">1</span><span class="o">-</span><span class="n">x</span><span class="o">**</span><span class="mi">2</span><span class="p">)</span><span class="o">*</span><span class="p">(</span><span class="mi">3</span><span class="o">-</span><span class="n">x</span><span class="p">),</span><span class="mi">2</span><span class="o">*</span><span class="p">(</span><span class="mi">1</span><span class="o">-</span><span class="n">x</span><span class="o">**</span><span class="mi">2</span><span class="p">)</span><span class="o">*</span><span class="p">(</span><span class="mi">3</span><span class="o">+</span><span class="n">x</span><span class="p">),</span><span class="mi">16</span><span class="o">*</span><span class="n">x</span><span class="p">]])</span>
<span class="n">M</span>
</pre></div>

</div>
</div>
</div>

<div class="output_wrapper">
<div class="output">


<div class="output_area">

<div class="prompt output_prompt">Out[142]:</div>




<div class="output_latex output_subarea output_execute_result">
$$\left[\begin{matrix}\left(- x + 1\right)^{3} \left(x + 3\right) & 4 x \left(- x^{2} + 1\right) & \left(- x + 3\right) \left(2 x^{2} - 2\right)\\4 x \left(- x^{2} + 1\right) & - \left(- x + 3\right) \left(x + 1\right)^{3} & \left(x + 3\right) \left(- 2 x^{2} + 2\right)\\\left(- x + 3\right) \left(2 x^{2} - 2\right) & \left(x + 3\right) \left(- 2 x^{2} + 2\right) & 16 x\end{matrix}\right]$$
</div>

</div>

</div>
</div>

</div>
<div class="cell border-box-sizing code_cell rendered">
<div class="input">
<div class="prompt input_prompt">In&nbsp;[143]:</div>
<div class="inner_cell">
    <div class="input_area">
<div class=" highlight hl-ipython3"><pre><span></span><span class="n">det</span><span class="p">(</span><span class="n">M</span><span class="p">)</span>
</pre></div>

</div>
</div>
</div>

<div class="output_wrapper">
<div class="output">


<div class="output_area">

<div class="prompt output_prompt">Out[143]:</div>




<div class="output_latex output_subarea output_execute_result">
$$0$$
</div>

</div>

</div>
</div>

</div>
<div class="cell border-box-sizing text_cell rendered"><div class="prompt input_prompt">
</div>
<div class="inner_cell">
<div class="text_cell_render border-box-sizing rendered_html">
<p>This means that this matrix has a null space (this matrix transforms vectors from this subspace into 0). Let's find a basis of this subspace.</p>

</div>
</div>
</div>
<div class="cell border-box-sizing code_cell rendered">
<div class="input">
<div class="prompt input_prompt">In&nbsp;[144]:</div>
<div class="inner_cell">
    <div class="input_area">
<div class=" highlight hl-ipython3"><pre><span></span><span class="n">v</span><span class="o">=</span><span class="n">M</span><span class="o">.</span><span class="n">nullspace</span><span class="p">()</span>
<span class="nb">len</span><span class="p">(</span><span class="n">v</span><span class="p">)</span>
</pre></div>

</div>
</div>
</div>

<div class="output_wrapper">
<div class="output">


<div class="output_area">

<div class="prompt output_prompt">Out[144]:</div>




<div class="output_latex output_subarea output_execute_result">
$$1$$
</div>

</div>

</div>
</div>

</div>
<div class="cell border-box-sizing text_cell rendered"><div class="prompt input_prompt">
</div>
<div class="inner_cell">
<div class="text_cell_render border-box-sizing rendered_html">
<p>It is one-dimensional.</p>

</div>
</div>
</div>
<div class="cell border-box-sizing code_cell rendered">
<div class="input">
<div class="prompt input_prompt">In&nbsp;[145]:</div>
<div class="inner_cell">
    <div class="input_area">
<div class=" highlight hl-ipython3"><pre><span></span><span class="n">v</span><span class="o">=</span><span class="n">simplify</span><span class="p">(</span><span class="n">v</span><span class="p">[</span><span class="mi">0</span><span class="p">])</span>
<span class="n">v</span>
</pre></div>

</div>
</div>
</div>

<div class="output_wrapper">
<div class="output">


<div class="output_area">

<div class="prompt output_prompt">Out[145]:</div>




<div class="output_latex output_subarea output_execute_result">
$$\left[\begin{matrix}- \frac{2}{x - 1}\\\frac{2}{x + 1}\\1\end{matrix}\right]$$
</div>

</div>

</div>
</div>

</div>
<div class="cell border-box-sizing text_cell rendered"><div class="prompt input_prompt">
</div>
<div class="inner_cell">
<div class="text_cell_render border-box-sizing rendered_html">
<p>Let's check.</p>

</div>
</div>
</div>
<div class="cell border-box-sizing code_cell rendered">
<div class="input">
<div class="prompt input_prompt">In&nbsp;[146]:</div>
<div class="inner_cell">
    <div class="input_area">
<div class=" highlight hl-ipython3"><pre><span></span><span class="n">simplify</span><span class="p">(</span><span class="n">M</span><span class="o">*</span><span class="n">v</span><span class="p">)</span>
</pre></div>

</div>
</div>
</div>

<div class="output_wrapper">
<div class="output">


<div class="output_area">

<div class="prompt output_prompt">Out[146]:</div>




<div class="output_latex output_subarea output_execute_result">
$$\left[\begin{matrix}0\\0\\0\end{matrix}\right]$$
</div>

</div>

</div>
</div>

</div>
<div class="cell border-box-sizing text_cell rendered"><div class="prompt input_prompt">
</div>
<div class="inner_cell">
<div class="text_cell_render border-box-sizing rendered_html">
<p>The eigenvalues and their multiplicities.</p>

</div>
</div>
</div>
<div class="cell border-box-sizing code_cell rendered">
<div class="input">
<div class="prompt input_prompt">In&nbsp;[147]:</div>
<div class="inner_cell">
    <div class="input_area">
<div class=" highlight hl-ipython3"><pre><span></span><span class="n">M</span><span class="o">.</span><span class="n">eigenvals</span><span class="p">()</span>
</pre></div>

</div>
</div>
</div>

<div class="output_wrapper">
<div class="output">


<div class="output_area">

<div class="prompt output_prompt">Out[147]:</div>




<div class="output_latex output_subarea output_execute_result">
$$\left \{ 0 : 1, \quad - \left(x^{2} + 3\right)^{2} : 1, \quad \left(x^{2} + 3\right)^{2} : 1\right \}$$
</div>

</div>

</div>
</div>

</div>
<div class="cell border-box-sizing text_cell rendered"><div class="prompt input_prompt">
</div>
<div class="inner_cell">
<div class="text_cell_render border-box-sizing rendered_html">
<p>If both eigenvalues and corresponding eigenvectors are needed, the method <code>eigenvects</code> is used. It returns a list of tuples. In each tuple the zeroth element is an eigenvalue, the first one is its multiplicity, and the last one is a list of corresponding basis eigenvectors (their number is the multiplicity).</p>

</div>
</div>
</div>
<div class="cell border-box-sizing code_cell rendered">
<div class="input">
<div class="prompt input_prompt">In&nbsp;[148]:</div>
<div class="inner_cell">
    <div class="input_area">
<div class=" highlight hl-ipython3"><pre><span></span><span class="n">v</span><span class="o">=</span><span class="n">M</span><span class="o">.</span><span class="n">eigenvects</span><span class="p">()</span>
<span class="nb">len</span><span class="p">(</span><span class="n">v</span><span class="p">)</span>
</pre></div>

</div>
</div>
</div>

<div class="output_wrapper">
<div class="output">


<div class="output_area">

<div class="prompt output_prompt">Out[148]:</div>




<div class="output_latex output_subarea output_execute_result">
$$3$$
</div>

</div>

</div>
</div>

</div>
<div class="cell border-box-sizing code_cell rendered">
<div class="input">
<div class="prompt input_prompt">In&nbsp;[149]:</div>
<div class="inner_cell">
    <div class="input_area">
<div class=" highlight hl-ipython3"><pre><span></span><span class="k">for</span> <span class="n">i</span> <span class="ow">in</span> <span class="nb">range</span><span class="p">(</span><span class="nb">len</span><span class="p">(</span><span class="n">v</span><span class="p">)):</span>
    <span class="n">v</span><span class="p">[</span><span class="n">i</span><span class="p">][</span><span class="mi">2</span><span class="p">][</span><span class="mi">0</span><span class="p">]</span><span class="o">=</span><span class="n">simplify</span><span class="p">(</span><span class="n">v</span><span class="p">[</span><span class="n">i</span><span class="p">][</span><span class="mi">2</span><span class="p">][</span><span class="mi">0</span><span class="p">])</span>
<span class="n">v</span>
</pre></div>

</div>
</div>
</div>

<div class="output_wrapper">
<div class="output">


<div class="output_area">

<div class="prompt output_prompt">Out[149]:</div>




<div class="output_latex output_subarea output_execute_result">
$$\left [ \left ( 0, \quad 1, \quad \left [ \left[\begin{matrix}- \frac{2}{x - 1}\\\frac{2}{x + 1}\\1\end{matrix}\right]\right ]\right ), \quad \left ( - \left(x^{2} + 3\right)^{2}, \quad 1, \quad \left [ \left[\begin{matrix}\frac{x}{2} + \frac{1}{2}\\\frac{x + 1}{x - 1}\\1\end{matrix}\right]\right ]\right ), \quad \left ( \left(x^{2} + 3\right)^{2}, \quad 1, \quad \left [ \left[\begin{matrix}\frac{x - 1}{x + 1}\\- \frac{x}{2} + \frac{1}{2}\\1\end{matrix}\right]\right ]\right )\right ]$$
</div>

</div>

</div>
</div>

</div>
<div class="cell border-box-sizing text_cell rendered"><div class="prompt input_prompt">
</div>
<div class="inner_cell">
<div class="text_cell_render border-box-sizing rendered_html">
<p>Let's check.</p>

</div>
</div>
</div>
<div class="cell border-box-sizing code_cell rendered">
<div class="input">
<div class="prompt input_prompt">In&nbsp;[150]:</div>
<div class="inner_cell">
    <div class="input_area">
<div class=" highlight hl-ipython3"><pre><span></span><span class="k">for</span> <span class="n">i</span> <span class="ow">in</span> <span class="nb">range</span><span class="p">(</span><span class="nb">len</span><span class="p">(</span><span class="n">v</span><span class="p">)):</span>
    <span class="n">z</span><span class="o">=</span><span class="n">M</span><span class="o">*</span><span class="n">v</span><span class="p">[</span><span class="n">i</span><span class="p">][</span><span class="mi">2</span><span class="p">][</span><span class="mi">0</span><span class="p">]</span><span class="o">-</span><span class="n">v</span><span class="p">[</span><span class="n">i</span><span class="p">][</span><span class="mi">0</span><span class="p">]</span><span class="o">*</span><span class="n">v</span><span class="p">[</span><span class="n">i</span><span class="p">][</span><span class="mi">2</span><span class="p">][</span><span class="mi">0</span><span class="p">]</span>
    <span class="n">pprint</span><span class="p">(</span><span class="n">simplify</span><span class="p">(</span><span class="n">z</span><span class="p">))</span>
</pre></div>

</div>
</div>
</div>

<div class="output_wrapper">
<div class="output">


<div class="output_area">

<div class="prompt"></div>


<div class="output_subarea output_stream output_stdout output_text">
<pre>⎡0⎤
⎢ ⎥
⎢0⎥
⎢ ⎥
⎣0⎦
⎡0⎤
⎢ ⎥
⎢0⎥
⎢ ⎥
⎣0⎦
⎡0⎤
⎢ ⎥
⎢0⎥
⎢ ⎥
⎣0⎦
</pre>
</div>
</div>

</div>
</div>

</div>
<div class="cell border-box-sizing text_cell rendered"><div class="prompt input_prompt">
</div>
<div class="inner_cell">
<div class="text_cell_render border-box-sizing rendered_html">
<h3 id="Jordan-normal-form">Jordan normal form<a class="anchor-link" href="#Jordan-normal-form">&#182;</a></h3>
</div>
</div>
</div>
<div class="cell border-box-sizing code_cell rendered">
<div class="input">
<div class="prompt input_prompt">In&nbsp;[151]:</div>
<div class="inner_cell">
    <div class="input_area">
<div class=" highlight hl-ipython3"><pre><span></span><span class="n">M</span><span class="o">=</span><span class="n">Matrix</span><span class="p">([[</span><span class="n">Rational</span><span class="p">(</span><span class="mi">13</span><span class="p">,</span><span class="mi">9</span><span class="p">),</span><span class="o">-</span><span class="n">Rational</span><span class="p">(</span><span class="mi">2</span><span class="p">,</span><span class="mi">9</span><span class="p">),</span><span class="n">Rational</span><span class="p">(</span><span class="mi">1</span><span class="p">,</span><span class="mi">3</span><span class="p">),</span><span class="n">Rational</span><span class="p">(</span><span class="mi">4</span><span class="p">,</span><span class="mi">9</span><span class="p">),</span><span class="n">Rational</span><span class="p">(</span><span class="mi">2</span><span class="p">,</span><span class="mi">3</span><span class="p">)],</span>
          <span class="p">[</span><span class="o">-</span><span class="n">Rational</span><span class="p">(</span><span class="mi">2</span><span class="p">,</span><span class="mi">9</span><span class="p">),</span><span class="n">Rational</span><span class="p">(</span><span class="mi">10</span><span class="p">,</span><span class="mi">9</span><span class="p">),</span><span class="n">Rational</span><span class="p">(</span><span class="mi">2</span><span class="p">,</span><span class="mi">15</span><span class="p">),</span><span class="o">-</span><span class="n">Rational</span><span class="p">(</span><span class="mi">2</span><span class="p">,</span><span class="mi">9</span><span class="p">),</span><span class="o">-</span><span class="n">Rational</span><span class="p">(</span><span class="mi">11</span><span class="p">,</span><span class="mi">15</span><span class="p">)],</span>
          <span class="p">[</span><span class="n">Rational</span><span class="p">(</span><span class="mi">1</span><span class="p">,</span><span class="mi">5</span><span class="p">),</span><span class="o">-</span><span class="n">Rational</span><span class="p">(</span><span class="mi">2</span><span class="p">,</span><span class="mi">5</span><span class="p">),</span><span class="n">Rational</span><span class="p">(</span><span class="mi">41</span><span class="p">,</span><span class="mi">25</span><span class="p">),</span><span class="o">-</span><span class="n">Rational</span><span class="p">(</span><span class="mi">2</span><span class="p">,</span><span class="mi">5</span><span class="p">),</span><span class="n">Rational</span><span class="p">(</span><span class="mi">12</span><span class="p">,</span><span class="mi">25</span><span class="p">)],</span>
          <span class="p">[</span><span class="n">Rational</span><span class="p">(</span><span class="mi">4</span><span class="p">,</span><span class="mi">9</span><span class="p">),</span><span class="o">-</span><span class="n">Rational</span><span class="p">(</span><span class="mi">2</span><span class="p">,</span><span class="mi">9</span><span class="p">),</span><span class="n">Rational</span><span class="p">(</span><span class="mi">14</span><span class="p">,</span><span class="mi">15</span><span class="p">),</span><span class="n">Rational</span><span class="p">(</span><span class="mi">13</span><span class="p">,</span><span class="mi">9</span><span class="p">),</span><span class="o">-</span><span class="n">Rational</span><span class="p">(</span><span class="mi">2</span><span class="p">,</span><span class="mi">15</span><span class="p">)],</span>
          <span class="p">[</span><span class="o">-</span><span class="n">Rational</span><span class="p">(</span><span class="mi">4</span><span class="p">,</span><span class="mi">15</span><span class="p">),</span><span class="n">Rational</span><span class="p">(</span><span class="mi">8</span><span class="p">,</span><span class="mi">15</span><span class="p">),</span><span class="n">Rational</span><span class="p">(</span><span class="mi">12</span><span class="p">,</span><span class="mi">25</span><span class="p">),</span><span class="n">Rational</span><span class="p">(</span><span class="mi">8</span><span class="p">,</span><span class="mi">15</span><span class="p">),</span><span class="n">Rational</span><span class="p">(</span><span class="mi">34</span><span class="p">,</span><span class="mi">25</span><span class="p">)]])</span>
<span class="n">M</span>
</pre></div>

</div>
</div>
</div>

<div class="output_wrapper">
<div class="output">


<div class="output_area">

<div class="prompt output_prompt">Out[151]:</div>




<div class="output_latex output_subarea output_execute_result">
$$\left[\begin{matrix}\frac{13}{9} & - \frac{2}{9} & \frac{1}{3} & \frac{4}{9} & \frac{2}{3}\\- \frac{2}{9} & \frac{10}{9} & \frac{2}{15} & - \frac{2}{9} & - \frac{11}{15}\\\frac{1}{5} & - \frac{2}{5} & \frac{41}{25} & - \frac{2}{5} & \frac{12}{25}\\\frac{4}{9} & - \frac{2}{9} & \frac{14}{15} & \frac{13}{9} & - \frac{2}{15}\\- \frac{4}{15} & \frac{8}{15} & \frac{12}{25} & \frac{8}{15} & \frac{34}{25}\end{matrix}\right]$$
</div>

</div>

</div>
</div>

</div>
<div class="cell border-box-sizing text_cell rendered"><div class="prompt input_prompt">
</div>
<div class="inner_cell">
<div class="text_cell_render border-box-sizing rendered_html">
<p>The method <code>M.jordan_form()</code> returns a couple of matrices, the transformation matrix $P$ and the Jordan form $J$: $M = P J P^{-1}$.</p>

</div>
</div>
</div>
<div class="cell border-box-sizing code_cell rendered">
<div class="input">
<div class="prompt input_prompt">In&nbsp;[152]:</div>
<div class="inner_cell">
    <div class="input_area">
<div class=" highlight hl-ipython3"><pre><span></span><span class="n">P</span><span class="p">,</span><span class="n">J</span><span class="o">=</span><span class="n">M</span><span class="o">.</span><span class="n">jordan_form</span><span class="p">()</span>
<span class="n">J</span>
</pre></div>

</div>
</div>
</div>

<div class="output_wrapper">
<div class="output">


<div class="output_area">

<div class="prompt output_prompt">Out[152]:</div>




<div class="output_latex output_subarea output_execute_result">
$$\left[\begin{matrix}1 & 0 & 0 & 0 & 0\\0 & 2 & 1 & 0 & 0\\0 & 0 & 2 & 0 & 0\\0 & 0 & 0 & 1 - i & 0\\0 & 0 & 0 & 0 & 1 + i\end{matrix}\right]$$
</div>

</div>

</div>
</div>

</div>
<div class="cell border-box-sizing code_cell rendered">
<div class="input">
<div class="prompt input_prompt">In&nbsp;[153]:</div>
<div class="inner_cell">
    <div class="input_area">
<div class=" highlight hl-ipython3"><pre><span></span><span class="n">P</span><span class="o">=</span><span class="n">simplify</span><span class="p">(</span><span class="n">P</span><span class="p">)</span>
<span class="n">P</span>
</pre></div>

</div>
</div>
</div>

<div class="output_wrapper">
<div class="output">


<div class="output_area">

<div class="prompt output_prompt">Out[153]:</div>




<div class="output_latex output_subarea output_execute_result">
$$\left[\begin{matrix}-2 & \frac{10}{9} & 0 & \frac{5 i}{12} & - \frac{5 i}{12}\\-2 & - \frac{5}{9} & 0 & - \frac{5 i}{6} & \frac{5 i}{6}\\0 & 0 & \frac{4}{3} & - \frac{3}{4} & - \frac{3}{4}\\1 & \frac{10}{9} & 0 & - \frac{5 i}{6} & \frac{5 i}{6}\\0 & 0 & 1 & 1 & 1\end{matrix}\right]$$
</div>

</div>

</div>
</div>

</div>
<div class="cell border-box-sizing text_cell rendered"><div class="prompt input_prompt">
</div>
<div class="inner_cell">
<div class="text_cell_render border-box-sizing rendered_html">
<p>Let's check.</p>

</div>
</div>
</div>
<div class="cell border-box-sizing code_cell rendered">
<div class="input">
<div class="prompt input_prompt">In&nbsp;[154]:</div>
<div class="inner_cell">
    <div class="input_area">
<div class=" highlight hl-ipython3"><pre><span></span><span class="n">Z</span><span class="o">=</span><span class="n">P</span><span class="o">*</span><span class="n">J</span><span class="o">*</span><span class="n">P</span><span class="o">**</span><span class="p">(</span><span class="o">-</span><span class="mi">1</span><span class="p">)</span><span class="o">-</span><span class="n">M</span>
<span class="n">simplify</span><span class="p">(</span><span class="n">Z</span><span class="p">)</span>
</pre></div>

</div>
</div>
</div>

<div class="output_wrapper">
<div class="output">


<div class="output_area">

<div class="prompt output_prompt">Out[154]:</div>




<div class="output_latex output_subarea output_execute_result">
$$\left[\begin{matrix}0 & 0 & 0 & 0 & 0\\0 & 0 & 0 & 0 & 0\\0 & 0 & 0 & 0 & 0\\0 & 0 & 0 & 0 & 0\\0 & 0 & 0 & 0 & 0\end{matrix}\right]$$
</div>

</div>

</div>
</div>

</div>
<div class="cell border-box-sizing text_cell rendered"><div class="prompt input_prompt">
</div>
<div class="inner_cell">
<div class="text_cell_render border-box-sizing rendered_html">
<h2 id="Plots">Plots<a class="anchor-link" href="#Plots">&#182;</a></h2><p><code>SymPy</code> uses <code>matplotlib</code>. However, it distributes $x$ points adaptively, not uniformly.</p>

</div>
</div>
</div>
<div class="cell border-box-sizing code_cell rendered">
<div class="input">
<div class="prompt input_prompt">In&nbsp;[155]:</div>
<div class="inner_cell">
    <div class="input_area">
<div class=" highlight hl-ipython3"><pre><span></span><span class="o">%</span><span class="k">matplotlib</span> inline
</pre></div>

</div>
</div>
</div>

</div>
<div class="cell border-box-sizing text_cell rendered"><div class="prompt input_prompt">
</div>
<div class="inner_cell">
<div class="text_cell_render border-box-sizing rendered_html">
<p>A single function.</p>

</div>
</div>
</div>
<div class="cell border-box-sizing code_cell rendered">
<div class="input">
<div class="prompt input_prompt">In&nbsp;[156]:</div>
<div class="inner_cell">
    <div class="input_area">
<div class=" highlight hl-ipython3"><pre><span></span><span class="n">plot</span><span class="p">(</span><span class="n">sin</span><span class="p">(</span><span class="n">x</span><span class="p">)</span><span class="o">/</span><span class="n">x</span><span class="p">,(</span><span class="n">x</span><span class="p">,</span><span class="o">-</span><span class="mi">10</span><span class="p">,</span><span class="mi">10</span><span class="p">))</span>
</pre></div>

</div>
</div>
</div>

<div class="output_wrapper">
<div class="output">


<div class="output_area">

<div class="prompt"></div>




<div class="output_png output_subarea ">
<img src="data:image/png;base64,iVBORw0KGgoAAAANSUhEUgAAAW4AAAD7CAYAAABKfn7LAAAABHNCSVQICAgIfAhkiAAAAAlwSFlz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"
>
</div>

</div>

<div class="output_area">

<div class="prompt output_prompt">Out[156]:</div>




<div class="output_text output_subarea output_execute_result">
<pre>&lt;sympy.plotting.plot.Plot at 0xaf87e90c&gt;</pre>
</div>

</div>

</div>
</div>

</div>
<div class="cell border-box-sizing text_cell rendered"><div class="prompt input_prompt">
</div>
<div class="inner_cell">
<div class="text_cell_render border-box-sizing rendered_html">
<p>Several functions.</p>

</div>
</div>
</div>
<div class="cell border-box-sizing code_cell rendered">
<div class="input">
<div class="prompt input_prompt">In&nbsp;[157]:</div>
<div class="inner_cell">
    <div class="input_area">
<div class=" highlight hl-ipython3"><pre><span></span><span class="n">plot</span><span class="p">(</span><span class="n">x</span><span class="p">,</span><span class="n">x</span><span class="o">**</span><span class="mi">2</span><span class="p">,</span><span class="n">x</span><span class="o">**</span><span class="mi">3</span><span class="p">,(</span><span class="n">x</span><span class="p">,</span><span class="mi">0</span><span class="p">,</span><span class="mi">2</span><span class="p">))</span>
</pre></div>

</div>
</div>
</div>

<div class="output_wrapper">
<div class="output">


<div class="output_area">

<div class="prompt"></div>




<div class="output_png output_subarea ">
<img src="data:image/png;base64,iVBORw0KGgoAAAANSUhEUgAAAX4AAAETCAYAAAAxsG14AAAABHNCSVQICAgIfAhkiAAAAAlwSFlz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"
>
</div>

</div>

<div class="output_area">

<div class="prompt output_prompt">Out[157]:</div>




<div class="output_text output_subarea output_execute_result">
<pre>&lt;sympy.plotting.plot.Plot at 0xb136652c&gt;</pre>
</div>

</div>

</div>
</div>

</div>
<div class="cell border-box-sizing text_cell rendered"><div class="prompt input_prompt">
</div>
<div class="inner_cell">
<div class="text_cell_render border-box-sizing rendered_html">
<p>Some additional plotting functions can be imported from <code>sympy.plotting</code>.</p>

</div>
</div>
</div>
<div class="cell border-box-sizing code_cell rendered">
<div class="input">
<div class="prompt input_prompt">In&nbsp;[158]:</div>
<div class="inner_cell">
    <div class="input_area">
<div class=" highlight hl-ipython3"><pre><span></span><span class="kn">from</span> <span class="nn">sympy.plotting</span> <span class="k">import</span> <span class="p">(</span><span class="n">plot_parametric</span><span class="p">,</span><span class="n">plot_implicit</span><span class="p">,</span>
                            <span class="n">plot3d</span><span class="p">,</span><span class="n">plot3d_parametric_line</span><span class="p">,</span>
                            <span class="n">plot3d_parametric_surface</span><span class="p">)</span>
</pre></div>

</div>
</div>
</div>

</div>
<div class="cell border-box-sizing text_cell rendered"><div class="prompt input_prompt">
</div>
<div class="inner_cell">
<div class="text_cell_render border-box-sizing rendered_html">
<p>A parametric plot - a Lissajous curve.</p>

</div>
</div>
</div>
<div class="cell border-box-sizing code_cell rendered">
<div class="input">
<div class="prompt input_prompt">In&nbsp;[159]:</div>
<div class="inner_cell">
    <div class="input_area">
<div class=" highlight hl-ipython3"><pre><span></span><span class="n">t</span><span class="o">=</span><span class="n">Symbol</span><span class="p">(</span><span class="s1">&#39;t&#39;</span><span class="p">)</span>
<span class="n">plot_parametric</span><span class="p">(</span><span class="n">sin</span><span class="p">(</span><span class="mi">2</span><span class="o">*</span><span class="n">t</span><span class="p">),</span><span class="n">cos</span><span class="p">(</span><span class="mi">3</span><span class="o">*</span><span class="n">t</span><span class="p">),(</span><span class="n">t</span><span class="p">,</span><span class="mi">0</span><span class="p">,</span><span class="mi">2</span><span class="o">*</span><span class="n">pi</span><span class="p">),</span>
                <span class="n">title</span><span class="o">=</span><span class="s1">&#39;Lissajous&#39;</span><span class="p">,</span><span class="n">xlabel</span><span class="o">=</span><span class="s1">&#39;x&#39;</span><span class="p">,</span><span class="n">ylabel</span><span class="o">=</span><span class="s1">&#39;y&#39;</span><span class="p">)</span>
</pre></div>

</div>
</div>
</div>

<div class="output_wrapper">
<div class="output">


<div class="output_area">

<div class="prompt"></div>




<div class="output_png output_subarea ">
<img src="data:image/png;base64,iVBORw0KGgoAAAANSUhEUgAAAXEAAAEBCAYAAACOpZVlAAAABHNCSVQICAgIfAhkiAAAAAlwSFlz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"
>
</div>

</div>

<div class="output_area">

<div class="prompt output_prompt">Out[159]:</div>




<div class="output_text output_subarea output_execute_result">
<pre>&lt;sympy.plotting.plot.Plot at 0xaf709d0c&gt;</pre>
</div>

</div>

</div>
</div>

</div>
<div class="cell border-box-sizing text_cell rendered"><div class="prompt input_prompt">
</div>
<div class="inner_cell">
<div class="text_cell_render border-box-sizing rendered_html">
<p>An implicit plot - a circle.</p>

</div>
</div>
</div>
<div class="cell border-box-sizing code_cell rendered">
<div class="input">
<div class="prompt input_prompt">In&nbsp;[160]:</div>
<div class="inner_cell">
    <div class="input_area">
<div class=" highlight hl-ipython3"><pre><span></span><span class="n">plot_implicit</span><span class="p">(</span><span class="n">x</span><span class="o">**</span><span class="mi">2</span><span class="o">+</span><span class="n">y</span><span class="o">**</span><span class="mi">2</span><span class="o">-</span><span class="mi">1</span><span class="p">,(</span><span class="n">x</span><span class="p">,</span><span class="o">-</span><span class="mi">1</span><span class="p">,</span><span class="mi">1</span><span class="p">),(</span><span class="n">y</span><span class="p">,</span><span class="o">-</span><span class="mi">1</span><span class="p">,</span><span class="mi">1</span><span class="p">))</span>
</pre></div>

</div>
</div>
</div>

<div class="output_wrapper">
<div class="output">


<div class="output_area">

<div class="prompt"></div>




<div class="output_png output_subarea ">
<img src="data:image/png;base64,iVBORw0KGgoAAAANSUhEUgAAAXEAAAD3CAYAAADrGWTVAAAABHNCSVQICAgIfAhkiAAAAAlwSFlz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"
>
</div>

</div>

<div class="output_area">

<div class="prompt output_prompt">Out[160]:</div>




<div class="output_text output_subarea output_execute_result">
<pre>&lt;sympy.plotting.plot.Plot at 0xaf76e1ec&gt;</pre>
</div>

</div>

</div>
</div>

</div>
<div class="cell border-box-sizing text_cell rendered"><div class="prompt input_prompt">
</div>
<div class="inner_cell">
<div class="text_cell_render border-box-sizing rendered_html">
<p>A surface. If it is not inline but in a separaye window, you can rotate it with your mouse.</p>

</div>
</div>
</div>
<div class="cell border-box-sizing code_cell rendered">
<div class="input">
<div class="prompt input_prompt">In&nbsp;[161]:</div>
<div class="inner_cell">
    <div class="input_area">
<div class=" highlight hl-ipython3"><pre><span></span><span class="n">plot3d</span><span class="p">(</span><span class="n">x</span><span class="o">*</span><span class="n">y</span><span class="p">,(</span><span class="n">x</span><span class="p">,</span><span class="o">-</span><span class="mi">2</span><span class="p">,</span><span class="mi">2</span><span class="p">),(</span><span class="n">y</span><span class="p">,</span><span class="o">-</span><span class="mi">2</span><span class="p">,</span><span class="mi">2</span><span class="p">))</span>
</pre></div>

</div>
</div>
</div>

<div class="output_wrapper">
<div class="output">


<div class="output_area">

<div class="prompt"></div>




<div class="output_png output_subarea ">
<img src="data:image/png;base64,iVBORw0KGgoAAAANSUhEUgAAAV0AAADtCAYAAAAcNaZ2AAAABHNCSVQICAgIfAhkiAAAAAlwSFlz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"
>
</div>

</div>

<div class="output_area">

<div class="prompt output_prompt">Out[161]:</div>




<div class="output_text output_subarea output_execute_result">
<pre>&lt;sympy.plotting.plot.Plot at 0xaf71ad2c&gt;</pre>
</div>

</div>

</div>
</div>

</div>
<div class="cell border-box-sizing text_cell rendered"><div class="prompt input_prompt">
</div>
<div class="inner_cell">
<div class="text_cell_render border-box-sizing rendered_html">
<p>Several surfaces.</p>

</div>
</div>
</div>
<div class="cell border-box-sizing code_cell rendered">
<div class="input">
<div class="prompt input_prompt">In&nbsp;[162]:</div>
<div class="inner_cell">
    <div class="input_area">
<div class=" highlight hl-ipython3"><pre><span></span><span class="n">plot3d</span><span class="p">(</span><span class="n">x</span><span class="o">**</span><span class="mi">2</span><span class="o">+</span><span class="n">y</span><span class="o">**</span><span class="mi">2</span><span class="p">,</span><span class="n">x</span><span class="o">*</span><span class="n">y</span><span class="p">,(</span><span class="n">x</span><span class="p">,</span><span class="o">-</span><span class="mi">2</span><span class="p">,</span><span class="mi">2</span><span class="p">),(</span><span class="n">y</span><span class="p">,</span><span class="o">-</span><span class="mi">2</span><span class="p">,</span><span class="mi">2</span><span class="p">))</span>
</pre></div>

</div>
</div>
</div>

<div class="output_wrapper">
<div class="output">


<div class="output_area">

<div class="prompt"></div>




<div class="output_png output_subarea ">
<img src="data:image/png;base64,iVBORw0KGgoAAAANSUhEUgAAAV0AAADtCAYAAAAcNaZ2AAAABHNCSVQICAgIfAhkiAAAAAlwSFlz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"
>
</div>

</div>

<div class="output_area">

<div class="prompt output_prompt">Out[162]:</div>




<div class="output_text output_subarea output_execute_result">
<pre>&lt;sympy.plotting.plot.Plot at 0xaf5a6f4c&gt;</pre>
</div>

</div>

</div>
</div>

</div>
<div class="cell border-box-sizing text_cell rendered"><div class="prompt input_prompt">
</div>
<div class="inner_cell">
<div class="text_cell_render border-box-sizing rendered_html">
<p>A parametric space curve - a spiral.</p>

</div>
</div>
</div>
<div class="cell border-box-sizing code_cell rendered">
<div class="input">
<div class="prompt input_prompt">In&nbsp;[163]:</div>
<div class="inner_cell">
    <div class="input_area">
<div class=" highlight hl-ipython3"><pre><span></span><span class="n">a</span><span class="o">=</span><span class="mf">0.1</span>
<span class="n">plot3d_parametric_line</span><span class="p">(</span><span class="n">cos</span><span class="p">(</span><span class="n">t</span><span class="p">),</span><span class="n">sin</span><span class="p">(</span><span class="n">t</span><span class="p">),</span><span class="n">a</span><span class="o">*</span><span class="n">t</span><span class="p">,(</span><span class="n">t</span><span class="p">,</span><span class="mi">0</span><span class="p">,</span><span class="mi">4</span><span class="o">*</span><span class="n">pi</span><span class="p">))</span>
</pre></div>

</div>
</div>
</div>

<div class="output_wrapper">
<div class="output">


<div class="output_area">

<div class="prompt"></div>




<div class="output_png output_subarea ">
<img src="data:image/png;base64,iVBORw0KGgoAAAANSUhEUgAAAV0AAADtCAYAAAAcNaZ2AAAABHNCSVQICAgIfAhkiAAAAAlwSFlz
AAALEgAACxIB0t1+/AAAIABJREFUeJzsvXmYFOW59/+pqu6e7unZ2HdQkE0QRRhQTkRE0QNBxcQt
xn07ifHnwoniiUs0njcG45KoiQtRY+KC0VeDbxRUMOLGIoKAqCiyyg4yW8/0Usvvj/Zpamp67+qe
7qG+19XXwEx11VPL833uupfvLRmGgQMHDhw4KAzk9h6AAwcOHBxKcEjXgQMHDgoIh3QdOHDgoIBw
SNeBAwcOCgiHdB04cOCggHBI14EDBw4KCFeKvzv5ZA4cOHCQOaREf3AsXQcOHDgoIBzSdeDAgYMC
wiFdBw4cOCggHNJ14MCBgwLCIV0HDhw4KCAc0nXgwIGDAsIhXQcOHDgoIBzSdeDAgYMCwiFdBw4c
OCggHNJ14MCBgwLCIV0HDhw4KCAc0nXgwIGDAsIhXQc5Q9d1VFXF6bfnwEFqpFIZc+AgLgzDwDAM
IpEI4XAYVVWRJAlZllEUJfaRZRlZlpGkhKJLDhwcUpBSWCeO6eKgFcxkq+s6cNDSFcQqtjHDIWMH
hxgSPtiOpesgLcQjW0mSkCSp1f/NP83fBVBVlUgk0upvDhk7ONTgkK6DpDAMI2bJ6roeI9pMSDEV
GQsXhfnvDhk76Khw3AsO4iIe2UJb4oSoBauqKrJsT1xWWNXi45CxgxJEwgfSIV0HrWAYBpqmxbIR
kpGtgKZpRCIR20g32diSkbHL5YoRsaIoGVvkDhzYCMen6yA54pFtuiSqqiqapgHklegS7VuQcDgc
bkPGVqvYIWMH7Q3H0j3EEY9s0yEkwzBQVZWWlpZYIE2Qn3jlN3/ag+jMVnE4HG5FumYyFoTskLED
G+FYug5aI1vL1kq2Pp8PRVFiPl3hCxYfke2QiIzz6ZIwk6g4P5fLFRujpmlJLWOHjB3kAw7pHmIQ
pGkmnHTJNhKJ0NLSgmEY+Hw+PB4PkiTFXAtAKyvSDDMRmwN0QKuAWCECY8ncFIKMrRDn5HK52tV6
d1D6cEj3EIEgW1VVAbIiWwCv1xsj20wQz6oVr/6CiEVATmRLJHJT5AvpkHE4HG71N4eMHWQKh3Q7
OOKRbbo+WzPZ+nw+3G63rWQixtLRyNhcDu2QsQMrHNLtoBBk29zcjGEYeL3etMk2HA4TDAaB/JBt
Kjhk7KAjwyHdDgarZRsvpzXR98LhMC0tLUiSlBHZFoow0iFjERwUwTuxvdl/nG+Sy5SMNU3D7Xbj
drvbFHw4ZNzx4JBuB4GZcODgxDdrI8SDmWxlWcbv9+NyuUpqspvJ2OU6+EibreJwOIyu67FAYHuk
tSXafzAYbLUwmLePV32X7yIUB/mFQ7olDpEJkGlxgmEYhEKh2IQvRbJNBTNpaZqGoii43e6M09oK
YXFayVTkz5sXUut5mV0UwoJ3UPxwSLdEkS7ZSpLUSmYxHtm63e6CjbsYkCitrb3IOJ77J5VIkJWM
xRjNZGzOM3ZQPHBIt8RgJgPIzrJVFIWKiopWr+IO0idj4aoA2hBxvi3OdMlYELmVjB2RoPaHM+tK
AMm0bNOBqqrU1dXhcrkcss0C8cjYmklhVWRrj0wK80/zOKEtGcPBBcMh48LCmX1FjFzI1jAMgsFg
LPWrsrLSIVsbYWdaW77Haf5pHifE9xk78pn5hTMLixBWLVvIjmzdbjder5dIJJJ3wi32CVmoppnZ
kDEczGAoFstYdPkQY3W73Q4Z2wSHdIsIuXRp0HU95rN1u91UVVWhKAqRSKRNi5xDFe1JDonIWNd1
mpubcbvdRVPwYf5pVo4Dp+WSHXBItwiQSF4xXbINBoOEQqFWZGvdv4PihLjH1jeRRP7iQqe1WeU+
U1nGZjhkHB8O6bYjhL9WdF3Ilmw9Hk9csoX8W3fCUhPSjoX0V3ZkFFtaW7Jxmn+axwlRMnb637WG
Q7rtALNlGw6HCYVCVFVVpfXddMk23xDVXeFwGI/Hg8fjiRGCSKlqj9fjUkM6JdpmFJqMMx2feZzi
p7XoQxgbhyoZO6RbQOTSEsdKcumSrbU4IldYSb+6uhpJktpMoGITp+noKCXLOJEuRTIythZ8lPLz
4pBuAZCMbFORopVsq6ur2+W1PR7ZinHEG3+6Ufz28lUeKkhFxpqmtcmUMZObpmkFed5SkXG8/nfW
HONS6X/nkG4ekU6XhkSkq2kawWCQcDhMWVlZ1mSbq6Wbrjsj3dfQZGScrkXm6AzkjnQKPgQhC4Oh
Pd5O0iHjYDCIx+NBlmVWr17Nhg0buOKKK/I6rlzgkG4ekG2XBrCPbHNFpr7jXCdfphZZR3FRZOsz
zQfiLYgif9jlchWVq8hKxsLa3b59O/v378/rsXOFQ7o2IpsuDcIS1TSNlpYWIpGIrWSbqaVbLIE6
gXQtsngk4Ai+2APzNTWjWPz25oWrrq6Ompoa249hJxzStQHZtsQBYq/QDQ0NeL1eysvL82LZprKo
EhVXFCNS+YuFVWx2UYi/67ru+IszRKJrlI3fPtGimO19sBoUjY2NHH744Vntq1BwSDcHJBIOTweq
qhIMBmMJ5flyI6Qaj7VsuJjJNhWSkYAQaTdrWZj9xR0hKp4PZBMPsMNvnykZmy3d6urqjMdcSDik
mwVyJduWlhZUVcXr9eL3+zlw4EDBJ3pHIttUEPfH5XK16SxhDha196txR0c+0tqs16+xsdFxL3Qk
ZNulAVqTrc/no6KiolUCeT4nn3n/hxLZpoIgYjNS+SmtbXM6uouiEItCLmQsoGkakiTR0NDgWLod
AfkiWwG7CxjiQbxiC7J1pB7joz1ejR3ERzpkLHLfP/30U2bMmEGPHj245557GDt2LEcddRSTJk1K
+3hXXHEF//rXv+jRowdr1qxp8/fnn3+e2bNnA1Gp1EcffZSjjjoq4/NyiuMTQNzYQCBAMBiMraTp
vmZGIhEaGhpoamrC7XZTU1OTdht0OyHIvKGhAVVVqaysdITMs4AgALfbTVlZGT6fD7/fj9/vp6ys
DEVRYv7i5uZmAoEALS0thEIhIpFILFe71FCM7g/zvRAdlMeMGcOKFSvo3bs3o0ePZt26dTz88MMZ
7feyyy7jzTffTPj3gQMH8t5777F69Wpuu+02rrrqqqzG78w8C6zC4Q0NDdTU1KQd5IpEIrS0tKDr
Ol6vl7KysrTTxuyEYUTb84jutxUVFXg8HluP4SC3lDZZbtsB2EFmMC8KPXr0IBKJcN1112UVlP7B
D37Ali1bEv79uOOOa/Xv7du3Zz5gHNKNIVfhcOFG0HUdn8+Hx+PJKPJqF+maydblclFZWUkgEGiX
AotDFdmkUjU3Nxeli6IYLd1EEHOoEOP9y1/+wtSpU7P67iFPuqmEw5MRorCIg8FgVmRrJwTZisaT
js+2+BCPjCORCKqq4vF4iq4EuhTcIfEWhXxfn3//+988/fTTfPDBB1l9/5CdlanIViAe6QqybWlp
AcDr9eZEtrlYulayjeevzXegTtM0wuFwSZfjtifSCRiJFMX2KL0t5ntpJt1CLBJr1qzh6quvZsGC
BXTq1CmrfRxypBtP8SvZa5yZsKxk6/P5cLvdOT+U2ZCimWxlWW6X4Ji5dNnlcsXI14nop49kr+9m
Mna73bHtMy2BPlSueTAYxOv15rQPcX3jYevWrfz4xz/m73//O4MGDcr6GIcM6SaTV0wGSZJiwtx2
k202EMpKosLK7/fHJmQi2G3pmuUmy8rKqKqqiqXTiTFa06vE3615ro5VnBnS8RebiTiXBbAU/Lni
/ADq6+tzytG94IILePfdd9m/fz/9+/fnrrvuimn7Xn311dx999189913XHPNNRiGgdvtZvny5Rkf
p8OTbrZkK74rCEaSpLyRbTqkmA3Z2o1EmrriGgtkG9G3luIW+4QvJpjJ2Fp1lyq/uJRLoM0LQ66F
Ec8//3zSv8+ZM4c5c+ZkvX+BDku6uZKtIDjDMPB4PJSXl+e9YizVWLIl21wt3WQC5uZxJrs+uRQd
2EEKxRoUyve4kvmLU5VAm7ctVjIuNYUx6ICkK9K3kgmHJ/uuleBCoVC7iGbHG4vL5SroOApRMpwq
iKRpWtI811LpFpAM7TH2dEugDcMgEAiUxNtIKZQAQwciXUG22QiHW4NSZmsyEokUxBoxB+vsJttM
LV1zrm8mZGunRZSOi0I09kzkt7Te/2IiiGKE9W1EzCWv11u0JdDmZy5Xn26hUPKkG49s073h1nSr
eK/uhdBFkCQpFvkXwbry8vKCB+vapp9VEom42LMHGhokGhuhqQmamiRaWqC5GcCgvl6hpUVCkgya
miR0HTQNKisNGhqi4y8ri/5OlsHlgk6dDMJh8Hiif/P5DHy+6M+KCoPy8uj3q6qgosLA603fRRGv
G7HYphT9lu2NdFLarAFTq1VcCJW2+vp6x72QT9hBtqJqK1m6lcheyBfEeYgHNl/BuoOWNDQ0wLff
SmzfDjt2SOzaBTt2GAQCGps2+ThwoIJ+/eDdd2UkCU44wWDLFr4nQPD7o6To9ULfvgZNTVEiragA
RYkSqaJAZWX0p2GAy2UQCkmoKqhqlLD37JEJhSAchkgEGhslmpslunUz+PxzmcZGiYYGGDxYZ/Vq
hZoag06dDDp3jn66dDE47DAdrxe6dzfo3t2gVy+dnj2jxG0mBfEGEQqF2t06s96XYl0E0vHT51IC
bbefvqGhgQEDBmS1r0Ki5Eg3V7IVPkpRIpsqtzVflq4559cwjFgVmR0T0DBg50746iuJr7+WWL++
nM2bZbZudbFtm4RhQI8eBn37GvTvr1FREWHAAIMBAxQ6d4Zu3TS6dDHo1Al8vvSOGa9bq10wjChJ
19dLHDggUVcnsW+fxP79EsEgbNoks2yZxJ49EpWVBu+950KWoVcvnf79DXr1MujZM8SQIRK9e0P/
/io9e2oYRttX5UJYZ1YUK+lmg3RS2gQZ25XTbc5eyLZgoZAoOdIVGQn5JlsBu0k3XoGFsMKymXzN
zbBuHaxcKbN2rUwgAG+8IePxwAkn6FRVwYABEWprIwwZAgMGGNTUGKhqoiKP4ovySxL4/VELu3fv
1OMzDKivhx07ZHbskPj2W5lNm2DNGoWnn3axZYuP/fslTjlFJRKRGDRIZ+BAjUGDVAYPVuneXcUw
nIIDu3302WavJCqBto7PCaTlCfECJIlg7fuVjR6BXaSbrJpNrPip9wHffAMffSSzdKnM+vUSq1ZJ
nHyyTteuMGqUzlFH6dx7L3TrdvB7LS3R/ZeXe4hEIjQ1RYV52sNvXAhIEtTUQE2NzpFHAmg0NzfH
JBgBgkHYvFli40aZDRtkvv5aYd48N19+KRMOS0ydquJ2Gxx5pMbw4SrDh4fp1Kk4NBE6EtLxFycq
gTZvK0lSyfh0pRSTvejMHrEaptpG5JW63W58Pl/WqU5CHzXbFTSd0mHx96qqqjbf37ED3n5b5tNP
Jf75T4Vhw3S6dYPjj9cZN85g5EiDsrLkYxAi6uJBzocwTz7dC3bASrrJsH8/fP21zLp1CuvWyXz+
ucyuXRItLRKjRukcd5zK4MEaRx8d/t4q1rP2WYoMkWIUJwqFQkiSVDSSoPFcFJqm8cUXX3DFFVdQ
XV3NKaecwrhx4xg1ahTDhg1Le9+pBMwBrrvuOubPn4/f7+evf/0rxxxzTLJdJrzpHYp07SRbAVVV
CQQCGZOu8D2nI/doPoZhRN0Fr76q8PrrMg0NMHq0wQ9/qDN+vM7AgVFLLtPxa5pGeXl5Wvq+2aAj
kW48GAZs2SKxZo3C5s0Sixe7WLlSxuWCKVNUBg7Uqa1VOeaYCD5f6zzXZD5Lh3SzhwhAu1wuvvnm
G2bOnMmkSZNYt24dLS0tzJ8/P+19ffDBB1RUVHDxxRfHJd358+fzyCOP8Prrr7Ns2TKuv/56li5d
mmyXCSdC8d3pFIg3qa0VU3Ym8WeT45qNtu62bRJz5ij87W8ykYjEjBka992nMn68QTbVvlYxGkVR
chYDOZQhSXDYYQaHHRYN4F53XQTDgK1bJT75RGH5coW77vJRXu6lsVFiwgSNCRM0jjsuQufOiXUo
RL6xsJKLddEqRohF3u12M2zYMAzD4De/+U1W1zCVgPm8efO4+OKLARg/fjz19fXs3r2bHj16ZHys
kiNdM/JJtgKZkK65a0Q6ZKvrsHChxJ//7GXjRg8nnSTxxBNRos127pnJVnQbDofDKV0yuaIQ+czF
Bkni+6wPlR/9KErGwSCsXKnw0UcKzz3n4pprvPTvrzNxosYpp0QYP17H7z/4mhwKhVr9bO/Kr3A4
el5ud2sxmWJHvp+97du3069fv9j/+/Tpw/bt2w8N0hV5s0LlKpEWgJ3HS3VDsyHbf/1L5s47FUaM
MJgxQ2PKlO/o0yf7dBer8lc+r4kVIvsC6BBlubnA6yVm5UI0/3jlSpn33nPx/PMeLrzQxejRGqef
rvKDH2gMHBhu1WOtPcVpNm2SuOwyH1dcEeaii1Rb950PxHNnlcJzV3KkaxgGDQ0NeSdbAXET493g
TMkW4IMPJP7wB4UDByR++1uV004zAIMDB7Jbqc3WfiKyzWeusSgyEaQRL/fSnGp1qMHthvHjdcaP
jy5KgQB88IHCqlUyP/2pj3DYyxlnRDj5ZJ1JkzTKygqvQ2EYMHeui2efdXPOOREuvFCNHbeY75l5
fKLaMF/o06cP27Zti/3/22+/pU+fPlntq+RIV5KkgqeFCNISN1hVVZqbmzNqPhkIwB13KCxeLPOr
X6mcddZBF4Lgw0we8nSUv/IFqz5EZWVljBjEtUqV7nOo5bwK+P1w2mkap52mMWtWhDVrQixbVs4D
D3i48kqFKVNUzjhD5dRTVcrLo9/Jhw6FwM6dErfcUsb69TKPPx7k6KNLs1FmQ0MDlZWVOe1DXNN4
OOOMM/jTn/7Eeeedx9KlS6mpqcnKtQAlSLpQeP+hOJ4IkGmaljbZAmzaBFdf7WbQIIOFCyNY14xM
SCcb5a985RpbhYHMx0vW8SCRyHYp67pmA0mCwYM1Ro4Mc/XVGnv2SLz9tsLTT7u59lovp5yics45
EaZM0bAmEOSiQxHVopD561/LuOeeMm68McwTTwTbpB6WgqUrzr+hoSFuymW6SCVgPm3aNN544w2O
OOII/H4/Tz/9dNbHKrmUMSA2YQuFuro6ZFnOyLIV+OYbOPNMN9ddp3HVVXrCANmBAweSWqtW5a9M
0uGS5QGnC7MrJV5RhfmVNxOYidhMFnYHlHJNGcsXAoEAPp+vzX3ft0/i9dcVXnghWrBx1lkqF1wQ
YezYxM9QIlit4o8+kvnf//VTWalz221NjBjR2joW17lYr5mAOd1uzZo1PPvsszz66KPtPSyBjpMy
VkiYU79ERVsmk76hAS691M2sWRoXXZTdImFV/ip0VZ3Zus9HUUWyV2dBxMWgj1BodO1qcMklKpdc
orJli8Rrr7m46iofHo/BpZdGOO88lS5d0rungkQ3bVKYM8fNa6+5ufPOEGefHcEwXAkDd8JtARTl
dS5FWUcoUdLN980XRKOqKj6fL0a6mR738ccVRo3S0yJcKzFa/aaFbjxpTT2rqKgo2KRL9uqcqNtB
PCIuNpLIFgMGGPx//1+Ea6+N8OGHCm+8oTB6tJ+pU1WuuirM2LHJn69vv5X4/e89zJvn4vrrw6xY
EfjeXywBibtKBIPBuOlsxeiTd0i3RGElW0E02eS4NjfDokUSTz2VXuqNIF2z31SSJFt6oWVi6Wab
elYoNa543Q7SaYKZLEhSKpAk+MEPNH7wA43//u8wzz3n5oEHPOzeLfOLX4Q54wwV8+XZskXiwQc9
vPKKm2uvDfHJJwG6dEnnOAevs9frbfVsptP4slA6FGZLt6GhoSR0F8AhXSBKtsFgMKFVl83r+Wef
Qc+e0Lt3etsLsg0EAkDhOw6bA3SFzobIBelE9kU5rugMUkxCNdkGq7p0iVbF/eIXEd54w8Wf/uTm
7393M22ayujRGo8/7mH/folRozRWrgzQtWtuC4757SNR48tEmSr5cgVZSbdv37627TufKEnStevG
xaveirfvbEi3uVmirCz9SjbxGpcP5a9k47cG6PJR1VdoxHNPNDc3x/zRqSL7pVTgoShw+ukq06ap
PPywmz/8wcPOnRInn6zy5z+30LNndvsVz0uqa5AqU8Vu7Vzr+ATq6+sZOXJkRvtoL5Qk6eaKdMlW
IBvSPewwgy++kNF1jUQGoznfV2gjFEpcxOwzzjZAV2rINd+1va3ieNizR2LePBcPPeSha1eDO+4I
MWSIxv33l3HiiX5uvz3EueeqbVLO8ol009kSuYIysYrNlq7j080jsn3wMyVb8/EyJ13o3Nngtdck
Zsxo/d14+b5NTU15m9Dm8efDZyxQ7Hmd8ZAOQeSrwCP7jBJ47z2Fp55ys3ixi/PPD/P00y2tAmrP
Phvk009lfv97D/fdV8Zdd4U44ww17XSzfNzLdF1B1oq7eGmD8QTMS8WnW/xOOxugaRpNTU00NDSg
KArV1dX4fL60H6psU65uvlnj3ntd7NrVehyNjY243W6qq6tjgYpCFHxEIhEaGhpoaWnB5/NRWVlp
G+EWOzK9toIg3G43Xq+X8vJy/H5/zNcOB3OXA4EAzc3NsbiA8CFncqzU44e1a2V+9asyhg/38+ST
bk46SWPduiZ+//v4GQzHHKPz3HNBHnggyKuvupg+3cfnnxfXlDf7iT0eT6tr7fV6cblcrQwFca1D
oVDMT3/gwIGcSHfBggUMGzaMIUOGMHv27DZ/37ZtG5MnT+bYY4/lmGOOyUgyMu45l2JxRDpC5kAs
7UVE4r1eb1bBoVAoRCQSoaKiIuPvzp6t8NlncPfdDVRXh/F6vTGiNSMQCORNfjESidDY2Igsy3nJ
tQVifeuKNfiWqAjBDmRb4GEYBoFAIOlztX69zCuvuHjlFRcDB+qMGKFz/vkqQ4ZklvetqvDUU27+
8hc3U6eqzJoVjpUZx4OmabEYQzFBXGuhpbt+/XqmT5+O1+ultraW0aNHM27cOGbMmJHW/nRdZ8iQ
ISxatIjevXtTW1vL3LlzWwmg/9d//RfHHnss//Vf/8UXX3zBtGnT2LRpU6pdJ5xgxTlDUiAVYWia
RiAQoKGhAUmSqK6upry8POsJl60Vqus6v/hFA336BLnhhgo2barJyMLOFcKybmpqAqCqqipvIuaH
MoRVbLXUfD5fUktNGA6t87Ph009l7r7bw/jx5cycWUZdncQjjwSZOzfIHXeEMyZciHZrvvrqCP/6
Vwvbtskcf7yfJUtKb/qbXRSKojBmzBi+/fZbhg0bxpVXXonX6+Xjjz9Oe3/Lly9n8ODBDBgwALfb
zfnnn8+8efNabSPLMg0NDUC0OjVboRuBkvTpJoLVsrUz7SkT0rUqf/32twovvyzxq195mDRJ58Yb
tTZ17na6F8y5tsJ3XVdXZ8u+E8Eh8tZIp8BDlLLv2xdgyZIyFi3ysW6dwt69CqefrvLQQ0Fqa/WE
gdhs0L27wVNPBXnrLYVLL/Vxzjkqt90WwvqCVez+efP4hI/4Rz/6ET/+8Y8z2o9VJ7dv374sX768
1Ta//vWvOfXUU3nooYdobm5m4cKFOY299JY62k5wXddttWxTHS8RdF2nubmZ+vp6DMNoNY5zz9WZ
MyfC7t1wzDEeXnlF4vvAbewYuZKu+fjiOhTCshaLjBBLz9SneSghaqm52LTJy1/+UsGFF3bm0ku7
8ac/VdG/v8H99wdYsmQ///M/BxgxooFQqCVmFdt5XU89VeOjj5rZvx+mT/exaVPxEmwq5PtZe+GF
F7jsssvYtm0br7/+OhdeeGFO+ytZS1eSpFg2Qr6Fu1MRYrrKX/36wYMPasyYoXP77S7+/neDM87Q
Of98PbafbGAtbIh3/HwE6sw5vi6XK3ZPRPS5FFKuCoXNmyU++EBh8WIXW7dG28JPnqzyk58EmDLF
RefOYksXYlqa/cPJrmsy6cZk6NLF4M9/DvHYY25+/ONyZs8OMmVK1BIoJUtXIJvx9unTh61bt8b+
H08n98knn+TNN98E4LjjjiMYDLJv3z66du2axchLlHRFACKZcLedSERY2RYWnHiiweLFERYvjgqa
v/yyzJAhPn7ykxbGjUt/XFbSK1RhQ7wcX1EuLe5DOhKDxVa/bxd0Hdavl1iyxMVHHyksWaLQs6dB
v346J56ocfPNKkccYWAYOi0tIfz++NMwHpkmynXNtgJMkuDnP48werTGxRf7mDkzzM9+lt/WTnbA
TLqig0w2qK2tZcOGDWzZsoVevXoxd+5cXnjhhVbbDBgwgIULF3LJJZfwxRdfEAqFsiZcKFHSFbXh
2WYjZHM8qxhN7spfMGmSwaRJKt98A08/Dddf7ycUUrjsMo2TTzYYPjx+r7R4IuKpjm+XpSta0kNr
PV3N7CshdU5mvPr9UlUP27tXYs0aiaVLXSxfrrBypcLEiSoVFXDCCRqzZoU44oi29zKb25Furmum
BR7HHaezcGEzt9xSxrffytx+e7hkrn8uYjeKovDII49w6qmnous6V1xxBcOHD+fXv/41tbW1TJ8+
nfvuu4+rrrqKBx98EFmWeeaZZ3Iab0mmjEFhNXUNw+DAgQN06tSpFdmVl5fbVsUV3W+Izz6r4o03
ZP7xD4Vjj9Xp2TPqfzvhBIPKytYi4qJkOB3U19fj9/uzHm8qiUdBotksgtbgkvjY6Z6wI2XMMGDH
Dom1a2U2bJBZskRh1SqFpiaJqVMj9OljUFurUVurp6V1kO+0LKtVLK5xsrLn776D887zMWFCmFtu
acbnK0t9oHaAMHjcbjdff/01f/zjH3MmQ5uR8EF1SDcN6LoeEzIXua52FxWEw2FCoVCs5YhhwGef
Sbz1lswXX8CrryoMGaIyZUqQUaNcTJgg0bt3+gRUX1+fEUkLmKv4fD5fwpSzXEg3HlIRRqbi5pmS
7oED8NVXMp9/rvDFFzLbtkksWaIgy3DUUTq1tRrDh+scc4zGwIHZdW9uj1xY69uGuL5mqzgQkDn3
3CqOPjoj34f0AAAgAElEQVTC/fdrWZ1bvmEWMF+xYgX//Oc/+eMf/9jewzKj45GuqqptXmnthjm/
UtM0/H5/XgoLIHF3B03TaG5uJhDQWLeuglWrPHzwgcyePRK7d0sce6zOxIk6hx0GI0fqDBhA3BSj
hoaGjBYLa9pbqiwIu0k3Hqzi5mbCSFW7H490g0HYvFlm40aJTZtkvvrq4EfXo/oZw4frHHmkxrBh
OiNH6vTokR3BxkMxFSBYibiuTmfmzCpGjFCZObOl6HzwQsDI5XKxaNEiVq5cyW9+85t2HZMFTueI
TCFI0DAMfD4fgUAgFqHPB6w+V6tORI8eFfTsKXHyyTq//KWOYcDGjbBqlczmzfCXv8h89pmLoUN1
6uokhgwxGDtWp1s3GDjQoFs3iV69Uq+h2Uo8FmISJsp9tVrEwp8ZCCjs3Oli1y4XO3aU8e23ZWzb
prB1q8TevRLbtsn0768zcKDB4YdHSfWss6LVXr162UeuiVBMaXVWX3GnTiHuuaeZn/60hhEjDKZO
DRddXzuz2E2p6C6AQ7ptYFb+MvsuBQHnG+mKiEsSDBoEgwZFXSy//GX0Z10dfPWVxPr1Ert2Scyb
J7Fxo0SnTlV8/LGbfv0MxozRcbmiJNy7t0GvXgZduhhUV4fx+5vp1EkpSolHTYO6uqjfsa4O9u2T
2btXZu9eiVAINmyQ2bVLYtcuGbfbYMsWmd69dXr31ujfP0KPHhEmTAhy/vkGhx0GffqAx9O+llt7
W4yJYBgGvXvLPPJIkLPOqmDkyGaOOOKgaFKiDh7ZuH6yHZ/Ybyl1jYASJt18aAdk0+nXTui6Tn19
fU4i4jU1MG6cwbhxrReIxsZGgsEydu8uY+fOaFeBnTslVq2Seestg+3bDfbvL2fQIB/vvadQUwOd
OhnU1EBlJVRVGQwcaBAISJSXG/h80T5eqirh8Ri43RKS5EZRJBQF3G4DXZcwjKh/2uUyCAajBSGR
iITLZVBfLxEKSQSD4PUa7Ngh09ws0dwMNTVRaczGRomGBonDD9f58EOFqqrouI46SiMYlOjWzaBb
N51evXROO02nZ0+Dnj0NunfXqakhZq0GAoGY5oWmHbSMW1rSc08cqjjmGJ277gpx/fVeXnutBUVJ
v4NHPjNTrALmvdPtFlAEKFnStQvWQFGiXmD5UgEz59qKKrZ8WJiSJFFVZdCtm0FU69loZdWbxdPD
YY26OvjuO4n6+miDzcZGiXAYDhwwYsTY0CCxbx+EwzKhkEEk4kJVJXQdyssNmpoOXsdu3Qzq6iRc
rigBd+8eJXCv18DjgcpKg8GDdfx+g/JyqK42OO+8KNlXVRlUVEQXgFxcxuaovRmJ3BPWCP+hRMRm
UrvwQpWXXnLz/PMuLroofvupeKlskFmBR7pWsXUeOu6FAiHXh78QQubJYC0wqKiooKmpqSCv9Kky
Ejwe6N49WqdvGnHSfYoCiGJVGUuGVEUI8fR07XiFLiafbjLIMtx7b4gf/tDH9OkqnTpl8t38FXg4
7oUSQS6NF+2YJIlExEVkPl+QJCmmzSAyEmpqag4Zyy1TmC03axsac2t4uzofFBusZbbDh+tcdFGE
J59088tf5laxlmuBh3WRKzVLt/TMku+R6cMqRHHMYjCZiOLYQbpC1zaZiHi+XBjCZ20W4inWCV+s
EJaY2+2OpdH5/f5WrhmhdJersHkx4sILI/ztbx6+r82xFfHEzP1+P36/n7KyMhRFafV2aBgGW7Zs
4bbbbqOhoYE9e/ZklUKaSsAc4B//+AcjRozgqKOOylnsBg4BS9ecb5pLgCoX0k1VzSX2bzfMDylA
WVkZfr/f9uMIHIoknkzCUVhs1gi/sIpFoKkYxWXijWnwYIOBA3XefNPFjBnxfbt2I55VrKoqoVAo
1tVj48aNXHzxxezcuZNp06bx0ksvpbVvXde59tprWwmYn3nmma0EzDds2MDs2bNZsmQJVVVV7Nu3
L+dz6rCkm47yVibIhnTTDdJZj2FHZNfqwohEInmd2MVKHu2FRK/Q1sCSYRg0NzcnLMstNpxzToTl
y2XSbMyQN8iyTO/evbntttv48MMPef/992lqamLnzp1p78MsYA7EBMzNpDtnzhx+8YtfxIqWchG6
iY095z20ExI9kIZh0NLSQl1dHZqmUVVVhd/vzzlAlQnpmvV9FUWhpqYmboueXI6RCKqq0tjYSHNz
cysXRr6yLyDqNmlqavq+ci4Q09ZVVbXkX6nthCBi4Z4QZayiUlCSpNhbUXu7JxItoCecoPHii+6s
xHrsgnls5mtSWVnJkCFD0t5PPAHz7du3t9rmq6++Yv369fzgBz9gwoQJMYnHXFDSlq6ZSKwyh3a3
FE+HtKyls/mWnDQjXY0Eu4/Z3Nwcy20W1yeRnGMhkuZLDYnS2NJxT+SipZst+vc36NtX59tvJfr1
K54FNV/PkqqqbNiwgffee4+tW7cyceJEPvvsszbl+pmgpEkX4mu72km21mMl+r0droxsrNF4rXkS
5RnbJRBkPWZFRUXMpSFIQSBexD+eXkIxv1K3B9JxTyRKtcr1WqZ6BgcMMNi6VaZfv/xqnySC1dLN
9jzTETDv27cvxx13HLIsc9hhhzFkyBC+/vprxowZk/X4S5p0w+EwgUAAWZZbabvmA/FurN0i4pmQ
brYaCbkgm2PGCzRZ04NUVW2VHpQPXd1idHNkShjppFpZr2Uu+giJttX1qIZwe8F83ZqamrIODqcj
YD5jxgxeeOEFLrnkEvbt28fXX3/NwIEDcxp/SZOupmmt0nXyCasrQ4h5pysibheEZd/c3JxRt4pc
fLrWtwk7FpdEEX9zTb/dlWEd0YrOJXsikXsi1WLQp4+OJBXHIlZfX5/1q346AuannXYab731FiNG
jMDlcnHffffRKZPqkDgoWWlHKKymrqqqsVVVdE4QIuZ2TebGxkbKysrith6xZiRkKqAumhtWVFRk
NCZzp4hkeryCmO0mNmvCvPi3lTxSCZyLe1dMxBsKhZAkKetWM5nC6p4Q19TsnhCLaTAYTPis/OQn
Xn76U5Xp0wuTNmaFWcB83bp1PPXUUzzxxBPtMpYk6JjSjoWcQGLCBwKBvFnXiaxRoZEgZCazOXam
lq45SJYot7gQSFQZlqz/mhOwi49U7gmzRQxRzdp4rp7t22V69SqMsRMPpawwBiVOuoWAIB9Vja7q
1dXVec93NR9bZCSUl5cXhPjiBcmKjbSSkUeigB1EF69iCtgJ10l7wuyeEG9OoqrO4/G0IWNdl6mq
KqNfvxCqKrVLh2fzHKmvry+pEmAocdLN582OJ4hTV1eX12OKfaebkZDpvpNZuu0RmLMTqQJ2QrQm
3wG7jgBxfeLJN37yicTu3TLV1TrhcNuea4XqLiH23dDQ4Fi6pY5EubbmIFo+HyYRsCpkRoKdQbJi
gpWIRYFKvgN2HRWSJPHOO27OPlulrCzasDKReyLfmShm90LPnj1z3mch4ZDu90hl6YkJnA/SFaln
oVAIWZbzQnzxLN1E7dQBWlpg9+5oatDevRL790f1dcPhqNh4ff1BofHm5qhG7s6dbkKhaBeHwYN1
Vq9WUNVo77ZPPz14LQcP1tm4UUZRYPRojS+/VCgrMygrg8GDNfbtkykvN+jXTycUkqisNKishL59
dWQ5etxOnQw6dzbo2jX6qao6KFiezrVIJsJtlXLMJGDXkWEY8MEHLm6/PRT7XTz3RHTb+N0lrFkT
2VxP8xxsaGjIqAqtGFDSpGvXqilybdNJwbJbU9eceiaqyPJtaaqqxqZNQTZuNNi5s5Lt2100Nkqs
WSOzY0c0D3PzZonu3aFHj2hLn4oK6NLFoG9fGDTIoLo62uJn2jQdvx/8fgOXK0JZGZSVRTtHuN18
L1remhB1PfrRNFDVaCeJUAhCoWizyJYWieZmiWDQoKEh2j2isTH6na1bZQ4ciIqo79ghs3+/xP79
EqNHa2zcKNOjh0HPnjoDB+p06hRNb+rXT6dTJ4XBg6NawfHQHgG7YtWqSDSuhQsV9u2TGDMmdRAt
1cIW73qm456wzj/Hp1tCyKaSzc4JYm58KbIhQqGQrR2ONQ02bpRYt05i7Vo3n31WSWOjxJIlXior
vRx3XLRLw4ABBsOGGUyerNK7N/TqZdC5c/qWI4jrqad1jdquKdaFzPz/9KLkLS2wZ0+0L9zu3dFe
adu3Syxc6MLlgvffL2PPHoXu3Q0mTFApK4s27Bw0SGPQIINBg3SsTXmzCdh11Ao7w4Dnn3dz001h
svV4ZZI9kcg9Yd4XlJ6WLpQ46WbzQMdT4Eq3ki2XAgOBZKlYuexf16MNKdeskfjoI5mVK6Ptderq
JEaO1Bk6NMwpp4Q48kiJESM81NSUTpAsHfh80cVjwACDeETd1NSEx+Nn506ZzZslNm1S2LhR4p13
XNxzj8KmTTLdu0cXnooKOPJIjeHDdYYPb03GxVJhl0/Es3TnzVNYv17mjDPszc3N1D1hJtuVK1fS
1NSUNekuWLCAG264IVYYMWvWrLjb/d//+38555xzWLFiBccee2xWxzKjpIsjhLWaLqxt1TPNd21o
aIh9L1NYMxLiqY5lUsCgabB6tcS778osWSKxZImM3w+nn67Rvz+MHq1z1FE65eUH3ReqqtK5c+eM
x54O8lUcYRdSFUdoWrRZ59dfy6xbp/DFFzL79kl89JFC377RazlhgsqQIQZHH62l1bLGTBzmjyBf
TdNwu90FqajMBGLBEMGyujo4/ng/Tz3VwvHHt29+rtDS3b17N1dffTVr166le/fujB49mpNOOonr
r78+rX3pus6QIUNaaenOnTu3lawjRJ+bH/7wh0QiER555JFMSLdjFkeki3RExNNBNpaokJpMR3ks
1f737IH582U++EDm9ddlTjxRp2dP+MlPdB56SKVXr4PbioKKlhYjJm1ZX1+f0djThSDcYDBY0LQh
O6EoUXfDwIEap5120MUTicBXX8msWSOzcaPMK68orFmjMGaMRvfuBrW1GrW1GkcdpbfxF6fya6qq
SiQSiS1WxRKway0oA/fe62HGjEi7Ei60VmQbNGgQixYt4j//8z958sknWbt2LU1NTWnvKx0tXYDb
b7+dW265hXvvvde28yhp0k31UGYqIp7O8TIRpMkkQJdo/9u3w6uvKixYILFypcykSTpnnqlx550q
FkEkIHFBhfCT2Q1zR2FBMB3Jz+l2w4gROiNGHCQcTYsS8SefyCxfrvDMM26CQejd2+D44zVOPFFj
zBitjY8YWvs1I5EIZWVlsS4SxVhh9/TTbhYtcvHOO80FO2YyWF0fkiQxdOjQNmSZCvG0dJcvX95q
m1WrVvHtt98ydepUh3TNiEdU+SguSHQsK+wQwwmF4I03JObMcbFlCxx/vMG11+pMmqTi9cb/jjm/
ON452z1RRZNLsaC53W6CwSCGYeB2u2O5zcKyK3U/pxmKQszfe+GFUR9nfT0sW6awZInCs8+6Ofdc
H0cfrTFlisqECTq1tRqJHoNMA0z5XsjEPVq8WOGpp9w891wLeezylBGsso75PM7MmTN55plnWv3O
DpQ86ZqRbxHxVKSbLO81HezeLfPEEz6eftrDmDE6l16qcfrpOj5f4u+YLep0CipyTVMy5zOLayzI
weVytSIKcSxJkuISsbUwoZSJuLoaTj1V49RTo66J+++HpUsVVq+WufnmMjZvljnhBJXTTlOZMkWj
d+/kEzhegKmQAbs1axRuu62M3/42xBFHFHVoJ6vzTKWl29jYyLp165g0aRKGYbBr1y7OPPNMXnvt
tZyDaSUdSANiQs6CCNxuNz6fLy+5ruYULzNyFYfZuhXuvdfFp5/CqFEhbrwxmlOaDGaLWlEUfD5f
Sov6u+++o1OnTjllfZiPJ9wWQFxrS1hm5p9mWL9jDTrlqgdrRnurjO3ZI7F4scKCBS4WLnTRv7/O
6acHmDJF4phjMkvPsyJVwC7TCrsVK8Kcf34nHnwwxOmnt4+SWCKYg3yRSISzzjqLxYsXZ7wfTdMY
OnQoixYtolevXowbN44XXniB4cOHx93+pJNO4oEHHmD06NHpHqLjBtKCwWCMCApRwmpepHIVh2lq
gt/9TmHFCpmxY3VefjmM19uYMgXGrDqWb/F26/HKy8tRFCVGpMlebYXFbb4nyYhYBJ6sRByvoskO
Ii4kunc3OOcclXPOUVHVqCvitddkLrnEh2FIXHRRmMmTNcaM0TMmYDsr7JYtk7nxxipmz27m9NOL
z+ayS2EsHS1dM+xIF43tq9Qt3cbGxrjiHPlAMBiMCaebMxK8Xm/Gbox335W46io3M2Zo3HCDRp8+
UUKqr69PKJKcq+rYgQMHMnK5WP22QnUqFdlmikwtYqu2bjoWXXtbuvEQCATwen188YWLf/3LxT/+
4UZV4bLLwkydqjFsmL3ZAtaKMHENhRvj7be9zJrlZ/bseqZNa0vkxQCzBvHGjRu57777+Pvf/97e
w4qHjmvp+nw+W6u4UkFVVerq6jLq2mCGpsF998k8+6zCo49GOOWUg+taotXU6quuqanJK3kk8tua
Ba/tRCqLWHzM47NaxKksumKFJEW1KUaODDNrVpi1a2VefdXFmWf66NHD4PLLw5x+ukqXLnYcK37A
TtMM7r/fw1NPeXjmmTpGjgwTDFKUmSdmOcxS1NKFDkC6hYC5ZBjIuj1PMAi//KXCrl0S774bSTiR
hCVpTTvLNTCY6hUpXmm0JEmxRa2Qk84uIhYpWNBWlLu9xWvapj/BqFE6o0aFue22MIsXK7z4opvb
b/dyyikqV14ZZsKEzN0PyXDggMQ11/iorIR3322hVy8PTU1RdxlQdJknVvdCqZUAQwcg3XzfcHNG
gtfrJRKJZEW4mgazZikEAhIvvKASzw1rToUpdA+2bP22hUSmPmKxrcvloqWlBa/XGyPiSCRCMBiM
mwtbDJaxosDkyRqTJ2t89x288oqLG27wIklw9dURzj8/Qoadl9rgww8V7rjDQ22tzm9+E4oVd5iL
EMxIRzks35KYZqOhFLV0oQOQbr4Qr4pNpDhlg4cfltm0SeLll+MTrhlNTU2thHDseoAT5TTH89uK
V/RiINtkSMciFvfM7B4Ri5iw5AURx+sZ1t7VdZ07w5VXqlxxhcr77yv8v//nYuRIP5dcEuHqqyP0
6ZNZ6KW5Gf73f8t4+WUXjzwSjKW5CSRKK7QzYJcLxH7q6uoc0u0IsJKQOSMh2wjm+vUSr78u87e/
qQmlBUWQDMDtdsfVZrAT8cqT8+m3LSREPrCu64RCIVwuV+x6CkIWH/N3zERstebENnYRcTbPkSTB
xIkaEydqXHNNmEcf9XDNNV769dO58cYwgwal3ue//61w441eTjtNZcmSZrp0yS1WbvYTF0IS07wg
NDY2MmjQoJzG3x4oedK1M4KeqrAiW9L9xz8kTjtNb6WNIGAlPxGZzQfhCjIRfmKXy9Wuftt8QeRt
67repmuy1SIW22dDxHZUh2V7rQ8/3ODee0Ps3w+PPeZh+vRyJk9WmTkzPvlu3y5x//1u3n7bzb33
Bpk6NX7w2Y60qHxW2JlJt1Qt3dI1Z2yCiNTX19ej6zrV1dWUl5fHtfSyJd21a2VOP721r1Ect66u
rs1x81XeaBgGzc3NBINB/H4/Pp8vNhGEFVLKhCsWsEAggMvloqKiIqkvXEx0t9uNx+OhrKwMj8eD
x+OJEUG8CjuPx4PP52ulVCfcUYFAgObm5phiXL40LwS6dIFbbw2zdGmAfv0MTj65nN/8xsOuXdH7
GAjAQw+5mTDBT00NLF0aSEi4Ztj9HJjdOmVlZfh8Pvx+fysXWqJraF4UzWhsTJ3TXowoedLN5fUu
FApRX19PJBKhsrKSioqKtF6rM5lEqhrVtD3iiIPfDYfDNDQ0EA6H4x7X7kmqaRpNTU0xKUFh3XYk
sg2HwzQ2NmIYBhUVFbG3hkyRjIhdLheKorQKKIl7ZSZi8aYiXEaJSMROVFfDLbeE+eSTAC6XQW2t
n3PP9TJ6tJ+tW2UWLw5wxx3hlBoKuZaJZwpBxOL6+f1+/H5/q2sYCoUIBAIx91swGOTDDz+ksbEx
a0t3wYIFDBs2jCFDhjB79uw2f3/wwQcZMWIExxxzDFOmTGHbtm05nacZJe9eyAbZaiRk8zAqCshy
tLOB13tQkStRkMxu4RKz60KkVKmqWjRR+lwhiE0EHvOR5SGuk/l6CdeE8FvGy5wQZJJIbwKiBGJn
dV1VFfTtC92763z5pYJhwIknat+Lu5cGEgXshJbu3r17ueWWW/jiiy9YsmQJY8eOZeLEifz85z9P
a/+6rnPttde20tI988wzWymVHXvssXzyySd4vV4ee+wxbrrpJubOnWvL+R1SpGuHrq5wMaT7PUmK
NlR8550gJ5zQgs/nS2qF2VFuKCy/5ubmWBGH+H0oFIpNdPOn1Kxd4Z4R8oj58oMnQjwihrYkbC7c
EWQiMmFEI1I7ypybm+HZZ93Mm+dCUeDhh0NMmKDx3nsKt95axquvuvjNb0L07ZtaJa8YnwPhJ5Yk
if79+/P+++/zwx/+kAcffJB169bZrqV74oknxv593HHH8dxzz9l2LiVPuuk8IHbq6mZCisLSHDdO
4sUXfUyf7klpXeZKumYrXrgthAUmSpbF67FI8RGSjKVAxCKHORgMxvy2xWSxx3uDsKawibQqOEjE
Zl9+Jnmwe/ZIzJ3r4g9/8DB+vMadd4aorT1ocU+cqLFwYTN//KOHE04o5557gpx3nmZrgUWhYF0Q
dF1n9OjRjBkzJqP9pKOla8aTTz7J1KlTMx9wApQ86UJhy2fTIUVrJdlPf+rjzTddzJunc9ZZ+VHf
FwuLqqqxAE+ifFsx0c2vcGKii8luJWLhz2zP7AZzWl2+XAn5gDmXWIgk6boeU2oTi6AZycqcNU1n
9Wo3Tz1Vwdtve7j88hDz5zczdGj857KsDG6+Ocz06RF+9jMfr7xi8MgjQbp3b7t9PoN+ucJMumKc
+X4Wn332WT755JOslMwSoTSe2gxh1g5IR2M2E6QiXVFGK0lSq0qyX/1K4/LLXRx2mMHo0Ym/n6ml
a/bber1eysvLs8q3NQeQBMxEHA6HY8RgtYjzTcRmV4LX6y26nmLpQLh8QqEQHo+H8vLyNueQqrou
EHDz0kse/va3Mnr21Jg4UeWeew5QWRm1nAOB5AUJRx5psHBhM7/7nYezzvJx770h/uM/2mYyFOu1
jTcvshlrKi1dgYULF3LPPffw3nvv2ark1yFIVxCVVTsgH1KPiUjR7C+OFyQbM8bgnntUfvQjN889
F2bChMz2b0Uiv62d+bbtTcRmV4Lb7S46V0K6EM+GLMuxfnXxEK+6LhLReecdmeefd7Fvn0R1tc5d
dwWYOFFFlkGSZCQp2kDSXF2XqCDB5ZK5444wxx2ncdllXmbNCnH55WrJuBuslm42qK2tZcOGDWzZ
soVevXoxd+5cXnjhhVbbrFq1ip/97Ge8+eabdLFDbciEDkG6kHvXhnRhJUWzpm4qf/G0aQZPPx3h
/PM93HmnymWXZSdeIs5VkqQ2ftt8W525EHEmhCl8zUBSoipmZGuhGwasWCHz0ksKGzZI7N0r8dOf
apx9doSuXUHXZQzjoPvIKvwj3EGQuMz5hBNkXn89yEUXVfHppwr33x/E48ksSFxomMcWDAbxJWup
kgTpaOnefPPNBAIBzjnnHAzDYMCAAfzzn/+05TxKXk8Xojqx4XDYdq2CeAgEAiiKQllZWSv5w0w0
dTdsgCuvdDN4sM6sWXqrdiiJulNA2w4Vwm9bTKI0cLD6SBCx+EBqIhZ+eFVVS9qVYLbQ0ynp1nX4
+GOZefMUli6VOXBA4uyzNc4+W03oq239/cSuCaEOZi5nFwtlQ4PBXXeVs2OHwpw5DZSXR7cXYy6m
a2/W0t2xYwe33norL7/8cnsPKxESXrgOQbqhUKhgK3QgEIhFoHNpDaSq8MQTMg884OK88zRuvFGj
a9eDQul+Uxa7OSDo9XopKytrVUlWTBMjEdIhYmGNeTyevGtP5AvmEuRULZRaWmDxYpn335eZO9dF
p05w5pkaZ52lMmKEkfMrf7ri8JEIXHttOS6Xwd1311NeHt3OXKJbDMI/ZtL98ssveeyxx3jyySfb
ZSxpoGOTbjSim38h80gkEssHtEtucdcu+O1vXWzaBCNHGlx1VTM9eqj4/f42WRDidapQroR8w+yH
D4VCsd+ba/ezcU20B8S9CofDCfOGDQO++UZi0SKFzz+XePFFF0cfrXPaaRrTp2sMGZL/6ZaIiHUd
bryxnI0bZZ5/vp6aGk9se3OXCTv0JrKFyC93u90sXbqUBQsWcP/99+f9uFmiY5OuSKXJF8xBMkG0
FbmKmVqwZQs8/LDCihXQs6fGz36mcfTRTSiKhM/nK6jftlCI50oQv7daxGKCW4N1xQBzoEzcK4Hd
u+G99xSWLZOZP18hFIKTT9aZNk1l4kSdBJ2ZCgpBrMFgmF//2svWrW7++tcAsnzw7dFs5Zo1dQUR
F0LcXBgfLpeLt956i3Xr1nHHHXfYegwb4ZBuNrAGycrKygiFQm1e/+3E7t1B/v53iddf97J9u4uf
/1zl5JNVhg8vHVdCKpit23R8nubqrmIiYvOiEXUzufj2W5mPPop+du2S+PBDhf/4D40TT9SZNEnj
yCNzdxvYDfOioSg+fvQjHyeeqHLTTa3FZqxcEY+IzeJAdhNxc3NzTAPjpZdeorGxkeuvvz7X088X
Om6PtHwgWZ6vHWW68SAmsNsd5MorZW680c2qVRrz5smcdZaX2lqdgQMNpk3TGDdOpwSD+cDBCS5J
UtpZCWZ3g4CViEVkvhBELAJl+/cH+fJLH2vWVPLxxwqBAKxaFSXZ44/XufxylaOOChftvUqUXfHs
syEmTvQyaBCcfXZmehNCKEjMEbu7OYtt6+vr6dy5c66XoF3QISxdEYDJFdY8X9G2xgxhoVVWVuZ8
PDoz3lcAAB8VSURBVHFM4bcVkoLBYDCWDREtD5VYuVLi9dddrF0rsXSpwsSJGlOnaowdqzNsWPFZ
T1YUIishnxZxfT2sWyezdq3BsmWwerWbHTsUhg7VGTNGp7ZWjy2MxX4v4ODipyhK3MybVaskbrvN
w6OPhunfPzENxCNiM6cIH7DZWDFbxZm0+wkEAjH3zYMPPsioUaOYMWOGHZcjH3As3VRIN8/XTks3
Xr6tUAATqWOCJEaNUjj22GiO5a5dEv/+t8KqVTKzZ7uRJBg2TGfcuOhn1Kji8BVC20osISuZD9hh
Ebe0wNdfS3zxhcyXX8p89x28/bbCvn0SQ4dqTJgQZPx4iWuvjTBiRJiysrycSt5gtm5F2mE8jB5t
MGmSxq23uvnb38IJF5JcFNji6U0IXYp4RGzOUKqvr6dTsTzkGaJDWLpiYmcDa+5rKrUqVVUJBAI5
Kdanm28bz2qDtrmuO3fKLFum8PHHMgcOwKuvuujSxWDqVI1OnWD4cJ0RI3QOP9woKEmYfYVer7do
ChxCIYNNmwy++cZg505Yu1ZhwwaZjRtdDBigs2ePwvDhOsOHGxxzjM6gQRF69WrG44lvFZYKIpFI
LBiVTkqeqsKkSWXcfLPKGWfknh1kJWEr94jqOTMRmwN2Yps5c+bwzTffcPnllzNx4sSMx7FgwQJu
uOGGWGHErFmzWv09HA5z8cUX88knn9C1a1defPFF+vfvn+lhOnYgLRvSNQfJvF5v2nmhmqZlrVhv
PWY2+bZWIlZVtZWFFxVKUfjmm6iltnq1zOefR/f75psKvXsbnHyyhqLAgAEGgwbp9O4NffrodOsW
1f7NFdYAk1W8JZ9QVdi7F3bulNmxQ+K772DDBplt2yS2bZOoqjJ4912FPn0MDjvMYOzY6MJ0xBE6
gwap9OkTQZa12EQXbzZCyLwYlddSQdwPschnkuq4aJHMU0+5+Nvf8uObTjeXWFjoqqpy9913s3jx
YrZv30737t2ZMmUKjz/+eNrHGzJkSCst3blz57aSdXz00UdZu3Ytf/7zn3nxxRd59dVXs9HSdUjX
vK05SGZN8UkFXdczfrWx+m29Xm9sX5BbClgmfkxVldi8Ofr56iuZzZslQiH4+GOF7dslAgHo1cug
e3eDHj0Mhg/XAYkuXQy6dTOoqjKoqYHq6ui//X7w+4l1N7a6ErLt3mAYEApBUxMEAhKNjdDQIFFf
H9WN3bNH5rvvooSq6/DVVzJ790rs2SPRs6fOrl0yvXsb9OplMHy4RmUl9OtnxD59+xok4x1xHqKi
TFGU2HXVdb0kJDAhu8q4tvuAU04p4+c/Vzn77PznwkN8IhYGhnimzj33XObOncu+ffvYvn07kydP
TmvfS5cu5a677mL+/PkA/O53v0OSpFbW7n/+539y1113MX78eDRNo2fPnuzduzfT0+jYPt306tnt
EcPJ1KcrRGlkWW7VJkfsyw6pyVR+TCF+IssyffooDBjgYvJkM1lEg5AtLbBzp8Tu3dFPYyNs2wab
Nkl8+aXEtm0y9fVRAhwwQGfJkmjEXlGgqspAkqLlo8OH62zbpuBygctlMHSozoYNBxe2vn0NNm2S
UVXQNKioMNi5UyIUivpUw+GoxV1RQUx+sKbGoKoKevXS8XiibckHDowuED/8oUa3btF/d+tGUkJN
BbN8ZEVFRZtnxKpFHAqFipKIzRKSuchgShLMnBnhiSfcBSNds/CPUNETVrokSbz88susW7eO8vJy
hg4dytChQ9PedzpauuZtFEWhpqaG7777zrZsiQ5BupCcDPMhhpOq7NiqOuZyuRLq29qNRESciiw8
HoXDD5cZODD9sWmaTl1dC42NOoriQ9PchEIQiahoGmiahGGArps7KBgoCt+TctRS9nqhrMzA643+
O096RQmRrjiNJLXVIi4mIk5HQjJTnHqqzl13SWzeDIcdZssw04KqRttbia7V+/btY+bMmfTo0YP1
69dnLXiTKexOEe0wpBsPmQbJ0kFq4ZLWBRWinDdTfVu7kQ5ZZCJcbi579fs9dO4sJrf1AS1+D5UI
MGXbiaJYiNhspdupzOZ2w5gxOm+84eKaa/JX+SlgzbBwuVy8/vrr/P73v+f//J//w5QpU7K+Zulo
6fbt25dt27bRu3fv70WBGmzNCe4wpGu2dK0Bq1za8yQ7lnmfVr9tPvRt7UY8skhHplGcqyzLJatx
C/a9gsdDomsrxJLidefIlojN1m2++sWdeqrK++/nP/vEnD9cWVlJQ0MDN998M7Is89Zbb+WcJpaO
lu7pp5/OM888w/jx43nppZfS9heniw4RSANi+Ze5BMnSRV1dHZWVlTECEu4LRVFifqeOopNgVgcT
ZCEWHLM1XExaCKlgV8DPDiRKCxStyVOJwou3uXi6D3bim28kpk0rY/36YF72H8+6fffdd7nzzjv5
1a9+xYwZM2y7RwsWLOD666+PpYzdcsstrbR0Q6EQF110EatWraJLly7MnTuXwzL3q3Ts7AWApqam
mNZtvEoyO1FfXx/TXrC2VBd156VOtmaYXQkidSqeTGN7ayGkA3MZcraynPlGOvnZsiwTDocL1sJI
02DYMC/r1gXxeOzdt1UwqKWlhdtvv539+/fz5z//mW7dutl7wMKgY2cvCOSzY4QV5iaQgoREzmyp
vm5bIc4pkb8z3YwJs0XcXlH9bLs4tAdSdecQoktwsNmlqqp5lVlUFDj8cIN9+6B3b3v2aV7MvV4v
LpeLZcuW8T//8z9cf/31XHDBBUV7j3JBhyFdr9ebd01dMXGFVVcKfttsYRbjTsffmW3GRL6JONXC
USoQ10iUyYpXcLvbJCXDtm0S4XC8YGnmMLtFKioqCIfD/PrXv+arr77i1VdfjdsosqOgw5BuPsnO
6rcVAZKO4rc1Ix0x7nSRKqpvDSal48PMBPkMlBUaiTIszBaxtTuH3UQ8fLiO250b4VqtW7fbzerV
q/nv//5vLrvsMn7/+9+X5KKYCTqMTzdfmroiV9AwjJhOQiAQIBwOtyGKUn5YrBZhITUG0tWYSHc8
Vh90ewbKcoW1pDpT95mViEWXFfObSTrXV9OgSxcfu3e3ZK3fYU5pKy8vR9M07rvvPpYuXcrjjz/O
wIEDs9txcaLj+3TtnlTWfFuz31boJpgtCuHPNZNwMQaS4kFMBsMw2sUitPowrUQhfJjpXF9zUKZU
XQkCZoGabNXZxBuD9frG8xEny0jZulVi8ODsBJPipbR9+eWX3HjjjZx11lksWLCgKAOa+UKHIV27
YNZmKCsrS+i3TfUgmyUErdZwsRCxObiUr/zObJDp9RXXVVhxYuEohnPJBvl2i2QjgblqVRmjRysp
KzHjnYu5GhTg4YcfZv78+Tz++OMMHz7c1nMrBTik+z2sfttMdRKyCSQlq/jKJ8xCKKUSXEp2fYUV
Ja6hOK9iXOiSwXxf7CrhTRepiPitt9wMGRKioaEprdRA87mIBX3Tpk1cd911TJ48mYULFxYs06jY
0GFIN5eH0+y3tVMnIZuKLzMR5wPt7UqwE8LfaRgGfr8fl8tVFBkT2cBs3dpZwpsLBBEbhsL27W5u
usmgqqoqpSi8JEkx1T+/348kSTz55JPMnTuXP/3pT4wePbqdz6x9UbozzgaIVx9RBWNO+s9Xvm0i
/6V4NTanpJmJOFeSKFZXQjZIlmGRLGPCWn4bzz9c6GtSiBLeXPHmmzKBAAwaZACJLWJxfYUhcffd
d7N3716++eYbRo4cyRtvvJGVDnVHQ4ch3Uxr1c1+2+rq6tjEFPsq5GudJEl4TGU+Vg1RUWiQjbVW
iq6EZMgmUJatxkS+M1LyJVBjNx5+2M011yTuQSieYVVVMQyDiooKAAYOHMjmzZvp378/69ato0+f
PrzzzjuMHz++UEMvSnQY0k0HVk1d4bcttuIGs39NkHG8/FZIThLWFJ2O4ErINnXKimQZE8ItkW7G
RKawMxc63/jgg6g055ln6gm3EVkWwg+9d+9eZs6cSd++fXn55ZcpLy8HiIkkHeroMHm6EBUMT3Q+
1nxb4bctZZ0Es7Vmzb8UBOL1eot6UqeCHd0Pcjm23d2FrToDxUxCmgYnnODlhhsinHtu22pPaxsg
RVF47bXXeOCBB/jd737H5MmTS/a5swEdP083Ecx+WyFKUwz6tnbAaq3puh7zD4q/BYNBwuFwSUbz
2/v1O1lEXyxy6bp+Skn7QeCxx1yMGqVxzjltCdecQ1xRUUFdXR033XQTXq+XhQsX5tS4taOjQ1m6
kUgkluJl9dt6vd5Wje9K1bpNBCFCDrRSz4qnBiZIolir6Urp9RuSX2NzNF9RlKK3bgW+/FJi2jQv
b78d/D6AFoVon6OqakzNb9GiRdx9993ccccdTJ8+vajvVQFx6Fi6Zr+taPNRjH5bu2D2dcazoIox
bS0Zcu3i0B5IlDFh9Q0Ly71Qgbps0dgIF1xQxv/+b7gV4Vrb5zQ1NXHrrbcSCASYP38+Xbt2bcdR
lw46lKXb0tJCY2MjQGwVLnW/bSKYU41y9XVa09bi+S7tSFtLBrN/UCwepQzz67e4N3ZrTOQDmgbX
XefG54P77otmLMQTGP/www+57bbbmDlzJuedd16Hmls24dCwdM3WXkfx28aDWYjbDl9nsrS1ZL5L
UWqba/6wuYuD6LxRqjAvHtaMkVQ52sIqbi8xeMOAWbPcbN4s8+qrIaBt+5xgMMgdd9zBli1bmDdv
Hr169cr7uDoaOpSlK4RnOqrfNpUrId+Ip1YF2Vtq5kBZsXZxSBd2ZVnkI2MivePCrbe62bhR4vHH
w1RVtbZu3W43n3zyCTfddBNXX301l156aYczZmxGx2/XA3D55Zezc+dOxowZw7hx4xg7dizV1dUl
T7x2uhLsRry0tVQEUYqR/GQwl/CK1287kSpQl2tWiq7D7Nku5s9X+Oc/Q1RVtU5rU1WV2bNns3Ll
Sh5//HEOK2Qf9tLFoUG6hmGwf/9+li1bxpIlS1ixYgX19fUMHjyY2tpaxo0bx/Dhw0uqSKAUenqZ
YbXUxJuHIGIRyXe5XCUTyU+E9mxwmQ4Rp+P+UVW4+moPW7ZIvPRSkPLy1gLjn3/+OTfeeCPnnXce
v/jFL0r6fhUYhwbpxoOmaaxfv54lS5awdOlSPv/8c8rKyjj22GOpra2ltraWHj16FJ2l1d6uBDsh
/Jai/Y8kSXG7RZTShC5G10g2gTrDgGeeUfjxj8PAwa7Cuq7z8MMPs3DhQh577DGGDh3aTmdVsjh0
SdcKwzBoampixYoVLFmyhGXLlrF792769+/P2LFjqa2t5eijj263bgPF1B7cDiQ6n2QEUcxt3UtB
oMaMdIhYCNWIxX3Dhg3ccMMNnHbaafzyl7/M65vhggULuOGGG2Lt0GfNmtXq78888ww33XQTffv2
BeDaa6/l8ssvz9t4bIRDusmg6zpbtmyJWcOrV6/GMAxGjRrF2LFjGTduHP3798+7JWYuEfV6vUVh
PeWCTM4nnQBSvtPWUkFYt8LVU0qWuYBVTCkSiaaFffDBB8ydO5fy8nJWr17NnDlz8i5Mo+s6Q4YM
YdGiRfTu3Zva2lrmzp3LsGHDYts888wzfPLJJzz00EN5HUsecGikjGULWZY5/PDDOfzww7ngggti
FVGrVq1i6dKl3HXXXWzZsoWuXbvGfMPHHnssFRUVthCAVcyllLseQHaBsmxLbu1IW0vnfKzNFEv1
/ogUSlVVW7muevXqha7rbN68GY/Hw0knncTPf/5z7r///ryNZfny5QwePJgBAwYAcP755zNv3rxW
pAsk1FMpVTikGweSJOH1ejn++OM5/vjjgeiN3717N0uXLmXx4sXcf//9tLS0MGzYsJhbYujQoRlZ
p9YGitn2wSoWWNOmcj2fZN0izNq4kL8Cg47Ucw3ats+RJInnnnuOv/71r/zhD3+IWbehUIj6+vq8
jmX79u3069cv9v++ffuyfPnyNtu98sorvP/++wwZMoQHHngg5mooVTikmyYkSaJnz578/+3df0zU
9R8H8OeHAwyIwEPhCBFJDsFAiHb6nTUyDMwN8MfMykpxs2mrheDGSU6FLQckfwSx87KZ8rUfaD8Q
W6ErGJaDgzx/oM3GYEYCHSY/gn0pLuD9/YPu091xxw+9+3zujtdjawv4WK/L9drb9+f1fr7Xr1+P
9evXAxj/H/Knn35CQ0MDysrK0NLSAh8fH5ORtYCAAIuNx9Aw3NzcHDpLdboMAez2vu58qmPNtjpg
YH4Ky9lPyFm6Pqe7uxtZWVl45JFHUFtbCy8vL/75OXPmIDAwUMSKx6Wnp2PLli3w8PDA0aNHsW3b
NtTU1Ihd1n2hPV0bYozhjz/+QFNTE/+Srre3F+Hh4fy2hK+vLz7++GNkZWXxqWfOzBHDaayNrU13
rtU4/0HIq+jtxTBHbIg1dXNzQ2VlJUpLS/HOO+/gqaeeEuX3TKPRIC8vD+fOnQMAFBYWguO4CS/T
DMbGxiCVStHf3y9kmfeKXqSJZWxsDG1tbbhw4QI++OADNDc3IykpCXK5nH9JFxISInqjuhfOlA1r
PtdquOXAPODHcKrR1Va3hsmRvr4+7NmzB35+figuLuZvuxbD6OgolixZgpqaGgQHB2P58uX49NNP
TW4I1ul0kMlkAIDKykocPnwY9fX1YpU8E/QiTSxubm6Qy+X44osvEBISgoqKCgQGBkKr1UKj0eCt
t95CZ2cnZDIZPzf82GOPOXQGgTO++JtqW8KwNQKAD7gfGRlxyLG16TC/6NLNzQ3nz59HQUEB8vPz
sXbtWtE/l0QiQVlZGVJSUviRsejoaBw8eBAKhQKpqakoLS3F2bNn4eHhAalUihMnTohasy3QSlcg
o6OjVvdtGWPo6OiARqOBRqPB5cuXodfrERMTw6+GFy9eLPpKUsxbHOzFuDkZthKsja0ZVsSOHgJv
fH3OnDlzMDg4iNzcXPz9998oLS2FVCoVu8TZgLYXnI1er0dzczPfiNva2uDv7y9aroQjnsC6H5b+
6G3pv6WtjtsKwdL1OT/88AP279+PnJwcbNq0SfQaZxFqus7OPFfixx9/xMDAAJ8roVAosHTpUruE
rTjai7L7Zby6NeQuz4Tx2Jq1U15Cb7mY5/f++eefyMvLQ1dXF44cOYKgoCDBaiEAqOm6JnvnShiP
tTn6i7LpsNcRXvObhIWKYzT8u42vz3F3d0dTUxOUSiVef/11vPzyy07/++akqOnOBtZyJUJDQ/km
PJ1cCVtfd+4IhN4eMT9ua+s4RsD0+hwvLy/o9XoUFBTgxo0bUKvVWLhwoY0/FZkBarqz1WS5Eob9
4bCwMP4FUldXF/z8/FwibAdwrO0Ra2NrxgE/0zlNZ+ngRnNzM7Kzs/HSSy/htddeo9Wt+KjpknHm
uRIajQbt7e3w9PRET08PYmJiUFJS4vRHkgHnmCM2D/kZGRnhx9ssbUsYX59jCBh/99138f3330Ot
VkMul9u13qlSwfR6PbZu3QqtVot58+bh1KlTs3XFTU2XWJefn4/33nsPL774Iry9vaHVajE0NISo
qCh+W2KmuRJicuabKSZLWwPGm3Rvby9CQ0PR1taG3bt3IzU1FdnZ2Xb//ZlOKtiRI0dw/fp1qFQq
nDp1CpWVlaioqLBrXQ6KDkcQ61auXIldu3aZvOGeLFfC0Iit5UqIyXgl6IwBNZZCfgyTCYYVcGZm
JjQaDTw8PLBhwwaEh4djcHAQ/v7+dq1tOqlgVVVVyM/PBwBs2rQJb7zxhl1rckbUdAmSk5MnfM/d
3R1xcXGIi4vDrl27JuRKHDt2bEKuRExMjMmNwkJytYAawHKkZHt7OwAgKysLK1euxOXLl3Hy5ElE
RkbavelOJxXM+BmJRAJ/f3/09vbSgQwj1HTJtHAcB39/f6SkpCAlJQXAv7kSDQ0N+OSTT3D9+nVI
JBLExcXxjViIXAnjGVVX2IsGxqcthoaG+EhJYDzQ+6OPPkJJSQkUCgUAYO3atWKWOSVXy8K1BWq6
5J4ZciXkcjm2bt0KxhiGhob4XInc3Fx0dXVBJpPxmcMJCQk2y5UwPoFlzzhJIVla3ep0OmRmZiI6
Ohq1tbV44IEHRKktJCQEv/76K/91R0cHQkJCTJ5ZsGABbt++jYcffhijo6MYGBigVa4ZepFG7Gqq
XAmFQoGIiIgZ7b26YgYEYDpL7O3tDY7j8Pnnn0OlUqG4uBhPPvmkqJ9zOqlgKpUKN27cgEqlQkVF
Bc6cOUMv0sx/QE33/vX19eH5559He3s7Fi1ahNOnT8PPz2/Cc4Y/ejPGEBYWhjNnzohQrfj0ej2u
XbuGxsZGPlfCz8+PD/eZLFfC+AivIeHM2Vk6KdfT04Ps7GwEBgaiqKgIvr6+YpcJYHxkLDMzkx8Z
27t3r0kq2PDwMF555RVcuXIFAQEBqKiowKJFi8QuWwzUdO1JqVQiICAAOTk5KCoqQl9fHwoLCyc8
99BDD2FgYECECh3bZLkShka8ZMkSlJeXY/Xq1QgJCXGJgxuA6fU5hlnir7/+GocPH8ahQ4eQnJzs
Ep9zFqKma09RUVG4cOECgoKCoNPpsGrVKvz8888TnvP19cXg4KAIFTof41yJ8+fPo6amBvPnz0dq
aqpNciXEZun6nIGBAf6wQUlJCebOnStyleQ+UNO1J6lUit7eXqtfG3h6eiI+Ph7u7u5QKpVYt26d
kGU6pbt37+LRRx/F3r17kZGRwZ+ka2xshE6nw8KFC2eUK+EILF2fU1dXh7y8POTm5mLDhg0O/xnI
lKjp3q/k5GR0d3fzXzPGwHEc3n77bWRkZJg02YCAAPT09Ez4Z/z2228IDg7GrVu3kJSUhNraWoSH
hwtSvzPr7++3OINqLVciNjaW35Yw5Eo4AksZvkNDQ9i/fz96enqgUqkwf/58scsktkFN156io6NR
V1fHby88/fTTuHnz5qS/Zvv27UhLS8PGjRsFqtL1WcuVmDdvHr8afvzxx/Hggw8KvpI0z/B1c3Pj
x+oyMzOxZcsWWt26Fmq69qRUKiGVSqFUKq2+SOvv74e3tzc8PT1x9+5dPPHEExOOUBLbY4xBp9Px
WxKXLl0SPFfC/Pqc4eFhHDp0CC0tLVCr1RNmXYlLoKZrT729vdi8eTNu376NsLAwnD59Gv7+/tBq
tXj//fdx9OhRNDQ0YOfOnZBIJBgbG0NWVhYyMjLELn1WMs6V0Gg0aGlpgbe3Nx91aatcCfPrc9zd
3XH16lXs2bMH27dvx44dOxxm64PYHDXd2YTi92bGPFeisbHRJFdCoVAgNjZ2RrkS5tfnjIyMoLi4
GBqNBmq1GosXL7bjJzJFc+SioKY7W1D8nm2MjY2htbWVb8LNzc2QSCSIj4+fNFfC0vU5N2/exO7d
u7Fx40a8+eabgkdk0hy5KKjpzhYajQb5+fmorq4GABQWFoLjOJPV7rPPPov8/HysWLECo6OjkMlk
+P3338Uq2SmY50o0Njais7MTMpmMXw0PDg7i4sWL2LdvH7y8vDA2NgaVSoVvvvkGarXa5LiskGiO
XBSUpztbUPyefXAcBx8fHyQmJiIxMRHAv7kSdXV1UCqVaGtrQ2JiIvbt24ewsDBUV1djzZo1+O67
70SNmrxz5w6flSyTyXDnzh2Lzw0PD2P58uU0R25n1HQJxe/dI47jEBoaitbWVsTGxqK2thY+Pj64
du0aTp48iZycHKSlpQlSy2Rz5JbqtqS9vd1kjnzZsmU0R24H1HRdDMXvCe/AgQMm+7SG7QYhffvt
t1Z/FhQUhO7ubn57ITAw0OJzwcHBAIDw8HCsWrUKV65coaZrBzSv4mIUCgVaW1vR3t4OvV6PiooK
pKenmzyTlpaG8vJyAMBnn32GpKQkMUp1GY5+d1x6ejpOnDgBYDwI3dK2QX9/P/R6PYDxo9f19fVY
unSpkGXOHoyxyf4iTqi6uppFRkayiIgIVlBQwBhj7MCBA+yrr75ijDH2119/seeee45FRESwFStW
sFu3bolYLbG3np4etnr1ahYZGcmSk5NZX18fY4yxS5cusVdffZUxxlh9fT2LjY1l8fHxbNmyZez4
8eMiVuwSrPZVml4ghBDbszq9QNsLRHDnzp1DVFQUIiMjUVRUNOHn5eXlCAwMREJCAhISEvDhhx+K
UCUh9kErXSKo6RzeKC8vh1arRWlpqYiVEnJfaKVLHENTUxPkcjnCwsLg4eGBF154AVVVVROem2Ix
QIjToqZLBGXp8EZnZ+eE57788kvEx8dj8+bN6OjoELJEQuyKmi5xOOnp6fjll19w9epVPPPMM9i2
bZvYJRFiM9R0iaCmc3hj7ty5/LHZHTt2QKvVClojIfZETZcIajqHN3Q6Hf/3VVVVNKRPXAodAyaC
kkgkKCsrQ0pKCp/3Gx0djYMHD0KhUCA1NRWlpaU4e/YsPDw8IJVK+dNUhLgCGhkjhBDbu+doR7op
j8w6HMcdA5AKoJsxtszKM6UA1gL4H4AMxthVAUskToz2dAmZ6DiANdZ+yHHcWgCLGWNyADsBqIUq
jDg/arqEmGGMXQTQN8kj6wD8959nGwH4cRwXJERtxPlR0yVk5kIA3Db6uvOf7xEyJWq6hBAiIGq6
hMxcJ4BQo68X/PM9QqZETZcQyzhYn945C2ArAHAc9x8A/YyxbivPEmLi/xMgGqI94mpPAAAAAElF
TkSuQmCC
"
>
</div>

</div>

<div class="output_area">

<div class="prompt output_prompt">Out[163]:</div>




<div class="output_text output_subarea output_execute_result">
<pre>&lt;sympy.plotting.plot.Plot at 0xaf7d962c&gt;</pre>
</div>

</div>

</div>
</div>

</div>
<div class="cell border-box-sizing text_cell rendered"><div class="prompt input_prompt">
</div>
<div class="inner_cell">
<div class="text_cell_render border-box-sizing rendered_html">
<p>A parametric surface - a torus.</p>

</div>
</div>
</div>
<div class="cell border-box-sizing code_cell rendered">
<div class="input">
<div class="prompt input_prompt">In&nbsp;[164]:</div>
<div class="inner_cell">
    <div class="input_area">
<div class=" highlight hl-ipython3"><pre><span></span><span class="n">u</span><span class="p">,</span><span class="n">v</span><span class="o">=</span><span class="n">symbols</span><span class="p">(</span><span class="s1">&#39;u v&#39;</span><span class="p">)</span>
<span class="n">a</span><span class="o">=</span><span class="mf">0.3</span>
<span class="n">plot3d_parametric_surface</span><span class="p">((</span><span class="mi">1</span><span class="o">+</span><span class="n">a</span><span class="o">*</span><span class="n">cos</span><span class="p">(</span><span class="n">u</span><span class="p">))</span><span class="o">*</span><span class="n">cos</span><span class="p">(</span><span class="n">v</span><span class="p">),</span>
                          <span class="p">(</span><span class="mi">1</span><span class="o">+</span><span class="n">a</span><span class="o">*</span><span class="n">cos</span><span class="p">(</span><span class="n">u</span><span class="p">))</span><span class="o">*</span><span class="n">sin</span><span class="p">(</span><span class="n">v</span><span class="p">),</span><span class="n">a</span><span class="o">*</span><span class="n">sin</span><span class="p">(</span><span class="n">u</span><span class="p">),</span>
                          <span class="p">(</span><span class="n">u</span><span class="p">,</span><span class="mi">0</span><span class="p">,</span><span class="mi">2</span><span class="o">*</span><span class="n">pi</span><span class="p">),(</span><span class="n">v</span><span class="p">,</span><span class="mi">0</span><span class="p">,</span><span class="mi">2</span><span class="o">*</span><span class="n">pi</span><span class="p">))</span>
</pre></div>

</div>
</div>
</div>

<div class="output_wrapper">
<div class="output">


<div class="output_area">

<div class="prompt"></div>




<div class="output_png output_subarea ">
<img src="data:image/png;base64,iVBORw0KGgoAAAANSUhEUgAAAV0AAADtCAYAAAAcNaZ2AAAABHNCSVQICAgIfAhkiAAAAAlwSFlz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"
>
</div>

</div>

<div class="output_area">

<div class="prompt output_prompt">Out[164]:</div>




<div class="output_text output_subarea output_execute_result">
<pre>&lt;sympy.plotting.plot.Plot at 0xaf664e4c&gt;</pre>
</div>

</div>

</div>
</div>

</div>
 


    </div>
  </div>

  </div>


  
    <footer class="footer hidden-print">
      <div class="container">
        <div class="col-md-4">
          <p>
            This website does not host notebooks, it only renders notebooks
            available on other websites.
          </p>
        </div>

        <div class="col-md-4">
          <p>
            Delivered by <a href="http://www.fastly.com/">Fastly</a>,
            Rendered by <a href="https://developer.rackspace.com/?nbviewer=awesome">Rackspace</a>
          </p>
          <p>
            nbviewer GitHub <a href="https://github.com/jupyter/nbviewer">repository</a>.
          </p>
        </div>

        <div class="col-md-4">
          
  
            
              <p>
                nbviewer version:
                <a href="https://github.com/jupyter/nbviewer/commit/aa567da928dd022ce6a75b6c131a5ef3ff5c211a">
                  aa567da
                </a>
              </p>
            
          
  
  <p>
    nbconvert version: <a href="https://github.com/jupyter/nbconvert/releases/tag/5.3.1">
      5.3.1
    </a>
  </p>
  

          
  
  
  <p>
    Rendered
    <span class='date' data-date='Tue, 09 Oct 2018 23:49:57 UTC' title='Tue, 09 Oct 2018 23:49:57 UTC'>(Tue, 09 Oct 2018 23:49:57 UTC)</span>
  </p>
  

        </div>
      </div>
    </footer>
  

  <script src="/static/components/bootstrap/js/bootstrap.min.js?v=5869c96cc8f19086aee625d670d741f9"></script>
  <script src="/static/components/headroom.js/dist/headroom.min.js?v=b0a311ea668f8e768ea375f4a7abb81c"></script>
  <script src="/static/components/headroom.js/dist/jQuery.headroom.min.js?v=f3a1bae118315d0c234afc74dc6aab71"></script>

  
  
  <script>
    $(function(){ $("#menubar").headroom({
      tolerance: 5,
      offset: 205,
      classes: {
        initial: "animated",
        pinned: "slideInDown",
        unpinned: "slideOutUp"
      }
    })});
  </script>


  
  <script>
    (function(i,s,o,g,r,a,m){i['GoogleAnalyticsObject']=r;i[r]=i[r]||function(){
      (i[r].q=i[r].q||[]).push(arguments)},i[r].l=1*new Date();a=s.createElement(o),
      m=s.getElementsByTagName(o)[0];a.async=1;a.src=g;m.parentNode.insertBefore(a,m)
    })(window,document,'script','https://www.google-analytics.com/analytics.js','ga');
    ga('create', 'UA-52617120-5', 'auto',
       {'storage': 'none'});
    ga('set', 'anonymizeIp', true);
    ga('send', 'pageview');
  </script>
  
  <script>
    require({
        paths: {
          moment: "/static/components/moment/min/moment.min.js?v=89f87298ad94aa1e6b92f42eb66da043"
        }
      }, ["moment"], function(moment){
      var date = $("footer .date"),
        m = moment(new Date(date.data('date'))),
        update = function(){ date.text(m.fromNow()); };
      setInterval(update, 61*1000);
      update();
      var w = $(window).scroll(function(event){
        $("body").toggleClass("scrolled", w.scrollTop() > 0);
      });
    });
  </script>

  <!--NEW RELIC Stop Perf Measurement-->
  
  <!--NEW RELIC End-->
</body>
</html>