{
 "cells": [
  {
   "cell_type": "code",
   "execution_count": 1,
   "metadata": {},
   "outputs": [],
   "source": [
    "import numpy as np"
   ]
  },
  {
   "cell_type": "code",
   "execution_count": 2,
   "metadata": {},
   "outputs": [],
   "source": [
    "def primeSieve_slow(sieveSize):\n",
    "    ''' Returns a list of prime numbers calculated using\n",
    "    the Sieve of Eratosthenes algorithm.'''\n",
    "    sieve = [True] * sieveSize  # First we set all the numbers to True, then mark off the ones that are not prime.\n",
    "    sieve[0] = False # zero and one are not prime numbers\n",
    "    sieve[1] = False\n",
    "    # create the sieve\n",
    "    for i in range(2, int(np.sqrt(sieveSize)) + 1): # You only need to sieve to sqrt(N)\n",
    "        if sieve[i] == True:                          # Only need to check numbers that still may be primes.\n",
    "            pointer = i * 2                           # This would be prime times 2, so not prime.\n",
    "            while pointer < sieveSize:\n",
    "                sieve[pointer] = False                # We thus mark it False\n",
    "                pointer += i                          # And move to then next multiple of prime.\n",
    "                                                      # Until the while condition is false.\n",
    "    # compile the list of primes\n",
    "    primes = []\n",
    "    for i in range(sieveSize):\n",
    "        if sieve[i] == True:\n",
    "            primes.append(i)\n",
    "    return primes"
   ]
  },
  {
   "cell_type": "code",
   "execution_count": 3,
   "metadata": {},
   "outputs": [],
   "source": [
    "def primeSieve(sieveSize):\n",
    "    ''' Returns a list of prime numbers calculated using\n",
    "    the Sieve of Eratosthenes algorithm. Not practical for very\n",
    "    large sieveSize. This version is more than twice the speed of the previous''' \n",
    "    # The following line does the same as the 5 lines above. Note how it treats sieveSize odd and even.\n",
    "    sieve = [False,False,True,True]+[False,True]*(sieveSize//2 -2) + [False]*(sieveSize%2!=0)\n",
    "    # create the sieve\n",
    "    for i in range(3, int(np.sqrt(sieveSize)) + 1,2): # You only need to sieve every other up to sqrt(N)\n",
    "        if sieve[i] == True:                          # Only need to check numbers that still may be primes.\n",
    "            #  This trick uses \"slicing\" of the list to quickly set particular values to False\n",
    "            sieve[i*i::i]=[False]*((len(sieve)-i*i+i-1)//i) # len(sieve[i*i::i])\n",
    "    # compile the list of primes and return\n",
    "    return [ i for i in range(sieveSize) if sieve[i]==True]  # This list comprehension version is faster.\n",
    "\n",
    "\n"
   ]
  },
  {
   "cell_type": "code",
   "execution_count": 19,
   "metadata": {},
   "outputs": [],
   "source": [
    "def primeSieve_np(sieveSize):\n",
    "    ''' Returns a list of prime numbers calculated using\n",
    "    the Sieve of Eratosthenes algorithm. Not practical for very\n",
    "    large sieveSize. This version is more than twice the speed of the previous''' \n",
    "    flags = np.ones(sieveSize, dtype=bool)\n",
    "    flags[1] = False\n",
    "    flags[::2] =False\n",
    "    for i in range(2, int(np.sqrt(sieveSize))+1,2):\n",
    "        if flags[i]:\n",
    "            flags[i*i::i] = False\n",
    "    return np.flatnonzero(flags)"
   ]
  },
  {
   "cell_type": "code",
   "execution_count": 14,
   "metadata": {},
   "outputs": [],
   "source": [
    "import numba\n",
    "import numpy as np\n",
    "@numba.jit()\n",
    "def primeSieve2(sieveSize):\n",
    "    ''' Returns a list of prime numbers calculated using\n",
    "    the Sieve of Eratosthenes algorithm. Not practical for very\n",
    "    large sieveSize. This version is more than twice the speed of the previous''' \n",
    "    # The following line does the same as the 5 lines above. Note how it treats sieveSize odd and even.\n",
    "    # sieve = [False,False,True,True]+[False,True]*(sieveSize//2 -2) + [False]*(sieveSize%2!=0)\n",
    "    sieve = [True] * sieveSize  # First we set all the numbers to True, then mark off the ones that are not prime.\n",
    "    sieve[0] = False # zero and one are not prime numbers\n",
    "    sieve[1] = False\n",
    "    for i in range(2,sieveSize,2):\n",
    "        sieve[i]=False\n",
    "\n",
    "    # create the sieve\n",
    "    for i in range(3, int(np.sqrt(sieveSize)) + 1,2): # You only need to sieve every other up to sqrt(N)\n",
    "        if sieve[i] == True:                          # Only need to check numbers that still may be primes.\n",
    "            #  This trick uses \"slicing\" of the list to quickly set particular values to False\n",
    "            sieve[i*i::i]=[False]*((len(sieve)-i*i+i-1)//i) # len(sieve[i*i::i])\n",
    "    # compile the list of primes and return\n",
    "    return [ i for i in range(sieveSize) if sieve[i]==True]  # This list comprehension version is faster.\n",
    "\n"
   ]
  },
  {
   "cell_type": "code",
   "execution_count": 5,
   "metadata": {},
   "outputs": [
    {
     "name": "stdout",
     "output_type": "stream",
     "text": [
      "282 ms ± 2.33 ms per loop (mean ± std. dev. of 7 runs, 1 loop each)\n"
     ]
    }
   ],
   "source": [
    "%%timeit\n",
    "ps = primeSieve_slow(1000000) "
   ]
  },
  {
   "cell_type": "code",
   "execution_count": 6,
   "metadata": {},
   "outputs": [
    {
     "name": "stdout",
     "output_type": "stream",
     "text": [
      "104 ms ± 1.26 ms per loop (mean ± std. dev. of 7 runs, 10 loops each)\n"
     ]
    }
   ],
   "source": [
    "%%timeit\n",
    "ps = primeSieve(1000000) "
   ]
  },
  {
   "cell_type": "code",
   "execution_count": 24,
   "metadata": {},
   "outputs": [
    {
     "name": "stdout",
     "output_type": "stream",
     "text": [
      "18 ms ± 5.96 ms per loop (mean ± std. dev. of 7 runs, 100 loops each)\n"
     ]
    }
   ],
   "source": [
    "%%timeit\n",
    "ps = primeSieve_np(10000000)"
   ]
  },
  {
   "cell_type": "code",
   "execution_count": 25,
   "metadata": {},
   "outputs": [
    {
     "name": "stdout",
     "output_type": "stream",
     "text": [
      "312 ms ± 16.1 ms per loop (mean ± std. dev. of 7 runs, 1 loop each)\n"
     ]
    }
   ],
   "source": [
    "%%timeit\n",
    "ps = primeSieve2(10000000) "
   ]
  },
  {
   "cell_type": "code",
   "execution_count": 1,
   "metadata": {},
   "outputs": [
    {
     "name": "stdout",
     "output_type": "stream",
     "text": [
      "[94]\n"
     ]
    }
   ],
   "source": [
    "f = lambda i:(i**3 - 98*i**2 + 450*i - 6956)\n",
    "out=[ i for i in range(1000) if f(i)>-10 and f(i)<10 ]\n",
    "print(out)"
   ]
  },
  {
   "cell_type": "code",
   "execution_count": 21,
   "metadata": {},
   "outputs": [
    {
     "data": {
      "text/plain": [
       "78497"
      ]
     },
     "execution_count": 21,
     "metadata": {},
     "output_type": "execute_result"
    }
   ],
   "source": [
    "len(ps)"
   ]
  },
  {
   "cell_type": "code",
   "execution_count": 23,
   "metadata": {},
   "outputs": [
    {
     "data": {
      "text/plain": [
       "78497"
      ]
     },
     "execution_count": 23,
     "metadata": {},
     "output_type": "execute_result"
    }
   ],
   "source": [
    "len(ps)"
   ]
  },
  {
   "cell_type": "code",
   "execution_count": null,
   "metadata": {},
   "outputs": [],
   "source": []
  }
 ],
 "metadata": {
  "kernelspec": {
   "display_name": "Python 3",
   "language": "python",
   "name": "python3"
  },
  "language_info": {
   "codemirror_mode": {
    "name": "ipython",
    "version": 3
   },
   "file_extension": ".py",
   "mimetype": "text/x-python",
   "name": "python",
   "nbconvert_exporter": "python",
   "pygments_lexer": "ipython3",
   "version": "3.7.7"
  }
 },
 "nbformat": 4,
 "nbformat_minor": 2
}
