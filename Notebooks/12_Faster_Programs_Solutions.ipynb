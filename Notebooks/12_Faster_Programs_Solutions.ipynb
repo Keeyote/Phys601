{
 "cells": [
  {
   "cell_type": "code",
   "execution_count": 2,
   "metadata": {},
   "outputs": [],
   "source": [
    "import numpy as np"
   ]
  },
  {
   "cell_type": "code",
   "execution_count": 3,
   "metadata": {},
   "outputs": [],
   "source": [
    "def primeSieve_slow(sieveSize):\n",
    "    ''' Returns a list of prime numbers calculated using\n",
    "    the Sieve of Eratosthenes algorithm.'''\n",
    "    sieve = [True] * sieveSize  # First we set all the numbers to True, then mark off the ones that are not prime.\n",
    "    sieve[0] = False # zero and one are not prime numbers\n",
    "    sieve[1] = False\n",
    "    # create the sieve\n",
    "    for i in range(2, int(np.sqrt(sieveSize)) + 1): # You only need to sieve to sqrt(N)\n",
    "        if sieve[i] == True:                          # Only need to check numbers that still may be primes.\n",
    "            pointer = i * 2                           # This would be prime times 2, so not prime.\n",
    "            while pointer < sieveSize:\n",
    "                sieve[pointer] = False                # We thus mark it False\n",
    "                pointer += i                          # And move to then next multiple of prime.\n",
    "                                                      # Until the while condition is false.\n",
    "    # compile the list of primes\n",
    "    primes = []\n",
    "    for i in range(sieveSize):\n",
    "        if sieve[i] == True:\n",
    "            primes.append(i)\n",
    "    return primes"
   ]
  },
  {
   "cell_type": "code",
   "execution_count": 11,
   "metadata": {},
   "outputs": [],
   "source": [
    "def primeSieve(sieveSize):\n",
    "    ''' Returns a list of prime numbers calculated using\n",
    "    the Sieve of Eratosthenes algorithm. Not practical for very\n",
    "    large sieveSize. This version is more than twice the speed of the previous''' \n",
    "    # The following line does the same as the 5 lines above. Note how it treats sieveSize odd and even.\n",
    "    sieve = [False,False,True,True]+[False,True]*(sieveSize//2 -2) + [False]*(sieveSize%2!=0)\n",
    "    # create the sieve\n",
    "    for i in range(3, int(np.sqrt(sieveSize)) + 1,2): # You only need to sieve every other up to sqrt(N)\n",
    "        if sieve[i] == True:                          # Only need to check numbers that still may be primes.\n",
    "            #  This trick uses \"slicing\" of the list to quickly set particular values to False\n",
    "            sieve[i*i::i]=[False]*((len(sieve)-i*i+i-1)//i) # len(sieve[i*i::i])\n",
    "    # compile the list of primes and return\n",
    "    return [ i for i in range(sieveSize) if sieve[i]==True]  # This list comprehension version is faster.\n",
    "\n",
    "\n"
   ]
  },
  {
   "cell_type": "code",
   "execution_count": null,
   "metadata": {},
   "outputs": [],
   "source": [
    "def primeSieve(sieveSize):\n",
    "    ''' Returns a list of prime numbers calculated using\n",
    "    the Sieve of Eratosthenes algorithm. Not practical for very\n",
    "    large sieveSize. This version is more than twice the speed of the previous''' \n",
    "    # The following line does the same as the 5 lines above. Note how it treats sieveSize odd and even.\n",
    "    sieve = [False,False,True,True]+[False,True]*(sieveSize//2 -2) + [False]*(sieveSize%2!=0)\n",
    "    # create the sieve\n",
    "    for i in range(3, int(np.sqrt(sieveSize)) + 1,2): # You only need to sieve every other up to sqrt(N)\n",
    "        if sieve[i] == True:                          # Only need to check numbers that still may be primes.\n",
    "            #  This trick uses \"slicing\" of the list to quickly set particular values to False\n",
    "            sieve[i*i::i]=[False]*((len(sieve)-i*i+i-1)//i) # len(sieve[i*i::i])\n",
    "    # compile the list of primes and return\n",
    "    return [ i for i in range(sieveSize) if sieve[i]==True]  # This list comprehension version is faster.\n",
    "\n"
   ]
  },
  {
   "cell_type": "code",
   "execution_count": 5,
   "metadata": {},
   "outputs": [
    {
     "name": "stdout",
     "output_type": "stream",
     "text": [
      "CPU times: user 3.08 s, sys: 47.7 ms, total: 3.13 s\n",
      "Wall time: 3.13 s\n"
     ]
    }
   ],
   "source": [
    "%%time\n",
    "ps = primeSieve_slow(10000000) "
   ]
  },
  {
   "cell_type": "code",
   "execution_count": 12,
   "metadata": {},
   "outputs": [
    {
     "ename": "ValueError",
     "evalue": "attempt to assign sequence of size 10000000 to extended slice of size 3333331",
     "output_type": "error",
     "traceback": [
      "\u001b[0;31m---------------------------------------------------------------------------\u001b[0m",
      "\u001b[0;31mValueError\u001b[0m                                Traceback (most recent call last)",
      "\u001b[0;32m<timed exec>\u001b[0m in \u001b[0;36m<module>\u001b[0;34m()\u001b[0m\n",
      "\u001b[0;32m<ipython-input-11-54140d351bb6>\u001b[0m in \u001b[0;36mprimeSieve\u001b[0;34m(sieveSize)\u001b[0m\n\u001b[1;32m     11\u001b[0m \u001b[0;31m#                sieve[i]=False\u001b[0m\u001b[0;34m\u001b[0m\u001b[0;34m\u001b[0m\u001b[0m\n\u001b[1;32m     12\u001b[0m \u001b[0;31m#  This trick uses \"slicing\" of the list to quickly set particular values to False\u001b[0m\u001b[0;34m\u001b[0m\u001b[0;34m\u001b[0m\u001b[0m\n\u001b[0;32m---> 13\u001b[0;31m             \u001b[0msieve\u001b[0m\u001b[0;34m[\u001b[0m\u001b[0mi\u001b[0m\u001b[0;34m*\u001b[0m\u001b[0mi\u001b[0m\u001b[0;34m:\u001b[0m\u001b[0;34m:\u001b[0m\u001b[0mi\u001b[0m\u001b[0;34m]\u001b[0m\u001b[0;34m=\u001b[0m\u001b[0;34m[\u001b[0m\u001b[0;32mFalse\u001b[0m\u001b[0;34m]\u001b[0m\u001b[0;34m*\u001b[0m\u001b[0mlen\u001b[0m\u001b[0;34m(\u001b[0m\u001b[0msieve\u001b[0m\u001b[0;34m)\u001b[0m \u001b[0;31m# ((len(sieve)-i*i+i-1)//i) # len(sieve[i*i::i])\u001b[0m\u001b[0;34m\u001b[0m\u001b[0m\n\u001b[0m\u001b[1;32m     14\u001b[0m \u001b[0;31m# compile the list of primes and return\u001b[0m\u001b[0;34m\u001b[0m\u001b[0;34m\u001b[0m\u001b[0m\n\u001b[1;32m     15\u001b[0m     \u001b[0;32mreturn\u001b[0m \u001b[0;34m[\u001b[0m \u001b[0mi\u001b[0m \u001b[0;32mfor\u001b[0m \u001b[0mi\u001b[0m \u001b[0;32min\u001b[0m \u001b[0mrange\u001b[0m\u001b[0;34m(\u001b[0m\u001b[0msieveSize\u001b[0m\u001b[0;34m)\u001b[0m \u001b[0;32mif\u001b[0m \u001b[0msieve\u001b[0m\u001b[0;34m[\u001b[0m\u001b[0mi\u001b[0m\u001b[0;34m]\u001b[0m\u001b[0;34m==\u001b[0m\u001b[0;32mTrue\u001b[0m\u001b[0;34m]\u001b[0m  \u001b[0;31m# This list comprehension version is faster.\u001b[0m\u001b[0;34m\u001b[0m\u001b[0m\n",
      "\u001b[0;31mValueError\u001b[0m: attempt to assign sequence of size 10000000 to extended slice of size 3333331"
     ]
    }
   ],
   "source": [
    "%%time\n",
    "ps = primeSieve(10000000) "
   ]
  },
  {
   "cell_type": "code",
   "execution_count": 1,
   "metadata": {},
   "outputs": [
    {
     "name": "stdout",
     "output_type": "stream",
     "text": [
      "[94]\n"
     ]
    }
   ],
   "source": [
    "f = lambda i:(i**3 - 98*i**2 + 450*i - 6956)\n",
    "out=[ i for i in range(1000) if f(i)>-10 and f(i)<10 ]\n",
    "print(out)"
   ]
  },
  {
   "cell_type": "code",
   "execution_count": null,
   "metadata": {},
   "outputs": [],
   "source": []
  }
 ],
 "metadata": {
  "kernelspec": {
   "display_name": "Python 3",
   "language": "python",
   "name": "python3"
  },
  "language_info": {
   "codemirror_mode": {
    "name": "ipython",
    "version": 3
   },
   "file_extension": ".py",
   "mimetype": "text/x-python",
   "name": "python",
   "nbconvert_exporter": "python",
   "pygments_lexer": "ipython3",
   "version": "3.6.5"
  }
 },
 "nbformat": 4,
 "nbformat_minor": 2
}
