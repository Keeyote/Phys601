{
 "cells": [
  {
   "cell_type": "markdown",
   "metadata": {},
   "source": [
    "# Intro to Numpy\n",
    "\n",
    "While the basic Python language is already quite useful for basic calculation, you need a bit more to do Linear Algebra with ease. The module \"Numpy\" (short for Numerical Python), is intended to fill this gap. Documentation: [http://www.numpy.org](http://www.numpy.org)\n",
    "\n",
    "You can find lots of details on how to use Numpy and what you can do with it in the documentation, and in one of our books: See chapter 3 of *Scientific Computing with Python*.\n",
    "\n",
    "Here I will focus mostly on some very basic usage, so that you can get started with Numpy.\n",
    "\n",
    "First, you need to import the Numpy package (module). In many books, you will see this done with \"from numpy import *\". I advice against this. The deeper reason for that advice is that there are implementations of functions like sin() and cos() in both Math and Numpy. If you import Numpy with \"from numpy import *\" and you import Math with \"from math import *\", then you cannot be sure which version of cos() is used when (actually, it will use the last one imported, so the Math one in this case). Instead we do:"
   ]
  },
  {
   "cell_type": "code",
   "execution_count": 1,
   "metadata": {},
   "outputs": [],
   "source": [
    "import numpy as np   # This imports numpy, but names it \"np\" you need to type less."
   ]
  },
  {
   "cell_type": "markdown",
   "metadata": {},
   "source": [
    "You can now access all of Numpy's functionality, but precede the functions with \"np.\"\n",
    "\n",
    "## Numpy arrays\n",
    "\n",
    "When doing Linear Algebra, you are usuallt working with N-dimensional vectors and NxN dimensional matrixes, and sometimes NxNxN dimensional tensors or higher order systems.\n",
    "These Numpy arrays differ from Python \"lists\" (i.e. \\[\"a\",1, 3.141 \\]) in that each element of the Numpy array must be of the same numerical type, usually a float, but it can also be an integer or boolean, or even a character. If you try to mix them, Numpy will use a type that can encompass all the data.\n",
    "\n",
    "There are different ways to make an N dimensional array in Numpy. Here are some useful examples."
   ]
  },
  {
   "cell_type": "code",
   "execution_count": 2,
   "metadata": {},
   "outputs": [
    {
     "name": "stdout",
     "output_type": "stream",
     "text": [
      "[ 1.+1.j  0.+1.j  1.+0.j -0.-1.j] [1.+0.j 1.+0.j 1.+0.j 1.+0.j] [0.60651636 0.51611825 0.28474313 0.23462916]\n",
      "[0.  0.1 0.2 0.3 0.4 0.5 0.6 0.7 0.8 0.9]\n",
      "[0.  0.1 0.2 0.3 0.4 0.5 0.6 0.7 0.8 0.9 1. ]\n"
     ]
    }
   ],
   "source": [
    "a1 = np.array([1,2,3,4])                     # An array of integers.\n",
    "a2 = np.array([5.,6,7,8])                    # An array of floats\n",
    "a3 = np.array([10,11,12,13],dtype=\"float64\") # Specifically tell Numpy the data type you want.\n",
    "a4 = np.array([1.+1.j,1.j,1.,-1j])           # An array of complex numbers.\n",
    "a5 = np.array([1,0]*2)                       # [1,0,1,0]\n",
    "zeros = np.zeros(4)                          # Fill an array of lenght 4 with zeroes\n",
    "ones  = np.ones(4)                           # same, but ones this time.\n",
    "onesC = np.ones(4,dtype=\"complex\")\n",
    "random= np.random.rand(4)                    # Fill with 4 random numbers between 0 and 1.\n",
    "x1 = np.arange(0.,1.,0.1)       # Fill from 0. to one step before 1. with step of 0.1\n",
    "x2 = np.linspace(0.,1.,11)      # Fill from 0. to 1. in 11 steps, including both end points.\n",
    "print(a4,onesC,random)\n",
    "print(x1)\n",
    "print(x2)"
   ]
  },
  {
   "cell_type": "markdown",
   "metadata": {},
   "source": [
    "### Array Operations\n",
    "You can do all the expected operations with a vector. Multiply by scaler, add them, etc. Note that these operatons are *different* from doing the same thing with a list!!!"
   ]
  },
  {
   "cell_type": "code",
   "execution_count": 3,
   "metadata": {},
   "outputs": [
    {
     "data": {
      "text/plain": [
       "array([ 5, 10, 15, 20])"
      ]
     },
     "execution_count": 3,
     "metadata": {},
     "output_type": "execute_result"
    }
   ],
   "source": [
    "a1*5          # Proper vector multiplication with scalar."
   ]
  },
  {
   "cell_type": "code",
   "execution_count": 4,
   "metadata": {},
   "outputs": [
    {
     "data": {
      "text/plain": [
       "[1, 2, 3, 4, 1, 2, 3, 4, 1, 2, 3, 4, 1, 2, 3, 4, 1, 2, 3, 4]"
      ]
     },
     "execution_count": 4,
     "metadata": {},
     "output_type": "execute_result"
    }
   ],
   "source": [
    "[1,2,3,4]*5   # List multiplication gives you N times the list. Not what you want in algebra!"
   ]
  },
  {
   "cell_type": "code",
   "execution_count": 5,
   "metadata": {},
   "outputs": [
    {
     "data": {
      "text/plain": [
       "array([ 3.5,  5.8,  8.1, 10.4])"
      ]
     },
     "execution_count": 5,
     "metadata": {},
     "output_type": "execute_result"
    }
   ],
   "source": [
    "a1*2 + a2*0.3"
   ]
  },
  {
   "cell_type": "markdown",
   "metadata": {},
   "source": [
    "Be careful however with the * operator. It **does not work as expected between vectors** (this is one the MatLab arguments against Python, BTW)\n",
    "\n",
    "You get the dot product in one of two ways:"
   ]
  },
  {
   "cell_type": "code",
   "execution_count": 6,
   "metadata": {},
   "outputs": [
    {
     "name": "stdout",
     "output_type": "stream",
     "text": [
      "70.0\n",
      "70.0\n"
     ]
    }
   ],
   "source": [
    "print(a1.dot(a2))   # This always worked with Python and Numpy.\n",
    "print(a1 @ a2 )     # This is a new syntax, introduced in Python 3.5"
   ]
  },
  {
   "cell_type": "code",
   "execution_count": 7,
   "metadata": {},
   "outputs": [
    {
     "name": "stdout",
     "output_type": "stream",
     "text": [
      "[ 5. 12. 21. 32.]\n"
     ]
    }
   ],
   "source": [
    "print( a1*a2)      # This returns the \"element wise\" multiplication [a1[0]*a2[0],a1[1]*a2[1],...]"
   ]
  },
  {
   "cell_type": "markdown",
   "metadata": {},
   "source": [
    "There is a good reason for this behavior of Numpy, it allows for very fast vector-wise operations. If you have large data sets in a Numpy arrays, you can create a formula with the arrays themselves, and Numpy will calculate the result **for each element**. So instead of having to program: "
   ]
  },
  {
   "cell_type": "code",
   "execution_count": 8,
   "metadata": {},
   "outputs": [
    {
     "name": "stdout",
     "output_type": "stream",
     "text": [
      "[ 5. 12. 21. 32.]\n"
     ]
    }
   ],
   "source": [
    "out1 = np.zeros(4) \n",
    "for i in range(len(a1)):\n",
    "    out1[i] = a1[i]*a2[i]\n",
    "print(out1)"
   ]
  },
  {
   "cell_type": "markdown",
   "metadata": {},
   "source": [
    "You can do the much faster, and easier to program:"
   ]
  },
  {
   "cell_type": "code",
   "execution_count": 9,
   "metadata": {},
   "outputs": [
    {
     "name": "stdout",
     "output_type": "stream",
     "text": [
      "[ 5. 12. 21. 32.] [ True  True  True  True]\n"
     ]
    }
   ],
   "source": [
    "out2 = a1*a2\n",
    "print(out2, out2==out1)"
   ]
  },
  {
   "cell_type": "markdown",
   "metadata": {},
   "source": [
    "For large arrays, and complex operations on them, this isn't only easier to write, it is a huge amount faster."
   ]
  },
  {
   "cell_type": "markdown",
   "metadata": {},
   "source": [
    "## Matrixes\n",
    "To do linear algebra, we need matrixes. Note that the matrixes do not need to be square. Here we need **to pay attention with Numpy**. There are 2 different ways of making a NxM matrix. One way is to make a NxN array. This will behave exactly as the N array, except that Numpy keeps track of the extra dimension of the matrix:"
   ]
  },
  {
   "cell_type": "code",
   "execution_count": 10,
   "metadata": {},
   "outputs": [
    {
     "name": "stdout",
     "output_type": "stream",
     "text": [
      "Array a1: \n",
      " [1 2 3] \n",
      "Has shape:  (3,)  number of dimensions =  1\n",
      "Array V1: \n",
      " [[1 2 3]] \n",
      "Has shape:  (1, 3)  number of dimensions =  2\n",
      "Array M1: \n",
      " [[0 1 3]\n",
      " [1 2 3]\n",
      " [4 5 6]] \n",
      "Has shape:  (3, 3)  number of dimensions =  2\n"
     ]
    }
   ],
   "source": [
    "a1 = np.array([1,2,3])\n",
    "V1 = np.array([[1,2,3]])\n",
    "M1 = np.array([[0,1,3],[1,2,3],[4,5,6]])\n",
    "print(\"Array a1: \\n\",a1,\"\\nHas shape: \", a1.shape,\" number of dimensions = \",a1.ndim)\n",
    "print(\"Array V1: \\n\",V1,\"\\nHas shape: \", V1.shape,\" number of dimensions = \",V1.ndim)\n",
    "print(\"Array M1: \\n\",M1,\"\\nHas shape: \", M1.shape,\" number of dimensions = \",M1.ndim)"
   ]
  },
  {
   "cell_type": "markdown",
   "metadata": {},
   "source": [
    "The other way is by making this a \"matrix\" object rather than an array object. The matrix object behaves subtly different for operations from the array:"
   ]
  },
  {
   "cell_type": "code",
   "execution_count": 11,
   "metadata": {},
   "outputs": [
    {
     "name": "stdout",
     "output_type": "stream",
     "text": [
      "Matrix V2: \n",
      " [[1 2 3]] \n",
      "Has shape:  (1, 3)\n",
      "Matrix M2: \n",
      " [[0 1 3]\n",
      " [1 2 3]\n",
      " [4 5 6]] \n",
      "Has shape:  (3, 3)\n"
     ]
    }
   ],
   "source": [
    "V2 = np.matrix([[1,2,3]])\n",
    "M2 = np.matrix([[0,1,3],[1,2,3],[4,5,6]])\n",
    "print(\"Matrix V2: \\n\",V2,\"\\nHas shape: \", V2.shape)\n",
    "print(\"Matrix M2: \\n\",M2,\"\\nHas shape: \", M2.shape)"
   ]
  },
  {
   "cell_type": "code",
   "execution_count": 12,
   "metadata": {},
   "outputs": [
    {
     "data": {
      "text/plain": [
       "array([[ 0,  2,  9],\n",
       "       [ 1,  4,  9],\n",
       "       [ 4, 10, 18]])"
      ]
     },
     "execution_count": 12,
     "metadata": {},
     "output_type": "execute_result"
    }
   ],
   "source": [
    "M1*V1  # This is an item, by item "
   ]
  },
  {
   "cell_type": "code",
   "execution_count": 13,
   "metadata": {},
   "outputs": [
    {
     "ename": "ValueError",
     "evalue": "shapes (3,3) and (1,3) not aligned: 3 (dim 1) != 1 (dim 0)",
     "output_type": "error",
     "traceback": [
      "\u001b[0;31m---------------------------------------------------------------------------\u001b[0m",
      "\u001b[0;31mValueError\u001b[0m                                Traceback (most recent call last)",
      "\u001b[0;32m<ipython-input-13-e11a2a716931>\u001b[0m in \u001b[0;36m<module>\u001b[0;34m()\u001b[0m\n\u001b[0;32m----> 1\u001b[0;31m \u001b[0mM2\u001b[0m\u001b[0;34m*\u001b[0m\u001b[0mV2\u001b[0m  \u001b[0;31m# This gives an error. The shapes don't work because you need the column vector.\u001b[0m\u001b[0;34m\u001b[0m\u001b[0m\n\u001b[0m",
      "\u001b[0;32m~/anaconda3/lib/python3.6/site-packages/numpy/matrixlib/defmatrix.py\u001b[0m in \u001b[0;36m__mul__\u001b[0;34m(self, other)\u001b[0m\n\u001b[1;32m    307\u001b[0m         \u001b[0;32mif\u001b[0m \u001b[0misinstance\u001b[0m\u001b[0;34m(\u001b[0m\u001b[0mother\u001b[0m\u001b[0;34m,\u001b[0m \u001b[0;34m(\u001b[0m\u001b[0mN\u001b[0m\u001b[0;34m.\u001b[0m\u001b[0mndarray\u001b[0m\u001b[0;34m,\u001b[0m \u001b[0mlist\u001b[0m\u001b[0;34m,\u001b[0m \u001b[0mtuple\u001b[0m\u001b[0;34m)\u001b[0m\u001b[0;34m)\u001b[0m \u001b[0;34m:\u001b[0m\u001b[0;34m\u001b[0m\u001b[0m\n\u001b[1;32m    308\u001b[0m             \u001b[0;31m# This promotes 1-D vectors to row vectors\u001b[0m\u001b[0;34m\u001b[0m\u001b[0;34m\u001b[0m\u001b[0m\n\u001b[0;32m--> 309\u001b[0;31m             \u001b[0;32mreturn\u001b[0m \u001b[0mN\u001b[0m\u001b[0;34m.\u001b[0m\u001b[0mdot\u001b[0m\u001b[0;34m(\u001b[0m\u001b[0mself\u001b[0m\u001b[0;34m,\u001b[0m \u001b[0masmatrix\u001b[0m\u001b[0;34m(\u001b[0m\u001b[0mother\u001b[0m\u001b[0;34m)\u001b[0m\u001b[0;34m)\u001b[0m\u001b[0;34m\u001b[0m\u001b[0m\n\u001b[0m\u001b[1;32m    310\u001b[0m         \u001b[0;32mif\u001b[0m \u001b[0misscalar\u001b[0m\u001b[0;34m(\u001b[0m\u001b[0mother\u001b[0m\u001b[0;34m)\u001b[0m \u001b[0;32mor\u001b[0m \u001b[0;32mnot\u001b[0m \u001b[0mhasattr\u001b[0m\u001b[0;34m(\u001b[0m\u001b[0mother\u001b[0m\u001b[0;34m,\u001b[0m \u001b[0;34m'__rmul__'\u001b[0m\u001b[0;34m)\u001b[0m \u001b[0;34m:\u001b[0m\u001b[0;34m\u001b[0m\u001b[0m\n\u001b[1;32m    311\u001b[0m             \u001b[0;32mreturn\u001b[0m \u001b[0mN\u001b[0m\u001b[0;34m.\u001b[0m\u001b[0mdot\u001b[0m\u001b[0;34m(\u001b[0m\u001b[0mself\u001b[0m\u001b[0;34m,\u001b[0m \u001b[0mother\u001b[0m\u001b[0;34m)\u001b[0m\u001b[0;34m\u001b[0m\u001b[0m\n",
      "\u001b[0;31mValueError\u001b[0m: shapes (3,3) and (1,3) not aligned: 3 (dim 1) != 1 (dim 0)"
     ]
    }
   ],
   "source": [
    "M2*V2  # This gives an error. The shapes don't work because you need the column vector."
   ]
  },
  {
   "cell_type": "markdown",
   "metadata": {},
   "source": [
    "So note here the importance of \"shape\". Think about what Numpy does, it always treats things like matrixes. You can multiply an NxM matrix with an MxN matrix, but not an NxM matrix with another NxM matrix if N!=M. \n",
    "The way out is to transpose the row vector to a column vector."
   ]
  },
  {
   "cell_type": "code",
   "execution_count": 14,
   "metadata": {},
   "outputs": [
    {
     "name": "stdout",
     "output_type": "stream",
     "text": [
      "Shape of V1   =  (1, 3)  number of dimensions =  2\n",
      "Shape of V1.T =  (3, 1)  number of dimensions =  2\n"
     ]
    }
   ],
   "source": [
    "print(\"Shape of V1   = \",V1.shape,\" number of dimensions = \",V1.ndim)\n",
    "print(\"Shape of V1.T = \",V1.T.shape,\" number of dimensions = \",V1.T.ndim)"
   ]
  },
  {
   "cell_type": "code",
   "execution_count": 15,
   "metadata": {},
   "outputs": [
    {
     "name": "stdout",
     "output_type": "stream",
     "text": [
      "M1*V1.T = \n",
      " [[ 0  1  3]\n",
      " [ 2  4  6]\n",
      " [12 15 18]]\n",
      "M2*V2.T = \n",
      " [[11]\n",
      " [14]\n",
      " [32]]\n"
     ]
    }
   ],
   "source": [
    "print(\"M1*V1.T = \\n\",M1*V1.T)  # This is not matrix * vector multiplication, it is item by item multiplication.\n",
    "print(\"M2*V2.T = \\n\",M2*V2.T)  # This works as expeced, you get a new column vector."
   ]
  },
  {
   "cell_type": "code",
   "execution_count": 16,
   "metadata": {},
   "outputs": [
    {
     "name": "stdout",
     "output_type": "stream",
     "text": [
      "[[11]\n",
      " [14]\n",
      " [32]]\n",
      "[[11]\n",
      " [14]\n",
      " [32]]\n",
      "True\n"
     ]
    }
   ],
   "source": [
    "print(M1.dot(V1.T))    # The dot product works as expected either way.\n",
    "print(M2.dot(V2.T))\n",
    "print(np.all(M1.dot(V1.T)== M2.dot(V2.T))) # The np.all checks if all are True."
   ]
  },
  {
   "cell_type": "code",
   "execution_count": 17,
   "metadata": {},
   "outputs": [
    {
     "name": "stdout",
     "output_type": "stream",
     "text": [
      "[[11]\n",
      " [14]\n",
      " [32]]\n",
      "[[11]\n",
      " [14]\n",
      " [32]]\n",
      "True\n"
     ]
    }
   ],
   "source": [
    "print(M1@V1.T)    # The dot product works as expected either way.\n",
    "print(M2@V2.T)\n",
    "print(np.all(M1@V1.T== M2@V2.T)) # The np.all checks if all are True."
   ]
  },
  {
   "cell_type": "markdown",
   "metadata": {},
   "source": [
    "So why have the matrix class at all then, if it is only confusing?\n",
    "Well, it has two very useful functions. Besides the transpose (M.T), you can also get the Hermetian conjugate (M.H) and the inverse (M.I). The arrays do not have the Hermetian conjugate or inverse."
   ]
  },
  {
   "cell_type": "code",
   "execution_count": 18,
   "metadata": {},
   "outputs": [
    {
     "name": "stdout",
     "output_type": "stream",
     "text": [
      "Hermitian conjugate of M2=\n",
      " [[0 1 4]\n",
      " [1 2 5]\n",
      " [3 3 6]]\n",
      "The inverse of M2=\n",
      " [[ 1.         -3.          1.        ]\n",
      " [-2.          4.         -1.        ]\n",
      " [ 1.         -1.33333333  0.33333333]]\n",
      "Is M2.I*M2 the identity matrix?  True\n"
     ]
    }
   ],
   "source": [
    "print(\"Hermitian conjugate of M2=\\n\",M2.H)\n",
    "print(\"The inverse of M2=\\n\",M2.I)\n",
    "print(\"Is M2.I*M2 the identity matrix? \",np.allclose(M2.I*M2,np.identity(3))) \n",
    "# We use the allcose() to check if all elements of one matrix are numerically close to\n",
    "# the elements in the second one. Using == would require them to be identical, which will\n",
    "# rarely be the case for floating point calculations."
   ]
  },
  {
   "cell_type": "markdown",
   "metadata": {},
   "source": [
    "### Moving up in dimensionality\n",
    "We can go to higher dimensions, but you are not likely to need these."
   ]
  },
  {
   "cell_type": "code",
   "execution_count": 19,
   "metadata": {},
   "outputs": [],
   "source": [
    "T1 = np.zeros([3,3,3])"
   ]
  },
  {
   "cell_type": "code",
   "execution_count": 20,
   "metadata": {},
   "outputs": [
    {
     "data": {
      "text/plain": [
       "3"
      ]
     },
     "execution_count": 20,
     "metadata": {},
     "output_type": "execute_result"
    }
   ],
   "source": [
    "T1.ndim"
   ]
  },
  {
   "cell_type": "code",
   "execution_count": 21,
   "metadata": {},
   "outputs": [],
   "source": [
    "X1 = np.ones([3,3,3,3,3,3])"
   ]
  },
  {
   "cell_type": "code",
   "execution_count": 22,
   "metadata": {},
   "outputs": [
    {
     "data": {
      "text/plain": [
       "6"
      ]
     },
     "execution_count": 22,
     "metadata": {},
     "output_type": "execute_result"
    }
   ],
   "source": [
    "X1.ndim"
   ]
  },
  {
   "cell_type": "markdown",
   "metadata": {},
   "source": [
    "## Inner, Outer and Cross products"
   ]
  },
  {
   "cell_type": "code",
   "execution_count": 23,
   "metadata": {},
   "outputs": [],
   "source": [
    "L1=np.matrix(np.linspace(1.,3.,3)) # = [1,2,3]"
   ]
  },
  {
   "cell_type": "code",
   "execution_count": 24,
   "metadata": {},
   "outputs": [],
   "source": [
    "M3=np.array([[1., 3., 2.],\n",
    "       [3., 0., 2.],\n",
    "       [5., 3., 4.]])"
   ]
  },
  {
   "cell_type": "code",
   "execution_count": 25,
   "metadata": {},
   "outputs": [
    {
     "data": {
      "text/plain": [
       "True"
      ]
     },
     "execution_count": 25,
     "metadata": {},
     "output_type": "execute_result"
    }
   ],
   "source": [
    "np.all( np.inner(M3,L1) == M3@L1.T )     # Inner product of matrix and vector"
   ]
  },
  {
   "cell_type": "code",
   "execution_count": 26,
   "metadata": {},
   "outputs": [
    {
     "data": {
      "text/plain": [
       "True"
      ]
     },
     "execution_count": 26,
     "metadata": {},
     "output_type": "execute_result"
    }
   ],
   "source": [
    "np.all(np.inner(L1,M3) == L1.dot(M3.T))"
   ]
  },
  {
   "cell_type": "code",
   "execution_count": null,
   "metadata": {},
   "outputs": [],
   "source": []
  },
  {
   "cell_type": "code",
   "execution_count": 27,
   "metadata": {},
   "outputs": [
    {
     "data": {
      "text/plain": [
       "array([0, 0, 1])"
      ]
     },
     "execution_count": 27,
     "metadata": {},
     "output_type": "execute_result"
    }
   ],
   "source": [
    "np.cross([1,0,0],[0,1,0])   # Cross product of 2 3-vectors."
   ]
  },
  {
   "cell_type": "code",
   "execution_count": 28,
   "metadata": {},
   "outputs": [
    {
     "data": {
      "text/plain": [
       "array([[ 1.,  3.,  2.,  3.,  0.,  2.,  5.,  3.,  4.],\n",
       "       [ 3.,  9.,  6.,  9.,  0.,  6., 15.,  9., 12.],\n",
       "       [ 2.,  6.,  4.,  6.,  0.,  4., 10.,  6.,  8.],\n",
       "       [ 3.,  9.,  6.,  9.,  0.,  6., 15.,  9., 12.],\n",
       "       [ 0.,  0.,  0.,  0.,  0.,  0.,  0.,  0.,  0.],\n",
       "       [ 2.,  6.,  4.,  6.,  0.,  4., 10.,  6.,  8.],\n",
       "       [ 5., 15., 10., 15.,  0., 10., 25., 15., 20.],\n",
       "       [ 3.,  9.,  6.,  9.,  0.,  6., 15.,  9., 12.],\n",
       "       [ 4., 12.,  8., 12.,  0.,  8., 20., 12., 16.]])"
      ]
     },
     "execution_count": 28,
     "metadata": {},
     "output_type": "execute_result"
    }
   ],
   "source": [
    "np.outer(M3,M3)"
   ]
  },
  {
   "cell_type": "markdown",
   "metadata": {},
   "source": [
    "## Some other useful operations"
   ]
  },
  {
   "cell_type": "code",
   "execution_count": 29,
   "metadata": {},
   "outputs": [
    {
     "data": {
      "text/plain": [
       "True"
      ]
     },
     "execution_count": 29,
     "metadata": {},
     "output_type": "execute_result"
    }
   ],
   "source": [
    "np.all(np.linalg.norm(L1) == np.sqrt( L1 @ L1.T) ) # Compute the vector norm."
   ]
  },
  {
   "cell_type": "code",
   "execution_count": 30,
   "metadata": {},
   "outputs": [
    {
     "data": {
      "text/plain": [
       "3"
      ]
     },
     "execution_count": 30,
     "metadata": {},
     "output_type": "execute_result"
    }
   ],
   "source": [
    "L1.size                      # Get the size of the vector = number of elements."
   ]
  },
  {
   "cell_type": "code",
   "execution_count": 31,
   "metadata": {},
   "outputs": [
    {
     "data": {
      "text/plain": [
       "9"
      ]
     },
     "execution_count": 31,
     "metadata": {},
     "output_type": "execute_result"
    }
   ],
   "source": [
    "M3.size"
   ]
  },
  {
   "cell_type": "code",
   "execution_count": 32,
   "metadata": {},
   "outputs": [
    {
     "data": {
      "text/plain": [
       "(1, 3)"
      ]
     },
     "execution_count": 32,
     "metadata": {},
     "output_type": "execute_result"
    }
   ],
   "source": [
    "L1.shape"
   ]
  },
  {
   "cell_type": "code",
   "execution_count": 33,
   "metadata": {},
   "outputs": [
    {
     "data": {
      "text/plain": [
       "5.999999999999995"
      ]
     },
     "execution_count": 33,
     "metadata": {},
     "output_type": "execute_result"
    }
   ],
   "source": [
    "np.linalg.det(M3)          # Determinant of the matrix, note the rouding error!"
   ]
  },
  {
   "cell_type": "code",
   "execution_count": 34,
   "metadata": {},
   "outputs": [
    {
     "data": {
      "text/plain": [
       "6.0"
      ]
     },
     "execution_count": 34,
     "metadata": {},
     "output_type": "execute_result"
    }
   ],
   "source": [
    "np.linalg.det(M3.astype('float32')) # Lower precision gives a rounded result.\n",
    "# but .astype('int') would first convert to int, then inside linalg.det back to float64."
   ]
  },
  {
   "cell_type": "markdown",
   "metadata": {},
   "source": [
    "# Subsets of the array or vector: slicing\n",
    "\n",
    "In Numpy (and in Python lists) you cat get a subset of the array using a process that is called \"slicing\". It takes a slice of the data.\n",
    "\n",
    "Accessing a single element can be done the same way as you would in C or Java:"
   ]
  },
  {
   "cell_type": "code",
   "execution_count": 35,
   "metadata": {},
   "outputs": [
    {
     "name": "stdout",
     "output_type": "stream",
     "text": [
      "-10.0 -7.0\n",
      "10.0 9.0\n"
     ]
    },
    {
     "ename": "IndexError",
     "evalue": "index 21 is out of bounds for axis 0 with size 21",
     "output_type": "error",
     "traceback": [
      "\u001b[0;31m---------------------------------------------------------------------------\u001b[0m",
      "\u001b[0;31mIndexError\u001b[0m                                Traceback (most recent call last)",
      "\u001b[0;32m<ipython-input-35-27e0f0c7823c>\u001b[0m in \u001b[0;36m<module>\u001b[0;34m()\u001b[0m\n\u001b[1;32m      2\u001b[0m \u001b[0mprint\u001b[0m\u001b[0;34m(\u001b[0m\u001b[0ma1\u001b[0m\u001b[0;34m[\u001b[0m\u001b[0;36m0\u001b[0m\u001b[0;34m]\u001b[0m\u001b[0;34m,\u001b[0m\u001b[0ma1\u001b[0m\u001b[0;34m[\u001b[0m\u001b[0;36m3\u001b[0m\u001b[0;34m]\u001b[0m\u001b[0;34m)\u001b[0m \u001b[0;31m# Note that the first element is at 0. In MatLab and Fortran it is at 1.\u001b[0m\u001b[0;34m\u001b[0m\u001b[0m\n\u001b[1;32m      3\u001b[0m \u001b[0mprint\u001b[0m\u001b[0;34m(\u001b[0m\u001b[0ma1\u001b[0m\u001b[0;34m[\u001b[0m\u001b[0;34m-\u001b[0m\u001b[0;36m1\u001b[0m\u001b[0;34m]\u001b[0m\u001b[0;34m,\u001b[0m\u001b[0ma1\u001b[0m\u001b[0;34m[\u001b[0m\u001b[0;34m-\u001b[0m\u001b[0;36m2\u001b[0m\u001b[0;34m]\u001b[0m\u001b[0;34m)\u001b[0m      \u001b[0;31m# The last element is at -1, the one but last at -2 etc.\u001b[0m\u001b[0;34m\u001b[0m\u001b[0m\n\u001b[0;32m----> 4\u001b[0;31m \u001b[0mprint\u001b[0m\u001b[0;34m(\u001b[0m\u001b[0ma1\u001b[0m\u001b[0;34m[\u001b[0m\u001b[0;36m21\u001b[0m\u001b[0;34m]\u001b[0m\u001b[0;34m)\u001b[0m             \u001b[0;31m# This gives an error. The 21 element does not exist!\u001b[0m\u001b[0;34m\u001b[0m\u001b[0m\n\u001b[0m",
      "\u001b[0;31mIndexError\u001b[0m: index 21 is out of bounds for axis 0 with size 21"
     ]
    }
   ],
   "source": [
    "a1 = np.linspace(-10,10,21)\n",
    "print(a1[0],a1[3]) # Note that the first element is at 0. In MatLab and Fortran it is at 1.\n",
    "print(a1[-1],a1[-2])      # The last element is at -1, the one but last at -2 etc.\n",
    "print(a1[21])             # This gives an error. The 21 element does not exist!"
   ]
  },
  {
   "cell_type": "markdown",
   "metadata": {},
   "source": [
    "If instead of a single element you want a subset, you can specify this with the [:] notation."
   ]
  },
  {
   "cell_type": "code",
   "execution_count": 36,
   "metadata": {},
   "outputs": [
    {
     "name": "stdout",
     "output_type": "stream",
     "text": [
      "[-10.  -9.  -8.  -7.  -6.]\n"
     ]
    }
   ],
   "source": [
    "print(a1[0:5])  # The fist 5 elements, a1[0] through a1[4]"
   ]
  },
  {
   "cell_type": "code",
   "execution_count": 37,
   "metadata": {},
   "outputs": [
    {
     "name": "stdout",
     "output_type": "stream",
     "text": [
      "[ 6.  7.  8.  9. 10.]\n",
      "[-10.  -9.  -8.  -7.  -6.  -5.  -4.  -3.  -2.  -1.   0.   1.   2.   3.\n",
      "   4.   5.]\n"
     ]
    }
   ],
   "source": [
    "print(a1[-5:]) # The last 5 elements. The blank mean all up to the end.\n",
    "print(a1[:-5]) # All but the last 5 elements"
   ]
  },
  {
   "cell_type": "code",
   "execution_count": 38,
   "metadata": {},
   "outputs": [
    {
     "name": "stdout",
     "output_type": "stream",
     "text": [
      "[-6. -5.] [5. 6.]\n"
     ]
    }
   ],
   "source": [
    "print(a1[4:6],a1[-6:-4]) #  two specific sets of 2 values"
   ]
  },
  {
   "cell_type": "code",
   "execution_count": 39,
   "metadata": {},
   "outputs": [
    {
     "name": "stdout",
     "output_type": "stream",
     "text": [
      "[-10.  -8.  -6.  -4.  -2.]\n"
     ]
    }
   ],
   "source": [
    "print(a1[0:10:2]) # Every second one, starting at 0 going up to 10"
   ]
  },
  {
   "cell_type": "code",
   "execution_count": 40,
   "metadata": {},
   "outputs": [
    {
     "name": "stdout",
     "output_type": "stream",
     "text": [
      "[-10.  -7.  -4.  -1.   2.   5.   8.]\n"
     ]
    }
   ],
   "source": [
    "print(a1[::3])   # Every third one from the entire array."
   ]
  },
  {
   "cell_type": "code",
   "execution_count": 41,
   "metadata": {},
   "outputs": [],
   "source": [
    "BigM = np.array(range(100)).reshape(10,10)  # A 10x10 array with the numbers 0 to 99"
   ]
  },
  {
   "cell_type": "code",
   "execution_count": 42,
   "metadata": {},
   "outputs": [
    {
     "name": "stdout",
     "output_type": "stream",
     "text": [
      "58 58\n"
     ]
    }
   ],
   "source": [
    "print(BigM[5][8],BigM[5,8]) # Two different ways of getting the x=8,y=5 element of BigM"
   ]
  },
  {
   "cell_type": "code",
   "execution_count": 43,
   "metadata": {},
   "outputs": [
    {
     "name": "stdout",
     "output_type": "stream",
     "text": [
      "[[ 0  1  2]\n",
      " [10 11 12]\n",
      " [20 21 22]]\n",
      "[[53 54 55]\n",
      " [63 64 65]\n",
      " [73 74 75]]\n",
      "[[53 55]\n",
      " [73 75]]\n"
     ]
    }
   ],
   "source": [
    "print(BigM[0:3,0:3])  # A 3x3 sub array inside BigM\n",
    "print(BigM[5:8,3:6])  # A 3x3 sub array inside BigM\n",
    "print(BigM[5:9:2,3:7:2])  # A 2x2 sub array inside BigM, skipping every other"
   ]
  },
  {
   "cell_type": "markdown",
   "metadata": {},
   "source": [
    "You can also **assign** to a slice, by putting the slice **on the other side of =**.\n",
    "First, we want to make a copy of BigM, so we don't overwrite it. \n",
    "We also see assignment to a single element here."
   ]
  },
  {
   "cell_type": "code",
   "execution_count": 44,
   "metadata": {},
   "outputs": [
    {
     "name": "stdout",
     "output_type": "stream",
     "text": [
      "99999\n",
      "33 33 99999\n"
     ]
    }
   ],
   "source": [
    "BigM_ref = BigM  # This makes a reference, not a copy. \n",
    "                 # Any change to BigM_ref will also happen in BigM\n",
    "BigM_copy = BigM.copy()\n",
    "tmp = BigM[3,3]\n",
    "BigM_ref[3,3] = 99999  # This changed the [3,3] of BigM as well!!!\n",
    "print(BigM[3,3])       # Check it.\n",
    "BigM[3,3] = tmp        # restore to old value\n",
    "BigM_copy[3,3] = 99999 # Only changes the copy.\n",
    "print(BigM[3,3],BigM_ref[3,3],BigM_copy[3,3])       # Check it."
   ]
  },
  {
   "cell_type": "markdown",
   "metadata": {},
   "source": [
    "You can also assign to a whole slice."
   ]
  },
  {
   "cell_type": "code",
   "execution_count": 45,
   "metadata": {},
   "outputs": [
    {
     "name": "stdout",
     "output_type": "stream",
     "text": [
      "[[    0     1     2     3     4     5     6     7     8     9]\n",
      " [   10    11    12    13    14    15    16    17    18    19]\n",
      " [12345 12345 12345 12345 12345    25    26    27    28    29]\n",
      " [   30    31    32 99999    34    35    36    37    38    39]\n",
      " [   40    41    42    43    44    45    46    47    48    49]\n",
      " [   50    51    52    53    54    55    56    57    58    59]\n",
      " [   60    61    62    63    64    65    66    67    68    69]\n",
      " [   70    71    72    73    74    75    76    77    78    79]\n",
      " [   80    81    82    83    84    85    86    87    88    89]\n",
      " [   90    91    92    93    94    95    96    97    98    99]]\n"
     ]
    }
   ],
   "source": [
    "BigM_copy[2,0:5] = 12345 # Set the 2 row, columns 0 through 4 to 12345\n",
    "print(BigM_copy)"
   ]
  },
  {
   "cell_type": "markdown",
   "metadata": {},
   "source": [
    "Sometimes you want to be able to find all those cells in an array or matrix that obey a certain condition. You can make a \"mask\" matrix of True and False values, and then use the np.where() function to find where the mast has \"True\"."
   ]
  },
  {
   "cell_type": "code",
   "execution_count": 46,
   "metadata": {},
   "outputs": [
    {
     "name": "stdout",
     "output_type": "stream",
     "text": [
      "51\n"
     ]
    }
   ],
   "source": [
    "MaskM = (BigM > 50)*(BigM < 60) # This is a 10x10 array, with True where BigM > 50 and False for BigM<=50\n",
    "(ys,xs) = np.where(MaskM) # Two arrays, one with the x indexes and one with the y indexes, \n",
    "                         # where BigM is larger than50\n",
    "print(BigM[ys[0],xs[0]]) # Check the first one of the values."
   ]
  },
  {
   "cell_type": "code",
   "execution_count": 47,
   "metadata": {},
   "outputs": [
    {
     "name": "stdout",
     "output_type": "stream",
     "text": [
      "[ 0 11 22 33 44 55 66 77 88 99]\n",
      "[ 1 12 23 34 45 56 67 78 89]\n"
     ]
    }
   ],
   "source": [
    "print(np.diag(BigM) )    # Get the diagonal elements of BigM. \n",
    "print(np.diag(BigM,1))   # Get the one offset diagonal elements"
   ]
  },
  {
   "cell_type": "markdown",
   "metadata": {},
   "source": [
    "For more on Numpy, read the documentation or read the books."
   ]
  }
 ],
 "metadata": {
  "kernelspec": {
   "display_name": "Python 3",
   "language": "python",
   "name": "python3"
  },
  "language_info": {
   "codemirror_mode": {
    "name": "ipython",
    "version": 3
   },
   "file_extension": ".py",
   "mimetype": "text/x-python",
   "name": "python",
   "nbconvert_exporter": "python",
   "pygments_lexer": "ipython3",
   "version": "3.6.5"
  }
 },
 "nbformat": 4,
 "nbformat_minor": 2
}
