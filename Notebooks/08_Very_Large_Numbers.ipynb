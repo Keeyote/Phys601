{
 "cells": [
  {
   "cell_type": "markdown",
   "metadata": {},
   "source": [
    "# Very Large Numbers\n",
    "\n",
    "Sometimes you want to work with very large numbers, for instance when you are doing Statistical Mechanics, or when looking for very large primes. These numbers are too large to be represented by a normal floating point numbers, leading to problems with your calculation. This notebook does a brief exploration what you can and cannot do in Python.\n",
    "\n",
    "The details of how numbers are represented on a computer is a rather complicated bit of knowledge, which we usually try to avoid worrying about. But it is good to know some minimal information.\n",
    "\n",
    "## Python Numeric Types\n",
    "\n",
    "You can read more about the different Python numeric types in the manual pages: [Numeric Types](https://docs.python.org/3/library/stdtypes.html#numeric-types-int-float-complex)\n",
    "\n",
    "The basic types in Python are `int`, `float` and `complex`. \n",
    "\n",
    "## Floating Point\n",
    "Let's take a closer look at `float`, one of the main numerical types in just about any programming language. \n",
    "(_Note:_ In C/C++/Java this is called a `double`, which is usually 64-bit, while a `float` is 32-bit, but those are details.)"
   ]
  },
  {
   "cell_type": "code",
   "execution_count": 1,
   "metadata": {
    "scrolled": true
   },
   "outputs": [
    {
     "name": "stdout",
     "output_type": "stream",
     "text": [
      "sys.float_info(max=1.7976931348623157e+308, max_exp=1024, max_10_exp=308, min=2.2250738585072014e-308, min_exp=-1021, min_10_exp=-307, dig=15, mant_dig=53, epsilon=2.220446049250313e-16, radix=2, rounds=1)\n",
      "1.7976931348623157e+308 inf inf\n",
      "1e+308\n",
      "8.98846567431158e+307\n"
     ]
    },
    {
     "ename": "OverflowError",
     "evalue": "math range error",
     "output_type": "error",
     "traceback": [
      "\u001b[0;31m---------------------------------------------------------------------------\u001b[0m",
      "\u001b[0;31mOverflowError\u001b[0m                             Traceback (most recent call last)",
      "\u001b[0;32m<ipython-input-1-59fc6c60bd97>\u001b[0m in \u001b[0;36m<module>\u001b[0;34m\u001b[0m\n\u001b[1;32m      6\u001b[0m \u001b[0mprint\u001b[0m\u001b[0;34m(\u001b[0m\u001b[0mmath\u001b[0m\u001b[0;34m.\u001b[0m\u001b[0mpow\u001b[0m\u001b[0;34m(\u001b[0m\u001b[0;36m10\u001b[0m\u001b[0;34m,\u001b[0m\u001b[0msys\u001b[0m\u001b[0;34m.\u001b[0m\u001b[0mfloat_info\u001b[0m\u001b[0;34m.\u001b[0m\u001b[0mmax_10_exp\u001b[0m\u001b[0;34m)\u001b[0m\u001b[0;34m)\u001b[0m\u001b[0;34m\u001b[0m\u001b[0;34m\u001b[0m\u001b[0m\n\u001b[1;32m      7\u001b[0m \u001b[0mprint\u001b[0m\u001b[0;34m(\u001b[0m\u001b[0mmath\u001b[0m\u001b[0;34m.\u001b[0m\u001b[0mpow\u001b[0m\u001b[0;34m(\u001b[0m\u001b[0;36m2\u001b[0m\u001b[0;34m,\u001b[0m\u001b[0;36m1023\u001b[0m\u001b[0;34m)\u001b[0m\u001b[0;34m)\u001b[0m\u001b[0;34m\u001b[0m\u001b[0;34m\u001b[0m\u001b[0m\n\u001b[0;32m----> 8\u001b[0;31m \u001b[0mmath\u001b[0m\u001b[0;34m.\u001b[0m\u001b[0mpow\u001b[0m\u001b[0;34m(\u001b[0m\u001b[0;36m10\u001b[0m\u001b[0;34m,\u001b[0m\u001b[0msys\u001b[0m\u001b[0;34m.\u001b[0m\u001b[0mfloat_info\u001b[0m\u001b[0;34m.\u001b[0m\u001b[0mmax_10_exp\u001b[0m\u001b[0;34m+\u001b[0m\u001b[0;36m1\u001b[0m\u001b[0;34m)\u001b[0m\u001b[0;34m\u001b[0m\u001b[0;34m\u001b[0m\u001b[0m\n\u001b[0m",
      "\u001b[0;31mOverflowError\u001b[0m: math range error"
     ]
    }
   ],
   "source": [
    "import math\n",
    "import sys\n",
    "print(sys.float_info)  # The sys package allow you to querry items about \n",
    "the_biggest_float = sys.float_info.max\n",
    "print(the_biggest_float,the_biggest_float*1.01,the_biggest_float+10e+291)\n",
    "print(math.pow(10,sys.float_info.max_10_exp))\n",
    "print(math.pow(2,1023))\n",
    "math.pow(10,sys.float_info.max_10_exp+1)"
   ]
  },
  {
   "cell_type": "markdown",
   "metadata": {},
   "source": [
    "So what this all tells us is that the largest number that can be represented by a `float` in Python is just a little larger than $10^{308}$. This is a pretty big number, so usually this is not a problem. Note that this limit is not only true for Python but for _any_ program that uses your current CPU, which goes up to 64-bit floating point numbers, _unless_ you do something fancy with your programming.\n",
    "\n",
    "### Very Large Floating Point\n",
    "\n",
    "If you need very large floating point numbers, or need very _precise_ floating point numbers, you can use the Python package [decimal](https://docs.python.org/3/library/decimal.html). This package allows _you_ to specify the maximum exponent and the precision of the numbers, but doing so increases the CPU time and memory required for each step in a calculation. Below an example of calculating $e^{1234567890}$, with 500 digits in precision.\n"
   ]
  },
  {
   "cell_type": "code",
   "execution_count": 29,
   "metadata": {},
   "outputs": [
    {
     "data": {
      "text/plain": [
       "Decimal('1.4519136659370209179014008704498698351281948153941695118189330797423959619169464426506424578876161202481707340780996073728712898632165153768658854155376874993000385227087012559374363129384660851802921771117880623862644866892230338123725829854686245379329399766520351294415649903496862206655817322101573577273661067671260058389722073951653801432262766955933798951244730561195735555501086035624113320700695067373009119961865587986394805562452773612840601291505054721689833591924956429108664837898644800E+536166022')"
      ]
     },
     "execution_count": 29,
     "metadata": {},
     "output_type": "execute_result"
    }
   ],
   "source": [
    "from decimal import *\n",
    "getcontext().prec=500       # Set the desired precision: keep 500 digits.\n",
    "getcontext().Emax=1000000000 # Set the desired maximum exponent to 10^9 (1 billion).\n",
    "Decimal.exp(Decimal(1234567890))"
   ]
  },
  {
   "cell_type": "markdown",
   "metadata": {},
   "source": [
    "Is there a still a limit?\n",
    "\n",
    "The answer to that question is: it depends. If you are using the accelerated C version of the module, which comes with Python 3, then the maximum exponent is MAX_EMAX=999999999999999999, and the maximum precision is MAX_PREC=999999999999999999. Pretty large, but not infinite. In the \"Pure Python\" version there is supposedly no maximum, other than your patience waiting for the result...\n",
    "\n",
    "There are other limitation to the `decimal` package, the largest one is that many math functions (cos, sin, etc) are not implemented to use the very high precision available. \n",
    "\n",
    "## mpmath \n",
    "\n",
    "An alternative to `decimal` (which is part of standard Python) is the package [mpmath](http://mpmath.org), which is included in the Anaconda distribution. This package allows you to do arbitrary-precision floating-point arithmetic, and it _will_ allow to go and spend large amounts of CPU time to compute those elusive first million digits of $\\pi$: (My computer, 18 seconds)\n"
   ]
  },
  {
   "cell_type": "code",
   "execution_count": 11,
   "metadata": {},
   "outputs": [
    {
     "name": "stdout",
     "output_type": "stream",
     "text": [
      "3.141592653589793238462643383279502884197169399375105820974944592307816406286208998628034825342117068\n",
      "0.42857142857142855\n",
      "0.4285714285714285714285714285714285714285714285714285714285714285714285714285714285714285714285714286\n"
     ]
    }
   ],
   "source": [
    "import mpmath as m\n",
    "m.mp.dps = 100  # This means 100 digits of precision\n",
    "print(m.pi)     # Print pi to this precision.\n",
    "f = 3/7\n",
    "print(f)\n",
    "f = m.mpf(3)/7  # Here we define 3 to be a 100 digit precise version, and now the result will be equally precise.\n",
    "print(f)"
   ]
  },
  {
   "cell_type": "markdown",
   "metadata": {},
   "source": [
    "When you want to combine mpmath with numpy, you will often need to be a bit careful with the order that you create numpy arrays. Unfortunately, you cannot go: `mpf( np.linspace(0,1,100))` to get 0 to 1 in 100 steps with high accuracy, because `mpf()` does not accept an array. If you do `[ mpf(x) for x in np.linspace(0,1,100)]`, you get a Python array of accurate numbers, but now it is no longer a numpy array. So to get the correct numpy array you need to do: `x = np.array( [m.mpf(x) for x in np.linspace(0,1,N)])`. This is a bit cumbersome, but very accurate.\n",
    "\n",
    "You can now do algebra with `x`, such as `(1/x)**10000` without a problem, but unfortunately, you stil cannot do: `np.sin(x)`, or `m.sin(x)`. Both fail. Check your understanding why! So to get the sin for the entire array, and put that back in to a numpy array, you need to do this the slow way: `s=np.array([ m.sin(q) for q in x )`. \n",
    "\n",
    "See the example below:"
   ]
  },
  {
   "cell_type": "code",
   "execution_count": 31,
   "metadata": {},
   "outputs": [
    {
     "name": "stdout",
     "output_type": "stream",
     "text": [
      "0.50505050505050508302673506477731280028820037841796875\n",
      "0.3604665533131356728009602392137915889961014557717633684080757043234434859572246338328539477040136851\n",
      "0.4838516404379346554628391570642960369097171750636959655681900562328036156004242287914765294417569535\n",
      "0.4838516404379346554628391570642960369097171750636959655681900562328036156004242287914765294417569535\n"
     ]
    }
   ],
   "source": [
    "import mpmath as m\n",
    "import numpy as np\n",
    "m.mp.dps = 100\n",
    "N=100\n",
    "x = np.array( [m.mpf(x) for x in np.linspace(0,1,N)])\n",
    "print(x[N//2])\n",
    "print( ((4*x*(x-1))**10000)[N//2] )   # Now you can do numpy style operations with the result\n",
    "# print( np.sin(x[N//2]))             # This gives an error!\n",
    "print( m.sin(x[N//2]))                # This works, but it is only the sin() of one element in the numpy array.\n",
    "s = np.array([ m.sin(q) for q in x])  # Slow but accurate computation of  sin() for each x.\n",
    "print( s[N//2])"
   ]
  },
  {
   "cell_type": "markdown",
   "metadata": {},
   "source": [
    "\n",
    "### Exercises\n",
    "\n",
    "   - Try computing $e^{e^{e^e}}$. \n",
    "   - How many times does the sequence '12345' appear in the first million digits of $\\pi$?\n",
    "   - Plot $4 x(x-1)^{N}$ for $0<x<1$ and $N=1,10,100,1000,10000$.\n",
    "\n",
    "## Integers\n",
    "\n",
    "How about integers? It turns out that for Python, the integer is a special class, which behaves a bit differently from the `int` in C/C++/Java. It is implemented to simply never stop cranking out more digits. It can take a while to compute all those digits, and it can take a whole lot longer to print them, so be careful with really big computations. If you get tired of waiting, you can interrupt your code by pressing the square stop button in the control bar at the top of your Jupyter notebook, or typing crtl-c in a terminal session.\n",
    "\n",
    "#### Example: \n",
    "Count the number of digits in $2^{2^{2^{2^2}}}$"
   ]
  },
  {
   "cell_type": "code",
   "execution_count": 3,
   "metadata": {},
   "outputs": [
    {
     "data": {
      "text/plain": [
       "19729"
      ]
     },
     "execution_count": 3,
     "metadata": {},
     "output_type": "execute_result"
    }
   ],
   "source": [
    "len(str(2**(2**(2**(2**2)))))"
   ]
  },
  {
   "cell_type": "markdown",
   "metadata": {},
   "source": [
    "If you square that number _again_, expect to wait a while.\n",
    "\n",
    "## Factorials\n",
    "\n",
    "Since Python can handle very large integers, it can handle very large factorials (see [math](https://docs.python.org/3.7/library/math.html)). Again, here you need to be careful what you print to the screen, since 100000! already has 456574 digits (try it.) You also need to be careful about how much CPU you are using to compute such big numbers. Add one more zero (factorial of a million) and your wait time for the computation goes to ~10 s for the factorial, but turning that large number into a string takes much longer (~7 mins). You end up with over 5 million digits.\n",
    "\n",
    "### Binomial Coefficient\n",
    "\n",
    "In Statistical Mechanics you will often need to compute the [binomial coefficient](https://en.wikipedia.org/wiki/Binomial_coefficient):\n",
    "\n",
    "$$\n",
    "\\left(\\begin{array}{c} n \\\\ k \\end{array}\\right) = \\frac{n!}{k! (n-k)!}\n",
    "$$\n",
    "which can require large factorial numbers. Let's look at the different ways we can calculate this in Python.\n",
    "\n",
    "#### Case 1 - the _result_ is less than 1e+308\n",
    "\n",
    "If the _result_ of the calculation fits within the largest floating point number available, then you can calculate the binomial coefficient using scipy.special.binom(n,k). This is possible even if $n!$ is too large to fit in a float number. You can also compute the binomial coeffient your self using math.factorial, but this is often a lot slower for large n.\n",
    "\n",
    "Here is a bit of code that compares the two:"
   ]
  },
  {
   "cell_type": "code",
   "execution_count": 4,
   "metadata": {},
   "outputs": [
    {
     "name": "stdout",
     "output_type": "stream",
     "text": [
      "6.6171555606649396e+215 6.6171555606593036e+215  Fractional error =  8.51727318051182e-13\n"
     ]
    }
   ],
   "source": [
    "from math import factorial as fac\n",
    "from scipy.special import binom\n",
    "\n",
    "def my_binom(n,k):\n",
    "    return( fac(n)//(fac(k)*fac(n-k)))  # Note the use of // to make sure we get integer division in Python 3.\n",
    "\n",
    "n = 1000\n",
    "k = 200\n",
    "exact = my_binom(n,k)\n",
    "res1 = binom(n,k)\n",
    "print(res1,float(exact),\" Fractional error = \",(res1-exact)/exact)"
   ]
  },
  {
   "cell_type": "markdown",
   "metadata": {},
   "source": [
    "The scipy function is not _quite_ as accurate as the integer version, but a whole lot faster for large $n$.\n",
    "\n",
    "#### Case 2 - the _result_ is larger than 1e+308\n",
    "\n",
    "In cases where your result is larger than 1e+308, you are dealing with rather unwieldy numbers. We can now use `mpmath` to still get an answer in exponential form, or we can use our pure integer method from before, or we can use the _symbolic python_ package `sympy`. The advantage of using `sympy` is that it evaluates a whole lot faster.\n",
    "\n",
    "Below are examples:"
   ]
  },
  {
   "cell_type": "code",
   "execution_count": 5,
   "metadata": {},
   "outputs": [
    {
     "name": "stdout",
     "output_type": "stream",
     "text": [
      "3.806029324345853125e+317  Fractional error =  6.9956863078732765278e-23\n"
     ]
    }
   ],
   "source": [
    "import mpmath\n",
    "  # This sets the number of digit accuracy that is kept. If you set dps high enough, anser is exact.\n",
    "mpmath.mp.dps=20       \n",
    "n=3000\n",
    "k=200\n",
    "exact = my_binom(n,k)\n",
    "res2=mpmath.binomial(n,k)\n",
    "print(res2,\" Fractional error = \",(res2-exact)/exact)"
   ]
  },
  {
   "cell_type": "code",
   "execution_count": 7,
   "metadata": {},
   "outputs": [
    {
     "name": "stdout",
     "output_type": "stream",
     "text": [
      "time mpmath.binomial(n,k)\n",
      "CPU times: user 317 µs, sys: 0 ns, total: 317 µs\n",
      "Wall time: 322 µs\n",
      "time sym_binom(n,k)\n",
      "CPU times: user 2.18 s, sys: 6.83 ms, total: 2.18 s\n",
      "Wall time: 2.18 s\n",
      "time my_binom(n,k)\n",
      "CPU times: user 2.29 s, sys: 10.7 ms, total: 2.3 s\n",
      "Wall time: 2.3 s\n",
      "6.6306990001136757305e+5215\n",
      "mpmath fractional error =  3.7101806642031799036e-22\n",
      "sympy  fractional error =  0\n"
     ]
    }
   ],
   "source": [
    "import sympy\n",
    "N,K = sympy.symbols(\"N,K\")\n",
    "def sym_binom(n,k):\n",
    "    b = sympy.factorial(N)/(sympy.factorial(K)*sympy.factorial(N-K))\n",
    "    return(b.subs([(N,n),(K,k)]))\n",
    "n=300000\n",
    "k=2000\n",
    "print(\"time mpmath.binomial(n,k)\")\n",
    "%time res2=mpmath.binomial(n,k)\n",
    "print(\"time sym_binom(n,k)\")\n",
    "%time res3=sym_binom(n,k)\n",
    "print(\"time my_binom(n,k)\")\n",
    "%time res4=my_binom(n,k)\n",
    "print(res2)\n",
    "print(\"mpmath fractional error = \",(res2-res4)/res4)\n",
    "print(\"sympy  fractional error = \",(res3-res4)/res4)"
   ]
  },
  {
   "cell_type": "markdown",
   "metadata": {},
   "source": [
    "#### Case 3 - Practical considerations\n",
    "\n",
    "These results are numbers that too large to do anything useful with them. If you wanted to make a plot, you would probably choose a log-y scale, in which case it is probably more useful to calculate the _log_ values of these numbers. In that case, you can use the approximation:\n",
    "\n",
    "$$\n",
    "N! \\approx N \\log(N) - N\n",
    "$$\n",
    "\n",
    "We can use Python to check how good this approximation is for numbers $10^x$:"
   ]
  },
  {
   "cell_type": "code",
   "execution_count": 9,
   "metadata": {},
   "outputs": [
    {
     "name": "stdout",
     "output_type": "stream",
     "text": [
      "10^1   err1 = 1.3761e-01  err2 =  1.3761e-1 \n",
      "10^2   err1 = 8.8590e-03  err2 =  8.8590e-3 \n",
      "10^3   err1 = 7.3965e-04  err2 =  7.3965e-4 \n",
      "10^4   err1 = 6.7278e-05  err2 =  6.7278e-5 \n",
      "10^5   err1 = 6.3497e-06  err2 =  6.3497e-6 \n",
      "10^6   err1 = 6.1072e-07  err2 =  6.1072e-7 \n",
      "10^7   err1 = 5.9386e-08  err2 =  5.9386e-8 \n",
      "10^8   err1 = 5.8145e-09  err2 =  5.8145e-9 \n",
      "10^9   err1 = 5.7194e-10  err2 = 5.7194e-10 \n",
      "10^10  err1 = 5.6442e-11  err2 = 5.6442e-11 \n",
      "10^11  err1 = 5.5832e-12  err2 = 5.5832e-12 \n",
      "10^12  err1 = 5.5328e-13  err2 = 5.5328e-13 \n",
      "10^13  err1 = 5.4904e-14  err2 = 5.4904e-14 \n",
      "10^14  err1 = 5.4543e-15  err2 = 5.4543e-15 \n",
      "10^15  err1 = 5.4231e-16  err2 = 5.4231e-16 \n",
      "10^16  err1 = 5.3959e-17  err2 = 5.3959e-17 \n",
      "10^17  err1 = 5.3720e-18  err2 = 5.3720e-18 \n",
      "10^18  err1 = 5.3508e-19  err2 = 5.3508e-19 \n",
      "10^19  err1 = 5.3319e-20  err2 = 5.3319e-20 \n",
      "10^20  err1 = 5.3150e-21  err2 = 5.3150e-21 \n",
      "10^21  err1 = 5.2996e-22  err2 = 5.2996e-22 \n",
      "10^22  err1 = 5.2857e-23  err2 = 5.2857e-23 \n",
      "10^23  err1 = 5.2730e-24  err2 = 5.2715e-24 \n",
      "10^24  err1 = 5.2523e-25  err2 = 5.2523e-25 \n",
      "10^25  err1 = 5.2153e-26  err2 = 5.2153e-26 \n"
     ]
    }
   ],
   "source": [
    "import mpmath\n",
    "import sympy\n",
    "\n",
    "mpmath.mp.dps=26\n",
    "def compare1(n):\n",
    "    exact = mpmath.log(mpmath.factorial(N))\n",
    "    approx = N*mpmath.log(N) - N\n",
    "    return( (exact-approx)/exact )\n",
    "\n",
    "N = sympy.symbols(\"N\")\n",
    "def compare2(n):\n",
    "    exact = sympy.log(sympy.factorial(N))\n",
    "    approx = N*sympy.log(N) - N\n",
    "    R = (exact - approx)/exact \n",
    "    return( sympy.N(R.subs(N,n)))\n",
    "\n",
    "for x in range(1,26):\n",
    "    N=mpmath.power(10,x)\n",
    "    dif1 = compare1(N)\n",
    "    dif2 = compare2(N)\n",
    "    print(\"10^{:<3d} err1 = {:10.4e}  err2 = {:10.4e} \".format(x,float(dif1),dif2))"
   ]
  },
  {
   "cell_type": "markdown",
   "metadata": {},
   "source": [
    "So clearly, once you get to factorials of numbers larger than 100, the error in your calculation becomes quite small.\n",
    "The log of the binomial function is then:\n",
    "\n",
    "$$\n",
    "\\begin{array}{lcl}\n",
    "\\log\\left(\\begin{array}{c} n \\\\ k \\end{array}\\right) &=& \\log\\left(\\frac{n!}{k!(n-k)!} \\right)= \\log(n!)-\\log(k!) -\\log((n-k)!)  \\\\\n",
    "&\\approx& n\\log(n)-n - k\\log(k) + k - (n-k)\\log(n-k) + n - k  \\\\\n",
    "&=& n\\log(n) - k\\log(k) - (n-k)\\log(n-k)\n",
    "\\end{array}\n",
    "$$\n",
    "\n",
    "#### Exercise\n",
    "Write a function that implements $\\log\\left(\\begin{array}{c} n\\\\k\\end{array}\\right)$ using the approximation derived above, and convince yourself that this approximation is good by numerical evaluation."
   ]
  },
  {
   "cell_type": "markdown",
   "metadata": {},
   "source": [
    "## Big Prime Numbers\n",
    "\n",
    "Another application of large integers is that of [prime numbers](https://en.wikipedia.org/wiki/Prime_number). According to the Wikipedia article: \"A simple but slow method of checking the primality of a given number $n$, called trial division, tests whether $n$ is a multiple of any integer between 2 and $\\sqrt {n}$. Faster algorithms include the Miller–Rabin primality test...\". Another faster algorithm is the [\"Sieve of Eratosthenes\"](https://en.wikipedia.org/wiki/Sieve_of_Eratosthenes)(Ἐρατοσθένους), yes, dating back to the ancient Greeks.\n",
    "\n",
    "Is you search the internet, you will find lots and lots of published snippets of code to calcuate prime numbers. Please be aware that many are not optimal, and a few are even incorrect. Below is an implementation that I wrote of the Sieve of Eratosthenes, where I tried to pay particular attention to making the algorithm run fast in Python. As a result the algorithm is more difficult to understand, but you may want to take the time to investigate how it works.\n"
   ]
  },
  {
   "cell_type": "code",
   "execution_count": 10,
   "metadata": {},
   "outputs": [],
   "source": [
    "def primeSieve_slow(sieveSize):\n",
    "    ''' Returns a list of prime numbers calculated using\n",
    "    the Sieve of Eratosthenes algorithm.'''\n",
    "    sieve = [True] * sieveSize\n",
    "    sieve[0] = False # zero and one are not prime numbers\n",
    "    sieve[1] = False\n",
    "    # create the sieve\n",
    "    for i in range(2, int(math.sqrt(sieveSize)) + 1): # You only need to sieve to sqrt(N)\n",
    "        if sieve[i] == True:                          # Only need to check numbers that still may be primes.\n",
    "            pointer = i * 2                           # This would be prime times 2, so not prime.\n",
    "            while pointer < sieveSize:\n",
    "                sieve[pointer] = False                # We thus mark it False\n",
    "                pointer += i                          # And move to then next multiple of prime.\n",
    "# compile the list of primes\n",
    "    primes = []\n",
    "    for i in range(sieveSize):\n",
    "        if sieve[i] == True:\n",
    "            primes.append(i)\n",
    "    return primes\n",
    "\n",
    "def primeSieve(sieveSize):\n",
    "    ''' Returns a list of prime numbers calculated using\n",
    "    the Sieve of Eratosthenes algorithm. Not practical for very\n",
    "    large sieveSize. This version take ~1.5s for primes up to 10^7''' \n",
    "    # The following line does the same as the 5 lines above. Note how it treats sieveSize odd and even.\n",
    "    sieve = [False,False,True,True]+[False,True]*(sieveSize//2 -2) + [False]*(sieveSize%2!=0)\n",
    "    # create the sieve\n",
    "    for i in range(3, int(math.sqrt(sieveSize)) + 1,2): # You only need to sieve every other up to sqrt(N)\n",
    "        if sieve[i] == True:                          # Only need to check numbers that still may be primes.\n",
    "#            for i in range(i*i,sieveSize,i):    # Mark every i-th value false, starting at i*i \n",
    "#                sieve[i]=False\n",
    "#  This trick uses \"slicing\" of the list to quickly set particular values to False\n",
    "            sieve[i*i::i]=[False]*((len(sieve)-i*i+i-1)//i) # len(sieve[i*i::i])\n",
    "# compile the list of primes and return\n",
    "    return [ i for i in range(sieveSize) if sieve[i]==True]  # This list comprehension version is faster.\n"
   ]
  },
  {
   "cell_type": "code",
   "execution_count": 11,
   "metadata": {},
   "outputs": [
    {
     "name": "stdout",
     "output_type": "stream",
     "text": [
      "CPU times: user 1.11 s, sys: 138 ms, total: 1.25 s\n",
      "Wall time: 1.25 s\n",
      "Largest prime found =  9999991\n"
     ]
    }
   ],
   "source": [
    "%time primes=primeSieve(10000000)\n",
    "print(\"Largest prime found = \",primes[-1]) # Largest prime found."
   ]
  },
  {
   "cell_type": "markdown",
   "metadata": {},
   "source": [
    "For larger prime numbers, the [Rabin-Miller primality test](https://en.wikipedia.org/wiki/Miller%E2%80%93Rabin_primality_test) algorithm is useful. It does _not prove_ that a number is prime, it merely tells you that it is highly likely to be prime. \n",
    "\n",
    "This algorithm is quite complicated and only for the dedicated prime number searcher. Below is a simple implementation of this algorithm, and a routine that helps you check if a number is a prime. For low prime numbers it uses the primeSieve(), for larger ones Rabin-Miller.\n"
   ]
  },
  {
   "cell_type": "code",
   "execution_count": 12,
   "metadata": {},
   "outputs": [],
   "source": [
    "import random\n",
    "def rabinMiller(num):\n",
    "    '''\n",
    "    Rabin Miller primality test - https://en.wikipedia.org/wiki/Miller%E2%80%93Rabin_primality_test\n",
    "    \n",
    "    Returns True if num is a probably a prime number. Since it uses trial\n",
    "    functions, there is no guarantee. It is quite good though, and usually \n",
    "    the number is indeed prime if this returns true.'''\n",
    "    s = num - 1\n",
    "    t = 0\n",
    "    while s % 2 == 0:\n",
    "        # keep halving s while it is even (and use t\n",
    "        # to count how many times we halve s)\n",
    "        s = s // 2\n",
    "        t += 1\n",
    "\n",
    "    for trials in range(15): # try to falsify num's primality 15 times\n",
    "        a = random.randrange(2, num - 1)\n",
    "        v = pow(a, s, num)\n",
    "        if v != 1: # this test does not apply if v is 1.\n",
    "            i = 0\n",
    "            while v != (num - 1):\n",
    "                if i == t - 1:\n",
    "                    return False\n",
    "                else:\n",
    "                    i = i + 1\n",
    "                    v = (v ** 2) % num\n",
    "    return True\n",
    "\n",
    "def isProbablyPrime(num):\n",
    "    global Low_Primes\n",
    "    # Return True if num is a prime number. This function does a quicker\n",
    "    # prime number check before calling rabinMiller().\n",
    "\n",
    "    if (num < 2):\n",
    "        return False # 0, 1, and negative numbers are not prime\n",
    "\n",
    "    # About 1/3 of the time we can quickly determine if num is not prime\n",
    "    # by dividing by the first few dozen prime numbers. This is quicker\n",
    "    # than rabinMiller(), but unlike rabinMiller() is not guaranteed to\n",
    "    # prove that a number is prime.\n",
    "    if not 'Low_Primes' in globals():\n",
    "        Low_Primes = primeSieve(1000000)\n",
    "\n",
    "    if num in Low_Primes:\n",
    "        return True\n",
    "\n",
    "    # See if any of the low prime numbers can divide num\n",
    "    for prime in Low_Primes:\n",
    "        if (num % prime == 0):\n",
    "            return False\n",
    "\n",
    "    # If all else fails, call rabinMiller() to determine if num is a prime.\n",
    "    return rabinMiller(num)\n",
    "\n",
    "def generateLargePrime(keysize=1024):\n",
    "    '''Return a random prime number that has keysize bits in size.''' \n",
    "    while True:\n",
    "        num = random.randrange(2**(keysize-1), 2**(keysize))\n",
    "        if isProbablyPrime(num):\n",
    "            return num\n",
    "        "
   ]
  },
  {
   "cell_type": "markdown",
   "metadata": {},
   "source": [
    "We can now test _very_ large integers on whether they are prime numbers. The people that search for extremely large primes usually search for [Mersenne primes](https://en.wikipedia.org/wiki/Mersenne_prime), which are all of the form: $2^{N}-1$. The [largest known prime](https://en.wikipedia.org/wiki/Largest_known_prime_number), found in December 2017, is:\n",
    "\n",
    "$$\n",
    "2^{77232917}-1\n",
    "$$\n",
    "\n",
    "I leave it up to you to count how many digits it has. (Hint: don't try to print this!)\n",
    "\n",
    "The algorithm below finds the first Mersenne primes up to $2^{200}-1$."
   ]
  },
  {
   "cell_type": "code",
   "execution_count": 13,
   "metadata": {},
   "outputs": [
    {
     "name": "stdout",
     "output_type": "stream",
     "text": [
      "2^2   -1 is a prime with    1 digits.\n",
      "2^3   -1 is a prime with    1 digits.\n",
      "2^5   -1 is a prime with    2 digits.\n",
      "2^7   -1 is a prime with    3 digits.\n",
      "2^13  -1 is a prime with    4 digits.\n",
      "2^17  -1 is a prime with    6 digits.\n",
      "2^19  -1 is a prime with    6 digits.\n",
      "2^31  -1 is a prime with   10 digits.\n",
      "2^61  -1 is a prime with   19 digits.\n",
      "2^89  -1 is a prime with   27 digits.\n",
      "2^107 -1 is a prime with   33 digits.\n",
      "2^127 -1 is a prime with   39 digits.\n"
     ]
    }
   ],
   "source": [
    "for i in range(1,200):\n",
    "    num = 2**i-1\n",
    "    if isProbablyPrime(num):\n",
    "        num_digits = int(mpmath.log10(num))+1 \n",
    "        print(\"2^{:<4d}-1 is a prime with {:4d} digits.\".format(i,num_digits))"
   ]
  },
  {
   "cell_type": "markdown",
   "metadata": {},
   "source": [
    "### Exersizes:\n",
    "  - Calculate the number of digits for the largest known prime number. If you are smart about it, this takes less than a second. Check your answer against the Wikipedia article.\n",
    "  - Mersenne primes cannot be the only set of big primes \"out there\". Look at how successful an alternate set of primes is: $2^N - 3$. For $N<=400$, are there more Mersenne primes, or more alternate primes? (Perhaps we should _name_ them?)\n",
    "  - Another interesting topic in large integers is that of [\"perfect numbers\"](https://en.wikipedia.org/wiki/Perfect_number). There are far fewer perfect numbers than primes. A currently still unsolved problem in mathematics is whether there is a finite or infinite set of perfect numbers. Show by direct computation that the first 12 perfect numbers are of the form:\n",
    "  $$ 2^{p-1}\\left(2^p-1\\right) $$\n",
    "  where $\\left(2^p-1\\right)$ is a prime number."
   ]
  },
  {
   "cell_type": "markdown",
   "metadata": {},
   "source": [
    "## Answers to exercises:\n"
   ]
  },
  {
   "cell_type": "code",
   "execution_count": 15,
   "metadata": {},
   "outputs": [
    {
     "data": {
      "text/plain": [
       "Decimal('2.3315043990071954622896899110121376663320174289635168232800545468180794366424973148573066613214076731450395088188518894592235976706744943602673067889669028720251433852975259374232282055849564334055538196517479723893702683644040304673109438136348628130600224362014430607799345804846171068807958573994931475104930480457442412215968068457840685457248750994424008425171988575149328910345012794771119508157927743364552242751642079275602685116082577801807502074737791924997582364652909840292013082102887271E+1656520')"
      ]
     },
     "execution_count": 15,
     "metadata": {},
     "output_type": "execute_result"
    }
   ],
   "source": [
    "# Try e^e^e^e  using decimal\n",
    "import decimal as d\n",
    "from decimal import Decimal as D   # Save some typing of d.Decimal()\n",
    "d.getcontext().Emax = d.MAX_EMAX   # Allow for the very largest decimals\n",
    "D.exp(D.exp(D.exp(D.exp(D(1)))))   # Note that the argument must be a Decimal"
   ]
  },
  {
   "cell_type": "code",
   "execution_count": 17,
   "metadata": {},
   "outputs": [
    {
     "data": {
      "text/plain": [
       "mpf('2.33150439900719546228968991101213766633201742896351682328005454681807943664249731485730666132140767314503950881885188945922359767067449436026730678896690287202514338529752593742322820558495643340555381965174797238937026836440403046731094381363486281306002243620144306077993458048461710688079585124324769e+1656520')"
      ]
     },
     "execution_count": 17,
     "metadata": {},
     "output_type": "execute_result"
    }
   ],
   "source": [
    "# Try e^e^e^e  using mpmath\n",
    "import mpmath as M\n",
    "M.mp.dps=300                      # Give 300 digits of precision\n",
    "M.exp(M.exp(M.exp(M.exp(1))))"
   ]
  },
  {
   "cell_type": "code",
   "execution_count": 18,
   "metadata": {},
   "outputs": [
    {
     "name": "stdout",
     "output_type": "stream",
     "text": [
      "CPU times: user 13min 10s, sys: 1.54 s, total: 13min 11s\n",
      "Wall time: 13min 12s\n",
      "# of times 12345 in pi = 8\n"
     ]
    }
   ],
   "source": [
    "# How many times does the sequence '12345' appear in the first million digits of $\\pi$?\n",
    "#\n",
    "# Note, you really, really, do not want to print all that to your screen!!\n",
    "#\n",
    "import mpmath as M\n",
    "M.mp.dps=1000000                 # One million digits of precision (ouch)\n",
    "%time bigpi = str(M.acos(0)*2)   # Calculate pi as the inverse cosine. \n",
    "len(bigpi)                       # Do I have 1 million digits, really?\n",
    "print(\"# of times 12345 in pi =\",bigpi.count('12345'))             # Count the number of time 12345 occurs.\n",
    "#\n",
    "# Prepare to wait a while\n",
    "#"
   ]
  },
  {
   "cell_type": "code",
   "execution_count": 19,
   "metadata": {},
   "outputs": [
    {
     "name": "stdout",
     "output_type": "stream",
     "text": [
      "Binomial(10^5 ,10^ 4) Fracional error = 1.6834e-04\n",
      "Binomial(10^6 ,10^ 4) Fracional error = 9.8562e-05\n",
      "Binomial(10^6 ,10^ 5) Fracional error = 2.0373e-05\n",
      "Binomial(10^7 ,10^ 4) Fracional error = 6.9860e-05\n",
      "Binomial(10^7 ,10^ 5) Fracional error = 1.1911e-05\n",
      "Binomial(10^7 ,10^ 6) Fracional error = 2.3914e-06\n",
      "Binomial(10^8 ,10^ 4) Fracional error = 5.4106e-05\n",
      "Binomial(10^8 ,10^ 5) Fracional error = 8.4416e-06\n",
      "Binomial(10^8 ,10^ 6) Fracional error = 1.3967e-06\n",
      "Binomial(10^8 ,10^ 7) Fracional error = 2.7455e-07\n",
      "Binomial(10^9 ,10^ 4) Fracional error = 4.4149e-05\n",
      "Binomial(10^9 ,10^ 5) Fracional error = 6.5379e-06\n",
      "Binomial(10^9 ,10^ 6) Fracional error = 9.8975e-07\n",
      "Binomial(10^9 ,10^ 7) Fracional error = 1.6023e-07\n",
      "Binomial(10^9 ,10^ 8) Fracional error = 3.0997e-08\n"
     ]
    }
   ],
   "source": [
    "#\n",
    "# Evaluate log( binom(n,k)) directly and compare with the approximation n log(n) - k log(k) - (n-k)log(n-k)\n",
    "#\n",
    "from math import log\n",
    "import mpmath as M\n",
    "M.mp.dps=100  \n",
    "for x in range(4,10):\n",
    "    for y in range(4,x):\n",
    "        n = M.power(10,x)\n",
    "        k = M.power(10,y)\n",
    "        exact = M.log(M.binomial(n,k))\n",
    "        approx= n*log(n) - k*log(k) - (n-k)*log(n-k)\n",
    "        err = (approx-exact)/exact\n",
    "        print(\"Binomial(10^{:<2d},10^{:2d}) Fracional error = {:10.4e}\".format(x,y,float(err)))"
   ]
  },
  {
   "cell_type": "code",
   "execution_count": 20,
   "metadata": {},
   "outputs": [
    {
     "name": "stdout",
     "output_type": "stream",
     "text": [
      "CPU times: user 300 ms, sys: 18.7 ms, total: 319 ms\n",
      "Wall time: 317 ms\n"
     ]
    },
    {
     "data": {
      "text/plain": [
       "23249425"
      ]
     },
     "execution_count": 20,
     "metadata": {},
     "output_type": "execute_result"
    }
   ],
   "source": [
    "#\n",
    "# Number of digits for the largest known prime:\n",
    "#\n",
    "import mpmath as M\n",
    "%time int(mpmath.log10(2**77232917-1))+1"
   ]
  },
  {
   "cell_type": "code",
   "execution_count": 21,
   "metadata": {},
   "outputs": [
    {
     "name": "stdout",
     "output_type": "stream",
     "text": [
      "There are 12 Mersenne primes, and 22 alt primes for N<=400\n"
     ]
    }
   ],
   "source": [
    "# Count Mersenne and alternate primes:\n",
    "mp_list=[]\n",
    "mp_alt_list=[]\n",
    "for i in range(1,400):\n",
    "    mp = 2**i-1\n",
    "    mp_alt = 2**i-3\n",
    "    if isProbablyPrime(mp):\n",
    "        mp_list.append(i)\n",
    "    if isProbablyPrime(mp_alt):\n",
    "        mp_alt_list.append(i)\n",
    "print(\"There are {} Mersenne primes, and {} alt primes for N<=400\".format(len(mp_list),len(mp_alt_list)))"
   ]
  }
 ],
 "metadata": {
  "kernelspec": {
   "display_name": "Python 3",
   "language": "python",
   "name": "python3"
  },
  "language_info": {
   "codemirror_mode": {
    "name": "ipython",
    "version": 3
   },
   "file_extension": ".py",
   "mimetype": "text/x-python",
   "name": "python",
   "nbconvert_exporter": "python",
   "pygments_lexer": "ipython3",
   "version": "3.7.4"
  }
 },
 "nbformat": 4,
 "nbformat_minor": 2
}
