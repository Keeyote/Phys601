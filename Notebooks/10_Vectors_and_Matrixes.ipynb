{
 "cells": [
  {
   "cell_type": "markdown",
   "metadata": {},
   "source": [
    "# Vectors and Matrixes with Numpy\n",
    "\n",
    "In this workbook we will dig a little deeper into the Numpy library to specifically highlight how you can work with _vectors_ and _matrixes_ using Numpy. Those of you that are familiar with MatLab may find that Numpy is a little more clumsy and sometimes a bit confusing. This is one of the costs of using a general programming language, compared to the dedicated linear algebra application that is MatLab. I hope that with a little attention you can get comfortable with Numpy _vectors_ and _matrixes_.\n",
    "\n",
    "Note that Numpy is now heavily used by _data scientists_, and that an ever increasing number of packages are build on top of Numpy. In that sense, the underlying math has been increadibly well tested and is very reliable.\n",
    "\n",
    "## Vectors\n",
    "\n",
    "There is actually no object in Numpy (or Python) that is designated as a _vector_, and there are only a few specific widely used packages that I know of that implement a physics 3-vector (one of them is visual python, or vpython), although you can find many examples of people that wrote their own. This may be an oversight, or perhaps it reflects the idea that the general _array_ object of Numpy does what is needed, and it is difficult to actually do better. The alternative is to use one of the C++ 3- and 4-vector libraries that have a Python interface (ROOT, GEANT4, CLHEP)\n",
    "\n",
    "### Vector = np.array\n",
    "\n",
    "So the basic vector-like object in Python was already introduced in the [Intro to Numpy](https://github.com/mholtrop/Phys601/blob/master/Notebooks/02_Intro_Numpy.ipynb) notebook. Here we will investigate the properties of the `np.array`, and the related `np.matrix` a bit further, so we can use this knowledge later.\n",
    "\n",
    "In most respects, the `np.array` object behaves as you would expect from a _mathematical vector_, while the Python `list` object definitely does not. A simple example shows you how different they are:"
   ]
  },
  {
   "cell_type": "code",
   "execution_count": 1,
   "metadata": {},
   "outputs": [
    {
     "name": "stdout",
     "output_type": "stream",
     "text": [
      "[1, 2, 3, 1, 2, 3, 1, 2, 3]\n",
      "[3 6 9]\n"
     ]
    }
   ],
   "source": [
    "import numpy as np\n",
    "L = [1,2,3]\n",
    "V = np.array([1,2,3])    # This seems to be the same thing, but it is not.\n",
    "print(L*3)               # Multiply a list gives you a list that is N times as long.\n",
    "print(V*3)               # Multiply a vector gives you a vector with each element N times larger."
   ]
  },
  {
   "cell_type": "markdown",
   "metadata": {},
   "source": [
    "The `np.array` and the `list` each have their specific uses. The `list` can contain mixed data (integers, floats, strings), the `np.array` has one kind of data, but is far more useful for numeric computations.\n",
    "\n",
    "### Caution\n",
    "\n",
    "Althought the `np.array` has ways in which it behaves like a mathematical vector, there are some points that need specific caution. **All operations on np.arrays are <font style=\"color:red\">element wise!</font>** This is the correct behavior for many data science operations, but not what you expect if you are thinking vectors.\n",
    "\n",
    "Some examples should make this clear:"
   ]
  },
  {
   "cell_type": "code",
   "execution_count": 2,
   "metadata": {},
   "outputs": [
    {
     "name": "stdout",
     "output_type": "stream",
     "text": [
      "[3 2 6]\n",
      "[1 4 9]\n"
     ]
    }
   ],
   "source": [
    "A = np.array([1,2,3])\n",
    "B = np.array([3,1,2])\n",
    "print(A*B)            # This multiplies each element of A with that of B. Not a vector dot product!!!\n",
    "print(A**2)           # This is not the A.A, but the square of each element."
   ]
  },
  {
   "cell_type": "markdown",
   "metadata": {},
   "source": [
    "### Basic Vector Operations\n",
    "\n",
    "To get the basic vector operations we use the appropriate Numpy function. For the **dot product**, you can either use the [`np.dot`](https://docs.scipy.org/doc/numpy-1.15.0/reference/generated/numpy.dot.html) function, or in Python 3.5 and up the `@` operator. (Note that in neither case there is complex conjugation!) There is also the function [`np.inner`](https://docs.scipy.org/doc/numpy-1.15.0/reference/generated/numpy.inner.html), which for a 1-D array gives the same as a dot product. For 2-D (conventional matrixes) and higher, these two behave differently: np.dot is the sum product over the last axis with the one but last axis, while np.inner is the sum product over the last axis.\n",
    "\n",
    "$$ \\vec A = \\left(\\begin{array}{c} 1\\\\2\\\\3 \\end{array}\\right)\\qquad \\vec B = \\left(\\begin{array}{c} 3\\\\1\\\\2 \\end{array}\\right)\\qquad \\vec A\\cdot \\vec B = 11$$"
   ]
  },
  {
   "cell_type": "code",
   "execution_count": 3,
   "metadata": {},
   "outputs": [
    {
     "name": "stdout",
     "output_type": "stream",
     "text": [
      "11\n",
      "11\n",
      "11\n"
     ]
    }
   ],
   "source": [
    "print(np.dot(A,B))\n",
    "print(A.dot(B))\n",
    "print(A@B)"
   ]
  },
  {
   "cell_type": "markdown",
   "metadata": {},
   "source": [
    "For `np.array` objects of size 2 or 3, there is also the **cross product**\n",
    "\n",
    "$$ \\vec A \\times \\vec B = \\left(\\begin{array}{c} 1\\\\7\\\\-5 \\end{array}\\right) $$"
   ]
  },
  {
   "cell_type": "code",
   "execution_count": 4,
   "metadata": {},
   "outputs": [
    {
     "data": {
      "text/plain": [
       "array([ 1,  7, -5])"
      ]
     },
     "execution_count": 4,
     "metadata": {},
     "output_type": "execute_result"
    }
   ],
   "source": [
    "np.cross(A,B)"
   ]
  },
  {
   "cell_type": "markdown",
   "metadata": {},
   "source": [
    "You can compute the **norm** of the vector with `np.linalg.norm`, or you can calculate it as `np.sqrt(A@A)` or `np.sqrt(np.sum(A*A))`.\n",
    "\n",
    "$$ \\left | \\vec A \\right | = \\sqrt{14} $$"
   ]
  },
  {
   "cell_type": "markdown",
   "metadata": {},
   "source": [
    "You probably noticed by now that there is no difference in the representation of a row vector or a column vector. This distinction _does_ exist, but in Numpy is seen as a $1\\times N$ _matrix_ or a $N\\times 1$ _matrix_."
   ]
  },
  {
   "cell_type": "code",
   "execution_count": 5,
   "metadata": {},
   "outputs": [
    {
     "name": "stdout",
     "output_type": "stream",
     "text": [
      "[[1]\n",
      " [2]\n",
      " [3]]\n"
     ]
    }
   ],
   "source": [
    "A.shape=(3,1) # Turn the vector A in to an 3x1 matrix.\n",
    "print(A)"
   ]
  },
  {
   "cell_type": "markdown",
   "metadata": {},
   "source": [
    "## Matrixes\n",
    "\n",
    "As we just saw, the internal representation in Numpy of a _matrix_ is actually the _same_ `np.array` object. Each np.array object has an attribute called the \"shape\", which indicates how the internal data (a list of numbers) is to be interpreted. As we just saw, by setting the shape to a different configuration, we can can turn the np.array into a different type of object. This can be really handy when making matrixes. This also allows you to go to tensors or higher dimensions with the same set of tools. In Numpy, your matrix does not need to be a square matrix, but you do need to be careful not to have an incorrect combination!\n",
    "\n",
    "As an example: We can take the dot product of the row vector $\\vec B$ with the now column $3\\times1$ matrix $A$, but not the other way around!  If we reshape $B$ into a $1\\times 3$ matrix, then it _is_ allowed, but it gives the _outer product_, as it should.  "
   ]
  },
  {
   "cell_type": "code",
   "execution_count": 6,
   "metadata": {},
   "outputs": [
    {
     "name": "stdout",
     "output_type": "stream",
     "text": [
      "[11]\n"
     ]
    },
    {
     "ename": "ValueError",
     "evalue": "matmul: Input operand 1 has a mismatch in its core dimension 0, with gufunc signature (n?,k),(k,m?)->(n?,m?) (size 3 is different from 1)",
     "output_type": "error",
     "traceback": [
      "\u001b[0;31m---------------------------------------------------------------------------\u001b[0m",
      "\u001b[0;31mValueError\u001b[0m                                Traceback (most recent call last)",
      "\u001b[0;32m<ipython-input-6-58cf9a53100f>\u001b[0m in \u001b[0;36m<module>\u001b[0;34m\u001b[0m\n\u001b[1;32m      1\u001b[0m \u001b[0mprint\u001b[0m\u001b[0;34m(\u001b[0m\u001b[0mB\u001b[0m\u001b[0;34m@\u001b[0m\u001b[0mA\u001b[0m\u001b[0;34m)\u001b[0m\u001b[0;34m\u001b[0m\u001b[0;34m\u001b[0m\u001b[0m\n\u001b[0;32m----> 2\u001b[0;31m \u001b[0mprint\u001b[0m\u001b[0;34m(\u001b[0m\u001b[0mA\u001b[0m\u001b[0;34m@\u001b[0m\u001b[0mB\u001b[0m\u001b[0;34m)\u001b[0m\u001b[0;34m\u001b[0m\u001b[0;34m\u001b[0m\u001b[0m\n\u001b[0m",
      "\u001b[0;31mValueError\u001b[0m: matmul: Input operand 1 has a mismatch in its core dimension 0, with gufunc signature (n?,k),(k,m?)->(n?,m?) (size 3 is different from 1)"
     ]
    }
   ],
   "source": [
    "print(B@A)\n",
    "print(A@B)"
   ]
  },
  {
   "cell_type": "code",
   "execution_count": 7,
   "metadata": {},
   "outputs": [
    {
     "name": "stdout",
     "output_type": "stream",
     "text": [
      "Now B is the matrix = [[3 1 2]]\n",
      "This is the outer product A@B:\n",
      " [[3 1 2]\n",
      " [6 2 4]\n",
      " [9 3 6]]\n"
     ]
    }
   ],
   "source": [
    "B.shape=(1,3)\n",
    "print(\"Now B is the matrix =\",B)           # This is now a matrix. You can see the double square bracket [[]]\n",
    "print(\"This is the outer product A@B:\\n\",A@B)         # So then this is the outer product of the matrixes."
   ]
  },
  {
   "cell_type": "markdown",
   "metadata": {},
   "source": [
    "### Matrix multiplication\n",
    "\n",
    "We often need to multiply a matrix with a scalar (number), a vector, or another matrix. With Numpy, we just have to be careful that the shape of the objects we multiply is correct.\n",
    "\n",
    "Scalar multiplication is nothing special, every number in the matrix is multiplied by the scalar:"
   ]
  },
  {
   "cell_type": "code",
   "execution_count": 8,
   "metadata": {},
   "outputs": [
    {
     "name": "stdout",
     "output_type": "stream",
     "text": [
      "[[1 2 3]\n",
      " [2 3 1]\n",
      " [3 1 2]]\n"
     ]
    }
   ],
   "source": [
    "M1 = np.array([[1,2,3],[2,3,1],[3,1,2]])\n",
    "print(M1)"
   ]
  },
  {
   "cell_type": "code",
   "execution_count": 9,
   "metadata": {},
   "outputs": [
    {
     "name": "stdout",
     "output_type": "stream",
     "text": [
      "[[3 6 9]\n",
      " [6 9 3]\n",
      " [9 3 6]]\n"
     ]
    }
   ],
   "source": [
    "print(3*M1)"
   ]
  },
  {
   "cell_type": "markdown",
   "metadata": {},
   "source": [
    "When multiplying a matrix with a vector, we need to be more careful. The `np.dot()` function usually works the way you expect. You can also use the `np.matmul()` for matrix multiplication. If you are in doubt how to use any of these functions, it is always good to do some test cases where you know the answer, and make sure that is indeed what you get."
   ]
  },
  {
   "cell_type": "code",
   "execution_count": 10,
   "metadata": {},
   "outputs": [
    {
     "name": "stdout",
     "output_type": "stream",
     "text": [
      "[[1 2 3]\n",
      " [2 3 1]\n",
      " [3 1 2]]\n",
      "[2 3 1]\n",
      "[2 3 1]\n",
      "[2 3 1]\n"
     ]
    }
   ],
   "source": [
    "v1 = np.array([0,1,0])\n",
    "print(M1)\n",
    "print(M1.dot(v1))\n",
    "print(M1@v1)\n",
    "print(np.matmul(M1,v1))"
   ]
  },
  {
   "cell_type": "markdown",
   "metadata": {},
   "source": [
    "For matrix-matrix multiplication 'dot', 'matmul' and '@' all multiply the two matrixes. There is also 'inner', which performs an inner product for vectors, or matrix-vector, but for matrix-matrix is \"a sum product over the last axes\", which does not seem useful."
   ]
  },
  {
   "cell_type": "code",
   "execution_count": 11,
   "metadata": {},
   "outputs": [
    {
     "name": "stdout",
     "output_type": "stream",
     "text": [
      "[[1 2 3]\n",
      " [2 3 1]\n",
      " [3 1 2]]\n",
      "[[1 0 1]\n",
      " [0 1 0]\n",
      " [1 2 3]]\n",
      "[[ 4  8 10]\n",
      " [ 3  5  5]\n",
      " [ 5  5  9]]\n",
      "[[ 4  8 10]\n",
      " [ 3  5  5]\n",
      " [ 5  5  9]]\n",
      "[[ 4  8 10]\n",
      " [ 3  5  5]\n",
      " [ 5  5  9]]\n",
      "[[ 4  2 14]\n",
      " [ 3  3 11]\n",
      " [ 5  1 11]]\n"
     ]
    }
   ],
   "source": [
    "M2 = np.array([[1,0,1],[0,1,0],[1,2,3]])\n",
    "print(M1)\n",
    "print(M2)\n",
    "print(M1.dot(M2))\n",
    "print(M1@M2)\n",
    "print(np.matmul(M1,M2))\n",
    "print(np.inner(M1,M2))"
   ]
  },
  {
   "cell_type": "code",
   "execution_count": 12,
   "metadata": {},
   "outputs": [
    {
     "name": "stdout",
     "output_type": "stream",
     "text": [
      "Is 'dot' the same as 'matmul'?  True\n",
      "Is 'dot' the same as 'inner' ?  False\n"
     ]
    }
   ],
   "source": [
    "M3 = np.random.randint(0,16,4).reshape(2,2) \n",
    "M4 = np.random.randint(0,16,4).reshape(2,2)\n",
    "print(\"Is 'dot' the same as 'matmul'? \",np.all(M3.dot(M4)== np.matmul(M3,M4)))\n",
    "print(\"Is 'dot' the same as 'inner' ? \",np.all(M3.dot(M4)== np.inner (M3,M4)))"
   ]
  },
  {
   "cell_type": "markdown",
   "metadata": {},
   "source": [
    "## What is the use of np.matrix ?\n",
    "\n",
    "There is *also* a matrix class in Numpy. You can either call that with np.matrix() or the abbreviated np.mat(). What is the point of this, since all the matrix algebra can be done with np.array?\n",
    "\n",
    "The np.array is actually *more* flexible, since it can do any dimensionality matrix, while np.matrix is only for two dimensional ones (i.e. row,column NxM). The only difference between the two is how a few of the operations work. With the np.matrix class the '\\*' operator is over-written to be the same operation as 'dot', and the '\\*\\*' operation is correct matrix to the Nth power, instead of matrix *elements* to the Nth power. There are times that this is useful. \n",
    "\n",
    "You can convert from one to the other with the `.asmatrix()`\n"
   ]
  },
  {
   "cell_type": "code",
   "execution_count": 13,
   "metadata": {},
   "outputs": [
    {
     "name": "stdout",
     "output_type": "stream",
     "text": [
      "As np.array:\n",
      "Is 'dot' the same as '*'?  False\n",
      "Is 'M5.dot(M5)' the same as 'M5**2'?  False\n",
      "\n",
      "As np.matrix:\n",
      "Is 'dot' the same as '*'?  True\n",
      "Is 'M5.dot(M5)' the same as 'M5**2'?  True\n",
      "\n",
      "As np.array.asmatrix:\n",
      "Is 'dot' the same as '*'?  True\n",
      "Is 'M5.dot(M5)' the same as 'M5**2'?  True\n"
     ]
    }
   ],
   "source": [
    "print(\"As np.array:\")\n",
    "M5=np.array(np.random.randint(0,16,4).reshape(2,2))\n",
    "M6=np.array(np.random.randint(0,16,4).reshape(2,2))\n",
    "print(\"Is 'dot' the same as '*'? \",np.all(M5.dot(M6)== M5*M6))\n",
    "print(\"Is 'M5.dot(M5)' the same as 'M5**2'? \",np.all(M5.dot(M5)== M5**2))\n",
    "\n",
    "print(\"\\nAs np.matrix:\")\n",
    "M5=np.matrix(np.random.randint(0,16,4).reshape(2,2))\n",
    "M6=np.matrix(np.random.randint(0,16,4).reshape(2,2))\n",
    "print(\"Is 'dot' the same as '*'? \",np.all(M5.dot(M6)== M5*M6))\n",
    "print(\"Is 'M5.dot(M5)' the same as 'M5**2'? \",np.all(M5.dot(M5)== M5**2))\n",
    "\n",
    "print(\"\\nAs np.array.asmatrix:\")\n",
    "M5=np.array(np.random.randint(0,16,4).reshape(2,2))\n",
    "M6=np.array(np.random.randint(0,16,4).reshape(2,2))\n",
    "print(\"Is 'dot' the same as '*'? \",np.all(M5.dot(M6)== np.asmatrix(M5)*np.asmatrix(M6)))\n",
    "print(\"Is 'M5.dot(M5)' the same as 'M5**2'? \",np.all(M5.dot(M5)== np.asmatrix(M5)**2))\n",
    "\n"
   ]
  },
  {
   "cell_type": "markdown",
   "metadata": {},
   "source": [
    "# Matrix operations\n",
    "\n",
    "As you would expect, all the useful matrix operations are available: `conjugate()`, `transpose()`. \n",
    "For the `np.matrix` object, some operations are available as a property: 'T' for transpose, 'I' for inverse, 'H' for Hermitian. For the `np.array` you can accomplish these with `np.transpose(M)`, `np.linalg.inv(M)` for inverse, and `M.transpose().conjugate()` for Hermitian.\n"
   ]
  },
  {
   "cell_type": "code",
   "execution_count": 14,
   "metadata": {},
   "outputs": [
    {
     "name": "stdout",
     "output_type": "stream",
     "text": [
      "[[ 7 14  4]\n",
      " [ 1  3  4]\n",
      " [ 8 14  0]]\n",
      "[[ 7  1  8]\n",
      " [14  3 14]\n",
      " [ 4  4  0]]\n",
      "[[-3.5     3.5     2.75  ]\n",
      " [ 2.     -2.     -1.5   ]\n",
      " [-0.625   0.875   0.4375]]\n",
      "[[ 7  1  8]\n",
      " [14  3 14]\n",
      " [ 4  4  0]]\n"
     ]
    }
   ],
   "source": [
    "M1=np.matrix(np.random.randint(0,16,9).reshape(3,3))\n",
    "print(M1)\n",
    "print(M1.T)\n",
    "print(M1.I)\n",
    "print(M1.H)"
   ]
  },
  {
   "cell_type": "markdown",
   "metadata": {},
   "source": [
    "Some other operations on matrixes are in the linear algebra package: [`np.linalg`](https://docs.scipy.org/doc/numpy/reference/routines.linalg.html). Useful methods in this package are `det()` for the determinant, and `norm()` for the norm, as well as matrix equation solvers and eigen vector solvers (see below).\n"
   ]
  },
  {
   "cell_type": "code",
   "execution_count": 28,
   "metadata": {},
   "outputs": [
    {
     "name": "stdout",
     "output_type": "stream",
     "text": [
      "Determinant =  16.000000000000007\n",
      "Norm of the matrix =  23.388031127053\n"
     ]
    }
   ],
   "source": [
    "print(\"Determinant = \",np.linalg.det(M1))\n",
    "print(\"Norm of the matrix = \",np.linalg.norm(M1))"
   ]
  },
  {
   "cell_type": "markdown",
   "metadata": {},
   "source": [
    "# Eigen values and Eigen vectors\n",
    "\n",
    "Finding the eigenvalues and eigenvectors of a matrix is very useful in many physics problems. There are several ways to get these with Numpy. The most general is `np.linalg.eig()` which returns the eigen values and eigen vectors of a square matrix. An alternate is `np.linalg.eigh()` which does the same for a Hermitian matrix. The difference between the two is that the `eigh()` is faster, but only gives the correct answer is the matrix is Hermitian."
   ]
  },
  {
   "cell_type": "code",
   "execution_count": 22,
   "metadata": {},
   "outputs": [
    {
     "name": "stdout",
     "output_type": "stream",
     "text": [
      "CPU times: user 129 µs, sys: 11 µs, total: 140 µs\n",
      "Wall time: 134 µs\n"
     ]
    }
   ],
   "source": [
    "M = np.matrix([[1,0,0],[0,2,0],[0,0,3]])\n",
    "M = np.matrix([[1,0,2],[0,2,0],[2,0,1]])\n",
    "%time vals,vects= np.linalg.eig(M)"
   ]
  },
  {
   "cell_type": "code",
   "execution_count": 23,
   "metadata": {},
   "outputs": [
    {
     "name": "stdout",
     "output_type": "stream",
     "text": [
      "CPU times: user 85 µs, sys: 10 µs, total: 95 µs\n",
      "Wall time: 89.6 µs\n"
     ]
    }
   ],
   "source": [
    "%time vals,vects= np.linalg.eigh(M)"
   ]
  },
  {
   "cell_type": "markdown",
   "metadata": {},
   "source": [
    "Either of these functions returns the eigen values in a list and the eigen vectors as the columns of a matrix. The vectors are thus stored slightly differently than you would expect. In situations where it is more convenient to have the eigenvectors stored as rows, you can simply take the transpose of the matrix.\n",
    "\n",
    "So in the statement above, the eigenvalues will be in `vals` and the eigenvectors in the columns of `vects`. To get the i-th individual eigenvector, you thus need to do: `vects[:,i]` to select it. (Or you can do `vects.T[i]` "
   ]
  },
  {
   "cell_type": "code",
   "execution_count": 24,
   "metadata": {},
   "outputs": [
    {
     "name": "stdout",
     "output_type": "stream",
     "text": [
      "Eigen values: [-1.  2.  3.]\n",
      "Eigen vectors are columns of the matrix:\n",
      " [[-0.70710678  0.         -0.70710678]\n",
      " [ 0.         -1.          0.        ]\n",
      " [ 0.70710678  0.         -0.70710678]]\n"
     ]
    }
   ],
   "source": [
    "print(\"Eigen values:\",vals)\n",
    "print(\"Eigen vectors are columns of the matrix:\\n\",vects)"
   ]
  },
  {
   "cell_type": "code",
   "execution_count": 25,
   "metadata": {},
   "outputs": [
    {
     "name": "stdout",
     "output_type": "stream",
     "text": [
      "Check that the eigenvectors are correct and are normalized:\n",
      "0 True 0.9999999999999999\n",
      "1 True 1.0\n",
      "2 True 0.9999999999999999\n"
     ]
    }
   ],
   "source": [
    "print(\"Check that the eigenvectors are correct and are normalized:\")\n",
    "for i in range(M.shape[0]):\n",
    "    # np.allclose checks if all values are numerically close. \n",
    "    # Since floating point values are often not (quite) equal.\n",
    "    print(i,np.allclose(vects[:,i]*vals[i],M.dot(vects[:,i])),np.linalg.norm(vects[:,i])) "
   ]
  },
  {
   "cell_type": "markdown",
   "metadata": {},
   "source": [
    "A more general solver is `np.linalg.solve`, which will numerically solve matrix equations like $\\mathbf A \\vec x = \\vec b$ for the vector $\\vec x$. \n",
    "\n",
    "Consider the equations $2 x_0 + 3 x_1 = 3$ and $ x_0 + x_1 = 2$ and solve for $\\vec x$."
   ]
  },
  {
   "cell_type": "code",
   "execution_count": 30,
   "metadata": {},
   "outputs": [
    {
     "data": {
      "text/plain": [
       "array([ 3., -1.])"
      ]
     },
     "execution_count": 30,
     "metadata": {},
     "output_type": "execute_result"
    }
   ],
   "source": [
    "A = np.array([[2,3],[1,1]])\n",
    "B = np.array([3,2])\n",
    "np.linalg.solve(A,B)"
   ]
  },
  {
   "cell_type": "markdown",
   "metadata": {},
   "source": []
  }
 ],
 "metadata": {
  "kernelspec": {
   "display_name": "Python 3",
   "language": "python",
   "name": "python3"
  },
  "language_info": {
   "codemirror_mode": {
    "name": "ipython",
    "version": 3
   },
   "file_extension": ".py",
   "mimetype": "text/x-python",
   "name": "python",
   "nbconvert_exporter": "python",
   "pygments_lexer": "ipython3",
   "version": "3.7.2"
  }
 },
 "nbformat": 4,
 "nbformat_minor": 2
}
