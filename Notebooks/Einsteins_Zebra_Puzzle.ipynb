{
 "cells": [
  {
   "cell_type": "markdown",
   "metadata": {},
   "source": [
    "# The Zebra puzzle\n",
    "\n",
    "The Einstein Zebra puzzle, wich [according to Wikipedia](https://en.wikipedia.org/wiki/Zebra_Puzzle) is actually a puzzle from _Life International_, is stated as follows:\n",
    "\n",
    "1. There are five houses.\n",
    "2. The Englishman lives in the red house.\n",
    "3. The Spaniard owns the dog.\n",
    "4. Coffee is drunk in the green house.\n",
    "5. The Ukrainian drinks tea.\n",
    "6. The green house is immediately to the right of the ivory house.\n",
    "7. The Old Gold smoker owns snails.\n",
    "8. Kools are smoked in the yellow house.\n",
    "9. Milk is drunk in the middle house.\n",
    "10. The Norwegian lives in the first house.\n",
    "11. The man who smokes Chesterfields lives in the house next to the man with the fox.\n",
    "12. Kools are smoked in the house next to the house where the horse is kept.\n",
    "13. The Lucky Strike smoker drinks orange juice.\n",
    "14. The Japanese smokes Parliaments.\n",
    "15. The Norwegian lives next to the blue house.\n",
    "16. Now, who drinks water? Who owns the zebra?\n",
    "\n",
    "In the interest of clarity, it must be added that each of the five houses is painted a different color, and their inhabitants are of different national extractions, own different pets, drink different beverages and smoke different brands of American cigarets [sic]. One other thing: in statement 6, right means your right.\n",
    "\n",
    "— Life International, December 17, 1962\n",
    "\n",
    "# Constaint Satisfaction Problems\n",
    "\n",
    "The Zebra Puzzle is one of a type of problems that are more generally known as a [_contraint satisfaction problems_](https://en.wikipedia.org/wiki/Constraint_satisfaction_problem), which also includes popular puzzles like Sudoku and KenKen puzzles among many others. There are different ways of solving them, but for this puzzle we will develop a simple, straight forward algorithm.\n",
    "\n",
    "First we need to answer: \"Without any constaints, how many possible solutions are there?\"\n",
    "There are 5 houses, with a color, a nationality, a pet, a favorite drink an a favorite smoke. So each of these has $5!=120$ possibilities. The total number of ways of arranging the solutions is then $(5!)^5$\n",
    "\n",
    "Q1: Compute this number."
   ]
  },
  {
   "cell_type": "code",
   "execution_count": 5,
   "metadata": {},
   "outputs": [],
   "source": [
    "# You only need the math module to do this.\n",
    "import math\n",
    "# Your answer here."
   ]
  },
  {
   "cell_type": "markdown",
   "metadata": {},
   "source": [
    "## Setting up a simple method to solve the problem.\n",
    "\n",
    "### Enumeration\n",
    "For a computer, numbers are easier to deal with than strings. For a human, strings are more readable, so a common way to accomodate both is called _enumeration_. This sets an aptly named variable to a number, so that in your program you can use the variable name instead of that number. You can do so by hand with:"
   ]
  },
  {
   "cell_type": "code",
   "execution_count": 2,
   "metadata": {},
   "outputs": [],
   "source": [
    "Englishman = 0\n",
    "Spaniard = 1"
   ]
  },
  {
   "cell_type": "markdown",
   "metadata": {},
   "source": [
    "This works, however it is tedious and prone to errors. An alternative is to convert a list of strings to enumerated variables automatically. To do this, the Python `exec()` function is very useful. This function will execute the argument as if it was a program statement. Thus `exec(\"print('Hello'\")` will just print Hello to the screen. That is not so useful, but `exec(my_command)` _is_ because now the string `my_command` can contain anything, including a complete program. \n",
    "\n",
    "To do the enumeration of the nationalities, we can thus do:"
   ]
  },
  {
   "cell_type": "code",
   "execution_count": 6,
   "metadata": {},
   "outputs": [
    {
     "name": "stdout",
     "output_type": "stream",
     "text": [
      "['Englishman', 'Spaniard', 'Ukrainian', 'Norwegian', 'Japanese']\n",
      "Number for Norwegian =  3\n"
     ]
    }
   ],
   "source": [
    "# Enumerate the nationalities:\n",
    "Nationalities = \"Englishman Spaniard Ukrainian Norwegian Japanese\".split()  \n",
    "# The string.spit() will split the string into a list of individual string at the space separator.\n",
    "# Test:\n",
    "print(Nationalities)\n",
    "# Now turn this into 5 numeric assignments. The enumerate() function is useful:\n",
    "for number,name in enumerate(Nationalities):\n",
    "    exec(\"{}={}\".format(name,number))  # The string.format() allows you to format arguments (i.e variables) into the string.\n",
    "\n",
    "print(\"Number for Norwegian = \",Norwegian)    \n"
   ]
  },
  {
   "cell_type": "markdown",
   "metadata": {},
   "source": [
    "For our puzzle, this is sufficient. In a larger, more complicated program, you should probably consider making the enumerations part of a _class_, so that you use it as `Nation.Norwegian`, instead of simply `Norwegian`. It is more typing, but it clarifies what is what.\n",
    "\n",
    "Write a minimum number of lines of code to assign numbers to the house number, colors, the pets, the drinks and the smokes. "
   ]
  },
  {
   "cell_type": "code",
   "execution_count": 7,
   "metadata": {},
   "outputs": [],
   "source": [
    "# Enumerate all items in the puzzle.\n",
    "#\n",
    "# Try using only one double for loop."
   ]
  },
  {
   "cell_type": "markdown",
   "metadata": {},
   "source": [
    "### Permutations\n",
    "To solve the problem, we simply want to try all possible solutions against our set of rules. To do this easily, we need something that will give us all the permutation of each set of items. This can be programmed by hand, but there is a handy function that will do this for you: `itertools.permutations()`. This function will return all possible permutations of the list you give it, but it does so as an _iterator_. An iterator is a special function in Python that gives a new result each time it is called, until all results are exhausted. The `range()` function is a Python iterator (but only in Python3, it Python2 it returned a list.)\n",
    "\n",
    "Here is an example:"
   ]
  },
  {
   "cell_type": "code",
   "execution_count": 12,
   "metadata": {},
   "outputs": [
    {
     "name": "stdout",
     "output_type": "stream",
     "text": [
      "('A', 'B', 'C')\n",
      "('A', 'C', 'B')\n",
      "('B', 'A', 'C')\n",
      "('B', 'C', 'A')\n",
      "('C', 'A', 'B')\n",
      "('C', 'B', 'A')\n"
     ]
    }
   ],
   "source": [
    "from itertools import permutations\n",
    "for i in permutations([\"A\",\"B\",\"C\"]):\n",
    "    print(i)"
   ]
  },
  {
   "cell_type": "markdown",
   "metadata": {},
   "source": [
    "So then cycling through all possible permutations in our problem will look something like:"
   ]
  },
  {
   "cell_type": "code",
   "execution_count": null,
   "metadata": {},
   "outputs": [],
   "source": [
    "for color in permutations(range(5)):\n",
    "    for nation in permutations(range(5)):\n",
    "        for drink in permutations(range(5)):\n",
    "            for smoke in permutations(range(5)):\n",
    "                for pet in permutations(range(5)):\n",
    "                    # Test is all conditions are met here.\n",
    "                    pass # This statement does nothing, except make the loops valid."
   ]
  },
  {
   "cell_type": "markdown",
   "metadata": {},
   "source": [
    "Executing this 5 loop code will take a really long time. More than 10 seconds at least (1472 seconds, actually), which is about the amount of patience I have. Adding the test conditions where it is indicated above would only make it slower!\n",
    "\n",
    "The trick to making this a reasonable code is the _add the test conditions as early as possible_. So, condition 10, \"The Norwegian lives in the first house.\", only requires the \"nation\" to be populated, and may go first, or \"The green house is immediately to the right of the ivory house.\" only requires colors.\n",
    "\n",
    "The modified loops then look like:"
   ]
  },
  {
   "cell_type": "code",
   "execution_count": null,
   "metadata": {},
   "outputs": [],
   "source": [
    "for color in permutations(range(5)):\n",
    "    # Tests requiring only color.\n",
    "    for nation in permutations(range(5)):\n",
    "        # Tests that involve only nation, or nation and color.\n",
    "        for drink in permutations(range(5)):\n",
    "            # Tests that require drink, nation, color.\n",
    "            for smoke in permutations(range(5)):\n",
    "                # Tests that require smoke, drink, nation, color. \n",
    "                for pet in permutations(range(5)):\n",
    "                    # Test is all conditions require pet in combination with any other.\n",
    "                    pass # This statement does nothing, except make the loops valid."
   ]
  },
  {
   "cell_type": "markdown",
   "metadata": {},
   "source": [
    "Depending on the details of the problem, you could get a speed gain by ordering the loops differently, i.e. perhaps do the nation loop before the color loop, but this gets into unnecessary detail here.\n",
    "\n",
    "### Tests\n",
    "\n",
    "How do we write the actual tests?\n",
    "\n",
    "Well, each of the color, nation, etc variables are actually lists containing the numbers 0 through 4 ( 5 numbers) in some permutation. The code cycles through all permutations for you. If that number refers to the item (nationality, color, preferred drink, etc) of interest, and the location of the number refers to the number of the house, then we can setup test for what is in which house. \n",
    "\n",
    "\"Milk is drunk in the middle house\" then translates to:  `drink.index(Milk) == Three`, since Three is the middle house (but since we start counting at 0, the number is actually two). Note the use of the `list.index()` function, with returns the location in the list where the argument first occurs. So `drink.index(Milk)` returns the house number of the milk drinker _for this particular permutation_. It does not make sense to continue other permutations if this condition is not met.\n",
    "\n",
    "The first condition \"The Englishman lives in the red house.\" then translates to: `nation.index(Englishman) == color.index(Red)`. The loops then starts to look like:"
   ]
  },
  {
   "cell_type": "code",
   "execution_count": null,
   "metadata": {},
   "outputs": [],
   "source": [
    "for color in permutations(range(5)):\n",
    "    # Tests requiring only color.\n",
    "    for nation in permutations(range(5)):\n",
    "        # Tests that involve only nation, or nation and color.\n",
    "        if nation.index(Englishman) == color.index(Red):  # Only continue if rule #2 is true.\n",
    "            for drink in permutations(range(5)):\n",
    "                # Tests that require drink, nation, color.\n",
    "                if drink.index(Milk) == Three:            # Only continue if rule #9 is true.\n",
    "                    for smoke in permutations(range(5)):\n",
    "                        # Tests that require smoke, drink, nation, color. \n",
    "                        for pet in permutations(range(5)):\n",
    "                            # Test is all conditions require pet in combination with any other.\n",
    "                            pass # This statement does nothing, except make the loops valid."
   ]
  },
  {
   "cell_type": "markdown",
   "metadata": {},
   "source": [
    "Just these two conditions already bring down the overall execution time to something more manageable (60 seconds for  my system.)\n",
    "\n",
    "Add all the other conditions to the set of loops."
   ]
  },
  {
   "cell_type": "code",
   "execution_count": 13,
   "metadata": {},
   "outputs": [],
   "source": [
    "#\n",
    "# Complete loops and tests\n",
    "#"
   ]
  },
  {
   "cell_type": "markdown",
   "metadata": {},
   "source": [
    "### Printing the results\n",
    "\n",
    "You now want to print the results in a human readable form. For the computer, the answer is encoded as numbers, which makes it difficult to figure out if you were to just print the \"nation\" etc variables. Fortunately, we saved the translation key in the lists at the start of this project. To translate the Englishman value back to the string \"Englishman\", we can again do a lookup:"
   ]
  },
  {
   "cell_type": "code",
   "execution_count": 14,
   "metadata": {},
   "outputs": [
    {
     "name": "stdout",
     "output_type": "stream",
     "text": [
      "Englishman\n"
     ]
    }
   ],
   "source": [
    "print(Nationalities[Englishman])"
   ]
  },
  {
   "cell_type": "markdown",
   "metadata": {},
   "source": [
    "You would want to use constant spacing, make a nice table with one column for each house. The spacing can be added correctly using the `string.format()`, indicating the space in the \"{}\" fields of the string. So to print one of the permutations of nationalities, with a space of 20 characters each, you would do:"
   ]
  },
  {
   "cell_type": "code",
   "execution_count": 16,
   "metadata": {},
   "outputs": [
    {
     "name": "stdout",
     "output_type": "stream",
     "text": [
      "Englishman          Spaniard            Ukrainian           Norwegian           Japanese            \n"
     ]
    }
   ],
   "source": [
    "for nation in permutations(range(5)):\n",
    "    # All other loops and tests are skipped.\n",
    "    for n in nation:\n",
    "        print(\"{:20s}\".format(Nationalities[n]),end=\"\") # The end=\"\" says, don't end with a line return.\n",
    "    print(\"\")\n",
    "    break       # Jump out of the loop. I want only one permutation, not all 120"
   ]
  },
  {
   "cell_type": "markdown",
   "metadata": {},
   "source": [
    "Now you can complete the program that solves the Zebra puzzle!\n",
    "\n",
    "Did you get the same answer as in the Wikipedia article?"
   ]
  }
 ],
 "metadata": {
  "kernelspec": {
   "display_name": "Python 3",
   "language": "python",
   "name": "python3"
  },
  "language_info": {
   "codemirror_mode": {
    "name": "ipython",
    "version": 3
   },
   "file_extension": ".py",
   "mimetype": "text/x-python",
   "name": "python",
   "nbconvert_exporter": "python",
   "pygments_lexer": "ipython3",
   "version": "3.6.5"
  }
 },
 "nbformat": 4,
 "nbformat_minor": 2
}
