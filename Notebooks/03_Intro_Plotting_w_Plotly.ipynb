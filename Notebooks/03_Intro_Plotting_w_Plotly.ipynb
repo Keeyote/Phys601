{
 "cells": [
  {
   "cell_type": "markdown",
   "metadata": {},
   "source": [
    "# Intro to Plotting\n",
    "There are many different packages for Python that allow you to make publication quality plots. The \"best\" choice depends on what you are trying to accomplish, what style you prefer, and what you are familiar with.\n",
    "\n",
    "The most commonly used packages are:\n",
    "1. Matplotlib  - This is probably the most used plotting package. It has been around for a while, it is completely free and well supported. It uses a syntax that is similar to MatLab, so if you know MatLab, it will feel familiar. [Documentation: MatPlotLib](https://matplotlib.org)\n",
    "1. Plotly - This is a relatively newer plotting package. It is a commercial package that is free to use with some limitations. What is special about this package is that it uses your browser for the output. The package converts the Python into JavaScript, which then runs in your browser. This allow you to interact with the resulting graphs. If you pay them, they will host your plots for you, but this is not needed to use the package, since you can also use your own web server. Though that setup is not trivial, it is a great choise to display graphs that were created from live data from, for instance, a Raspberry Pi, using their Dash App. [Documentation: Plotly](https://plot.ly/python/) [Plotly main site](https://plot.ly)\n",
    "1. Bokeh - This package takes a similar approach as Plotly, but is backed by a non profit rather than a commercial entity. It also has the intend to make fully interactive graphs from your data using Python. [Documentation: Bokeh](https://bokeh.pydata.org/en/latest)\n",
    "\n",
    "While Plotly and Bokeh create really nice plots and have capabilities beyond what Matplotlib can provide, we will start exploring plotting with Matplotlib, because it is easier to get started with. I will leave Plotly and Bokeh for you to explore on your own if you so choose.\n",
    "\n",
    "## Getting started with Plotly\n",
    "\n",
    "You can find more details for Plotly in the [Documentation](https://https://plot.ly/python). This package has undergone very rapid development and now has a huge number of features and plotting style. It is hard enough to keep track of everything that the Plot.ly people have created a handy, printable, [getting started cheat sheet](https://images.plot.ly/plotly-documentation/images/python_cheat_sheet.pdf)\n",
    "\n",
    "One thing to note with Plot.ly, which if very different from Matplotlib, is that this is a _commercial_ package. The concequence is that they sometimes make it look like you can only do something if you create an account with them, which is free initially. Of course, some high-end features will then not be free. It turns out, however, that much of what you may want to do with Plot.ly can be done for free, even without creating an account. Just store your data and plots locally, and everything should work.\n",
    "\n",
    "To get started with Plot.ly, you need to import the package into Python. The part that you typically interact with is the sub-package, matplotlib.pyplot. A standard way to import the package is with\n",
    "`import plotly.plotly as py`\n"
   ]
  },
  {
   "cell_type": "code",
   "execution_count": null,
   "metadata": {},
   "outputs": [],
   "source": []
  }
 ],
 "metadata": {
  "kernelspec": {
   "display_name": "Python 3",
   "language": "python",
   "name": "python3"
  },
  "language_info": {
   "codemirror_mode": {
    "name": "ipython",
    "version": 3
   },
   "file_extension": ".py",
   "mimetype": "text/x-python",
   "name": "python",
   "nbconvert_exporter": "python",
   "pygments_lexer": "ipython3",
   "version": "3.7.2"
  }
 },
 "nbformat": 4,
 "nbformat_minor": 2
}
