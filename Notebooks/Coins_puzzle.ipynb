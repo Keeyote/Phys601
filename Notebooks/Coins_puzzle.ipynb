{
 "cells": [
  {
   "cell_type": "markdown",
   "metadata": {},
   "source": [
    "# Getting change\n",
    "\n",
    "How many ways can you get change for a dollar if you receive 21 coins in return?\n",
    "\n",
    "More generally, given a set of coin values $\\{1,...\\}$, how many ways can you make change for amount $M$, using N of these coins? \n"
   ]
  },
  {
   "cell_type": "code",
   "execution_count": 126,
   "metadata": {},
   "outputs": [
    {
     "name": "stdout",
     "output_type": "stream",
     "text": [
      "Solution: 5 13 3 0\n",
      "Solution: 10 4 7 0\n",
      "Solution: 10 7 3 1\n",
      "Solution: 15 1 3 2\n"
     ]
    }
   ],
   "source": [
    "import numpy as np\n",
    "coins = np.array([1,5,10,25])\n",
    "ncoins= np.array([0,0,0,0])\n",
    "number = 21\n",
    "total = 100\n",
    "\n",
    "for ncoins[0] in range(number):\n",
    "    for ncoins[1] in range(number+1-ncoins[0]):\n",
    "        for ncoins[2] in range(number+1-ncoins[0]-ncoins[1]):\n",
    "            ncoins[3] =number-ncoins[0]-ncoins[1]-ncoins[2]\n",
    "            # print(\"try: {} {} {} {} = {}\".format(p,n,d,q,p+n+d+q))\n",
    "            if np.sum(ncoins*coins) == total:\n",
    "                print(\"Solution: {} {} {} {}\".format(ncoins[0],ncoins[1],ncoins[2],ncoins[3]))\n"
   ]
  },
  {
   "cell_type": "code",
   "execution_count": 127,
   "metadata": {},
   "outputs": [],
   "source": [
    "def loopers(maxn):\n",
    "    '''Create loops for the N items in counters, then recurse until N=len(nc). .'''\n",
    "    counters = [0 for x in maxn]\n",
    "    yield(counters)\n",
    "    done = False\n",
    "    while(not done):\n",
    "        for N in range(len(counters)):\n",
    "            counters[N]+=1\n",
    "            if counters[N]<maxn[N]:\n",
    "                break\n",
    "            else:\n",
    "                if N == len(counters)-1:\n",
    "                    done=True\n",
    "                    return\n",
    "                counters[N]=0\n",
    "        yield(counters)\n",
    "   \n",
    "#\n",
    "def coin_iter(c,n,t):\n",
    "    cc  = np.array(c)\n",
    "    maxc= np.ones_like(cc)*n\n",
    "    for x in loopers(maxc):\n",
    "        nc=np.array(x)\n",
    "        if np.sum(nc*cc) == t:\n",
    "            if( np.sum(nc)==n):\n",
    "                yield nc\n"
   ]
  },
  {
   "cell_type": "code",
   "execution_count": 128,
   "metadata": {},
   "outputs": [
    {
     "name": "stdout",
     "output_type": "stream",
     "text": [
      "Coins:\n",
      "  1   5  10  25 \n",
      "----------------\n",
      "  5  13   3   0 \n",
      " 10   4   7   0 \n",
      " 10   7   3   1 \n",
      " 15   1   3   2 \n"
     ]
    }
   ],
   "source": [
    "coins=[1,5,10,25]\n",
    "print(\"Coins:\")\n",
    "for c in coins:\n",
    "    print(\"{:3d} \".format(c),end=\"\")\n",
    "print(\"\\n\"+\"-\"*4*len(coins))\n",
    "for s in coin_iter(coins,x,100):\n",
    "    print((\"{:3d} \"*len(coins)).format(*s))"
   ]
  },
  {
   "cell_type": "code",
   "execution_count": null,
   "metadata": {},
   "outputs": [],
   "source": []
  }
 ],
 "metadata": {
  "kernelspec": {
   "display_name": "Python 3",
   "language": "python",
   "name": "python3"
  },
  "language_info": {
   "codemirror_mode": {
    "name": "ipython",
    "version": 3
   },
   "file_extension": ".py",
   "mimetype": "text/x-python",
   "name": "python",
   "nbconvert_exporter": "python",
   "pygments_lexer": "ipython3",
   "version": "3.6.5"
  }
 },
 "nbformat": 4,
 "nbformat_minor": 2
}
