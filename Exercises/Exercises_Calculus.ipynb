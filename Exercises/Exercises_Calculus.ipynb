{
 "cells": [
  {
   "cell_type": "markdown",
   "metadata": {},
   "source": [
    "### Francois Foucart - PHYS 601\n",
    "\n",
    "These exercises aim to let you practice concepts that you learnt in the tutorial on Calculus (04_Basic_Calculus.ipynb). You will also have to plot functions; refer to tutorial 03_Intro_Plotting.ipynb for an introduction to plotting\n",
    "\n",
    "_Part 1: Discretization_\n",
    "\n",
    "Consider the function\n",
    "$f(x) = \\frac{x^4}{1+x^2}$\n",
    "\n",
    "Construct numpy arrays containing the values of that function\n",
    "\n",
    "(a) Between -1 and 1 with spacing of $\\Delta x = 0.5$\n",
    "\n",
    "(b) Between -1 and 1 with spacing of $\\Delta x = 0.05$\n",
    "\n",
    "(c) Between -1 and 1 with spacing of $\\Delta x = 0.005$\n",
    "\n",
    "Then plot all 3 discretized versions of $f(x)$ on the same figure."
   ]
  },
  {
   "cell_type": "code",
   "execution_count": null,
   "metadata": {},
   "outputs": [],
   "source": []
  },
  {
   "cell_type": "markdown",
   "metadata": {},
   "source": [
    "_Part 2: Interpolation_\n",
    "\n",
    "Assume that you only know the discretized function with $\\Delta x = 0.5$. Use linear and cubic interpolation to estimate the value of the function every $\\Delta x=0.005$. \n",
    "\n",
    "Repeat starting from the function with $\\Delta x = 0.05$.\n",
    "\n",
    "Plot all four results against the true value of the function calculated in Part 1."
   ]
  },
  {
   "cell_type": "code",
   "execution_count": null,
   "metadata": {},
   "outputs": [],
   "source": []
  },
  {
   "cell_type": "markdown",
   "metadata": {},
   "source": [
    "_Part 3: Integration_\n",
    "\n",
    "For each of your discretization of $f(x)$, estimate\n",
    "\n",
    "$\\int_{-1}^1 dx f(x)$ \n",
    "\n",
    "Try to do this by 'summing by hand' in your code, and by using the scipy.integrate routine"
   ]
  },
  {
   "cell_type": "code",
   "execution_count": null,
   "metadata": {},
   "outputs": [],
   "source": []
  },
  {
   "cell_type": "markdown",
   "metadata": {},
   "source": [
    "_Part 4: Differentiation_\n",
    "\n",
    "For each of your discretization of $f(x)$, estimate $\\frac{df}{dx}$ at $x=-0.5,0,0.5$.\n",
    "\n",
    "Check the accuracy of your results against the correct answer:\n",
    "\n",
    "$\\frac{df}{dx} = \\frac{4x^3}{x^2+1} -\\frac{2x^5}{(1+x^2)^2}$"
   ]
  },
  {
   "cell_type": "code",
   "execution_count": null,
   "metadata": {},
   "outputs": [],
   "source": []
  }
 ],
 "metadata": {
  "kernelspec": {
   "display_name": "Python 3",
   "language": "python",
   "name": "python3"
  },
  "language_info": {
   "codemirror_mode": {
    "name": "ipython",
    "version": 3
   },
   "file_extension": ".py",
   "mimetype": "text/x-python",
   "name": "python",
   "nbconvert_exporter": "python",
   "pygments_lexer": "ipython3",
   "version": "3.7.6"
  }
 },
 "nbformat": 4,
 "nbformat_minor": 4
}
