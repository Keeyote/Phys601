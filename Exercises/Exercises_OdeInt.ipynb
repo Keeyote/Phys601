{
 "cells": [
  {
   "cell_type": "markdown",
   "metadata": {},
   "source": [
    "### Using odeint : Exercise\n",
    "\n",
    "In this exercise, you will test your ability to use the odeint routines to study a couple of physical systems.\n",
    "The \"A01_Ordinary_Differential_Equations.ipynb\" notebook provides you with an example of how to solve differential equations with python.\n",
    "\n",
    "Let's start with some includes that will be needed in these examples"
   ]
  },
  {
   "cell_type": "code",
   "execution_count": 1,
   "metadata": {},
   "outputs": [],
   "source": [
    "# Some imports\n",
    "%matplotlib inline\n",
    "import matplotlib\n",
    "import numpy as np\n",
    "import matplotlib.pyplot as plt\n",
    "import pylab as py\n",
    "\n",
    "from pylab import figure\n",
    "from scipy.integrate import odeint"
   ]
  },
  {
   "cell_type": "markdown",
   "metadata": {},
   "source": [
    "#### Example 1: Ballistic trajectory with friction\n",
    "\n",
    "Assume that an object moving in the atmosphere of a planet follows the equation of motion\n",
    "\n",
    "$\\frac{d^2x}{dt^2} = -\\mu \\frac{dx}{dt}$ \n",
    "\n",
    "$\\frac{d^2z}{dt^2} = -g -\\mu \\frac{dz}{dt}$ \n",
    "\n",
    "for some constants $g,\\mu$. Transform these equations into a system of $1^{st}$-order differential equations, and then write a function\n",
    "\n",
    "dydt(y,t,g,mu)\n",
    "\n",
    "that computes the right-hand side of your system of equation ($y$ being the vector of evolved variables)."
   ]
  },
  {
   "cell_type": "code",
   "execution_count": null,
   "metadata": {},
   "outputs": [],
   "source": []
  },
  {
   "cell_type": "markdown",
   "metadata": {},
   "source": [
    "Set initial conditions for your ODE such that\n",
    "\n",
    "$x(0)=0$\n",
    "\n",
    "$z(0)=2\\,{\\rm m}$\n",
    "\n",
    "$v^x(0) = 25\\,{\\rm m/s}$\n",
    "\n",
    "$v^x(0) = 35\\,{\\rm m/s}$"
   ]
  },
  {
   "cell_type": "code",
   "execution_count": null,
   "metadata": {},
   "outputs": [],
   "source": []
  },
  {
   "cell_type": "markdown",
   "metadata": {},
   "source": [
    "Solve the problem for $\\mu=0$ and $g=9.81\\,{\\rm m/s^2}$, and plot $z(x)$ and $z(t)$. "
   ]
  },
  {
   "cell_type": "code",
   "execution_count": null,
   "metadata": {},
   "outputs": [],
   "source": []
  },
  {
   "cell_type": "markdown",
   "metadata": {},
   "source": [
    "Now explore the impact of changing $\\mu$ and $g$. Plots $z(x)$ and $z(t)$ for different values of $\\mu$ on the same graph."
   ]
  },
  {
   "cell_type": "code",
   "execution_count": null,
   "metadata": {},
   "outputs": [],
   "source": []
  },
  {
   "cell_type": "markdown",
   "metadata": {},
   "source": [
    "#### Example 2: Lorentz force and magnetic mirror\n",
    "\n",
    "A particle of mass $m$ and charge $q$ in an external electromagnetic field evolve according to the equation of motion\n",
    "\n",
    "$m\\bar a = q \\left(\\bar E + \\bar v \\times \\bar B\\right)$\n",
    "\n",
    "Transform this $2^{nd}$ order vector equation into a system of first order equations, then write a function\n",
    "\n",
    "$dydt(y,t,m,q,E,B)$\n",
    "\n",
    "that computes the right-hand side of your system of equation for user-provided functions\n",
    "\n",
    "$E(t,x,y,z), B(t,x,y,z)$"
   ]
  },
  {
   "cell_type": "code",
   "execution_count": null,
   "metadata": {},
   "outputs": [],
   "source": []
  },
  {
   "cell_type": "markdown",
   "metadata": {},
   "source": [
    "Consider an electron with initial position $x=y=z=0$ and velocity $v^x=v^z=0.1c$, $v^y=0$, in constant field $\\bar E=0$, $\\bar B=(1,0,0){\\rm T}$. Plot $x(t)$, $z(x)$ and $z(y)$ for the trajectory of the electron (choose an appropriate duration for the evolution...)\n",
    "\n",
    "Choosing a more convenient system of units than m,kg,s,C can help you work with more reasonable numbers here!"
   ]
  },
  {
   "cell_type": "code",
   "execution_count": null,
   "metadata": {},
   "outputs": [],
   "source": []
  },
  {
   "cell_type": "markdown",
   "metadata": {},
   "source": [
    "Repeat, but with $B=(1+\\frac{x^2}{L^2},\\frac{-xy}{2L^2},\\frac{-xz}{2L^2}){\\rm T}$\n",
    "with $L=qB/m$\n",
    "\n",
    "This setup is called a magnetic mirror. Why?"
   ]
  },
  {
   "cell_type": "code",
   "execution_count": null,
   "metadata": {},
   "outputs": [],
   "source": []
  },
  {
   "cell_type": "markdown",
   "metadata": {},
   "source": [
    "Note that you know have a code allowing you to evolve particles in arbitrary fields! However, be careful that your fields have to satisfy Maxwell's equations, and in particular the constraints\n",
    "\n",
    "$\\nabla \\bar B = 0$\n",
    "\n",
    "and\n",
    "\n",
    "$\\frac{\\partial \\bar B}{\\partial t}= \\nabla \\times \\bar E$"
   ]
  }
 ],
 "metadata": {
  "kernelspec": {
   "display_name": "Python 3",
   "language": "python",
   "name": "python3"
  },
  "language_info": {
   "codemirror_mode": {
    "name": "ipython",
    "version": 3
   },
   "file_extension": ".py",
   "mimetype": "text/x-python",
   "name": "python",
   "nbconvert_exporter": "python",
   "pygments_lexer": "ipython3",
   "version": "3.7.6"
  }
 },
 "nbformat": 4,
 "nbformat_minor": 4
}
