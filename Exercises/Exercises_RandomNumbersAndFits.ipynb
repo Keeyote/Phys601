{
 "cells": [
  {
   "cell_type": "markdown",
   "metadata": {},
   "source": [
    "### Part 1: Uniform distributions\n",
    "\n",
    "The following problems are based on notebook \"05_Random_Numbers.ipynb\"\n",
    "\n",
    "(1) Using a uniform distribution between 0 and 1, generate arrays of 1000,10000, and 100000 random numbers (samples)\n",
    "\n",
    "(2) For each array, plot the results on histograms with 100 bins, including estimated uncertainties on the number of samples within each bin\n",
    "\n",
    "(3) For each array, fit a straight line through the binned data, and estimate uncertainties on the slope and intercept of that line (i.e. parameters $m$ and $b$ in the function $f(x)=mx+b$)\n",
    "\n",
    "(4) How do these uncertainties change with the number of samples?"
   ]
  },
  {
   "cell_type": "code",
   "execution_count": null,
   "metadata": {},
   "outputs": [],
   "source": []
  },
  {
   "cell_type": "markdown",
   "metadata": {},
   "source": [
    "### Part 2: Make your own distribution (Harder)\n",
    "\n",
    "In this problem, we will code a Monte-Carlo simulation of a relatively simple interaction: Thomson scattering.\n",
    "\n",
    "Consider Thomson scattering of a photon by $N$ charged particle (``target'') of mass $m$ and charge $q$. The probability that the photon will be scattered by an angle between $\\theta$ and $\\theta+d\\theta$ is\n",
    "\n",
    "$\\frac{df}{d\\cos\\theta} = \\frac{N}{A}\\left(\\frac{q^2}{4\\pi\\epsilon_0 mc^2}\\right)^2 \\pi (1+\\cos^2\\theta)$\n",
    "\n",
    "with $\\epsilon_0=8.85\\times 10^{-12} F/m$ (SI units) the permittivity of vacuum, $c=3\\times 10^8 m/s$ the speed of light, and $A$ the area of the target as seen by the photons.\n",
    "\n",
    "Consider a beam of photon incident on a container including $\\frac{N_e}{A}=10^{28}m^{-2}$ electrons per square meter of target area (and as many protons, but you can see from the scaling of the $\\frac{df}{d\\cos\\theta}$ with $m$ that electrons will be the main source of scattering). Then\n",
    "\n",
    "$\\frac{df}{d\\cos\\theta} = N_e\\left(\\frac{e^2}{2\\epsilon_0 m_e c^2}\\right)^2 \\pi (1+\\cos^2\\theta)$\n",
    "\n",
    "with $e=1.6\\times 10^{-19}C$ and $m_e=9.1\\times 10^{-31} kg$.\n",
    "\n",
    "(1) Calculate the probability\n",
    "\n",
    "$p_{sc} = \\int_{-1}^{1} d\\cos\\theta \\frac{df}{d\\cos\\theta} = \\int_{-1}^{1} d\\mu \\frac{df}{d\\mu}$\n",
    "\n",
    "that a photon is scattered by an electron in this system (using $\\mu=\\cos\\theta$ is easier than using $\\theta$ here).\n",
    "\n",
    "(2) Now, randomly draw the outcome of 1000 photons reaching our target. Each photon has a probability $1-p_{sc}$ of passing through the target without scattering, and a probability $p_{sc}$ to be scattered. If scattered, the probability distribution of angles $\\theta$ is $\\frac{df}{d\\cos\\theta}$. \n",
    "\n",
    "(3) Plot your result as a histogram showing the number of scattered photons as a function of $\\cos\\theta$. How well does your result match the analytical distribution?"
   ]
  },
  {
   "cell_type": "code",
   "execution_count": null,
   "metadata": {},
   "outputs": [],
   "source": []
  }
 ],
 "metadata": {
  "kernelspec": {
   "display_name": "Python 3",
   "language": "python",
   "name": "python3"
  },
  "language_info": {
   "codemirror_mode": {
    "name": "ipython",
    "version": 3
   },
   "file_extension": ".py",
   "mimetype": "text/x-python",
   "name": "python",
   "nbconvert_exporter": "python",
   "pygments_lexer": "ipython3",
   "version": "3.7.6"
  }
 },
 "nbformat": 4,
 "nbformat_minor": 4
}
